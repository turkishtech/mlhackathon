{
 "cells": [
  {
   "cell_type": "code",
   "execution_count": 55,
   "metadata": {
    "ExecuteTime": {
     "end_time": "2018-01-30T08:32:37.044174Z",
     "start_time": "2018-01-30T08:32:36.732799Z"
    }
   },
   "outputs": [],
   "source": [
    "import numpy as np\n",
    "import pickle\n",
    "np.set_printoptions(precision=4,suppress=True)\n",
    "import matplotlib as mpl\n",
    "import matplotlib.pyplot as plt\n",
    "%matplotlib inline"
   ]
  },
  {
   "cell_type": "code",
   "execution_count": 60,
   "metadata": {
    "ExecuteTime": {
     "end_time": "2018-01-30T08:33:31.630381Z",
     "start_time": "2018-01-30T08:33:31.568334Z"
    }
   },
   "outputs": [],
   "source": [
    "documents = pickle.load(open('documents-1b.pl','rb'))\n",
    "labels = pickle.load(open('labels.pl','rb'))\n",
    "labels = np.array(labels, dtype=str)"
   ]
  },
  {
   "cell_type": "code",
   "execution_count": 61,
   "metadata": {
    "ExecuteTime": {
     "end_time": "2018-01-30T08:33:31.732581Z",
     "start_time": "2018-01-30T08:33:31.721538Z"
    },
    "collapsed": true
   },
   "outputs": [
    {
     "data": {
      "text/plain": [
       "['video smart router aufgrund geräusches ! ding scheint fehlproduktion !',\n",
       " 'meddl leude servus herzlich willkommen telekom hilft gedrollt net drollt fliegt se',\n",
       " 'wlan tages schnell funktionieren ? angeblich leitung gefühlt nicht',\n",
       " 'irgendeine störung ? paar minuten wars internet nich verbinde',\n",
       " 'hey surfenimpark',\n",
       " 'mr netflix nicht verfügbar bereitgestellt ?',\n",
       " 'hey surfenimbus',\n",
       " 'ping ok nice !',\n",
       " 'hey surfenimbus',\n",
       " 'spannender krimi mysteriöse inet-problem gk kunden ?',\n",
       " 'hallo team derzeit störungen raum karlsruhe neckarsulm ?',\n",
       " 'hey surfenimpark',\n",
       " 'hightechno ! dance elektro telekomzuhause',\n",
       " '* tischkantenbeißgeräusch * funktioniert einwandfrei solange telekomtechniker wohnung ?',\n",
       " 'hey surfenimbus',\n",
       " 'derzeit störung umkreis lte hybrid mästen ?',\n",
       " 'hallo ! schön sauer dsl vertrag gekündigt drosseln ? 😵',\n",
       " 'derzeit störung internets gallusviertel frankfurt ? kundenservice minuten wartezeit 😳 ? ? ?',\n",
       " 'thanks for blaming using as dns helped',\n",
       " 'glaube mediator beziehungsprobleme heranhole',\n",
       " 'störung festnetz internet tot justsaying',\n",
       " 'störung festnetz internet tot justsaying',\n",
       " 'gerne günstigeres vertrag',\n",
       " 'super ! dankeschön team telekom',\n",
       " 'internet fernsehen telefon telekom ordentlichen support leitung läuft problem auftritt dauert technikertermin schonmal garnichts danketelekom',\n",
       " 'unity behalten telekom bezahlen evtl probleme brauchen tei',\n",
       " 'hey surfenimbus',\n",
       " 'hey surfenimpark',\n",
       " 'hey surfenimbus',\n",
       " 'hey surfenimbus',\n",
       " 'hey surfenimpark',\n",
       " 'hallo bitte telekom hilft auskunft geben hotline lage router speedport smart crossband repeating schalte frage repeater devolo ac telekom',\n",
       " 'probleme peering geben bagger langt glasfaser etc blockiert',\n",
       " 'hey surfenimbus',\n",
       " 'termin ? frühstens samstag funktioniert unprofessionell genau ! ! ! 🤡 🤡 🤡',\n",
       " 'mast problems fix coming soon messages on phone sons and friends phones ok both hate phone cov',\n",
       " 'tut nicht foto 😉 hammer !',\n",
       " 'problem lan verbindung laptop nicht funktioniert entertain reciver',\n",
       " 'klar iptv telekom leitungen blöd einsehen nicht klappt trotz nachfrage',\n",
       " 'dsl kaputt störung binnen stunde gemeldet techniker nicht',\n",
       " 'bitte hilfe sag proble ?',\n",
       " 'hey surfenimbus',\n",
       " 'rede nachschau',\n",
       " 'brief postweg kollegen vorstand gespannt antwort erhalte ! telekom deutschland gmbh vorstandsbeschwerde bonn betreff dsl störung nachfolgender klärungsprozess geehrte damen herren ca telekom kunde nutze obigen adresse entertain paket dsl festnetz tv aufgrund leider auftretenden problemen anschluss nachfolgenden entstörungsprozess unmut mitteilen bitte stellungnahme beschwerde ! ‚ customer experience ‘ schildern gerne aktuellen fall schildern scheint leider repräsentativ mindestens ähnliche vorfälle erinnern dsl anschluss unterbrochen unmittelbar meldete störung hotline bat aktualisierung fortschritts entstörung gesamten verlauf bearbeitung eingehalten lediglich aktive nachfrage stetiges nachtelefonieren erkennbar frau nutzen dsl anschluss häufig beruflichen zwecken insofern nicht dringlichkeit tiefgehender schildern involvierte service-mitarbeiter verwickelten häufig widersprüchliche aussagen diagnose verbinden nicht ? ? ? fassungslos dienstag nette mitarbeiterin vertrösten gespräch abrupt beendete namen bat teamleiter verbindet gespräch sicher rekapitulieren aufgezeichnet ca ff erspare komplette chronologie falls kostet nerven zudem interaktionen systemen hoffentlich dokumentiert zusammengefasst ca verschiedenen service-mitarbeitern gesprochen regel wirklichen bearbeitungsstand entstörung informiert ‚ bearbeitung ‘ erhielt aussage fall gelöst summe dauerte techniker ort fehler behob dauer behebung minuten grund störung verlaub ! kabel schaltkasten straße geändert wonach kabel hausanschluss haus korrigiert nicht täusche privatkundenbereich sla entdeckung fehlers fall längen überschritten kurios anscheinend sla jeweils verlängert service-techniker ort kunden nicht telefonisch erreichen nicht kurios erscheint service-techniker telefonisch nicht erreichen kein anruf abwesenheit zurückgelegten mobilnummer finden ? ! ? freitag störung techniker behoben summe personen fast woche probleme beruflichen aufgaben nachzukommen service-mitarbeiter gewährte problem umgehen freundlicherweise kostenlos dsl starterpaket freitag nachmittag angeliefert ! gespannt starterpaket rechnung gestellt beenden fall folgt montag trat erneute störung dsl anschlusses glücklicherweise diagnose ‚ remote ‘ ca behoben hoffe einmalig ! stellungnahme folgenden punkten bitten schätzen bearbeitungsprozess verhalten involvierten mitarbeiter ? anspruch customer service gerecht ? kunden hotline eher eindruck vertröstung entsteht nicht lösung eigentlichen problems fokus ? berufliche einsicht service call center business thematik ‚ shared services kostenreduzierung ‘ bewusst sichern kunden zeitnahe behebung störungen ? zeiten homeoffice flexiblem arbeiten etc erscheint service-konzept nicht zeitgemäß trennung privatkunden geschäftskunden möchten kundenzufriedenheit sicherstellen customer churn reduzieren service kunden mangelhaft erahnen lässt kostenreduzierung höhere strategische bedeutung telekom ? unterlassene behebung innerhalb sla ’ agb ’ besteht schadensersatzanspruch betrifft anschluss kosten hinaus richtung gez gebühren verdienstausfall etc beurteilen sachverhalt ? letztlich betonen anliegen nicht kompensation entstandenen schaden ärger umso essentiell dsl anschluss funktioniert falle störungen schnell entstört abstand nehmen dauerhaft service-hotline sprechen regel enttäuschungen äußerstes unbehagen zieht scheine nicht einzige kunde erfahrungen bitte unterlassen nettigkeits geschenke ausgleich bücher ohnehin besitze ! kümmern bitte kunden ‚ wesentlicher bestandteil ‘ kerngeschäfts ! feedback ! freundlichen grüßen ks',\n",
       " 'glasfaser kabel wiese straße gelegt dauert ca hausanschluss ?',\n",
       " 'anyway it would be helpful if would have twitter support account why',\n",
       " 'hallo ne nachricht geschickt bestimmt',\n",
       " 'letzter klemmt lan 😑',\n",
       " 'letzter klemmt lan 😑',\n",
       " 'gratuliere problem gelöst nicht ablenken lassen',\n",
       " 'gehört ?',\n",
       " 'festnetz kaputt gb datenkarte freitag techniker danke',\n",
       " 'hightechno ! dance elektro telekomzuhause',\n",
       " 'hallo 😊 ruft ca wochen nummer nicht kenne ran redet keiner täglich mindestens anrufe nummer zurückrufen ansage teilnehmer derzeit nicht verfügbar mittlerweile total genervt nummer kundencenter negativliste gesetzt anrufe ?',\n",
       " 'meddl leude servus herzlich willkommen telekom hilft gedrollt net drollt fliegt se',\n",
       " 'hackerangriff kanadas telekom gigant bce meldet datendiebstahl',\n",
       " 'leider kein dsl plz problem ?',\n",
       " 'surfenammeer jaja echt witzig !',\n",
       " 'and recognized for innovation hybrid ddos managed services at gtbawards !',\n",
       " 'hey surfenimbus',\n",
       " 'kunden stich lassen ! hallo nehmt bitte',\n",
       " 'hallo sorgen bot dm auftaucht ?',\n",
       " 'grüßt probleme programm manager app entertain classic ? ? funktioniert nicht',\n",
       " 'hey surfenimpark',\n",
       " 'hey surfenimbus',\n",
       " 'schwiegervater neuer vertrag telekom zugestellt nicht auftrag gegeben lediglich techniker bestellt fritzbox nicht funktionierte nicht telefonieren konnteweil alt helfen bot telekom anzurufen vertrag stornieren stunde angesagt kundenberater gespräch solle bitte warten inzwischen mitternacht gehe spekuliert kunde aufgibt empfinde unverschämtheit ! ! !',\n",
       " 'highculture ! drehe pirouetten tanzfläche klassik telekomzuhause',\n",
       " 'warteschleife telekom versetzt',\n",
       " 'telefoniere service hotline 😠 rückruf nichts dergleichen kein telefon internet ! ! nicht kosten geringer laufen schön unmöglich ! ! !',\n",
       " 'hey surfenimpark',\n",
       " 'drauf meist schnell vertragsabschluss ! glaub innerhalb werktagen',\n",
       " 'edgeinderubahn soslow ubahnschnelleralsinternet rp',\n",
       " 'timeline photos start-ups ! get to know one of our great partners dedrone they won the rd place of the cisco innovation grand challenge and sign up deutsche telekom as reseller during the cisco live this year they represented their innovative solution to our partner and customers at openberlin which great success and very impressive dedrone based germany and usa is working on drone defense system as the defense of them getting more important nowadays learn more about them this video to min openberlin ciscoinnovates ”',\n",
       " 'hey surfenimpark',\n",
       " 'gesehen verstanden',\n",
       " 'sp hybrid erkennt sim gestern nicht lte seite engineer menü lädt nicht defekt ? gibts ersatz ?',\n",
       " 'hey surfenimpark',\n",
       " 'hallo jährigen eltern kein telefon ? mehrfachen anrufen bekam telekom auskunft irgendwas leitung repariert mindeste nutzer langandauernden ausfällen vorzuwarnen medizinischer notfall eintritt eltern verrecken leitung keinen rettungswagen rufen ? reparaturen dauern übergangslösung geschaffen heutigen schwer nachzuvollziehen ausfall keine rückerstattung gutschrift erstellt zeugt nicht servicegedanken eltern durchgehend telekom kunden geblieben schade egal scheint kabelfernsehen beziehen eltern kabel deutschland störungen üblicherweise innerhalb stunden beheben telefonverträge anzuschauen',\n",
       " 'hey surfenimpark',\n",
       " 'meddl leude servus herzlich willkommen telekom hilft gedrollt net drollt fliegt se',\n",
       " '! ! ! minuten voraussichtliche wartezeit verarschen ? ? ? absolut kein verständnis ! ! ! fail',\n",
       " 'lieben tollen telekom techniker extra unserem verteilerkasten gefahren klemme aufgesetzt sodass fleißig läuft ! ! ! ☺ ️ ☺ ️ ☺ ️',\n",
       " 'aktuell bearbeitungstool ausgefallen beantwortung tweets dms verzögern lösung ge',\n",
       " 'hey surfenimbus',\n",
       " 'highvoltage ! metal headbangen telecnxvydpti',\n",
       " '€ dividende anhebung folge rosa riese spur t-m',\n",
       " 'raum saarbrücken dsl probleme ?',\n",
       " 'telekom erleben verbindung super 😁',\n",
       " 'hightechno ! dance elektro telekomzuhause',\n",
       " 'congratulations irchat irawards',\n",
       " 'fun fact warteschleife telekom dauert kürzer wahlen frankreich macron',\n",
       " 'hey surfenimbus',\n",
       " 'dont think its sian',\n",
       " 'shortnews digitalestadt darmstadt parkt smart smartcity app',\n",
       " 'anschluss monat gekündigt keine rückverrechnung ?',\n",
       " 'speicherung samstag aussetzen ?',\n",
       " 'lachen 😂',\n",
       " 'eigentlich verarschen ? garantierte leitung witz ! ! !',\n",
       " 'hallo zweimal kundenmenü kündigung gesendet keine antwort mai mai mache falsch ? nicht online ? schriftkiche bestätigung erwartet']"
      ]
     },
     "execution_count": 61,
     "metadata": {},
     "output_type": "execute_result"
    }
   ],
   "source": [
    "documents"
   ]
  },
  {
   "cell_type": "code",
   "execution_count": 35,
   "metadata": {
    "ExecuteTime": {
     "end_time": "2018-01-30T03:12:40.246407Z",
     "start_time": "2018-01-30T03:12:40.123027Z"
    }
   },
   "outputs": [
    {
     "data": {
      "text/plain": [
       "Counter({'A-Team': 62,\n",
       "         'Abuse/Missbrauch': 106,\n",
       "         'Anfragen in Arabisch': 1,\n",
       "         'Dienste & Abos': 2,\n",
       "         'Endgeräte': 1,\n",
       "         'Entertain': 5,\n",
       "         'Festnetz': 12524,\n",
       "         'Festnetz (Mark./T-Shop)': 243,\n",
       "         'Festnetz COM': 1565,\n",
       "         'GK': 1604,\n",
       "         'Hosting': 1,\n",
       "         'Hosting FB/TW': 28,\n",
       "         'Hotspot': 1963,\n",
       "         'Hybrid & LTE': 8,\n",
       "         'Hybrid FB/TW': 137,\n",
       "         'MMS': 6819,\n",
       "         'MMS (Mark./T-Shop)': 101,\n",
       "         'MMS COM': 538,\n",
       "         'Meinungsbildner': 80,\n",
       "         'Mobile': 33,\n",
       "         'Mobilfunk': 7984,\n",
       "         'Mobilfunk (Mark./T-Shop)': 98,\n",
       "         'Mobilfunk COM': 713,\n",
       "         'Neue Themen': 3,\n",
       "         'Smart Home FB/TW': 27,\n",
       "         'Wechsler': 480,\n",
       "         'nan': 73961})"
      ]
     },
     "execution_count": 35,
     "metadata": {},
     "output_type": "execute_result"
    }
   ],
   "source": [
    "from collections import Counter\n",
    "Counter(labels)"
   ]
  },
  {
   "cell_type": "markdown",
   "metadata": {},
   "source": [
    "# FEATURES"
   ]
  },
  {
   "cell_type": "code",
   "execution_count": 36,
   "metadata": {
    "ExecuteTime": {
     "end_time": "2018-01-30T03:13:16.718289Z",
     "start_time": "2018-01-30T03:12:40.687640Z"
    }
   },
   "outputs": [],
   "source": [
    "# bag of words\n",
    "from sklearn.feature_extraction.text import CountVectorizer\n",
    "from sklearn.feature_extraction.text import TfidfTransformer\n",
    "\n",
    "BoW = CountVectorizer(documents, strip_accents='unicode', ngram_range=(1,3), min_df=3)\n",
    "X_bag = BoW.fit_transform(documents)\n",
    "tf_transformer = TfidfTransformer().fit(X_bag)\n",
    "X_bag = tf_transformer.fit_transform(X_bag)"
   ]
  },
  {
   "cell_type": "code",
   "execution_count": 37,
   "metadata": {
    "ExecuteTime": {
     "end_time": "2018-01-30T03:13:16.825488Z",
     "start_time": "2018-01-30T03:13:16.723963Z"
    }
   },
   "outputs": [],
   "source": [
    "Y = labels[labels != 'nan']\n",
    "X_bag = X_bag[labels != 'nan']"
   ]
  },
  {
   "cell_type": "code",
   "execution_count": 38,
   "metadata": {
    "ExecuteTime": {
     "end_time": "2018-01-30T03:13:16.864866Z",
     "start_time": "2018-01-30T03:13:16.830163Z"
    }
   },
   "outputs": [],
   "source": [
    "from sklearn import preprocessing\n",
    "le = preprocessing.LabelEncoder()\n",
    "Y = le.fit_transform(Y)"
   ]
  },
  {
   "cell_type": "markdown",
   "metadata": {},
   "source": [
    "# CLASSIFIERS"
   ]
  },
  {
   "cell_type": "code",
   "execution_count": 39,
   "metadata": {
    "ExecuteTime": {
     "end_time": "2018-01-30T03:13:16.874569Z",
     "start_time": "2018-01-30T03:13:16.868593Z"
    }
   },
   "outputs": [],
   "source": [
    "import xgboost as xgb\n",
    "# Code for cross-validation\n",
    "from sklearn.cross_validation import train_test_split\n",
    "from sklearn.cross_validation import StratifiedKFold"
   ]
  },
  {
   "cell_type": "code",
   "execution_count": 40,
   "metadata": {
    "ExecuteTime": {
     "end_time": "2018-01-30T03:13:16.882184Z",
     "start_time": "2018-01-30T03:13:16.878196Z"
    }
   },
   "outputs": [],
   "source": [
    "from imblearn.over_sampling import RandomOverSampler"
   ]
  },
  {
   "cell_type": "code",
   "execution_count": 41,
   "metadata": {
    "ExecuteTime": {
     "end_time": "2018-01-30T03:13:16.891445Z",
     "start_time": "2018-01-30T03:13:16.885964Z"
    }
   },
   "outputs": [],
   "source": [
    "from sklearn.metrics import accuracy_score, confusion_matrix, f1_score"
   ]
  },
  {
   "cell_type": "markdown",
   "metadata": {
    "ExecuteTime": {
     "end_time": "2018-01-29T15:57:16.804294Z",
     "start_time": "2018-01-29T15:55:02.451Z"
    }
   },
   "source": [
    "## XGBOOST"
   ]
  },
  {
   "cell_type": "code",
   "execution_count": 62,
   "metadata": {
    "ExecuteTime": {
     "end_time": "2018-01-30T08:33:40.298816Z",
     "start_time": "2018-01-30T08:33:39.472447Z"
    }
   },
   "outputs": [],
   "source": [
    "X_bag = BoW.transform(documents)\n",
    "X_bag = tf_transformer.transform(X_bag)"
   ]
  },
  {
   "cell_type": "code",
   "execution_count": 64,
   "metadata": {
    "ExecuteTime": {
     "end_time": "2018-01-30T08:34:55.595592Z",
     "start_time": "2018-01-30T08:34:54.685828Z"
    }
   },
   "outputs": [],
   "source": [
    "D_test = xgb.DMatrix(X_bag)\n",
    "predictions = models[0].predict(D_test)"
   ]
  },
  {
   "cell_type": "code",
   "execution_count": 67,
   "metadata": {
    "ExecuteTime": {
     "end_time": "2018-01-30T08:36:58.884438Z",
     "start_time": "2018-01-30T08:36:58.872505Z"
    }
   },
   "outputs": [
    {
     "name": "stderr",
     "output_type": "stream",
     "text": [
      "/usr/local/lib/python3.6/site-packages/sklearn/preprocessing/label.py:151: DeprecationWarning: The truth value of an empty array is ambiguous. Returning False, but in future this will result in an error. Use `array.size > 0` to check that an array is not empty.\n",
      "  if diff:\n"
     ]
    },
    {
     "data": {
      "text/plain": [
       "array(['MMS', 'Festnetz', 'MMS', 'MMS', 'Festnetz', 'Festnetz',\n",
       "       'Festnetz', 'MMS', 'Festnetz', 'GK', 'MMS', 'Festnetz', 'Festnetz',\n",
       "       'Festnetz', 'Festnetz', 'MMS', 'Festnetz', 'MMS', 'MMS',\n",
       "       'Festnetz', 'MMS', 'MMS', 'Festnetz', 'Festnetz', 'MMS', 'MMS',\n",
       "       'Festnetz', 'Festnetz', 'Festnetz', 'Festnetz', 'Festnetz',\n",
       "       'Festnetz', 'Festnetz', 'Festnetz', 'Festnetz', 'Mobilfunk',\n",
       "       'Festnetz', 'MMS', 'Festnetz', 'MMS', 'Festnetz', 'Festnetz',\n",
       "       'Festnetz', 'GK', 'Festnetz', 'MMS', 'Festnetz', 'MMS', 'MMS',\n",
       "       'Festnetz', 'Festnetz', 'MMS', 'Festnetz', 'Festnetz', 'Festnetz',\n",
       "       'Festnetz', 'Festnetz', 'Festnetz', 'Festnetz', 'Festnetz',\n",
       "       'Festnetz', 'Festnetz', 'Festnetz', 'Festnetz', 'Festnetz',\n",
       "       'Festnetz', 'Festnetz', 'Festnetz', 'MMS', 'Festnetz', 'Festnetz',\n",
       "       'Festnetz', 'Festnetz', 'Festnetz', 'Festnetz', 'Festnetz',\n",
       "       'Festnetz', 'Festnetz', 'Festnetz', 'Festnetz', 'Festnetz',\n",
       "       'Festnetz', 'MMS', 'Festnetz', 'Festnetz', 'Festnetz', 'MMS',\n",
       "       'Festnetz', 'Festnetz', 'Festnetz', 'Festnetz', 'Festnetz',\n",
       "       'Festnetz', 'Mobilfunk', 'Festnetz', 'Festnetz', 'Festnetz',\n",
       "       'Festnetz', 'Festnetz'], dtype='<U24')"
      ]
     },
     "execution_count": 67,
     "metadata": {},
     "output_type": "execute_result"
    }
   ],
   "source": [
    "le.inverse_transform(np.array(predictions, dtype=int))"
   ]
  },
  {
   "cell_type": "code",
   "execution_count": 53,
   "metadata": {
    "ExecuteTime": {
     "end_time": "2018-01-30T05:12:47.306666Z",
     "start_time": "2018-01-30T05:12:47.261766Z"
    }
   },
   "outputs": [],
   "source": [
    "# Set our parameters for xgboost\n",
    "params = {}\n",
    "params['objective'] = 'multi:softmax'\n",
    "params['eval_metric'] = 'mlogloss'\n",
    "params['eta'] = 0.07\n",
    "params['max_depth'] = 40\n",
    "params['min_child_weight'] = 5\n",
    "params['lambda'] = 1\n",
    "params['nthread'] = 4\n",
    "params['num_class'] = len(np.unique(Y))"
   ]
  },
  {
   "cell_type": "code",
   "execution_count": 54,
   "metadata": {
    "ExecuteTime": {
     "end_time": "2018-01-30T06:20:15.028751Z",
     "start_time": "2018-01-30T05:12:47.643955Z"
    },
    "scrolled": true
   },
   "outputs": [
    {
     "name": "stderr",
     "output_type": "stream",
     "text": [
      "/usr/local/lib/python3.6/site-packages/sklearn/cross_validation.py:553: Warning: The least populated class in y has only 1 members, which is too few. The minimum number of labels for any class cannot be less than n_folds=3.\n",
      "  % (min_labels, self.n_folds)), Warning)\n"
     ]
    },
    {
     "name": "stdout",
     "output_type": "stream",
     "text": [
      "(23410, 321767) (11716, 321767) (23410,) (11716,)\n",
      "[0]\ttrain-mlogloss:2.93537\tvalid-mlogloss:2.94323\n",
      "Multiple eval metrics have been passed: 'valid-mlogloss' will be used for early stopping.\n",
      "\n",
      "Will train until valid-mlogloss hasn't improved in 50 rounds.\n",
      "[10]\ttrain-mlogloss:1.88268\tvalid-mlogloss:1.95454\n",
      "[20]\ttrain-mlogloss:1.50185\tvalid-mlogloss:1.62844\n",
      "[30]\ttrain-mlogloss:1.29145\tvalid-mlogloss:1.46404\n",
      "[40]\ttrain-mlogloss:1.16056\tvalid-mlogloss:1.37141\n",
      "[50]\ttrain-mlogloss:1.0719\tvalid-mlogloss:1.31574\n",
      "[60]\ttrain-mlogloss:1.00872\tvalid-mlogloss:1.28193\n",
      "[70]\ttrain-mlogloss:0.960907\tvalid-mlogloss:1.26022\n",
      "[80]\ttrain-mlogloss:0.922655\tvalid-mlogloss:1.24604\n",
      "[90]\ttrain-mlogloss:0.891983\tvalid-mlogloss:1.2368\n",
      "[100]\ttrain-mlogloss:0.866196\tvalid-mlogloss:1.23089\n",
      "[110]\ttrain-mlogloss:0.844156\tvalid-mlogloss:1.22733\n",
      "[120]\ttrain-mlogloss:0.825074\tvalid-mlogloss:1.22593\n",
      "[130]\ttrain-mlogloss:0.807997\tvalid-mlogloss:1.22497\n",
      "[140]\ttrain-mlogloss:0.792289\tvalid-mlogloss:1.22547\n",
      "[150]\ttrain-mlogloss:0.777567\tvalid-mlogloss:1.22614\n",
      "[160]\ttrain-mlogloss:0.764739\tvalid-mlogloss:1.22743\n",
      "[170]\ttrain-mlogloss:0.752493\tvalid-mlogloss:1.22869\n",
      "[180]\ttrain-mlogloss:0.74114\tvalid-mlogloss:1.22985\n",
      "Stopping. Best iteration:\n",
      "[133]\ttrain-mlogloss:0.803161\tvalid-mlogloss:1.22484\n",
      "\n"
     ]
    },
    {
     "name": "stderr",
     "output_type": "stream",
     "text": [
      "/usr/local/lib/python3.6/site-packages/sklearn/metrics/classification.py:1135: UndefinedMetricWarning: F-score is ill-defined and being set to 0.0 in labels with no predicted samples.\n",
      "  'precision', 'predicted', average, warn_for)\n"
     ]
    },
    {
     "name": "stdout",
     "output_type": "stream",
     "text": [
      "f1 score: 0.16383232505603076\n",
      "accuracy: 0.6185558210993514\\%\n",
      "[[   0    0    0    0    0   16    0    1    0    0    0    0    0    2\n",
      "     0    0    0    0    2    0    0    0    0    0]\n",
      " [   0    0    0    0    0   29    0    0    0    0    1    0    0    4\n",
      "     0    0    0    0    2    0    0    0    0    0]\n",
      " [   0    0    0    0    0    1    0    0    0    0    0    0    0    0\n",
      "     0    0    0    0    0    0    0    0    0    0]\n",
      " [   0    0    0    0    0    1    0    0    0    0    0    0    0    0\n",
      "     0    0    0    0    0    0    0    0    0    0]\n",
      " [   0    0    0    0    0    1    0    0    0    0    0    0    0    1\n",
      "     0    0    0    0    0    0    0    0    0    0]\n",
      " [   0    4    0    0    0 3320    2   17   39    0   14    0    9  493\n",
      "     0    1    0    0  250    0    0    0    0   26]\n",
      " [   0    0    0    0    0   65    0    2    1    0    1    0    0    9\n",
      "     2    0    0    0    1    0    0    0    0    0]\n",
      " [   0    0    0    0    0  387    2   17    6    0    3    0    1   72\n",
      "     0    5    0    0   26    0    2    0    0    1]\n",
      " [   0    0    0    0    0  172    2    2  245    0    3    0    0   50\n",
      "     0    1    0    0   58    0    1    0    0    1]\n",
      " [   0    0    0    0    0    6    0    0    0    0    0    0    1    2\n",
      "     0    0    0    0    1    0    0    0    0    0]\n",
      " [   0    0    0    0    0   86    0    0    1    0  506    0    0   21\n",
      "     0    0    0    0   39    0    2    0    0    0]\n",
      " [   0    0    0    0    0    2    0    0    0    0    0    0    0    1\n",
      "     0    0    0    0    0    0    0    0    0    0]\n",
      " [   0    0    0    0    0   16    0    0    0    0    1    0    2   23\n",
      "     0    0    0    0    4    0    0    0    0    0]\n",
      " [   0    0    0    0    0  896    0   10   10    0   10    0    5 1257\n",
      "     0    7    0    0   69    0    1    0    0    8]\n",
      " [   0    0    0    0    0   14    1    1    0    0    0    0    0   11\n",
      "     1    4    0    0    2    0    0    0    0    0]\n",
      " [   0    0    0    0    0   82    0    8    3    0    1    0    1   74\n",
      "     1    1    0    0    8    0    0    0    0    1]\n",
      " [   0    0    0    0    0   16    0    0    0    0    1    0    0    5\n",
      "     0    0    0    0    5    0    0    0    0    0]\n",
      " [   0    0    0    0    0    1    0    0    0    0    2    0    0    1\n",
      "     0    0    0    0    7    0    0    0    0    0]\n",
      " [   0    0    0    0    0  665    0    3   16    0   26    0    0   84\n",
      "     0    0    0    0 1853    1    4    0    0   10]\n",
      " [   0    0    0    0    0   10    0    1    0    0    1    0    0    0\n",
      "     0    0    0    0   20    1    0    0    0    0]\n",
      " [   0    0    0    0    0   70    0    3    1    0    4    0    0    6\n",
      "     0    0    0    0  145    1    8    0    0    0]\n",
      " [   0    0    0    0    0    1    0    0    0    0    0    0    0    0\n",
      "     0    0    0    0    0    0    0    0    0    0]\n",
      " [   0    0    0    0    0    7    0    0    0    0    0    0    0    2\n",
      "     0    0    0    0    0    0    0    0    0    0]\n",
      " [   0    0    0    0    0   94    0    2    5    0    0    0    0   14\n",
      "     0    0    0    0    9    0    0    0    0   36]]\n",
      "(23417, 321767) (11709, 321767) (23417,) (11709,)\n",
      "[0]\ttrain-mlogloss:2.93321\tvalid-mlogloss:2.94247\n",
      "Multiple eval metrics have been passed: 'valid-mlogloss' will be used for early stopping.\n",
      "\n",
      "Will train until valid-mlogloss hasn't improved in 50 rounds.\n",
      "[10]\ttrain-mlogloss:1.88125\tvalid-mlogloss:1.95521\n",
      "[20]\ttrain-mlogloss:1.50015\tvalid-mlogloss:1.63056\n",
      "[30]\ttrain-mlogloss:1.2902\tvalid-mlogloss:1.46728\n",
      "[40]\ttrain-mlogloss:1.15876\tvalid-mlogloss:1.37619\n",
      "[50]\ttrain-mlogloss:1.06903\tvalid-mlogloss:1.32206\n",
      "[60]\ttrain-mlogloss:1.00444\tvalid-mlogloss:1.2885\n",
      "[70]\ttrain-mlogloss:0.955187\tvalid-mlogloss:1.26734\n",
      "[80]\ttrain-mlogloss:0.917435\tvalid-mlogloss:1.25393\n",
      "[90]\ttrain-mlogloss:0.886806\tvalid-mlogloss:1.24608\n",
      "[100]\ttrain-mlogloss:0.861278\tvalid-mlogloss:1.2411\n",
      "[110]\ttrain-mlogloss:0.839589\tvalid-mlogloss:1.23805\n",
      "[120]\ttrain-mlogloss:0.820702\tvalid-mlogloss:1.23676\n",
      "[130]\ttrain-mlogloss:0.803663\tvalid-mlogloss:1.23652\n",
      "[140]\ttrain-mlogloss:0.788165\tvalid-mlogloss:1.23735\n",
      "[150]\ttrain-mlogloss:0.774087\tvalid-mlogloss:1.23825\n",
      "[160]\ttrain-mlogloss:0.760748\tvalid-mlogloss:1.2396\n",
      "[170]\ttrain-mlogloss:0.748294\tvalid-mlogloss:1.2407\n",
      "Stopping. Best iteration:\n",
      "[128]\ttrain-mlogloss:0.806875\tvalid-mlogloss:1.23628\n",
      "\n",
      "f1 score: 0.1752191151215638\n",
      "accuracy: 0.611837048424289\\%\n",
      "[[   0    0    0   18    0    0    0    0    0    0    0    0    0    0\n",
      "     0    0    3    0    0    0    0    0]\n",
      " [   0    0    0   31    0    0    1    0    0    0    0    1    0    0\n",
      "     0    0    2    0    0    0    0    0]\n",
      " [   0    0    0    2    0    0    0    0    0    0    0    0    0    0\n",
      "     0    0    0    0    0    0    0    0]\n",
      " [   0    7    0 3293    0   28   28    0   28    0    3  534    0    4\n",
      "     0    0  233    0    0    0    0   17]\n",
      " [   0    0    0   63    0    6    3    0    1    0    0    2    1    2\n",
      "     0    0    3    0    0    0    0    0]\n",
      " [   0    0    0  400    0   17    5    0    2    0    0   62    0    2\n",
      "     0    0   28    0    3    0    0    3]\n",
      " [   0    0    0  175    0    0  272    0    0    0    0   33    0    0\n",
      "     0    0   48    0    0    0    0    7]\n",
      " [   0    0    0    8    1    0    0    0    0    0    0    0    0    0\n",
      "     0    0    0    0    0    0    0    0]\n",
      " [   0    0    0  105    0    1    0    0  483    0    0   28    0    0\n",
      "     0    0   36    0    0    0    0    1]\n",
      " [   0    0    0    0    0    0    0    0    0    0    1    2    0    0\n",
      "     0    0    0    0    0    0    0    0]\n",
      " [   0    0    0   25    0    0    0    0    0    0    2   13    0    1\n",
      "     0    0    4    0    0    0    0    1]\n",
      " [   0    0    0  918    0    7   11    0    9    0    5 1238    2    8\n",
      "     0    0   72    0    0    0    0    3]\n",
      " [   0    0    0   13    0    1    0    0    0    0    1   14    1    3\n",
      "     0    0    1    0    0    0    0    0]\n",
      " [   0    0    0   83    0    4    4    0    1    0    1   76    1    5\n",
      "     0    0    2    0    0    0    0    2]\n",
      " [   0    0    0   16    0    0    0    0    1    0    0    6    0    0\n",
      "     0    0    4    0    0    0    0    0]\n",
      " [   0    0    0    1    0    0    0    0    0    0    0    1    0    0\n",
      "     0    0    9    0    0    0    0    0]\n",
      " [   0    0    0  688    1    1   12    0   28    0    0   93    0    1\n",
      "     0    0 1819    0   12    0    0    6]\n",
      " [   0    0    0    8    0    0    1    0    0    0    0    0    0    0\n",
      "     0    0   19    0    5    0    0    0]\n",
      " [   0    0    0   77    0    1    3    0    2    0    0    5    0    0\n",
      "     0    0  143    0    7    0    0    0]\n",
      " [   0    0    0    1    0    0    0    0    0    0    0    0    0    0\n",
      "     0    0    0    0    0    0    0    0]\n",
      " [   0    0    0    4    0    1    0    0    0    0    0    0    0    1\n",
      "     0    0    3    0    0    0    0    0]\n",
      " [   0    0    0  107    0    1    6    0    0    0    0   12    0    0\n",
      "     0    0    7    0    0    0    0   27]]\n",
      "(23425, 321767) (11701, 321767) (23425,) (11701,)\n",
      "[0]\ttrain-mlogloss:2.93061\tvalid-mlogloss:2.94368\n",
      "Multiple eval metrics have been passed: 'valid-mlogloss' will be used for early stopping.\n",
      "\n",
      "Will train until valid-mlogloss hasn't improved in 50 rounds.\n",
      "[10]\ttrain-mlogloss:1.876\tvalid-mlogloss:1.96338\n",
      "[20]\ttrain-mlogloss:1.49536\tvalid-mlogloss:1.6401\n",
      "[30]\ttrain-mlogloss:1.28509\tvalid-mlogloss:1.47691\n",
      "[40]\ttrain-mlogloss:1.15313\tvalid-mlogloss:1.38562\n",
      "[50]\ttrain-mlogloss:1.06225\tvalid-mlogloss:1.33117\n",
      "[60]\ttrain-mlogloss:0.997518\tvalid-mlogloss:1.29668\n",
      "[70]\ttrain-mlogloss:0.947967\tvalid-mlogloss:1.27489\n",
      "[80]\ttrain-mlogloss:0.909885\tvalid-mlogloss:1.26127\n",
      "[90]\ttrain-mlogloss:0.878581\tvalid-mlogloss:1.25291\n",
      "[100]\ttrain-mlogloss:0.852261\tvalid-mlogloss:1.24739\n",
      "[110]\ttrain-mlogloss:0.830339\tvalid-mlogloss:1.24504\n",
      "[120]\ttrain-mlogloss:0.810743\tvalid-mlogloss:1.24407\n",
      "[130]\ttrain-mlogloss:0.793624\tvalid-mlogloss:1.24382\n",
      "[140]\ttrain-mlogloss:0.778407\tvalid-mlogloss:1.24439\n",
      "[150]\ttrain-mlogloss:0.764169\tvalid-mlogloss:1.24573\n",
      "[160]\ttrain-mlogloss:0.750859\tvalid-mlogloss:1.24708\n",
      "[170]\ttrain-mlogloss:0.738614\tvalid-mlogloss:1.24892\n",
      "Stopping. Best iteration:\n",
      "[123]\ttrain-mlogloss:0.805309\tvalid-mlogloss:1.24379\n",
      "\n",
      "f1 score: 0.15824380126928417\n",
      "accuracy: 0.6082386120844372\\%\n",
      "[[   0    0    0    0    0   19    0    0    0    0    0    0    0    0\n",
      "     1    0    0    0    0    0    0    0    0    0    0]\n",
      " [   0    0    0    0    0   31    0    1    0    0    0    0    0    0\n",
      "     1    0    0    0    0    2    0    0    0    0    0]\n",
      " [   0    0    0    0    0    0    0    0    0    0    0    0    0    0\n",
      "     0    0    0    0    0    1    0    0    0    0    0]\n",
      " [   0    0    0    0    0    1    0    0    0    0    0    0    0    0\n",
      "     0    0    0    0    0    0    0    0    0    0    0]\n",
      " [   0    0    0    0    0    1    0    0    0    0    0    0    0    0\n",
      "     0    0    0    0    0    0    0    0    0    0    0]\n",
      " [   0    0    0    0    0 3298    3   22   31    0    0   11    0   10\n",
      "   503    0    2    0    0  271    0    3    0    0   20]\n",
      " [   0    0    0    0    0   69    0    2    0    0    0    0    0    0\n",
      "     9    0    0    0    0    1    0    0    0    0    0]\n",
      " [   0    0    0    0    0  405    4   13    4    0    0    1    0    0\n",
      "    57    0    3    0    0   27    0    2    0    0    5]\n",
      " [   0    0    0    0    0  203    1    1  244    0    0    1    0    0\n",
      "    37    0    1    0    0   43    0    0    0    0    3]\n",
      " [   0    0    0    0    0    1    0    0    0    0    0    0    0    0\n",
      "     0    0    0    0    0    0    0    0    0    0    0]\n",
      " [   0    0    0    0    0    5    0    0    1    0    0    0    0    0\n",
      "     1    0    1    0    0    1    0    0    0    0    0]\n",
      " [   0    1    0    0    0  106    1    0    3    0    0  485    0    0\n",
      "    19    0    0    0    1   38    0    0    0    0    0]\n",
      " [   0    0    0    0    0    1    0    0    0    0    0    0    0    0\n",
      "     1    0    0    0    0    0    0    0    0    0    0]\n",
      " [   0    0    0    0    0   19    0    0    0    0    0    0    0    3\n",
      "    20    0    0    0    0    3    0    0    0    0    0]\n",
      " [   0    1    0    0    0  892    0    6   10    0    0   10    0   10\n",
      "  1264    0    4    0    0   69    0    0    0    1    6]\n",
      " [   0    0    0    0    0   14    1    0    0    0    0    0    0    0\n",
      "    16    0    2    0    0    0    0    0    0    0    0]\n",
      " [   0    0    0    0    0   71    2    6    4    0    0    0    0    0\n",
      "    88    1    2    0    0    5    0    0    0    0    0]\n",
      " [   0    0    0    0    0   12    0    0    0    0    0    0    0    0\n",
      "     7    0    0    0    0    7    0    0    0    0    0]\n",
      " [   0    0    0    0    0    5    0    0    0    0    0    0    0    0\n",
      "     0    0    0    0    0    5    0    1    0    0    0]\n",
      " [   0    0    0    0    0  735    1    0   14    0    0   35    0    0\n",
      "    93    0    0    0    1 1757    1   20    0    0    4]\n",
      " [   0    0    0    0    0    9    0    0    0    0    0    0    0    0\n",
      "     1    0    0    0    0   20    2    0    0    0    0]\n",
      " [   0    0    0    0    0   79    0    2    4    0    0    4    0    1\n",
      "     8    0    0    0    0  124    1   14    0    0    0]\n",
      " [   0    0    0    0    0    1    0    0    0    0    0    0    0    0\n",
      "     0    0    0    0    0    0    0    0    0    0    0]\n",
      " [   0    0    0    0    0    6    0    0    0    0    0    1    0    0\n",
      "     2    0    0    0    0    0    0    0    0    0    0]\n",
      " [   0    0    0    0    0  106    0    1    6    0    0    1    0    0\n",
      "     8    0    1    0    0    2    0    0    0    0   35]]\n"
     ]
    }
   ],
   "source": [
    "# Create 2 folds\n",
    "k = 3\n",
    "kfold = StratifiedKFold(Y, k, shuffle=True, random_state=0)\n",
    "\n",
    "results = np.zeros((k,2))\n",
    "models = []\n",
    "\n",
    "# iterate over two folds\n",
    "for i, (train_ind, test_ind) in enumerate(kfold):\n",
    "    X_train, X_val, Y_train, Y_val = X_bag[train_ind], X_bag[test_ind], Y[train_ind], Y[test_ind]\n",
    "    \n",
    "    print(X_train.shape, X_val.shape, Y_train.shape, Y_val.shape)\n",
    "    D_train = xgb.DMatrix(X_train, label=Y_train)\n",
    "    D_val = xgb.DMatrix(X_val, label=Y_val)\n",
    "\n",
    "    watchlist = [(D_train, 'train'), (D_val, 'valid')]\n",
    "    models.append(xgb.train(params, D_train, 400, watchlist, early_stopping_rounds=50, verbose_eval=10))\n",
    "    predictions = models[-1].predict(data=D_val).round()\n",
    "    f1 = f1_score(Y_val, predictions, average='macro')\n",
    "    acc = accuracy_score(Y_val, predictions)\n",
    "    results[i] = [f1, acc]\n",
    "    print('f1 score: {}'.format(f1))\n",
    "    print('accuracy: {}\\%'.format(acc))\n",
    "    print(confusion_matrix(Y_val, predictions))"
   ]
  },
  {
   "cell_type": "code",
   "execution_count": 51,
   "metadata": {
    "ExecuteTime": {
     "end_time": "2018-01-30T05:10:02.744324Z",
     "start_time": "2018-01-30T05:10:02.738479Z"
    }
   },
   "outputs": [
    {
     "data": {
      "text/plain": [
       "(array([0.1638, 0.6127]), array([0.0001, 0.    ]))"
      ]
     },
     "execution_count": 51,
     "metadata": {},
     "output_type": "execute_result"
    }
   ],
   "source": [
    "np.mean(results, 0), np.var(results, 0)"
   ]
  },
  {
   "cell_type": "code",
   "execution_count": 46,
   "metadata": {
    "ExecuteTime": {
     "end_time": "2018-01-30T05:08:50.307954Z",
     "start_time": "2018-01-30T05:08:50.285788Z"
    }
   },
   "outputs": [],
   "source": [
    "models_cache, results_cache = models, results"
   ]
  }
 ],
 "metadata": {
  "kernelspec": {
   "display_name": "Python 3",
   "language": "python",
   "name": "python3"
  },
  "language_info": {
   "codemirror_mode": {
    "name": "ipython",
    "version": 3
   },
   "file_extension": ".py",
   "mimetype": "text/x-python",
   "name": "python",
   "nbconvert_exporter": "python",
   "pygments_lexer": "ipython3",
   "version": "3.6.3"
  },
  "notify_time": "0"
 },
 "nbformat": 4,
 "nbformat_minor": 2
}
