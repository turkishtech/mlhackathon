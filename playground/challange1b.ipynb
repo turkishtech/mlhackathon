{
 "cells": [
  {
   "cell_type": "code",
   "execution_count": 1,
   "metadata": {
    "ExecuteTime": {
     "end_time": "2018-01-30T00:33:15.568284Z",
     "start_time": "2018-01-30T00:33:14.916758Z"
    }
   },
   "outputs": [],
   "source": [
    "import numpy as np\n",
    "import pickle\n",
    "np.set_printoptions(precision=4,suppress=True)\n",
    "import matplotlib as mpl\n",
    "import matplotlib.pyplot as plt\n",
    "%matplotlib inline"
   ]
  },
  {
   "cell_type": "code",
   "execution_count": 2,
   "metadata": {
    "ExecuteTime": {
     "end_time": "2018-01-30T00:33:15.762750Z",
     "start_time": "2018-01-30T00:33:15.571622Z"
    }
   },
   "outputs": [],
   "source": [
    "documents = pickle.load(open('documents.pl','rb'))\n",
    "labels = pickle.load(open('labels.pl','rb'))"
   ]
  },
  {
   "cell_type": "markdown",
   "metadata": {},
   "source": [
    "# FEATURES"
   ]
  },
  {
   "cell_type": "code",
   "execution_count": 3,
   "metadata": {
    "ExecuteTime": {
     "end_time": "2018-01-30T00:34:01.359141Z",
     "start_time": "2018-01-30T00:33:15.764950Z"
    }
   },
   "outputs": [],
   "source": [
    "# bag of words\n",
    "from sklearn.feature_extraction.text import CountVectorizer\n",
    "from sklearn.feature_extraction.text import TfidfTransformer\n",
    "\n",
    "BoW = CountVectorizer(documents, strip_accents='unicode', ngram_range=(1,3), min_df=3)\n",
    "X_bag = BoW.fit_transform(documents)\n",
    "tf_transformer = TfidfTransformer().fit(X_bag)\n",
    "X_bag = tf_transformer.fit_transform(X_bag)"
   ]
  },
  {
   "cell_type": "code",
   "execution_count": 4,
   "metadata": {
    "ExecuteTime": {
     "end_time": "2018-01-30T00:34:01.463836Z",
     "start_time": "2018-01-30T00:34:01.362131Z"
    }
   },
   "outputs": [],
   "source": [
    "labels = np.array(labels)"
   ]
  },
  {
   "cell_type": "code",
   "execution_count": 5,
   "metadata": {
    "ExecuteTime": {
     "end_time": "2018-01-30T00:34:01.581076Z",
     "start_time": "2018-01-30T00:34:01.469258Z"
    }
   },
   "outputs": [],
   "source": [
    "Y = labels[labels != 'nan']\n",
    "X_bag = X_bag[labels != 'nan']"
   ]
  },
  {
   "cell_type": "code",
   "execution_count": 6,
   "metadata": {
    "ExecuteTime": {
     "end_time": "2018-01-30T00:34:01.594866Z",
     "start_time": "2018-01-30T00:34:01.584850Z"
    }
   },
   "outputs": [
    {
     "data": {
      "text/plain": [
       "(35126,)"
      ]
     },
     "execution_count": 6,
     "metadata": {},
     "output_type": "execute_result"
    }
   ],
   "source": [
    "Y.shape"
   ]
  },
  {
   "cell_type": "code",
   "execution_count": 7,
   "metadata": {
    "ExecuteTime": {
     "end_time": "2018-01-30T00:34:01.650356Z",
     "start_time": "2018-01-30T00:34:01.598727Z"
    }
   },
   "outputs": [
    {
     "data": {
      "text/plain": [
       "LabelEncoder()"
      ]
     },
     "execution_count": 7,
     "metadata": {},
     "output_type": "execute_result"
    }
   ],
   "source": [
    "from sklearn import preprocessing\n",
    "le = preprocessing.LabelEncoder()\n",
    "le.fit(np.unique(Y))"
   ]
  },
  {
   "cell_type": "code",
   "execution_count": 8,
   "metadata": {
    "ExecuteTime": {
     "end_time": "2018-01-30T00:34:01.709367Z",
     "start_time": "2018-01-30T00:34:01.658514Z"
    }
   },
   "outputs": [],
   "source": [
    "Y = le.transform(Y)"
   ]
  },
  {
   "cell_type": "code",
   "execution_count": 9,
   "metadata": {
    "ExecuteTime": {
     "end_time": "2018-01-30T00:34:02.156406Z",
     "start_time": "2018-01-30T00:34:01.712478Z"
    }
   },
   "outputs": [],
   "source": [
    "from imblearn.over_sampling import RandomOverSampler\n",
    "from collections import Counter"
   ]
  },
  {
   "cell_type": "markdown",
   "metadata": {},
   "source": [
    "# CLASSIFIERS"
   ]
  },
  {
   "cell_type": "code",
   "execution_count": 10,
   "metadata": {
    "ExecuteTime": {
     "end_time": "2018-01-30T00:34:02.719665Z",
     "start_time": "2018-01-30T00:34:02.159868Z"
    }
   },
   "outputs": [
    {
     "name": "stderr",
     "output_type": "stream",
     "text": [
      "/usr/local/lib/python3.6/site-packages/sklearn/cross_validation.py:41: DeprecationWarning: This module was deprecated in version 0.18 in favor of the model_selection module into which all the refactored classes and functions are moved. Also note that the interface of the new CV iterators are different from that of this module. This module will be removed in 0.20.\n",
      "  \"This module will be removed in 0.20.\", DeprecationWarning)\n"
     ]
    }
   ],
   "source": [
    "import xgboost as xgb\n",
    "# Code for cross-validation\n",
    "from sklearn.cross_validation import train_test_split\n",
    "from sklearn.cross_validation import StratifiedKFold"
   ]
  },
  {
   "cell_type": "code",
   "execution_count": null,
   "metadata": {},
   "outputs": [],
   "source": [
    "from sklearn.metrics import accuracy_score, confusion_matrix, f1_score"
   ]
  },
  {
   "cell_type": "markdown",
   "metadata": {
    "ExecuteTime": {
     "end_time": "2018-01-29T15:57:16.804294Z",
     "start_time": "2018-01-29T15:55:02.451Z"
    }
   },
   "source": [
    "## XGBOOST"
   ]
  },
  {
   "cell_type": "code",
   "execution_count": 20,
   "metadata": {
    "ExecuteTime": {
     "end_time": "2018-01-30T01:51:00.337527Z",
     "start_time": "2018-01-30T01:51:00.231275Z"
    }
   },
   "outputs": [],
   "source": [
    "# Set our parameters for xgboost\n",
    "params = {}\n",
    "params['objective'] = 'multi:softmax'\n",
    "params['eval_metric'] = 'mlogloss'\n",
    "params['eta'] = 0.07\n",
    "params['max_depth'] = 30\n",
    "params['min_child_weight'] = 6\n",
    "params['lambda'] = 1\n",
    "params['nthread'] = 4\n",
    "params['num_class'] = len(np.unique(Y))"
   ]
  },
  {
   "cell_type": "code",
   "execution_count": null,
   "metadata": {
    "ExecuteTime": {
     "start_time": "2018-01-30T01:51:22.918Z"
    }
   },
   "outputs": [
    {
     "name": "stderr",
     "output_type": "stream",
     "text": [
      "/usr/local/lib/python3.6/site-packages/sklearn/cross_validation.py:553: Warning: The least populated class in y has only 1 members, which is too few. The minimum number of labels for any class cannot be less than n_folds=3.\n",
      "  % (min_labels, self.n_folds)), Warning)\n"
     ]
    },
    {
     "name": "stdout",
     "output_type": "stream",
     "text": [
      "(23410, 321767) (11716, 321767) (23410,) (11716,)\n",
      "[0]\ttrain-mlogloss:2.94462\tvalid-mlogloss:2.95007\n",
      "Multiple eval metrics have been passed: 'valid-mlogloss' will be used for early stopping.\n",
      "\n",
      "Will train until valid-mlogloss hasn't improved in 50 rounds.\n",
      "[10]\ttrain-mlogloss:1.91953\tvalid-mlogloss:1.97359\n",
      "[20]\ttrain-mlogloss:1.54844\tvalid-mlogloss:1.64698\n",
      "[30]\ttrain-mlogloss:1.34631\tvalid-mlogloss:1.48078\n",
      "[40]\ttrain-mlogloss:1.22103\tvalid-mlogloss:1.38682\n",
      "[50]\ttrain-mlogloss:1.13716\tvalid-mlogloss:1.32992\n",
      "[60]\ttrain-mlogloss:1.07683\tvalid-mlogloss:1.29467\n"
     ]
    }
   ],
   "source": [
    "# Create 2 folds\n",
    "k = 3\n",
    "kfold = StratifiedKFold(Y, k, shuffle=True, random_state=0)\n",
    "\n",
    "results = np.zeros((k,3))\n",
    "\n",
    "# iterate over two folds\n",
    "for i, (train_ind, test_ind) in enumerate(kfold):\n",
    "    X_train, X_val, Y_train, Y_val = X_bag[train_ind], X_bag[test_ind], Y[train_ind], Y[test_ind]\n",
    "    \n",
    "    print(X_train.shape, X_val.shape, Y_train.shape, Y_val.shape)\n",
    "    D_train = xgb.DMatrix(X_train, label=Y_train)\n",
    "    D_val = xgb.DMatrix(X_val, label=Y_val)\n",
    "\n",
    "    watchlist = [(D_train, 'train'), (D_val, 'valid')]\n",
    "    bst = xgb.train(params, D_train, 400, watchlist, early_stopping_rounds=50, verbose_eval=10)\n",
    "    predictions = bst.predict(data=D_val).round()\n",
    "    f1 = f1_score(Y_val, predictions)\n",
    "    acc = accuracy_score(Y_val, predictions)\n",
    "    prio_acc = accuracy_score(Y_val[Y_val==1], predictions[Y_val==1])\n",
    "    results[i] = [f1, acc, prio_acc]\n",
    "    print('f1 score: {}'.format(f1))\n",
    "    print('accuracy: {}\\%'.format(acc))\n",
    "    print('Prio accuracy: {}'.format(prio_acc))\n",
    "    print(confusion_matrix(Y_val, predictions))"
   ]
  },
  {
   "cell_type": "code",
   "execution_count": null,
   "metadata": {
    "ExecuteTime": {
     "end_time": "2018-01-30T00:34:03.180108Z",
     "start_time": "2018-01-30T00:33:14.967Z"
    }
   },
   "outputs": [],
   "source": [
    "np.mean(results, 0), np.var(results, 0)"
   ]
  }
 ],
 "metadata": {
  "kernelspec": {
   "display_name": "Python 3",
   "language": "python",
   "name": "python3"
  },
  "language_info": {
   "codemirror_mode": {
    "name": "ipython",
    "version": 3
   },
   "file_extension": ".py",
   "mimetype": "text/x-python",
   "name": "python",
   "nbconvert_exporter": "python",
   "pygments_lexer": "ipython3",
   "version": "3.6.3"
  },
  "notify_time": "0"
 },
 "nbformat": 4,
 "nbformat_minor": 2
}
