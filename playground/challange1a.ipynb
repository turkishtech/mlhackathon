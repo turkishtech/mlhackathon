{
 "cells": [
  {
   "cell_type": "code",
   "execution_count": 43,
   "metadata": {
    "ExecuteTime": {
     "end_time": "2018-01-30T08:25:00.218347Z",
     "start_time": "2018-01-30T08:25:00.195064Z"
    }
   },
   "outputs": [],
   "source": [
    "import numpy as np\n",
    "import pickle\n",
    "np.set_printoptions(precision=4,suppress=True)\n",
    "import matplotlib as mpl\n",
    "import matplotlib.pyplot as plt\n",
    "%matplotlib inline"
   ]
  },
  {
   "cell_type": "code",
   "execution_count": 56,
   "metadata": {
    "ExecuteTime": {
     "end_time": "2018-01-30T08:35:57.806006Z",
     "start_time": "2018-01-30T08:35:57.638486Z"
    }
   },
   "outputs": [],
   "source": [
    "documents = pickle.load(open('documents.pl','rb'))\n",
    "tags = pickle.load(open('tags.pl','rb'))"
   ]
  },
  {
   "cell_type": "code",
   "execution_count": 58,
   "metadata": {
    "ExecuteTime": {
     "end_time": "2018-01-30T08:36:07.289610Z",
     "start_time": "2018-01-30T08:36:07.278578Z"
    }
   },
   "outputs": [
    {
     "data": {
      "text/plain": [
       "'Prio-Fall'"
      ]
     },
     "execution_count": 58,
     "metadata": {},
     "output_type": "execute_result"
    }
   ],
   "source": [
    "tags[-1]"
   ]
  },
  {
   "cell_type": "markdown",
   "metadata": {},
   "source": [
    "# FEATURES"
   ]
  },
  {
   "cell_type": "code",
   "execution_count": 49,
   "metadata": {
    "ExecuteTime": {
     "end_time": "2018-01-30T08:27:33.075858Z",
     "start_time": "2018-01-30T08:27:13.093908Z"
    }
   },
   "outputs": [],
   "source": [
    "# bag of words\n",
    "from sklearn.feature_extraction.text import CountVectorizer\n",
    "from sklearn.feature_extraction.text import TfidfTransformer\n",
    "\n",
    "BoW = CountVectorizer(documents, strip_accents='unicode', ngram_range=(1,3), min_df=3)\n",
    "X_bag = BoW.fit_transform(documents)\n",
    "TFIDF = TfidfTransformer()\n",
    "tf_transformer = TFIDF.fit(X_bag)\n",
    "X_bag = tf_transformer.fit_transform(X_bag)"
   ]
  },
  {
   "cell_type": "code",
   "execution_count": 4,
   "metadata": {
    "ExecuteTime": {
     "end_time": "2018-01-30T02:27:27.035182Z",
     "start_time": "2018-01-30T02:27:27.005048Z"
    }
   },
   "outputs": [],
   "source": [
    "Y = np.array(np.array(tags)=='Prio-Fall', dtype=int)"
   ]
  },
  {
   "cell_type": "code",
   "execution_count": 5,
   "metadata": {
    "ExecuteTime": {
     "end_time": "2018-01-30T02:27:27.074704Z",
     "start_time": "2018-01-30T02:27:27.039100Z"
    }
   },
   "outputs": [
    {
     "data": {
      "text/plain": [
       "0.1450676982591876"
      ]
     },
     "execution_count": 5,
     "metadata": {},
     "output_type": "execute_result"
    }
   ],
   "source": [
    "sum(Y)/len(Y)"
   ]
  },
  {
   "cell_type": "code",
   "execution_count": 6,
   "metadata": {
    "ExecuteTime": {
     "end_time": "2018-01-30T02:27:27.396394Z",
     "start_time": "2018-01-30T02:27:27.078515Z"
    }
   },
   "outputs": [],
   "source": [
    "from imblearn.over_sampling import RandomOverSampler\n",
    "from collections import Counter"
   ]
  },
  {
   "cell_type": "markdown",
   "metadata": {},
   "source": [
    "# CLASSIFIERS"
   ]
  },
  {
   "cell_type": "code",
   "execution_count": 7,
   "metadata": {
    "ExecuteTime": {
     "end_time": "2018-01-30T02:27:27.735737Z",
     "start_time": "2018-01-30T02:27:27.402317Z"
    }
   },
   "outputs": [
    {
     "name": "stderr",
     "output_type": "stream",
     "text": [
      "/usr/local/lib/python3.6/site-packages/sklearn/cross_validation.py:41: DeprecationWarning: This module was deprecated in version 0.18 in favor of the model_selection module into which all the refactored classes and functions are moved. Also note that the interface of the new CV iterators are different from that of this module. This module will be removed in 0.20.\n",
      "  \"This module will be removed in 0.20.\", DeprecationWarning)\n"
     ]
    }
   ],
   "source": [
    "import xgboost as xgb\n",
    "# Code for cross-validation\n",
    "from sklearn.cross_validation import train_test_split\n",
    "from sklearn.cross_validation import StratifiedKFold"
   ]
  },
  {
   "cell_type": "code",
   "execution_count": 8,
   "metadata": {
    "ExecuteTime": {
     "end_time": "2018-01-30T02:27:27.743949Z",
     "start_time": "2018-01-30T02:27:27.739485Z"
    }
   },
   "outputs": [],
   "source": [
    "from sklearn.metrics import accuracy_score, confusion_matrix, f1_score"
   ]
  },
  {
   "cell_type": "markdown",
   "metadata": {},
   "source": [
    "## XG BOOST"
   ]
  },
  {
   "cell_type": "code",
   "execution_count": 51,
   "metadata": {
    "ExecuteTime": {
     "end_time": "2018-01-30T08:27:39.728600Z",
     "start_time": "2018-01-30T08:27:39.710862Z"
    }
   },
   "outputs": [],
   "source": [
    "# TEST\n",
    "X_bag = BoW.transform(documents)\n",
    "X_bag = tf_transformer.transform(X_bag)"
   ]
  },
  {
   "cell_type": "code",
   "execution_count": 52,
   "metadata": {
    "ExecuteTime": {
     "end_time": "2018-01-30T08:29:07.694681Z",
     "start_time": "2018-01-30T08:29:07.178470Z"
    }
   },
   "outputs": [],
   "source": [
    "D_test = xgb.DMatrix(X_bag)\n",
    "predictions = models[1].predict(D_test)"
   ]
  },
  {
   "cell_type": "code",
   "execution_count": 54,
   "metadata": {
    "ExecuteTime": {
     "end_time": "2018-01-30T08:29:17.539548Z",
     "start_time": "2018-01-30T08:29:17.534026Z"
    }
   },
   "outputs": [
    {
     "data": {
      "text/plain": [
       "array([0., 0., 0., 1., 0., 0., 0., 0., 0., 0., 0., 0., 0., 0., 0., 1., 1.,\n",
       "       1., 0., 0., 1., 1., 0., 0., 1., 0., 0., 0., 0., 0., 0., 0., 0., 0.,\n",
       "       1., 0., 0., 0., 0., 1., 0., 0., 0., 1., 1., 0., 0., 0., 0., 0., 0.,\n",
       "       1., 0., 0., 0., 0., 1., 0., 0., 0., 0., 0., 0., 0., 0., 0., 0., 1.,\n",
       "       1., 0., 0., 0., 0., 0., 0., 0., 0., 1., 0., 0., 0., 0., 0., 0., 0.,\n",
       "       0., 1., 0., 0., 0., 0., 0., 0., 0., 1., 0., 0., 0., 0.],\n",
       "      dtype=float32)"
      ]
     },
     "execution_count": 54,
     "metadata": {},
     "output_type": "execute_result"
    }
   ],
   "source": [
    "predictions.round()"
   ]
  },
  {
   "cell_type": "code",
   "execution_count": 12,
   "metadata": {
    "ExecuteTime": {
     "end_time": "2018-01-30T03:01:59.569772Z",
     "start_time": "2018-01-30T03:01:59.549398Z"
    }
   },
   "outputs": [],
   "source": [
    "# Set our parameters for xgboost\n",
    "params = {}\n",
    "params['objective'] = 'binary:logistic'\n",
    "params['eval_metric'] = 'logloss'\n",
    "params['eta'] = 0.07\n",
    "params['max_depth'] = 30\n",
    "params['min_child_weight'] = 5\n",
    "params['lambda'] = 1\n",
    "params['nthread'] = 4"
   ]
  },
  {
   "cell_type": "code",
   "execution_count": 13,
   "metadata": {
    "ExecuteTime": {
     "end_time": "2018-01-30T04:05:59.140549Z",
     "start_time": "2018-01-30T03:02:01.736401Z"
    },
    "scrolled": false
   },
   "outputs": [
    {
     "name": "stdout",
     "output_type": "stream",
     "text": [
      "(124348, 321767) (36363, 321767) (124348,) (36363,)\n",
      "[0]\ttrain-logloss:0.671831\tvalid-logloss:0.675022\n",
      "Multiple eval metrics have been passed: 'valid-logloss' will be used for early stopping.\n",
      "\n",
      "Will train until valid-logloss hasn't improved in 50 rounds.\n",
      "[10]\ttrain-logloss:0.544939\tvalid-logloss:0.568291\n",
      "[20]\ttrain-logloss:0.486976\tvalid-logloss:0.522635\n",
      "[30]\ttrain-logloss:0.454343\tvalid-logloss:0.498988\n",
      "[40]\ttrain-logloss:0.433313\tvalid-logloss:0.485221\n",
      "[50]\ttrain-logloss:0.420028\tvalid-logloss:0.476748\n",
      "[60]\ttrain-logloss:0.41051\tvalid-logloss:0.470725\n",
      "[70]\ttrain-logloss:0.402963\tvalid-logloss:0.466284\n",
      "[80]\ttrain-logloss:0.396722\tvalid-logloss:0.462662\n",
      "[90]\ttrain-logloss:0.391053\tvalid-logloss:0.459482\n",
      "[100]\ttrain-logloss:0.385243\tvalid-logloss:0.456073\n",
      "[110]\ttrain-logloss:0.380326\tvalid-logloss:0.453364\n",
      "[120]\ttrain-logloss:0.376123\tvalid-logloss:0.451137\n",
      "[130]\ttrain-logloss:0.371796\tvalid-logloss:0.448743\n",
      "[140]\ttrain-logloss:0.366935\tvalid-logloss:0.445959\n",
      "[150]\ttrain-logloss:0.363093\tvalid-logloss:0.443882\n",
      "[160]\ttrain-logloss:0.359058\tvalid-logloss:0.44166\n",
      "[170]\ttrain-logloss:0.355849\tvalid-logloss:0.439921\n",
      "[180]\ttrain-logloss:0.352676\tvalid-logloss:0.438269\n",
      "[190]\ttrain-logloss:0.348806\tvalid-logloss:0.436257\n",
      "[200]\ttrain-logloss:0.345687\tvalid-logloss:0.434553\n",
      "[210]\ttrain-logloss:0.342496\tvalid-logloss:0.432865\n",
      "[220]\ttrain-logloss:0.339629\tvalid-logloss:0.431512\n",
      "[230]\ttrain-logloss:0.336334\tvalid-logloss:0.429697\n",
      "[240]\ttrain-logloss:0.333476\tvalid-logloss:0.428148\n",
      "[250]\ttrain-logloss:0.330796\tvalid-logloss:0.426868\n",
      "[260]\ttrain-logloss:0.328211\tvalid-logloss:0.425588\n",
      "[270]\ttrain-logloss:0.325622\tvalid-logloss:0.424301\n",
      "[280]\ttrain-logloss:0.322942\tvalid-logloss:0.422798\n",
      "[290]\ttrain-logloss:0.320682\tvalid-logloss:0.421678\n",
      "[300]\ttrain-logloss:0.318311\tvalid-logloss:0.420516\n",
      "[310]\ttrain-logloss:0.315853\tvalid-logloss:0.419142\n",
      "[320]\ttrain-logloss:0.313632\tvalid-logloss:0.418025\n",
      "[330]\ttrain-logloss:0.311422\tvalid-logloss:0.41697\n",
      "[340]\ttrain-logloss:0.308674\tvalid-logloss:0.415652\n",
      "[350]\ttrain-logloss:0.306712\tvalid-logloss:0.414767\n",
      "[360]\ttrain-logloss:0.304417\tvalid-logloss:0.41361\n",
      "[370]\ttrain-logloss:0.302088\tvalid-logloss:0.412394\n",
      "[380]\ttrain-logloss:0.300002\tvalid-logloss:0.411423\n",
      "[390]\ttrain-logloss:0.298155\tvalid-logloss:0.410559\n",
      "[399]\ttrain-logloss:0.296325\tvalid-logloss:0.409611\n",
      "f1 score: 0.5060221220811143\n",
      "accuracy: 0.8341995984929736\\%\n",
      "Prio accuracy: 0.5854028436018958\n",
      "[[27246  3842]\n",
      " [ 2187  3088]]\n",
      "(124350, 321767) (36362, 321767) (124350,) (36362,)\n",
      "[0]\ttrain-logloss:0.671962\tvalid-logloss:0.67519\n",
      "Multiple eval metrics have been passed: 'valid-logloss' will be used for early stopping.\n",
      "\n",
      "Will train until valid-logloss hasn't improved in 50 rounds.\n",
      "[10]\ttrain-logloss:0.546847\tvalid-logloss:0.571499\n",
      "[20]\ttrain-logloss:0.488561\tvalid-logloss:0.52658\n",
      "[30]\ttrain-logloss:0.45443\tvalid-logloss:0.50235\n",
      "[40]\ttrain-logloss:0.433251\tvalid-logloss:0.488285\n",
      "[50]\ttrain-logloss:0.418324\tvalid-logloss:0.47913\n",
      "[60]\ttrain-logloss:0.407832\tvalid-logloss:0.472976\n",
      "[70]\ttrain-logloss:0.40032\tvalid-logloss:0.468856\n",
      "[80]\ttrain-logloss:0.393653\tvalid-logloss:0.464956\n",
      "[90]\ttrain-logloss:0.38808\tvalid-logloss:0.461861\n",
      "[100]\ttrain-logloss:0.382898\tvalid-logloss:0.459052\n",
      "[110]\ttrain-logloss:0.377885\tvalid-logloss:0.456262\n",
      "[120]\ttrain-logloss:0.373269\tvalid-logloss:0.45353\n",
      "[130]\ttrain-logloss:0.368874\tvalid-logloss:0.451091\n",
      "[140]\ttrain-logloss:0.363858\tvalid-logloss:0.448104\n",
      "[150]\ttrain-logloss:0.360291\tvalid-logloss:0.446217\n",
      "[160]\ttrain-logloss:0.356448\tvalid-logloss:0.444204\n",
      "[170]\ttrain-logloss:0.353155\tvalid-logloss:0.442352\n",
      "[180]\ttrain-logloss:0.349717\tvalid-logloss:0.440578\n",
      "[190]\ttrain-logloss:0.346123\tvalid-logloss:0.438692\n",
      "[200]\ttrain-logloss:0.343297\tvalid-logloss:0.43724\n",
      "[210]\ttrain-logloss:0.340021\tvalid-logloss:0.435507\n",
      "[220]\ttrain-logloss:0.337129\tvalid-logloss:0.434043\n",
      "[230]\ttrain-logloss:0.33396\tvalid-logloss:0.432448\n",
      "[240]\ttrain-logloss:0.331088\tvalid-logloss:0.430984\n",
      "[250]\ttrain-logloss:0.328277\tvalid-logloss:0.42939\n",
      "[260]\ttrain-logloss:0.325389\tvalid-logloss:0.428001\n",
      "[270]\ttrain-logloss:0.323025\tvalid-logloss:0.426871\n",
      "[280]\ttrain-logloss:0.320583\tvalid-logloss:0.425755\n",
      "[290]\ttrain-logloss:0.318289\tvalid-logloss:0.424456\n",
      "[300]\ttrain-logloss:0.315983\tvalid-logloss:0.423131\n",
      "[310]\ttrain-logloss:0.31361\tvalid-logloss:0.422017\n",
      "[320]\ttrain-logloss:0.31086\tvalid-logloss:0.420657\n",
      "[330]\ttrain-logloss:0.30872\tvalid-logloss:0.419627\n",
      "[340]\ttrain-logloss:0.306484\tvalid-logloss:0.418502\n",
      "[350]\ttrain-logloss:0.304372\tvalid-logloss:0.417422\n",
      "[360]\ttrain-logloss:0.301996\tvalid-logloss:0.416356\n",
      "[370]\ttrain-logloss:0.300036\tvalid-logloss:0.415466\n",
      "[380]\ttrain-logloss:0.298122\tvalid-logloss:0.41461\n",
      "[390]\ttrain-logloss:0.296043\tvalid-logloss:0.413666\n",
      "[399]\ttrain-logloss:0.294367\tvalid-logloss:0.412827\n",
      "f1 score: 0.5066323659458156\n",
      "accuracy: 0.8312249051207304\\%\n",
      "Prio accuracy: 0.5973459715639811\n",
      "[[27074  4013]\n",
      " [ 2124  3151]]\n",
      "(124350, 321767) (36362, 321767) (124350,) (36362,)\n",
      "[0]\ttrain-logloss:0.672068\tvalid-logloss:0.675199\n",
      "Multiple eval metrics have been passed: 'valid-logloss' will be used for early stopping.\n",
      "\n",
      "Will train until valid-logloss hasn't improved in 50 rounds.\n",
      "[10]\ttrain-logloss:0.547433\tvalid-logloss:0.573818\n",
      "[20]\ttrain-logloss:0.488775\tvalid-logloss:0.529097\n",
      "[30]\ttrain-logloss:0.4565\tvalid-logloss:0.506557\n",
      "[40]\ttrain-logloss:0.435333\tvalid-logloss:0.492724\n",
      "[50]\ttrain-logloss:0.420942\tvalid-logloss:0.483595\n",
      "[60]\ttrain-logloss:0.411409\tvalid-logloss:0.477904\n",
      "[70]\ttrain-logloss:0.40342\tvalid-logloss:0.473335\n",
      "[80]\ttrain-logloss:0.396295\tvalid-logloss:0.469295\n",
      "[90]\ttrain-logloss:0.390486\tvalid-logloss:0.465959\n",
      "[100]\ttrain-logloss:0.38524\tvalid-logloss:0.463006\n",
      "[110]\ttrain-logloss:0.380624\tvalid-logloss:0.46062\n",
      "[120]\ttrain-logloss:0.37637\tvalid-logloss:0.458228\n",
      "[130]\ttrain-logloss:0.371962\tvalid-logloss:0.455721\n",
      "[140]\ttrain-logloss:0.36795\tvalid-logloss:0.453501\n",
      "[150]\ttrain-logloss:0.363763\tvalid-logloss:0.451243\n",
      "[160]\ttrain-logloss:0.359841\tvalid-logloss:0.449108\n",
      "[170]\ttrain-logloss:0.356416\tvalid-logloss:0.447333\n",
      "[180]\ttrain-logloss:0.352986\tvalid-logloss:0.445536\n",
      "[190]\ttrain-logloss:0.349642\tvalid-logloss:0.443861\n",
      "[200]\ttrain-logloss:0.346274\tvalid-logloss:0.442279\n",
      "[210]\ttrain-logloss:0.342817\tvalid-logloss:0.440485\n",
      "[220]\ttrain-logloss:0.33972\tvalid-logloss:0.438943\n",
      "[230]\ttrain-logloss:0.336854\tvalid-logloss:0.437539\n",
      "[240]\ttrain-logloss:0.334159\tvalid-logloss:0.436307\n",
      "[250]\ttrain-logloss:0.331288\tvalid-logloss:0.434953\n",
      "[260]\ttrain-logloss:0.328763\tvalid-logloss:0.433775\n",
      "[270]\ttrain-logloss:0.325711\tvalid-logloss:0.432141\n",
      "[280]\ttrain-logloss:0.323161\tvalid-logloss:0.430935\n",
      "[290]\ttrain-logloss:0.32008\tvalid-logloss:0.429631\n",
      "[300]\ttrain-logloss:0.317513\tvalid-logloss:0.428377\n",
      "[310]\ttrain-logloss:0.315057\tvalid-logloss:0.427179\n",
      "[320]\ttrain-logloss:0.312563\tvalid-logloss:0.425972\n",
      "[330]\ttrain-logloss:0.310094\tvalid-logloss:0.424816\n",
      "[340]\ttrain-logloss:0.307873\tvalid-logloss:0.42375\n",
      "[350]\ttrain-logloss:0.305744\tvalid-logloss:0.422722\n",
      "[360]\ttrain-logloss:0.30361\tvalid-logloss:0.421826\n",
      "[370]\ttrain-logloss:0.301319\tvalid-logloss:0.420783\n",
      "[380]\ttrain-logloss:0.299097\tvalid-logloss:0.419671\n",
      "[390]\ttrain-logloss:0.297196\tvalid-logloss:0.418943\n",
      "[399]\ttrain-logloss:0.295256\tvalid-logloss:0.418078\n",
      "f1 score: 0.4885113268608414\n",
      "accuracy: 0.8261371761729278\\%\n",
      "Prio accuracy: 0.5723222748815165\n",
      "[[27021  4066]\n",
      " [ 2256  3019]]\n"
     ]
    }
   ],
   "source": [
    "# Create 2 folds\n",
    "k = 3\n",
    "kfold = StratifiedKFold(Y, k, shuffle=True, random_state=0)\n",
    "\n",
    "results = np.zeros((k,3))\n",
    "models = []\n",
    "\n",
    "# iterate over two folds\n",
    "for i, (train_ind, test_ind) in enumerate(kfold):\n",
    "    X_train, X_val, Y_train, Y_val = X_bag[train_ind], X_bag[test_ind], Y[train_ind], Y[test_ind]\n",
    "    \n",
    "    ros = RandomOverSampler(random_state=0)\n",
    "    X_resampled, Y_resampled = ros.fit_sample(X_train, Y_train)\n",
    "    print(X_resampled.shape, X_val.shape, Y_resampled.shape, Y_val.shape)\n",
    "    \n",
    "    D_train = xgb.DMatrix(X_resampled, label=Y_resampled)\n",
    "    D_val = xgb.DMatrix(X_val, label=Y_val)\n",
    "\n",
    "    watchlist = [(D_train, 'train'), (D_val, 'valid')]\n",
    "    models.append(xgb.train(params, D_train, 400, watchlist, early_stopping_rounds=50, verbose_eval=10))\n",
    "    predictions = models[-1].predict(data=D_val).round()\n",
    "    f1 = f1_score(Y_val, predictions)\n",
    "    acc = accuracy_score(Y_val, predictions)\n",
    "    prio_acc = accuracy_score(Y_val[Y_val==1], predictions[Y_val==1])\n",
    "    results[i] = [f1, acc, prio_acc]\n",
    "    print('f1 score: {}'.format(f1))\n",
    "    print('accuracy: {}\\%'.format(acc))\n",
    "    print('Prio accuracy: {}'.format(prio_acc))\n",
    "    print(confusion_matrix(Y_val, predictions))"
   ]
  },
  {
   "cell_type": "code",
   "execution_count": 14,
   "metadata": {
    "ExecuteTime": {
     "end_time": "2018-01-30T04:06:03.992376Z",
     "start_time": "2018-01-30T04:06:03.982063Z"
    }
   },
   "outputs": [
    {
     "data": {
      "text/plain": [
       "(array([0.5004, 0.8305, 0.585 ]), array([0.0001, 0.    , 0.0001]))"
      ]
     },
     "execution_count": 14,
     "metadata": {},
     "output_type": "execute_result"
    }
   ],
   "source": [
    "np.mean(results,0), np.var(results,0)"
   ]
  },
  {
   "cell_type": "markdown",
   "metadata": {},
   "source": [
    "## SVC for challenge 1A"
   ]
  },
  {
   "cell_type": "code",
   "execution_count": 17,
   "metadata": {
    "ExecuteTime": {
     "end_time": "2018-01-30T05:07:39.116510Z",
     "start_time": "2018-01-30T05:07:39.043623Z"
    }
   },
   "outputs": [],
   "source": [
    "from sklearn.svm import LinearSVC"
   ]
  },
  {
   "cell_type": "code",
   "execution_count": 23,
   "metadata": {
    "ExecuteTime": {
     "end_time": "2018-01-30T06:59:20.193363Z",
     "start_time": "2018-01-30T06:58:57.541489Z"
    },
    "collapsed": true
   },
   "outputs": [
    {
     "ename": "ValueError",
     "evalue": "X has 321767 features per sample; expecting 183871",
     "output_type": "error",
     "traceback": [
      "\u001b[0;31m---------------------------------------------------------------------------\u001b[0m",
      "\u001b[0;31mValueError\u001b[0m                                Traceback (most recent call last)",
      "\u001b[0;32m<ipython-input-23-793724d9f676>\u001b[0m in \u001b[0;36m<module>\u001b[0;34m()\u001b[0m\n\u001b[1;32m     25\u001b[0m     \u001b[0mmodel\u001b[0m\u001b[0;34m.\u001b[0m\u001b[0mfit\u001b[0m\u001b[0;34m(\u001b[0m\u001b[0mtrain_tfidf\u001b[0m\u001b[0;34m,\u001b[0m \u001b[0mtrainLabel\u001b[0m\u001b[0;34m)\u001b[0m\u001b[0;34m\u001b[0m\u001b[0m\n\u001b[1;32m     26\u001b[0m \u001b[0;34m\u001b[0m\u001b[0m\n\u001b[0;32m---> 27\u001b[0;31m     \u001b[0mpredictions\u001b[0m \u001b[0;34m=\u001b[0m \u001b[0mmodel\u001b[0m\u001b[0;34m.\u001b[0m\u001b[0mpredict\u001b[0m\u001b[0;34m(\u001b[0m\u001b[0mX_val\u001b[0m\u001b[0;34m)\u001b[0m\u001b[0;34m.\u001b[0m\u001b[0mround\u001b[0m\u001b[0;34m(\u001b[0m\u001b[0;34m)\u001b[0m\u001b[0;34m\u001b[0m\u001b[0m\n\u001b[0m\u001b[1;32m     28\u001b[0m     \u001b[0mf1\u001b[0m \u001b[0;34m=\u001b[0m \u001b[0mf1_score\u001b[0m\u001b[0;34m(\u001b[0m\u001b[0mY_val\u001b[0m\u001b[0;34m,\u001b[0m \u001b[0mpredictions\u001b[0m\u001b[0;34m)\u001b[0m\u001b[0;34m\u001b[0m\u001b[0m\n\u001b[1;32m     29\u001b[0m     \u001b[0macc\u001b[0m \u001b[0;34m=\u001b[0m \u001b[0maccuracy_score\u001b[0m\u001b[0;34m(\u001b[0m\u001b[0mY_val\u001b[0m\u001b[0;34m,\u001b[0m \u001b[0mpredictions\u001b[0m\u001b[0;34m)\u001b[0m\u001b[0;34m\u001b[0m\u001b[0m\n",
      "\u001b[0;32m/usr/local/lib/python3.6/site-packages/sklearn/linear_model/base.py\u001b[0m in \u001b[0;36mpredict\u001b[0;34m(self, X)\u001b[0m\n\u001b[1;32m    322\u001b[0m             \u001b[0mPredicted\u001b[0m \u001b[0;32mclass\u001b[0m \u001b[0mlabel\u001b[0m \u001b[0mper\u001b[0m \u001b[0msample\u001b[0m\u001b[0;34m.\u001b[0m\u001b[0;34m\u001b[0m\u001b[0m\n\u001b[1;32m    323\u001b[0m         \"\"\"\n\u001b[0;32m--> 324\u001b[0;31m         \u001b[0mscores\u001b[0m \u001b[0;34m=\u001b[0m \u001b[0mself\u001b[0m\u001b[0;34m.\u001b[0m\u001b[0mdecision_function\u001b[0m\u001b[0;34m(\u001b[0m\u001b[0mX\u001b[0m\u001b[0;34m)\u001b[0m\u001b[0;34m\u001b[0m\u001b[0m\n\u001b[0m\u001b[1;32m    325\u001b[0m         \u001b[0;32mif\u001b[0m \u001b[0mlen\u001b[0m\u001b[0;34m(\u001b[0m\u001b[0mscores\u001b[0m\u001b[0;34m.\u001b[0m\u001b[0mshape\u001b[0m\u001b[0;34m)\u001b[0m \u001b[0;34m==\u001b[0m \u001b[0;36m1\u001b[0m\u001b[0;34m:\u001b[0m\u001b[0;34m\u001b[0m\u001b[0m\n\u001b[1;32m    326\u001b[0m             \u001b[0mindices\u001b[0m \u001b[0;34m=\u001b[0m \u001b[0;34m(\u001b[0m\u001b[0mscores\u001b[0m \u001b[0;34m>\u001b[0m \u001b[0;36m0\u001b[0m\u001b[0;34m)\u001b[0m\u001b[0;34m.\u001b[0m\u001b[0mastype\u001b[0m\u001b[0;34m(\u001b[0m\u001b[0mnp\u001b[0m\u001b[0;34m.\u001b[0m\u001b[0mint\u001b[0m\u001b[0;34m)\u001b[0m\u001b[0;34m\u001b[0m\u001b[0m\n",
      "\u001b[0;32m/usr/local/lib/python3.6/site-packages/sklearn/linear_model/base.py\u001b[0m in \u001b[0;36mdecision_function\u001b[0;34m(self, X)\u001b[0m\n\u001b[1;32m    303\u001b[0m         \u001b[0;32mif\u001b[0m \u001b[0mX\u001b[0m\u001b[0;34m.\u001b[0m\u001b[0mshape\u001b[0m\u001b[0;34m[\u001b[0m\u001b[0;36m1\u001b[0m\u001b[0;34m]\u001b[0m \u001b[0;34m!=\u001b[0m \u001b[0mn_features\u001b[0m\u001b[0;34m:\u001b[0m\u001b[0;34m\u001b[0m\u001b[0m\n\u001b[1;32m    304\u001b[0m             raise ValueError(\"X has %d features per sample; expecting %d\"\n\u001b[0;32m--> 305\u001b[0;31m                              % (X.shape[1], n_features))\n\u001b[0m\u001b[1;32m    306\u001b[0m \u001b[0;34m\u001b[0m\u001b[0m\n\u001b[1;32m    307\u001b[0m         scores = safe_sparse_dot(X, self.coef_.T,\n",
      "\u001b[0;31mValueError\u001b[0m: X has 321767 features per sample; expecting 183871"
     ]
    }
   ],
   "source": [
    "k = 3\n",
    "kfold = StratifiedKFold(Y, k, shuffle=True, random_state=0)\n",
    "\n",
    "results_svc = np.zeros((k,3))\n",
    "cv = CountVectorizer(min_df = 3, max_df = 10000, ngram_range=(1, 3), lowercase =True)\n",
    "tfidfTransform = TfidfTransformer()\n",
    "\n",
    "# iterate over two folds\n",
    "compareScores = 0\n",
    "finalSVCModel = None\n",
    "for i, (train_ind, test_ind) in enumerate(kfold):\n",
    "    model = LinearSVC(dual=False,tol=1e-3, class_weight = 'balanced') \n",
    "    \n",
    "    trainContent = list( documents[i] for i in train_ind )\n",
    "    train_counts = cv.fit_transform(trainContent)\n",
    "    \n",
    "    train_tfidf = tfidfTransform.fit_transform(train_counts)\n",
    "    \n",
    "    testContent = list(documents[i] for i in test_ind)\n",
    "    test_counts = cv.transform(testContent)\n",
    "    \n",
    "    test_tfidf = tfidfTransform.transform(test_counts)\n",
    "    \n",
    "    trainLabel = list( Y[i] for i in train_ind )\n",
    "    model.fit(train_tfidf, trainLabel)\n",
    "    \n",
    "    predictions = model.predict(X_val).round()\n",
    "    f1 = f1_score(Y_val, predictions)\n",
    "    acc = accuracy_score(Y_val, predictions)\n",
    "    prio_acc = accuracy_score(Y_val[Y_val==1], predictions[Y_val==1])\n",
    "    results_svc[i] = [f1, acc, prio_acc]\n",
    "    print('f1 score: {}'.format(f1))\n",
    "    print('accuracy: {}\\%'.format(acc))\n",
    "    print('Prio accuracy: {}'.format(prio_acc))\n",
    "    print(confusion_matrix(Y_val, predictions))\n",
    "    \n",
    "    if(prio_acc > compareScores):\n",
    "        compareScores = prio_acc\n",
    "        finalSVCModel = model"
   ]
  },
  {
   "cell_type": "code",
   "execution_count": 20,
   "metadata": {
    "ExecuteTime": {
     "end_time": "2018-01-30T05:24:36.087309Z",
     "start_time": "2018-01-30T05:24:36.032605Z"
    }
   },
   "outputs": [
    {
     "data": {
      "text/plain": [
       "(array([0.4885, 0.8261, 0.5723]), array([0., 0., 0.]))"
      ]
     },
     "execution_count": 20,
     "metadata": {},
     "output_type": "execute_result"
    }
   ],
   "source": [
    "np.mean(results_svc,0), np.var(results_svc,0)"
   ]
  },
  {
   "cell_type": "code",
   "execution_count": null,
   "metadata": {},
   "outputs": [],
   "source": []
  }
 ],
 "metadata": {
  "kernelspec": {
   "display_name": "Python 3",
   "language": "python",
   "name": "python3"
  },
  "language_info": {
   "codemirror_mode": {
    "name": "ipython",
    "version": 3
   },
   "file_extension": ".py",
   "mimetype": "text/x-python",
   "name": "python",
   "nbconvert_exporter": "python",
   "pygments_lexer": "ipython3",
   "version": "3.6.3"
  },
  "notify_time": "0"
 },
 "nbformat": 4,
 "nbformat_minor": 2
}
