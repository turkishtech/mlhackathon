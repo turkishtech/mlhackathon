{
 "cells": [
  {
   "cell_type": "code",
   "execution_count": 25,
   "metadata": {
    "ExecuteTime": {
     "end_time": "2018-01-30T01:33:46.506137Z",
     "start_time": "2018-01-30T01:33:46.487337Z"
    }
   },
   "outputs": [],
   "source": [
    "import numpy as np\n",
    "import pickle\n",
    "np.set_printoptions(precision=4,suppress=True)\n",
    "import matplotlib as mpl\n",
    "import matplotlib.pyplot as plt\n",
    "%matplotlib inline"
   ]
  },
  {
   "cell_type": "code",
   "execution_count": 26,
   "metadata": {
    "ExecuteTime": {
     "end_time": "2018-01-30T01:33:47.121719Z",
     "start_time": "2018-01-30T01:33:46.932556Z"
    }
   },
   "outputs": [],
   "source": [
    "documents = pickle.load(open('documents.pl','rb'))[:1000]\n",
    "tags = pickle.load(open('tags.pl','rb'))[:1000]\n",
    "labels = pickle.load(open('labels.pl','rb'))[:1000]"
   ]
  },
  {
   "cell_type": "markdown",
   "metadata": {},
   "source": [
    "# FEATURES"
   ]
  },
  {
   "cell_type": "code",
   "execution_count": 27,
   "metadata": {
    "ExecuteTime": {
     "end_time": "2018-01-30T01:33:48.047567Z",
     "start_time": "2018-01-30T01:33:48.044235Z"
    }
   },
   "outputs": [],
   "source": [
    "import spacy\n",
    "import keras"
   ]
  },
  {
   "cell_type": "code",
   "execution_count": 29,
   "metadata": {
    "ExecuteTime": {
     "end_time": "2018-01-30T01:34:40.728252Z",
     "start_time": "2018-01-30T01:34:09.234134Z"
    }
   },
   "outputs": [
    {
     "data": {
      "text/plain": [
       "<spacy.vocab.Vocab at 0x12f631248>"
      ]
     },
     "execution_count": 29,
     "metadata": {},
     "output_type": "execute_result"
    }
   ],
   "source": [
    "nlp = spacy.load('de')\n",
    "# FastText\n",
    "nlp.vocab.from_disk('/Users/oguzserbetci/.local/share/virtualenvs/mlhackathon--icYboxr/lib/python3.6/site-packages/spacy/data/de-fast/vocab/')"
   ]
  },
  {
   "cell_type": "code",
   "execution_count": 30,
   "metadata": {
    "ExecuteTime": {
     "end_time": "2018-01-30T01:35:11.564068Z",
     "start_time": "2018-01-30T01:34:40.835852Z"
    }
   },
   "outputs": [],
   "source": [
    "docs = [[tok.vector for tok in nlp(document)] for document in documents]\n",
    "docs = np.array(docs)"
   ]
  },
  {
   "cell_type": "code",
   "execution_count": 37,
   "metadata": {
    "ExecuteTime": {
     "end_time": "2018-01-30T01:36:02.585709Z",
     "start_time": "2018-01-30T01:36:02.565411Z"
    }
   },
   "outputs": [
    {
     "data": {
      "text/plain": [
       "array([-0.119 , -0.0328, -0.2378,  0.1706, -0.2219,  0.092 , -0.7   ,\n",
       "       -0.1201,  0.5505,  0.4706, -0.0538, -0.2432, -0.0371, -0.0529,\n",
       "       -0.5739,  0.0293, -0.0719, -0.1114, -0.6196, -0.2961,  0.6649,\n",
       "        0.4769, -0.0018, -0.1757, -0.0676, -0.4982, -0.0188,  0.2169,\n",
       "       -0.1715, -0.2993,  0.5301,  0.0784,  0.1276, -0.2313, -0.227 ,\n",
       "       -0.1562,  0.2866,  0.4701,  0.108 ,  0.0181,  0.401 , -0.147 ,\n",
       "       -0.0786, -0.1445,  0.169 , -0.14  , -0.0652, -0.4676, -0.2353,\n",
       "       -0.166 ,  0.1309,  0.3498,  0.2842,  0.0272,  0.1394, -0.3507,\n",
       "       -0.176 ,  0.0944,  0.1464, -0.3408,  0.2305,  0.3354, -0.0541,\n",
       "       -0.2709, -0.4125,  0.4232, -0.132 , -0.1587,  0.0677,  0.1926,\n",
       "       -0.1195, -0.2901, -0.1141,  0.445 , -0.2425, -0.2975,  0.1088,\n",
       "       -0.0694, -0.1729,  0.4553,  0.1636, -0.65  , -0.0381,  0.0194,\n",
       "       -0.2564, -0.1079,  0.1931,  0.1039, -0.6595, -0.2412, -0.3128,\n",
       "        0.0627, -0.4009,  0.1297, -0.0957,  0.3742,  0.2748,  0.6883,\n",
       "       -0.5009, -0.1036, -0.0236,  0.0483, -0.1907,  0.4733,  0.0359,\n",
       "       -0.2109, -0.0861,  0.0852, -0.1557,  0.3634, -0.1393, -0.1233,\n",
       "        0.1927,  0.2344,  0.0628,  0.1217, -0.035 ,  0.1303, -0.1699,\n",
       "        0.1011,  0.2507, -0.2951,  0.4417, -0.2307, -0.3314,  0.3658,\n",
       "        0.0701,  0.1027, -0.219 ,  0.0369,  0.1899,  0.1728,  0.068 ,\n",
       "        0.0764,  0.2745, -0.2375, -0.0844,  0.1417, -0.1438, -0.2026,\n",
       "       -0.2375, -0.0156,  0.2017,  0.4205,  0.4273, -0.4277,  0.3149,\n",
       "        0.2199,  0.1608,  0.2313,  0.5138, -0.3036, -0.1526,  0.0276,\n",
       "        0.1183, -0.3168, -0.0085,  0.0626,  0.3307,  0.1795, -0.1359,\n",
       "        0.3734,  0.0094,  0.164 ,  0.0445, -0.2958, -0.4191, -0.2405,\n",
       "       -0.5039, -0.1582, -0.269 , -0.3764,  0.3563,  0.0252, -0.2462,\n",
       "       -0.0851,  0.4426, -0.0285, -0.0059, -0.1074,  0.1727,  0.2369,\n",
       "       -0.3268,  0.1385,  0.3776,  0.457 ,  0.0875,  0.1397, -0.0692,\n",
       "       -0.1016, -0.0403,  0.0774,  0.4961, -0.0891, -0.0448, -0.0752,\n",
       "        0.191 ,  0.1512, -0.3098,  0.0648, -0.3554,  0.1536,  0.1412,\n",
       "       -0.2306,  0.0039,  0.4551, -0.2136, -0.2948,  0.0211, -0.0701,\n",
       "        0.0172,  0.1041,  0.1121, -0.137 , -0.1024,  0.1087, -0.1503,\n",
       "        0.0273,  0.2783,  0.1245,  0.2181,  0.0569,  0.3573,  0.117 ,\n",
       "       -0.3898, -0.1079,  0.0905,  0.1906, -0.2149,  0.2824,  0.1799,\n",
       "       -0.2613, -0.2671, -0.2247,  0.0628, -0.2677, -0.3489,  0.1299,\n",
       "        0.044 , -0.0553, -0.3372,  0.3818,  0.0163, -0.5289,  0.135 ,\n",
       "       -0.0561,  0.281 ,  0.5316, -0.0295,  0.1424,  0.1147, -0.6125,\n",
       "       -0.3544,  0.6618,  0.0436, -0.1221, -0.0015, -0.287 , -0.0095,\n",
       "        0.6602,  0.0795,  0.0458, -0.3342,  0.1752, -0.0041, -0.0783,\n",
       "       -0.3493,  0.0168, -0.3106, -0.0464,  0.2034,  0.1595,  0.1118,\n",
       "        0.0022,  0.3654, -0.2649,  0.3307, -0.0727,  0.0728,  0.3658,\n",
       "       -0.2582,  0.0529, -0.275 ,  0.1972, -0.2314, -0.3141, -0.5698,\n",
       "        0.1964, -0.1874,  0.2211,  0.1963,  0.0758,  0.1103,  0.46  ,\n",
       "       -0.2272, -0.5878,  0.0596, -0.0927,  0.2931,  0.2593],\n",
       "      dtype=float32)"
      ]
     },
     "execution_count": 37,
     "metadata": {},
     "output_type": "execute_result"
    }
   ],
   "source": [
    "docs[0][2]"
   ]
  },
  {
   "cell_type": "code",
   "execution_count": 4,
   "metadata": {
    "ExecuteTime": {
     "end_time": "2018-01-30T00:29:43.240166Z",
     "start_time": "2018-01-30T00:29:43.214235Z"
    }
   },
   "outputs": [],
   "source": [
    "Y = np.array(np.array(tags)=='Prio-Fall', dtype=int)"
   ]
  },
  {
   "cell_type": "code",
   "execution_count": 5,
   "metadata": {
    "ExecuteTime": {
     "end_time": "2018-01-30T00:29:43.263300Z",
     "start_time": "2018-01-30T00:29:43.242461Z"
    }
   },
   "outputs": [
    {
     "data": {
      "text/plain": [
       "0.1450676982591876"
      ]
     },
     "execution_count": 5,
     "metadata": {},
     "output_type": "execute_result"
    }
   ],
   "source": [
    "sum(Y)/len(Y)"
   ]
  },
  {
   "cell_type": "code",
   "execution_count": 6,
   "metadata": {
    "ExecuteTime": {
     "end_time": "2018-01-30T00:29:43.618795Z",
     "start_time": "2018-01-30T00:29:43.267488Z"
    }
   },
   "outputs": [],
   "source": [
    "from imblearn.over_sampling import RandomOverSampler\n",
    "from collections import Counter"
   ]
  },
  {
   "cell_type": "markdown",
   "metadata": {},
   "source": [
    "# MODEL"
   ]
  },
  {
   "cell_type": "code",
   "execution_count": null,
   "metadata": {},
   "outputs": [],
   "source": [
    "from keras.models import Model\n",
    "from keras import backend as K\n",
    "from keras.layers import LSTM, Input, Dense, Activation, Add, Reshape, Lambda, Concatenate, \\\n",
    "                         TimeDistributed, Bidirectional, Masking\n",
    "\n",
    "from keras.preprocessing.sequence import pad_sequences\n",
    "from keras.utils import to_categorical, plot_model\n",
    "\n",
    "from keras.optimizers import Adam\n",
    "from keras.callbacks import TensorBoard\n",
    "\n",
    "from keras.models import load_model"
   ]
  },
  {
   "cell_type": "code",
   "execution_count": null,
   "metadata": {},
   "outputs": [],
   "source": [
    "from sklearn.model_selection import ShuffleSplit\n",
    "from sklearn.utils import class_weight\n",
    "from tqdm import tqdm"
   ]
  },
  {
   "cell_type": "code",
   "execution_count": null,
   "metadata": {},
   "outputs": [],
   "source": [
    "# pad with zeros, truncate longer than 6\n",
    "X = pad_sequences(documents, dtype=float, truncating='post',padding='post')\n",
    "\n",
    "# convert links 1,1,2 -> [1,0,0]\n",
    "#                        [1,0,0]\n",
    "#                        [0,1,0]\n",
    "Yl = np.array([to_categorical(np.array(y)-1, num_classes=10) for y in labels])\n",
    "Yl_ind = [len(y) for y in Yl]\n",
    "Yl = pad_sequences(Yl, dtype=int, truncating='post', padding='post')\n",
    "\n",
    "Yt = np.array([to_categorical(np.array(y)-1, num_classes=10) for y in tags])\n",
    "Yt_ind = [len(y) for y in Yt]\n",
    "Yt = pad_sequences(Yt, dtype=int, truncating='post', padding='post')"
   ]
  },
  {
   "cell_type": "code",
   "execution_count": 12,
   "metadata": {
    "ExecuteTime": {
     "end_time": "2018-01-30T01:09:41.412901Z",
     "start_time": "2018-01-30T01:09:41.397544Z"
    }
   },
   "outputs": [],
   "source": [
    "from sklearn.metrics import accuracy_score, confusion_matrix, f1_score"
   ]
  },
  {
   "cell_type": "markdown",
   "metadata": {},
   "source": [
    "## XG BOOST"
   ]
  },
  {
   "cell_type": "code",
   "execution_count": 17,
   "metadata": {
    "ExecuteTime": {
     "end_time": "2018-01-30T01:12:01.794222Z",
     "start_time": "2018-01-30T01:12:01.785747Z"
    }
   },
   "outputs": [],
   "source": [
    "# Set our parameters for xgboost\n",
    "params = {}\n",
    "params['objective'] = 'binary:logistic'\n",
    "params['eval_metric'] = 'logloss'\n",
    "params['eta'] = 0.07\n",
    "params['max_depth'] = 50\n",
    "params['min_child_weight'] = 6\n",
    "params['lambda'] = 1\n",
    "params['nthread'] = 4"
   ]
  },
  {
   "cell_type": "code",
   "execution_count": null,
   "metadata": {
    "ExecuteTime": {
     "start_time": "2018-01-30T01:12:02.036Z"
    },
    "scrolled": false
   },
   "outputs": [
    {
     "name": "stdout",
     "output_type": "stream",
     "text": [
      "(124348, 321767) (36363, 321767) (124348,) (36363,)\n",
      "[0]\ttrain-logloss:0.668219\tvalid-logloss:0.672347\n",
      "Multiple eval metrics have been passed: 'valid-logloss' will be used for early stopping.\n",
      "\n",
      "Will train until valid-logloss hasn't improved in 50 rounds.\n",
      "[10]\ttrain-logloss:0.516264\tvalid-logloss:0.548634\n",
      "[20]\ttrain-logloss:0.445863\tvalid-logloss:0.495861\n",
      "[30]\ttrain-logloss:0.406458\tvalid-logloss:0.468739\n"
     ]
    }
   ],
   "source": [
    "# Create 2 folds\n",
    "k = 3\n",
    "kfold = StratifiedKFold(Y, k, shuffle=True, random_state=0)\n",
    "\n",
    "results = np.zeros((k,3))\n",
    "\n",
    "# iterate over two folds\n",
    "for i, (train_ind, test_ind) in enumerate(kfold):\n",
    "    X_train, X_val, Y_train, Y_val = X_bag[train_ind], X_bag[test_ind], Y[train_ind], Y[test_ind]\n",
    "    \n",
    "    ros = RandomOverSampler(random_state=0)\n",
    "    X_resampled, Y_resampled = ros.fit_sample(X_train, Y_train)\n",
    "    print(X_resampled.shape, X_val.shape, Y_resampled.shape, Y_val.shape)\n",
    "    \n",
    "    D_train = xgb.DMatrix(X_resampled, label=Y_resampled)\n",
    "    D_val = xgb.DMatrix(X_val, label=Y_val)\n",
    "\n",
    "    watchlist = [(D_train, 'train'), (D_val, 'valid')]\n",
    "    bst = xgb.train(params, D_train, 400, watchlist, early_stopping_rounds=50, verbose_eval=10, )\n",
    "    predictions = bst.predict(data=D_val).round()\n",
    "    f1_score = f1_score(Y_val, predictions)\n",
    "    acc = accuracy_score(Y_val, predictions)\n",
    "    prio_acc = accuracy_score(Y_val[Y_val==1], predictions[Y_val==1])\n",
    "    results[i] = [f1_score, acc, prio_acc]\n",
    "    print('f1 score: {}'.format(f1_score))\n",
    "    print('accuracy: {}\\%'.format(acc))\n",
    "    print('Prio accuracy: {}'.format(prio_acc))\n",
    "    print(confusion_matrix(Y_val, predictions))"
   ]
  },
  {
   "cell_type": "code",
   "execution_count": null,
   "metadata": {
    "ExecuteTime": {
     "end_time": "2018-01-30T00:54:50.343373Z",
     "start_time": "2018-01-30T00:32:33.809Z"
    }
   },
   "outputs": [],
   "source": [
    "np.mean(results), np.var(results)"
   ]
  },
  {
   "cell_type": "code",
   "execution_count": null,
   "metadata": {},
   "outputs": [],
   "source": []
  }
 ],
 "metadata": {
  "kernelspec": {
   "display_name": "Python 3",
   "language": "python",
   "name": "python3"
  },
  "language_info": {
   "codemirror_mode": {
    "name": "ipython",
    "version": 3
   },
   "file_extension": ".py",
   "mimetype": "text/x-python",
   "name": "python",
   "nbconvert_exporter": "python",
   "pygments_lexer": "ipython3",
   "version": "3.6.3"
  },
  "notify_time": "0"
 },
 "nbformat": 4,
 "nbformat_minor": 2
}
