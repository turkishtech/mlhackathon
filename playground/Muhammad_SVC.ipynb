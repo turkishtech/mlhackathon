{
 "cells": [
  {
   "cell_type": "code",
   "execution_count": null,
   "metadata": {},
   "outputs": [],
   "source": [
    "import tensorflow as tf\n",
    "hello = tf.constant('Hello, TensorFlow!')\n",
    "sess = tf.Session()\n",
    "print(sess.run(hello))"
   ]
  },
  {
   "cell_type": "code",
   "execution_count": 106,
   "metadata": {},
   "outputs": [],
   "source": [
    "import pandas as pd\n",
    "import numpy as np\n",
    "import sklearn\n",
    "\n",
    "from sklearn.feature_extraction.text import CountVectorizer\n",
    "from sklearn.feature_extraction.text import TfidfTransformer\n",
    "from sklearn.svm import LinearSVC\n",
    "\n",
    "from sklearn.model_selection import StratifiedKFold \n",
    "\n",
    "model = LinearSVC(dual=False,tol=1e-3, class_weight = 'balanced') #please try with different versions of gamma and 'C' parameters here\n",
    "                  \n",
    "df = pd.read_csv('telekomexportsichter11.csv')\n",
    "df1 = pd.read_csv('telekomexportsichter12.csv')\n",
    "df2 = pd.read_csv('telekomexportsichter13.csv')\n",
    "df3 = pd.read_csv('telekomexportsichter14.csv')\n",
    "df4 = pd.read_csv('telekomexportsichter15.csv')\n",
    "df5 = pd.read_csv('telekomexportsichter16.csv')\n",
    "df6 = pd.read_csv('telekomexportsichter17.csv')\n",
    "df7 = pd.read_csv('telekomexportsichter18.csv')\n",
    "\n",
    "df = df.append(df1)\n",
    "df = df.append(df2)\n",
    "df = df.append(df3)\n",
    "df = df.append(df4)\n",
    "df = df.append(df5)\n",
    "df = df.append(df6)\n",
    "df = df.append(df7)\n",
    "\n",
    "\n",
    "priorCases = df[(df['Tag'] == 'Prio-Fall') & (df['kind'] == 1)]['Content']\n",
    "priorCases = pd.Series.to_frame(priorCases)\n",
    "\n",
    "nonPriorCases = df[(df['Tag'] != 'Prio-Fall') & (df['kind'] == 1)]['Content']\n",
    "nonPriorCases = pd.Series.to_frame(nonPriorCases)\n",
    "\n",
    "priorCases = priorCases.assign(label = 1)\n",
    "nonPriorCases = nonPriorCases.assign(label = 0)\n",
    "#priorCases.drop(priorCases.index[priorCases['Content'].isnull()])\n",
    "#priorCases[priorCases['Content'].isnull()].head\n",
    "priorCases = priorCases.append(nonPriorCases)"
   ]
  },
  {
   "cell_type": "code",
   "execution_count": 110,
   "metadata": {},
   "outputs": [],
   "source": [
    "priorCases = priorCases.drop(priorCases.index[priorCases['Content'].isnull()])\n",
    "cv = CountVectorizer(min_df = 3, max_df = 10000, ngram_range=(1, 3), lowercase =True) #change the ngram range to 5,7, maximum 9 "
   ]
  },
  {
   "cell_type": "code",
   "execution_count": 111,
   "metadata": {},
   "outputs": [
    {
     "name": "stdout",
     "output_type": "stream",
     "text": [
      "Int64Index([], dtype='int64')\n"
     ]
    }
   ],
   "source": [
    "print(priorCases.index[priorCases['Content'].isnull()])"
   ]
  },
  {
   "cell_type": "code",
   "execution_count": 113,
   "metadata": {},
   "outputs": [
    {
     "name": "stdout",
     "output_type": "stream",
     "text": [
      "0.8988903394255875\n",
      "F1\n",
      "0.5304637769020915\n",
      "0.9009106394129979\n",
      "F1\n",
      "0.521436481569372\n",
      "0.896859675900367\n",
      "F1\n",
      "0.5182038834951457\n",
      "0.8994355075537573\n",
      "F1\n",
      "0.5391746411483254\n",
      "0.8999054481431972\n",
      "F1\n",
      "0.5241785492870428\n"
     ]
    }
   ],
   "source": [
    "skf = StratifiedKFold(n_splits = 5, shuffle=True, random_state=0) #do not use more or less splits\n",
    "scores = []\n",
    "for train_index, test_index in skf.split(priorCases['Content'] , priorCases['label']):\n",
    "    #priorCases.loc[train_index]['Content']\n",
    "    \n",
    "    model = LinearSVC(dual=False,tol=1e-3, class_weight = 'balanced')\n",
    "    priorCases2 = priorCases.loc[train_index]\n",
    "    priorCases2 = priorCases2.drop(priorCases2.index[priorCases2['Content'].isnull()])\n",
    "    X_train_counts = cv.fit_transform(priorCases2['Content'])\n",
    "    #print(X_train_counts.shape)\n",
    "\n",
    "\n",
    "    tfidfTransform = TfidfTransformer()\n",
    "    X_Train_tfidf = tfidfTransform.fit_transform(X_train_counts)\n",
    "    #print(X_Train_tfidf.shape)\n",
    "    \n",
    "    priorCases2 = priorCases.loc[test_index]\n",
    "    priorCases2 = priorCases2.drop(priorCases2.index[priorCases2['Content'].isnull()])\n",
    "    X_test_counts = cv.transform(priorCases2['Content'])\n",
    "    #print(X_test_counts.shape)\n",
    "\n",
    "    X_test_tfidf = tfidfTransform.transform(X_test_counts)\n",
    "    #print(X_test_tfidf.shape)\n",
    "    \n",
    "    priorCases2 = priorCases.loc[train_index]\n",
    "    priorCases2 = priorCases2.drop(priorCases2.index[priorCases2['Content'].isnull()])\n",
    "    model.fit(X_Train_tfidf, priorCases2['label'])\n",
    "    \n",
    "    pred = model.predict(X_test_tfidf)\n",
    "    \n",
    "    priorCases2 = priorCases.loc[test_index]\n",
    "    priorCases2 = priorCases2.drop(priorCases2.index[priorCases2['Content'].isnull()])\n",
    "    answer = sklearn.metrics.f1_score(priorCases2['label'], pred)\n",
    "    #print(sklearn.metrics.confusion_matrix(priorCases2['label'], pred, labels=None, sample_weight=None))\n",
    "    print(np.mean(pred == priorCases2['label']))\n",
    "    print(\"F1\")\n",
    "    print(answer)"
   ]
  },
  {
   "cell_type": "code",
   "execution_count": null,
   "metadata": {},
   "outputs": [],
   "source": []
  },
  {
   "cell_type": "code",
   "execution_count": null,
   "metadata": {},
   "outputs": [],
   "source": [
    "X_train_counts = cv.fit_transform(labeled['Content'])\n",
    "X_Train_tfidf = tfidfTransform.fit_transform(X_train_counts)\n",
    "\n",
    "X_test_counts = cv.transform(notLabeled['Content'])\n",
    "X_test_tfidf = tfidfTransform.transform(X_test_counts)\n",
    "\n",
    "model = LinearSVC(dual=False,tol=1e-3, class_weight = 'balanced')\n",
    "model.fit(X_Train_tfidf, priorCases2['SichterName'])"
   ]
  }
 ],
 "metadata": {
  "kernelspec": {
   "display_name": "Python 3",
   "language": "python",
   "name": "python3"
  },
  "language_info": {
   "codemirror_mode": {
    "name": "ipython",
    "version": 3
   },
   "file_extension": ".py",
   "mimetype": "text/x-python",
   "name": "python",
   "nbconvert_exporter": "python",
   "pygments_lexer": "ipython3",
   "version": "3.5.2"
  }
 },
 "nbformat": 4,
 "nbformat_minor": 1
}
