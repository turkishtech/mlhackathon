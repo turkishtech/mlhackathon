{
 "cells": [
  {
   "cell_type": "code",
   "execution_count": 1,
   "metadata": {
    "ExecuteTime": {
     "end_time": "2018-01-30T03:02:59.357709Z",
     "start_time": "2018-01-30T03:02:58.390113Z"
    }
   },
   "outputs": [],
   "source": [
    "import pandas as pd\n",
    "import glob\n",
    "pd.set_option(\"display.max_rows\", 30)\n",
    "pd.set_option(\"display.max_columns\", 1000)\n",
    "pd.set_option(\"display.max_colwidth\", 1000)\n",
    "pd.set_option(\"display.width\", 2000)"
   ]
  },
  {
   "cell_type": "code",
   "execution_count": 2,
   "metadata": {
    "ExecuteTime": {
     "end_time": "2018-01-30T03:03:00.434352Z",
     "start_time": "2018-01-30T03:02:59.364413Z"
    }
   },
   "outputs": [],
   "source": [
    "import gensim"
   ]
  },
  {
   "cell_type": "code",
   "execution_count": 3,
   "metadata": {
    "ExecuteTime": {
     "end_time": "2018-01-30T03:03:00.714177Z",
     "start_time": "2018-01-30T03:03:00.436677Z"
    }
   },
   "outputs": [],
   "source": [
    "import numpy as np\n",
    "np.set_printoptions(precision=4,suppress=True)\n",
    "import matplotlib as mpl\n",
    "import matplotlib.pyplot as plt\n",
    "%matplotlib inline"
   ]
  },
  {
   "cell_type": "code",
   "execution_count": 4,
   "metadata": {
    "ExecuteTime": {
     "end_time": "2018-01-30T03:03:01.230015Z",
     "start_time": "2018-01-30T03:03:00.717306Z"
    }
   },
   "outputs": [],
   "source": [
    "import spacy"
   ]
  },
  {
   "cell_type": "markdown",
   "metadata": {},
   "source": [
    "# PARAMETERS"
   ]
  },
  {
   "cell_type": "code",
   "execution_count": 5,
   "metadata": {
    "ExecuteTime": {
     "end_time": "2018-01-30T03:03:01.238433Z",
     "start_time": "2018-01-30T03:03:01.233786Z"
    }
   },
   "outputs": [],
   "source": [
    "N_TOPICS = 20\n",
    "N_PASSES = 30"
   ]
  },
  {
   "cell_type": "markdown",
   "metadata": {},
   "source": [
    "# READ DATA"
   ]
  },
  {
   "cell_type": "code",
   "execution_count": 71,
   "metadata": {
    "ExecuteTime": {
     "end_time": "2018-01-30T08:41:31.139671Z",
     "start_time": "2018-01-30T08:41:26.173319Z"
    }
   },
   "outputs": [],
   "source": [
    "frames = []\n",
    "for f in glob.glob('../data/*2*.csv'):\n",
    "    frames.append(pd.read_csv(f))"
   ]
  },
  {
   "cell_type": "code",
   "execution_count": 72,
   "metadata": {
    "ExecuteTime": {
     "end_time": "2018-01-30T08:41:37.380640Z",
     "start_time": "2018-01-30T08:41:37.236893Z"
    },
    "scrolled": false
   },
   "outputs": [],
   "source": [
    "raw_df = pd.concat(frames)"
   ]
  },
  {
   "cell_type": "code",
   "execution_count": 73,
   "metadata": {
    "ExecuteTime": {
     "end_time": "2018-01-30T08:41:38.827015Z",
     "start_time": "2018-01-30T08:41:38.642673Z"
    },
    "scrolled": false
   },
   "outputs": [
    {
     "data": {
      "text/plain": [
       "4                                                                                                                                                                                                                                                                             Ganz große Enttäuschung beim Anbieterwechsel ! ! ! Seit 28.01 . ohne Festnetz und Internet und keiner weiß was Sache ist . Kann ich definitiv nur von abraten . Auch der Kundenservice lässt für ein Megakonzern , wie ihr es seid , leider sehr zu Wünschen übrig . Da verspricht man sich einiges mehr ! Wut , Enttäuschung und absolute Unzufriedenheit im Umgang mit Neukunden .\n",
       "288                                                                                                                                                                                                                                                                                                                                                                                                                                                                                                                               @Telekom_hilft Bekomme ich bei einer Festnetznummernportierung zur Telekom eine Info wann diesem am Tag X erfolgt ist ? Danke :)\n",
       "515                                                                                                                                                                                                                                                                                                                                                                                                                                                                                                                                                     @Telekom_hilft Hallo . Ist die Spotify-Option eigentlich auch im T-Mobile Geschäftskundenbereich buchbar ?\n",
       "561                        Hallo , wie kann es eigentlich sein , das es bei der Telekom die Kommunikation nicht möglich ist ? Ich warte seit Oktober 2015 auf meine 120 Euro Gutschrift . Dies war nun 3x in der Nimbus Abteilung . Nie eine Rückmeldung bekommen . Immer nur sinnfreie Ausreden auf Nachfrage . Auch meine Rufnummernportierung zur Telekom zieht sich ohne jegliche Kommunikation . Mehrfach verschobene Termine und als Krönung ist die Portierung jetzt auf Monat 5 verschoben . Einfach unfassbar ! Keine Entschuldigung , nur ein lapidares : Ich kann da nichts machen . Kein entgegenkommen . Einfach nichts . Geht man so mit Kunden um ?\n",
       "622    Hallo Telekom , das ihr sauer seit wenn ihr Kunden verliert kann ich ja verstehen , aber dann noch nachtreten und ihnen den Anschluss kappen ohne ihn für den neuen Anbieter freizugeben - schämt euch . habt Ende Januar bestätigt das am 21.3 . der Anschluss geändert wird , und was ist passiert ? Still ruht der See seit nun über einer Woche . Kein Anschluss unter dieser Nr ... Gerade aufm Dorf , Rentner , über Ostern - von den anderen Problemen die letzte Woche auftraten will ich mal gar nicht reden . Also macht hine und gebt den Telefonanschluss meiner Eltern frei ! Es handelt sich um Ingo Hüttenrauch , Elsterberg OT Görschnitz !\n",
       "Name: Content, dtype: object"
      ]
     },
     "execution_count": 73,
     "metadata": {},
     "output_type": "execute_result"
    }
   ],
   "source": [
    "raw_df.query('(kind==1 or kind==3) and SichterName').Content.head(5)"
   ]
  },
  {
   "cell_type": "code",
   "execution_count": 74,
   "metadata": {
    "ExecuteTime": {
     "end_time": "2018-01-30T08:41:38.975432Z",
     "start_time": "2018-01-30T08:41:38.888519Z"
    }
   },
   "outputs": [
    {
     "data": {
      "text/html": [
       "<div>\n",
       "<style>\n",
       "    .dataframe thead tr:only-child th {\n",
       "        text-align: right;\n",
       "    }\n",
       "\n",
       "    .dataframe thead th {\n",
       "        text-align: left;\n",
       "    }\n",
       "\n",
       "    .dataframe tbody tr th {\n",
       "        vertical-align: top;\n",
       "    }\n",
       "</style>\n",
       "<table border=\"1\" class=\"dataframe\">\n",
       "  <thead>\n",
       "    <tr style=\"text-align: right;\">\n",
       "      <th></th>\n",
       "      <th>Authorid</th>\n",
       "      <th>Content</th>\n",
       "      <th>Datetime</th>\n",
       "      <th>Host</th>\n",
       "      <th>Id</th>\n",
       "      <th>IsInitialEntry</th>\n",
       "      <th>IsPrivate</th>\n",
       "      <th>SichterGruppe</th>\n",
       "      <th>SichterName</th>\n",
       "      <th>Tag</th>\n",
       "      <th>TopicId</th>\n",
       "      <th>TopicName</th>\n",
       "      <th>TwistId</th>\n",
       "      <th>Url</th>\n",
       "      <th>entryid</th>\n",
       "      <th>kind</th>\n",
       "    </tr>\n",
       "  </thead>\n",
       "  <tbody>\n",
       "    <tr>\n",
       "      <th>0</th>\n",
       "      <td>2498278.0</td>\n",
       "      <td>@Telekom_hilft er kam einfach nicht ? ! Stark !</td>\n",
       "      <td>16.03.2016 08:00:08</td>\n",
       "      <td>twitter.com</td>\n",
       "      <td>24468419</td>\n",
       "      <td>True</td>\n",
       "      <td>False</td>\n",
       "      <td>NaN</td>\n",
       "      <td>NaN</td>\n",
       "      <td>abgelegt durch Sichter</td>\n",
       "      <td>551631</td>\n",
       "      <td>Alle</td>\n",
       "      <td>110c312b-58b5-4037-bbb4-00037cdb8713</td>\n",
       "      <td>https://twitter.com/Cry_Wolf_2007/status/709997664516116480#aid=117037823</td>\n",
       "      <td>e7fe91b7-17f0-41fd-b2bb-e01fb957fc77</td>\n",
       "      <td>1</td>\n",
       "    </tr>\n",
       "    <tr>\n",
       "      <th>1</th>\n",
       "      <td>6149628.0</td>\n",
       "      <td>Wann gibt es bei euch auch eine Allnetflat mit LTE im Prepaid Tarif ? Bei Vodafone ist das zb schon längere Zeit möglich !</td>\n",
       "      <td>28.04.2016 19:29:46</td>\n",
       "      <td>www.facebook.com</td>\n",
       "      <td>25766437</td>\n",
       "      <td>True</td>\n",
       "      <td>False</td>\n",
       "      <td>NaN</td>\n",
       "      <td>NaN</td>\n",
       "      <td>NaN</td>\n",
       "      <td>1</td>\n",
       "      <td>Client 388</td>\n",
       "      <td>e40155d8-2470-4c01-873a-0006178b3f34</td>\n",
       "      <td>https://www.facebook.com/101768433554/posts/10154087846023555#pid=101768433554&amp;uid=101768433554_10154087846023555&amp;aid=939071216138919&amp;vid=2&amp;wid=101768433554</td>\n",
       "      <td>2ab09bd6-3c6a-479f-bc8b-63540ace690c</td>\n",
       "      <td>1</td>\n",
       "    </tr>\n",
       "    <tr>\n",
       "      <th>2</th>\n",
       "      <td>2457147.0</td>\n",
       "      <td>Da wird fast 2W . lang an der Straße gearbeitet für schnelleres Internet und jetzt ists langsamer als vorher ! Ich glaub ich spinne ! #Telekom</td>\n",
       "      <td>04.03.2016 19:34:49</td>\n",
       "      <td>twitter.com</td>\n",
       "      <td>24072504</td>\n",
       "      <td>True</td>\n",
       "      <td>False</td>\n",
       "      <td>NaN</td>\n",
       "      <td>NaN</td>\n",
       "      <td>A-Team Twitter:Reaktion nein</td>\n",
       "      <td>0</td>\n",
       "      <td>NaN</td>\n",
       "      <td>e5ad9e6f-24b7-4b81-8a4c-000a94622b85</td>\n",
       "      <td>http://twitter.com/xLoveRemix/statuses/705823829608767488</td>\n",
       "      <td>35cee5da-c1f1-4673-931e-93c214020124</td>\n",
       "      <td>2</td>\n",
       "    </tr>\n",
       "    <tr>\n",
       "      <th>3</th>\n",
       "      <td>514748.0</td>\n",
       "      <td>Ganz große Enttäuschung beim Anbieterwechsel ! ! ! Seit 28.01 . ohne Festnetz und Internet und keiner weiß was Sache ist . Kann ich definitiv nur von abraten . Auch der Kundenservice lässt für ein Megakonzern , wie ihr es seid , leider sehr zu Wünschen übrig . Da verspricht man sich einiges mehr ! Wut , Enttäuschung und absolute Unzufriedenheit im Umgang mit Neukunden .</td>\n",
       "      <td>07.04.2016 16:39:23</td>\n",
       "      <td>www.facebook.com</td>\n",
       "      <td>25163413</td>\n",
       "      <td>True</td>\n",
       "      <td>False</td>\n",
       "      <td>NaN</td>\n",
       "      <td>NaN</td>\n",
       "      <td>Prio-Fall</td>\n",
       "      <td>1</td>\n",
       "      <td>Client 388</td>\n",
       "      <td>ccc369a0-7b71-4a26-a687-000b1792564f</td>\n",
       "      <td>https://www.facebook.com/101768433554/posts/10154036549798555#pid=101768433554&amp;uid=101768433554_10154036549798555&amp;aid=10206765699968926&amp;vid=2&amp;wid=101768433554</td>\n",
       "      <td>1ed81b1b-bb5c-4a5d-9bd6-cfc3826586c5</td>\n",
       "      <td>1</td>\n",
       "    </tr>\n",
       "    <tr>\n",
       "      <th>4</th>\n",
       "      <td>514748.0</td>\n",
       "      <td>Ganz große Enttäuschung beim Anbieterwechsel ! ! ! Seit 28.01 . ohne Festnetz und Internet und keiner weiß was Sache ist . Kann ich definitiv nur von abraten . Auch der Kundenservice lässt für ein Megakonzern , wie ihr es seid , leider sehr zu Wünschen übrig . Da verspricht man sich einiges mehr ! Wut , Enttäuschung und absolute Unzufriedenheit im Umgang mit Neukunden .</td>\n",
       "      <td>07.04.2016 16:39:23</td>\n",
       "      <td>www.facebook.com</td>\n",
       "      <td>25163413</td>\n",
       "      <td>True</td>\n",
       "      <td>False</td>\n",
       "      <td>Sichter FB/TW</td>\n",
       "      <td>Wechsler</td>\n",
       "      <td>Prio-Fall</td>\n",
       "      <td>1</td>\n",
       "      <td>Client 388</td>\n",
       "      <td>ccc369a0-7b71-4a26-a687-000b1792564f</td>\n",
       "      <td>https://www.facebook.com/101768433554/posts/10154036549798555#pid=101768433554&amp;uid=101768433554_10154036549798555&amp;aid=10206765699968926&amp;vid=2&amp;wid=101768433554</td>\n",
       "      <td>1ed81b1b-bb5c-4a5d-9bd6-cfc3826586c5</td>\n",
       "      <td>1</td>\n",
       "    </tr>\n",
       "    <tr>\n",
       "      <th>5</th>\n",
       "      <td>1577525.0</td>\n",
       "      <td>Hallo Meli Mel , das hört sich schrecklich an . So stellen wir uns einen Wechsel nicht vor . Tut mir auch leid , dass so lange keine Lösung vorliegt . Evtl . kann ich helfen ? Wären Sie bitte so nett mir Ihre Rückrufnummer mitzuteilen ? Gerne per Nachricht bit.ly/DMBlogPK dann rufe ich Sie sobald wie möglich an . Freundliche Grüße , Felix F . external.xx.fbcdn.net/safe_image.php?d=AQCZjY9Pb8YfRYY7&amp;w=493&amp;h=493&amp;url=https%3A%2F%2Ftelekomhilft.telekom.de%2Ft5%2Fimage%2Fserverpage%2Fimage-id%2F01234567890iAA0896FF1136A6A2%3Fv%3Dmpbl-1&amp;cfs=1&amp;sx=520&amp;sy=0&amp;sw=493&amp;sh=493 https://external.xx.fbcdn.net/safe_image.php?d=AQCU6EWudyJNjp12&amp;w=493&amp;h=493&amp;url=https%3A%2F%2Ftelekomhilft.telekom.de%2Ft5%2Fimage%2Fserverpage%2Fimage-id%2F01234567890iAA0896FF1136A6A2%2Fimage-size%2Foriginal%3Fv%3Dlz-1%26px%3D-1&amp;cfs=1&amp;sx=520&amp;sy=0&amp;sw=493&amp;sh=493</td>\n",
       "      <td>14.04.2016 20:22:00</td>\n",
       "      <td>www.facebook.com</td>\n",
       "      <td>25368047</td>\n",
       "      <td>False</td>\n",
       "      <td>False</td>\n",
       "      <td>NaN</td>\n",
       "      <td>NaN</td>\n",
       "      <td>NaN</td>\n",
       "      <td>1</td>\n",
       "      <td>Client 388</td>\n",
       "      <td>ccc369a0-7b71-4a26-a687-000b1792564f</td>\n",
       "      <td>https://www.facebook.com/101768433554/posts/10154036549798555#pid=101768433554_10154036549798555&amp;uid=10154036549798555_10154054879973555&amp;cpid=&amp;aid=101768433554&amp;vid=2&amp;wid=101768433554</td>\n",
       "      <td>f4ad8c8c-34bd-401c-bc34-dee318b50b3a</td>\n",
       "      <td>3</td>\n",
       "    </tr>\n",
       "    <tr>\n",
       "      <th>6</th>\n",
       "      <td>514748.0</td>\n",
       "      <td>Kommt leider zu spät . Nach mindestens 10 solcher Nachrichten und Aussagen beim Kundenservice , verlieren diese auch so langsam an Glaubwürdigkeit . Haben nun zu Unity Media gewechselt und innerhalb 2 Tagen funktioniert das Internet und Festznetz . Trotzdem danke für die Antwort .</td>\n",
       "      <td>14.04.2016 20:27:03</td>\n",
       "      <td>www.facebook.com</td>\n",
       "      <td>25368267</td>\n",
       "      <td>False</td>\n",
       "      <td>False</td>\n",
       "      <td>NaN</td>\n",
       "      <td>NaN</td>\n",
       "      <td>Telekom erleben:bereits geantwortet keine Antwort nötig</td>\n",
       "      <td>1</td>\n",
       "      <td>Client 388</td>\n",
       "      <td>ccc369a0-7b71-4a26-a687-000b1792564f</td>\n",
       "      <td>https://www.facebook.com/101768433554/posts/10154036549798555#pid=101768433554_10154036549798555&amp;uid=10154036549798555_10154054886878555&amp;cpid=&amp;aid=10206765699968926&amp;vid=2&amp;wid=101768433554</td>\n",
       "      <td>d0e111e6-9d36-4b17-a6a8-04d88d36113e</td>\n",
       "      <td>4</td>\n",
       "    </tr>\n",
       "    <tr>\n",
       "      <th>7</th>\n",
       "      <td>514748.0</td>\n",
       "      <td>Und einen Schadenersatz für den Internet-Stick , etc . mit einer Abfindungserklärung ( mit keinerlei Anspruch auf weiteren Schadensersatz bei Annahme ) zu verknüpfen , ist auch sehr frech und unverschämt .</td>\n",
       "      <td>14.04.2016 20:29:38</td>\n",
       "      <td>www.facebook.com</td>\n",
       "      <td>25368359</td>\n",
       "      <td>False</td>\n",
       "      <td>False</td>\n",
       "      <td>NaN</td>\n",
       "      <td>NaN</td>\n",
       "      <td>NaN</td>\n",
       "      <td>1</td>\n",
       "      <td>Client 388</td>\n",
       "      <td>ccc369a0-7b71-4a26-a687-000b1792564f</td>\n",
       "      <td>https://www.facebook.com/101768433554/posts/10154036549798555#pid=101768433554_10154036549798555&amp;uid=10154036549798555_10154054891778555&amp;cpid=&amp;aid=10206765699968926&amp;vid=2&amp;wid=101768433554</td>\n",
       "      <td>4d8e7a6e-0cb1-418f-b905-a1c3d6253c02</td>\n",
       "      <td>4</td>\n",
       "    </tr>\n",
       "    <tr>\n",
       "      <th>8</th>\n",
       "      <td>514748.0</td>\n",
       "      <td>Und einen Schadenersatz für den Internet-Stick , etc . mit einer Abfindungserklärung ( mit keinerlei Anspruch auf weiteren Schadensersatz bei Annahme ) zu verknüpfen , ist auch sehr frech und unverschämt .</td>\n",
       "      <td>14.04.2016 20:29:38</td>\n",
       "      <td>www.facebook.com</td>\n",
       "      <td>25368359</td>\n",
       "      <td>False</td>\n",
       "      <td>False</td>\n",
       "      <td>Sichter FB/TW</td>\n",
       "      <td>Wechsler</td>\n",
       "      <td>NaN</td>\n",
       "      <td>1</td>\n",
       "      <td>Client 388</td>\n",
       "      <td>ccc369a0-7b71-4a26-a687-000b1792564f</td>\n",
       "      <td>https://www.facebook.com/101768433554/posts/10154036549798555#pid=101768433554_10154036549798555&amp;uid=10154036549798555_10154054891778555&amp;cpid=&amp;aid=10206765699968926&amp;vid=2&amp;wid=101768433554</td>\n",
       "      <td>4d8e7a6e-0cb1-418f-b905-a1c3d6253c02</td>\n",
       "      <td>4</td>\n",
       "    </tr>\n",
       "    <tr>\n",
       "      <th>9</th>\n",
       "      <td>7727208.0</td>\n",
       "      <td>Jetzt habt ihr Banane kassiert . ... 😨</td>\n",
       "      <td>14.04.2016 21:01:25</td>\n",
       "      <td>www.facebook.com</td>\n",
       "      <td>25369112</td>\n",
       "      <td>False</td>\n",
       "      <td>False</td>\n",
       "      <td>NaN</td>\n",
       "      <td>NaN</td>\n",
       "      <td>Telekom erleben:bereits geantwortet keine Antwort nötig</td>\n",
       "      <td>1</td>\n",
       "      <td>Client 388</td>\n",
       "      <td>ccc369a0-7b71-4a26-a687-000b1792564f</td>\n",
       "      <td>https://www.facebook.com/101768433554/posts/10154036549798555#pid=101768433554_10154036549798555&amp;uid=10154036549798555_10154054946788555&amp;cpid=&amp;aid=994077387328101&amp;vid=2&amp;wid=101768433554</td>\n",
       "      <td>efd00626-d107-4154-8f64-7b94831aa293</td>\n",
       "      <td>4</td>\n",
       "    </tr>\n",
       "    <tr>\n",
       "      <th>10</th>\n",
       "      <td>514748.0</td>\n",
       "      <td>Wir ? 😳 😳</td>\n",
       "      <td>14.04.2016 21:03:43</td>\n",
       "      <td>www.facebook.com</td>\n",
       "      <td>25369487</td>\n",
       "      <td>False</td>\n",
       "      <td>False</td>\n",
       "      <td>NaN</td>\n",
       "      <td>NaN</td>\n",
       "      <td>Telekom erleben:bereits geantwortet keine Antwort nötig</td>\n",
       "      <td>1</td>\n",
       "      <td>Client 388</td>\n",
       "      <td>ccc369a0-7b71-4a26-a687-000b1792564f</td>\n",
       "      <td>https://www.facebook.com/101768433554/posts/10154036549798555#pid=101768433554_10154036549798555&amp;uid=10154036549798555_10154054950703555&amp;cpid=&amp;aid=10206765699968926&amp;vid=2&amp;wid=101768433554</td>\n",
       "      <td>4f61a6ce-a4e3-440b-9268-0becc4edd2fe</td>\n",
       "      <td>4</td>\n",
       "    </tr>\n",
       "    <tr>\n",
       "      <th>11</th>\n",
       "      <td>7727208.0</td>\n",
       "      <td>Dieeeeeeeeeeeee hässliche Telekom</td>\n",
       "      <td>14.04.2016 21:04:52</td>\n",
       "      <td>www.facebook.com</td>\n",
       "      <td>25369488</td>\n",
       "      <td>False</td>\n",
       "      <td>False</td>\n",
       "      <td>NaN</td>\n",
       "      <td>NaN</td>\n",
       "      <td>Telekom erleben:bereits geantwortet keine Antwort nötig</td>\n",
       "      <td>1</td>\n",
       "      <td>Client 388</td>\n",
       "      <td>ccc369a0-7b71-4a26-a687-000b1792564f</td>\n",
       "      <td>https://www.facebook.com/101768433554/posts/10154036549798555#pid=101768433554_10154036549798555&amp;uid=10154036549798555_10154054952518555&amp;cpid=&amp;aid=994077387328101&amp;vid=2&amp;wid=101768433554</td>\n",
       "      <td>8e79981d-dd8f-4feb-9c1b-115c21fa8708</td>\n",
       "      <td>4</td>\n",
       "    </tr>\n",
       "    <tr>\n",
       "      <th>12</th>\n",
       "      <td>7727208.0</td>\n",
       "      <td>Mensch ...</td>\n",
       "      <td>14.04.2016 21:05:03</td>\n",
       "      <td>www.facebook.com</td>\n",
       "      <td>25369484</td>\n",
       "      <td>False</td>\n",
       "      <td>False</td>\n",
       "      <td>NaN</td>\n",
       "      <td>NaN</td>\n",
       "      <td>Telekom erleben:bereits geantwortet keine Antwort nötig</td>\n",
       "      <td>1</td>\n",
       "      <td>Client 388</td>\n",
       "      <td>ccc369a0-7b71-4a26-a687-000b1792564f</td>\n",
       "      <td>https://www.facebook.com/101768433554/posts/10154036549798555#pid=101768433554_10154036549798555&amp;uid=10154036549798555_10154054952893555&amp;cpid=&amp;aid=994077387328101&amp;vid=2&amp;wid=101768433554</td>\n",
       "      <td>3fb5c257-52b4-4aa8-a98e-da2c82113995</td>\n",
       "      <td>4</td>\n",
       "    </tr>\n",
       "    <tr>\n",
       "      <th>13</th>\n",
       "      <td>7649654.0</td>\n",
       "      <td>Nimm Telekom ! Dort hast überall Empfang plus Hotspots #realtalk</td>\n",
       "      <td>02.04.2016 22:17:42</td>\n",
       "      <td>twitter.com</td>\n",
       "      <td>24999483</td>\n",
       "      <td>True</td>\n",
       "      <td>False</td>\n",
       "      <td>NaN</td>\n",
       "      <td>NaN</td>\n",
       "      <td>A-Team Twitter:Reaktion ja</td>\n",
       "      <td>0</td>\n",
       "      <td>NaN</td>\n",
       "      <td>ce7220c7-a2f3-40bf-8078-000bc54765b6</td>\n",
       "      <td>http://twitter.com/AMAHOFFICIAL/statuses/716358969204277249</td>\n",
       "      <td>4b393989-4627-44f1-884f-28b9902021ed</td>\n",
       "      <td>2</td>\n",
       "    </tr>\n",
       "    <tr>\n",
       "      <th>14</th>\n",
       "      <td>7456145.0</td>\n",
       "      <td>Wie kann es sein , dass ich in Dänemark eine Allnetflat mit 20GB Daten für 20 € bekomme und hier nicht ?</td>\n",
       "      <td>06.03.2016 10:21:26</td>\n",
       "      <td>twitter.com</td>\n",
       "      <td>24108393</td>\n",
       "      <td>True</td>\n",
       "      <td>False</td>\n",
       "      <td>NaN</td>\n",
       "      <td>NaN</td>\n",
       "      <td>Telekom erleben:bereits geantwortet keine Antwort nötig</td>\n",
       "      <td>1</td>\n",
       "      <td>Client 388</td>\n",
       "      <td>33aae6aa-2c07-456d-9438-0011ae881651</td>\n",
       "      <td>https://twitter.com/jansiebertks/status/706409341369327616#aid=4717235429</td>\n",
       "      <td>b19b7523-51a5-4847-bb25-3c722a0518e8</td>\n",
       "      <td>1</td>\n",
       "    </tr>\n",
       "    <tr>\n",
       "      <th>...</th>\n",
       "      <td>...</td>\n",
       "      <td>...</td>\n",
       "      <td>...</td>\n",
       "      <td>...</td>\n",
       "      <td>...</td>\n",
       "      <td>...</td>\n",
       "      <td>...</td>\n",
       "      <td>...</td>\n",
       "      <td>...</td>\n",
       "      <td>...</td>\n",
       "      <td>...</td>\n",
       "      <td>...</td>\n",
       "      <td>...</td>\n",
       "      <td>...</td>\n",
       "      <td>...</td>\n",
       "      <td>...</td>\n",
       "    </tr>\n",
       "    <tr>\n",
       "      <th>84</th>\n",
       "      <td>11576305.0</td>\n",
       "      <td>@Telekom_hilft Hab geschickt</td>\n",
       "      <td>27.06.2017 19:25:36</td>\n",
       "      <td>twitter.com</td>\n",
       "      <td>42458107</td>\n",
       "      <td>False</td>\n",
       "      <td>False</td>\n",
       "      <td>NaN</td>\n",
       "      <td>NaN</td>\n",
       "      <td>NaN</td>\n",
       "      <td>551631</td>\n",
       "      <td>Alle</td>\n",
       "      <td>2cdf8225-bdfe-4bfb-99b5-004d155b1405</td>\n",
       "      <td>https://twitter.com/T0pito/status/879752589419712512#aid=836127110188187648</td>\n",
       "      <td>0f3ce227-d767-4679-8fd5-e3e699c61e64</td>\n",
       "      <td>4</td>\n",
       "    </tr>\n",
       "    <tr>\n",
       "      <th>85</th>\n",
       "      <td>2103282.0</td>\n",
       "      <td>So viele Probleme mit der das ich echt überlege als eingefleischte Telekomikerin zu Vodafone oder Unitymedia zu wechseln .</td>\n",
       "      <td>07.06.2017 17:18:06</td>\n",
       "      <td>twitter.com</td>\n",
       "      <td>41701251</td>\n",
       "      <td>True</td>\n",
       "      <td>False</td>\n",
       "      <td>NaN</td>\n",
       "      <td>NaN</td>\n",
       "      <td>NaN</td>\n",
       "      <td>1</td>\n",
       "      <td>Client 388</td>\n",
       "      <td>5e974bd8-472c-42b2-ad17-004f9301e2cf</td>\n",
       "      <td>https://twitter.com/vielweib/status/872472741651337216#aid=28757440</td>\n",
       "      <td>8a91058a-1220-41db-b705-5f4c8cb7e5a5</td>\n",
       "      <td>1</td>\n",
       "    </tr>\n",
       "    <tr>\n",
       "      <th>86</th>\n",
       "      <td>2742004.0</td>\n",
       "      <td>Hackerangriff : Kanadas Telekom-Gigant BCE meldet Datendiebstahl https://t.co/mRtFocIDM6 https://t.co/iVugmqTj2J</td>\n",
       "      <td>19.05.2017 08:30:21</td>\n",
       "      <td>twitter.com</td>\n",
       "      <td>40662150</td>\n",
       "      <td>True</td>\n",
       "      <td>False</td>\n",
       "      <td>NaN</td>\n",
       "      <td>NaN</td>\n",
       "      <td>NaN</td>\n",
       "      <td>1</td>\n",
       "      <td>Client 388</td>\n",
       "      <td>4544ac2d-7f84-4e81-a13f-00508d28efbc</td>\n",
       "      <td>http://twitter.com/DSAgentur/statuses/865454562236289024</td>\n",
       "      <td>0084da92-989b-4cba-9007-7f371fb1957c</td>\n",
       "      <td>1</td>\n",
       "    </tr>\n",
       "    <tr>\n",
       "      <th>87</th>\n",
       "      <td>11092244.0</td>\n",
       "      <td>Na ihr keinen graue , ich bin für #SurfenImBus :) https://t.co/lFvQbDMI0a</td>\n",
       "      <td>09.05.2017 12:06:33</td>\n",
       "      <td>twitter.com</td>\n",
       "      <td>40185033</td>\n",
       "      <td>True</td>\n",
       "      <td>False</td>\n",
       "      <td>NaN</td>\n",
       "      <td>NaN</td>\n",
       "      <td>NaN</td>\n",
       "      <td>551631</td>\n",
       "      <td>Alle</td>\n",
       "      <td>fb89cd62-f3c8-4f0b-acd2-0052c72e652d</td>\n",
       "      <td>https://twitter.com/Sina1332828/status/861885090766479360#aid=817444588621332480</td>\n",
       "      <td>416c64a2-efd5-4644-9df9-e44d01850df6</td>\n",
       "      <td>1</td>\n",
       "    </tr>\n",
       "    <tr>\n",
       "      <th>88</th>\n",
       "      <td>11505129.0</td>\n",
       "      <td>@Telekom_hilft Wollt ihr mich eigentlich Verarschen ? Garantierte 01234567890 er Leitung , 4500 kommen an ... EIN WITZ IST DAS ! ! !</td>\n",
       "      <td>18.06.2017 23:33:15</td>\n",
       "      <td>twitter.com</td>\n",
       "      <td>42129744</td>\n",
       "      <td>False</td>\n",
       "      <td>False</td>\n",
       "      <td>NaN</td>\n",
       "      <td>NaN</td>\n",
       "      <td>NaN</td>\n",
       "      <td>1</td>\n",
       "      <td>Client 388</td>\n",
       "      <td>73cf7e7c-92c5-4102-8fa7-005317723e55</td>\n",
       "      <td>https://twitter.com/Galaxy_208/status/876553420295024645#aid=4725882196</td>\n",
       "      <td>3953c591-16a6-48d9-b8d5-37593e022dc6</td>\n",
       "      <td>1</td>\n",
       "    </tr>\n",
       "    <tr>\n",
       "      <th>89</th>\n",
       "      <td>11505129.0</td>\n",
       "      <td>@Telekom_hilft Wollt ihr mich eigentlich Verarschen ? Garantierte 01234567890 er Leitung , 4500 kommen an ... EIN WITZ IST DAS ! ! !</td>\n",
       "      <td>18.06.2017 23:33:15</td>\n",
       "      <td>twitter.com</td>\n",
       "      <td>42129703</td>\n",
       "      <td>True</td>\n",
       "      <td>False</td>\n",
       "      <td>NaN</td>\n",
       "      <td>NaN</td>\n",
       "      <td>NaN</td>\n",
       "      <td>551631</td>\n",
       "      <td>Alle</td>\n",
       "      <td>73cf7e7c-92c5-4102-8fa7-005317723e55</td>\n",
       "      <td>https://twitter.com/Galaxy_208/status/876553420295024645#aid=4725882196</td>\n",
       "      <td>011b50aa-2644-478e-90a7-075851087066</td>\n",
       "      <td>1</td>\n",
       "    </tr>\n",
       "    <tr>\n",
       "      <th>90</th>\n",
       "      <td>10676082.0</td>\n",
       "      <td>Vodafone gratuliert Telekom zum Geburtstag und entfacht Grundschul-Gag-Battle dasbesteaussocialmedia.de Vodafone Deutschland vs . Telekom-hilft . Süß . https://external.xx.fbcdn.net/safe_image.php?d=AQC9Reoj4yxdNov3&amp;w=130&amp;h=130&amp;url=http%3A%2F%2Fwww.dasbesteaussocialmedia.de%2Fwp-content%2Fuploads%2F2017%2F05%2FHeader-1.jpg&amp;cfs=1&amp;_nc_hash=AQCMSAWDk4oK-hrp</td>\n",
       "      <td>09.05.2017 11:40:19</td>\n",
       "      <td>www.facebook.com</td>\n",
       "      <td>40184137</td>\n",
       "      <td>True</td>\n",
       "      <td>False</td>\n",
       "      <td>NaN</td>\n",
       "      <td>NaN</td>\n",
       "      <td>NaN</td>\n",
       "      <td>551631</td>\n",
       "      <td>Alle</td>\n",
       "      <td>e77f2367-8ce8-4b9f-ba67-005497b71531</td>\n",
       "      <td>https://www.facebook.com/DasBesteausSocialMedia/posts/1690331321268710#pid=122768271103611&amp;uid=1421331988168646_1690331321268710&amp;aid=1421331988168646&amp;vid=2&amp;wid=122768271103611</td>\n",
       "      <td>af182bd4-24a5-4cac-99ef-d1efe8e2d88c</td>\n",
       "      <td>1</td>\n",
       "    </tr>\n",
       "    <tr>\n",
       "      <th>91</th>\n",
       "      <td>8838693.0</td>\n",
       "      <td>Lou Isa</td>\n",
       "      <td>09.05.2017 11:46:34</td>\n",
       "      <td>www.facebook.com</td>\n",
       "      <td>40184142</td>\n",
       "      <td>False</td>\n",
       "      <td>False</td>\n",
       "      <td>NaN</td>\n",
       "      <td>NaN</td>\n",
       "      <td>NaN</td>\n",
       "      <td>551631</td>\n",
       "      <td>Alle</td>\n",
       "      <td>e77f2367-8ce8-4b9f-ba67-005497b71531</td>\n",
       "      <td>https://www.facebook.com/DasBesteausSocialMedia/posts/1690331321268710#pid=1421331988168646_1690331321268710&amp;uid=1690331321268710_1690332504601925&amp;cpid=&amp;aid=1145140065498220&amp;vid=2&amp;wid=122768271103611</td>\n",
       "      <td>fe7d35fc-2602-4f91-baed-f8374c0b4807</td>\n",
       "      <td>2</td>\n",
       "    </tr>\n",
       "    <tr>\n",
       "      <th>92</th>\n",
       "      <td>11092164.0</td>\n",
       "      <td>Werden die beiden Kanäle von der selben Social-Media-Agentur bespielt ?</td>\n",
       "      <td>09.05.2017 11:51:24</td>\n",
       "      <td>www.facebook.com</td>\n",
       "      <td>40184582</td>\n",
       "      <td>False</td>\n",
       "      <td>False</td>\n",
       "      <td>NaN</td>\n",
       "      <td>NaN</td>\n",
       "      <td>NaN</td>\n",
       "      <td>551631</td>\n",
       "      <td>Alle</td>\n",
       "      <td>e77f2367-8ce8-4b9f-ba67-005497b71531</td>\n",
       "      <td>https://www.facebook.com/DasBesteausSocialMedia/posts/1690331321268710#pid=1421331988168646_1690331321268710&amp;uid=1690331321268710_1690334424601733&amp;cpid=&amp;aid=10207280618484128&amp;vid=2&amp;wid=122768271103611</td>\n",
       "      <td>a8f89771-df04-4722-87f6-328b1354e572</td>\n",
       "      <td>2</td>\n",
       "    </tr>\n",
       "    <tr>\n",
       "      <th>93</th>\n",
       "      <td>11092165.0</td>\n",
       "      <td>Michi J . Fisch</td>\n",
       "      <td>09.05.2017 11:55:22</td>\n",
       "      <td>www.facebook.com</td>\n",
       "      <td>40184584</td>\n",
       "      <td>False</td>\n",
       "      <td>False</td>\n",
       "      <td>NaN</td>\n",
       "      <td>NaN</td>\n",
       "      <td>NaN</td>\n",
       "      <td>551631</td>\n",
       "      <td>Alle</td>\n",
       "      <td>e77f2367-8ce8-4b9f-ba67-005497b71531</td>\n",
       "      <td>https://www.facebook.com/DasBesteausSocialMedia/posts/1690331321268710#pid=1421331988168646_1690331321268710&amp;uid=1690331321268710_1690336131268229&amp;cpid=&amp;aid=1115972445127395&amp;vid=2&amp;wid=122768271103611</td>\n",
       "      <td>0eedea7e-749b-4acf-9043-6cff7954a401</td>\n",
       "      <td>2</td>\n",
       "    </tr>\n",
       "    <tr>\n",
       "      <th>94</th>\n",
       "      <td>3154958.0</td>\n",
       "      <td>Seht geil</td>\n",
       "      <td>09.05.2017 11:59:20</td>\n",
       "      <td>www.facebook.com</td>\n",
       "      <td>40185011</td>\n",
       "      <td>False</td>\n",
       "      <td>False</td>\n",
       "      <td>NaN</td>\n",
       "      <td>NaN</td>\n",
       "      <td>NaN</td>\n",
       "      <td>551631</td>\n",
       "      <td>Alle</td>\n",
       "      <td>e77f2367-8ce8-4b9f-ba67-005497b71531</td>\n",
       "      <td>https://www.facebook.com/DasBesteausSocialMedia/posts/1690331321268710#pid=1421331988168646_1690331321268710&amp;uid=1690331321268710_1690337144601461&amp;cpid=&amp;aid=1587955054793641&amp;vid=2&amp;wid=122768271103611</td>\n",
       "      <td>93875dec-c445-42d0-ad19-712f574dd13d</td>\n",
       "      <td>2</td>\n",
       "    </tr>\n",
       "    <tr>\n",
       "      <th>95</th>\n",
       "      <td>6923502.0</td>\n",
       "      <td>Maxim Ribsam</td>\n",
       "      <td>09.05.2017 12:04:52</td>\n",
       "      <td>www.facebook.com</td>\n",
       "      <td>40185015</td>\n",
       "      <td>False</td>\n",
       "      <td>False</td>\n",
       "      <td>NaN</td>\n",
       "      <td>NaN</td>\n",
       "      <td>NaN</td>\n",
       "      <td>551631</td>\n",
       "      <td>Alle</td>\n",
       "      <td>e77f2367-8ce8-4b9f-ba67-005497b71531</td>\n",
       "      <td>https://www.facebook.com/DasBesteausSocialMedia/posts/1690331321268710#pid=1421331988168646_1690331321268710&amp;uid=1690331321268710_1690337937934715&amp;cpid=&amp;aid=989855077714850&amp;vid=2&amp;wid=122768271103611</td>\n",
       "      <td>7095e6d1-0320-449c-be98-429256ea362c</td>\n",
       "      <td>2</td>\n",
       "    </tr>\n",
       "    <tr>\n",
       "      <th>96</th>\n",
       "      <td>7960206.0</td>\n",
       "      <td>Anna Henne hatten wir nicht eben noch die Rede von sowas ? 😂</td>\n",
       "      <td>09.05.2017 12:23:44</td>\n",
       "      <td>www.facebook.com</td>\n",
       "      <td>40185908</td>\n",
       "      <td>False</td>\n",
       "      <td>False</td>\n",
       "      <td>NaN</td>\n",
       "      <td>NaN</td>\n",
       "      <td>NaN</td>\n",
       "      <td>551631</td>\n",
       "      <td>Alle</td>\n",
       "      <td>e77f2367-8ce8-4b9f-ba67-005497b71531</td>\n",
       "      <td>https://www.facebook.com/DasBesteausSocialMedia/posts/1690331321268710#pid=1421331988168646_1690331321268710&amp;uid=1690331321268710_1690343034600872&amp;cpid=&amp;aid=1012569235445368&amp;vid=2&amp;wid=122768271103611</td>\n",
       "      <td>3848c271-5167-4178-915b-5e9cf6a73e33</td>\n",
       "      <td>2</td>\n",
       "    </tr>\n",
       "    <tr>\n",
       "      <th>97</th>\n",
       "      <td>1054180.0</td>\n",
       "      <td>Bin mir nicht ganz sicher , ob ich dieses gegenseitige Abfeiern von \" Hey , wir machen mal ' nen lockerflockigen Diss und zeigen wie cool wir als seriöses Unternehmen kommunizieren \" noch witzig finden kann . #VodafoneTelekom #EdekaLidl</td>\n",
       "      <td>09.05.2017 12:57:15</td>\n",
       "      <td>www.facebook.com</td>\n",
       "      <td>40188023</td>\n",
       "      <td>False</td>\n",
       "      <td>False</td>\n",
       "      <td>NaN</td>\n",
       "      <td>NaN</td>\n",
       "      <td>NaN</td>\n",
       "      <td>551631</td>\n",
       "      <td>Alle</td>\n",
       "      <td>e77f2367-8ce8-4b9f-ba67-005497b71531</td>\n",
       "      <td>https://www.facebook.com/DasBesteausSocialMedia/posts/1690331321268710#pid=1421331988168646_1690331321268710&amp;uid=1690331321268710_1690348651266977&amp;cpid=&amp;aid=10206536828849193&amp;vid=2&amp;wid=122768271103611</td>\n",
       "      <td>b1de2ce6-903d-4f30-bd37-f2f586dddd22</td>\n",
       "      <td>2</td>\n",
       "    </tr>\n",
       "    <tr>\n",
       "      <th>98</th>\n",
       "      <td>11092635.0</td>\n",
       "      <td>Absolutely Agree</td>\n",
       "      <td>09.05.2017 13:00:21</td>\n",
       "      <td>www.facebook.com</td>\n",
       "      <td>40188025</td>\n",
       "      <td>False</td>\n",
       "      <td>False</td>\n",
       "      <td>NaN</td>\n",
       "      <td>NaN</td>\n",
       "      <td>NaN</td>\n",
       "      <td>551631</td>\n",
       "      <td>Alle</td>\n",
       "      <td>e77f2367-8ce8-4b9f-ba67-005497b71531</td>\n",
       "      <td>https://www.facebook.com/DasBesteausSocialMedia/posts/1690331321268710#pid=1421331988168646_1690331321268710&amp;uid=1690331321268710_1690349607933548&amp;cpid=1690331321268710_1690343034600872&amp;aid=1944728432480406&amp;vid=2&amp;wid=122768271103611</td>\n",
       "      <td>91ceadfa-0a5f-4b9c-b623-6fe107bd865c</td>\n",
       "      <td>2</td>\n",
       "    </tr>\n",
       "  </tbody>\n",
       "</table>\n",
       "<p>102847 rows × 16 columns</p>\n",
       "</div>"
      ],
      "text/plain": [
       "      Authorid                                                                                                                                                                                                                                                                                                                                                                                                                                                                                                                                                                                                                                                                                                                                                                                                                                                         Content             Datetime              Host        Id  IsInitialEntry  IsPrivate  SichterGruppe SichterName                                                      Tag  TopicId   TopicName                               TwistId                                                                                                                                                                                                                                       Url                               entryid  kind\n",
       "0    2498278.0                                                                                                                                                                                                                                                                                                                                                                                                                                                                                                                                                                                                                                                                                                                                                                                                                 @Telekom_hilft er kam einfach nicht ? ! Stark !  16.03.2016 08:00:08       twitter.com  24468419            True      False            NaN         NaN                                   abgelegt durch Sichter   551631        Alle  110c312b-58b5-4037-bbb4-00037cdb8713                                                                                                                                                                 https://twitter.com/Cry_Wolf_2007/status/709997664516116480#aid=117037823  e7fe91b7-17f0-41fd-b2bb-e01fb957fc77     1\n",
       "1    6149628.0                                                                                                                                                                                                                                                                                                                                                                                                                                                                                                                                                                                                                                                                                                                                      Wann gibt es bei euch auch eine Allnetflat mit LTE im Prepaid Tarif ? Bei Vodafone ist das zb schon längere Zeit möglich !  28.04.2016 19:29:46  www.facebook.com  25766437            True      False            NaN         NaN                                                      NaN        1  Client 388  e40155d8-2470-4c01-873a-0006178b3f34                                                                              https://www.facebook.com/101768433554/posts/10154087846023555#pid=101768433554&uid=101768433554_10154087846023555&aid=939071216138919&vid=2&wid=101768433554  2ab09bd6-3c6a-479f-bc8b-63540ace690c     1\n",
       "2    2457147.0                                                                                                                                                                                                                                                                                                                                                                                                                                                                                                                                                                                                                                                                                                                  Da wird fast 2W . lang an der Straße gearbeitet für schnelleres Internet und jetzt ists langsamer als vorher ! Ich glaub ich spinne ! #Telekom  04.03.2016 19:34:49       twitter.com  24072504            True      False            NaN         NaN                             A-Team Twitter:Reaktion nein        0         NaN  e5ad9e6f-24b7-4b81-8a4c-000a94622b85                                                                                                                                                                                 http://twitter.com/xLoveRemix/statuses/705823829608767488  35cee5da-c1f1-4673-931e-93c214020124     2\n",
       "3     514748.0                                                                                                                                                                                                                                                                                                                                                                                                                                                                            Ganz große Enttäuschung beim Anbieterwechsel ! ! ! Seit 28.01 . ohne Festnetz und Internet und keiner weiß was Sache ist . Kann ich definitiv nur von abraten . Auch der Kundenservice lässt für ein Megakonzern , wie ihr es seid , leider sehr zu Wünschen übrig . Da verspricht man sich einiges mehr ! Wut , Enttäuschung und absolute Unzufriedenheit im Umgang mit Neukunden .  07.04.2016 16:39:23  www.facebook.com  25163413            True      False            NaN         NaN                                                Prio-Fall        1  Client 388  ccc369a0-7b71-4a26-a687-000b1792564f                                                                            https://www.facebook.com/101768433554/posts/10154036549798555#pid=101768433554&uid=101768433554_10154036549798555&aid=10206765699968926&vid=2&wid=101768433554  1ed81b1b-bb5c-4a5d-9bd6-cfc3826586c5     1\n",
       "4     514748.0                                                                                                                                                                                                                                                                                                                                                                                                                                                                            Ganz große Enttäuschung beim Anbieterwechsel ! ! ! Seit 28.01 . ohne Festnetz und Internet und keiner weiß was Sache ist . Kann ich definitiv nur von abraten . Auch der Kundenservice lässt für ein Megakonzern , wie ihr es seid , leider sehr zu Wünschen übrig . Da verspricht man sich einiges mehr ! Wut , Enttäuschung und absolute Unzufriedenheit im Umgang mit Neukunden .  07.04.2016 16:39:23  www.facebook.com  25163413            True      False  Sichter FB/TW    Wechsler                                                Prio-Fall        1  Client 388  ccc369a0-7b71-4a26-a687-000b1792564f                                                                            https://www.facebook.com/101768433554/posts/10154036549798555#pid=101768433554&uid=101768433554_10154036549798555&aid=10206765699968926&vid=2&wid=101768433554  1ed81b1b-bb5c-4a5d-9bd6-cfc3826586c5     1\n",
       "5    1577525.0  Hallo Meli Mel , das hört sich schrecklich an . So stellen wir uns einen Wechsel nicht vor . Tut mir auch leid , dass so lange keine Lösung vorliegt . Evtl . kann ich helfen ? Wären Sie bitte so nett mir Ihre Rückrufnummer mitzuteilen ? Gerne per Nachricht bit.ly/DMBlogPK dann rufe ich Sie sobald wie möglich an . Freundliche Grüße , Felix F . external.xx.fbcdn.net/safe_image.php?d=AQCZjY9Pb8YfRYY7&w=493&h=493&url=https%3A%2F%2Ftelekomhilft.telekom.de%2Ft5%2Fimage%2Fserverpage%2Fimage-id%2F01234567890iAA0896FF1136A6A2%3Fv%3Dmpbl-1&cfs=1&sx=520&sy=0&sw=493&sh=493 https://external.xx.fbcdn.net/safe_image.php?d=AQCU6EWudyJNjp12&w=493&h=493&url=https%3A%2F%2Ftelekomhilft.telekom.de%2Ft5%2Fimage%2Fserverpage%2Fimage-id%2F01234567890iAA0896FF1136A6A2%2Fimage-size%2Foriginal%3Fv%3Dlz-1%26px%3D-1&cfs=1&sx=520&sy=0&sw=493&sh=493  14.04.2016 20:22:00  www.facebook.com  25368047           False      False            NaN         NaN                                                      NaN        1  Client 388  ccc369a0-7b71-4a26-a687-000b1792564f                                                    https://www.facebook.com/101768433554/posts/10154036549798555#pid=101768433554_10154036549798555&uid=10154036549798555_10154054879973555&cpid=&aid=101768433554&vid=2&wid=101768433554  f4ad8c8c-34bd-401c-bc34-dee318b50b3a     3\n",
       "6     514748.0                                                                                                                                                                                                                                                                                                                                                                                                                                                                                                                                                                       Kommt leider zu spät . Nach mindestens 10 solcher Nachrichten und Aussagen beim Kundenservice , verlieren diese auch so langsam an Glaubwürdigkeit . Haben nun zu Unity Media gewechselt und innerhalb 2 Tagen funktioniert das Internet und Festznetz . Trotzdem danke für die Antwort .  14.04.2016 20:27:03  www.facebook.com  25368267           False      False            NaN         NaN  Telekom erleben:bereits geantwortet keine Antwort nötig        1  Client 388  ccc369a0-7b71-4a26-a687-000b1792564f                                               https://www.facebook.com/101768433554/posts/10154036549798555#pid=101768433554_10154036549798555&uid=10154036549798555_10154054886878555&cpid=&aid=10206765699968926&vid=2&wid=101768433554  d0e111e6-9d36-4b17-a6a8-04d88d36113e     4\n",
       "7     514748.0                                                                                                                                                                                                                                                                                                                                                                                                                                                                                                                                                                                                                                                   Und einen Schadenersatz für den Internet-Stick , etc . mit einer Abfindungserklärung ( mit keinerlei Anspruch auf weiteren Schadensersatz bei Annahme ) zu verknüpfen , ist auch sehr frech und unverschämt .  14.04.2016 20:29:38  www.facebook.com  25368359           False      False            NaN         NaN                                                      NaN        1  Client 388  ccc369a0-7b71-4a26-a687-000b1792564f                                               https://www.facebook.com/101768433554/posts/10154036549798555#pid=101768433554_10154036549798555&uid=10154036549798555_10154054891778555&cpid=&aid=10206765699968926&vid=2&wid=101768433554  4d8e7a6e-0cb1-418f-b905-a1c3d6253c02     4\n",
       "8     514748.0                                                                                                                                                                                                                                                                                                                                                                                                                                                                                                                                                                                                                                                   Und einen Schadenersatz für den Internet-Stick , etc . mit einer Abfindungserklärung ( mit keinerlei Anspruch auf weiteren Schadensersatz bei Annahme ) zu verknüpfen , ist auch sehr frech und unverschämt .  14.04.2016 20:29:38  www.facebook.com  25368359           False      False  Sichter FB/TW    Wechsler                                                      NaN        1  Client 388  ccc369a0-7b71-4a26-a687-000b1792564f                                               https://www.facebook.com/101768433554/posts/10154036549798555#pid=101768433554_10154036549798555&uid=10154036549798555_10154054891778555&cpid=&aid=10206765699968926&vid=2&wid=101768433554  4d8e7a6e-0cb1-418f-b905-a1c3d6253c02     4\n",
       "9    7727208.0                                                                                                                                                                                                                                                                                                                                                                                                                                                                                                                                                                                                                                                                                                                                                                                                                          Jetzt habt ihr Banane kassiert . ... 😨  14.04.2016 21:01:25  www.facebook.com  25369112           False      False            NaN         NaN  Telekom erleben:bereits geantwortet keine Antwort nötig        1  Client 388  ccc369a0-7b71-4a26-a687-000b1792564f                                                 https://www.facebook.com/101768433554/posts/10154036549798555#pid=101768433554_10154036549798555&uid=10154036549798555_10154054946788555&cpid=&aid=994077387328101&vid=2&wid=101768433554  efd00626-d107-4154-8f64-7b94831aa293     4\n",
       "10    514748.0                                                                                                                                                                                                                                                                                                                                                                                                                                                                                                                                                                                                                                                                                                                                                                                                                                                       Wir ? 😳 😳  14.04.2016 21:03:43  www.facebook.com  25369487           False      False            NaN         NaN  Telekom erleben:bereits geantwortet keine Antwort nötig        1  Client 388  ccc369a0-7b71-4a26-a687-000b1792564f                                               https://www.facebook.com/101768433554/posts/10154036549798555#pid=101768433554_10154036549798555&uid=10154036549798555_10154054950703555&cpid=&aid=10206765699968926&vid=2&wid=101768433554  4f61a6ce-a4e3-440b-9268-0becc4edd2fe     4\n",
       "11   7727208.0                                                                                                                                                                                                                                                                                                                                                                                                                                                                                                                                                                                                                                                                                                                                                                                                                               Dieeeeeeeeeeeee hässliche Telekom  14.04.2016 21:04:52  www.facebook.com  25369488           False      False            NaN         NaN  Telekom erleben:bereits geantwortet keine Antwort nötig        1  Client 388  ccc369a0-7b71-4a26-a687-000b1792564f                                                 https://www.facebook.com/101768433554/posts/10154036549798555#pid=101768433554_10154036549798555&uid=10154036549798555_10154054952518555&cpid=&aid=994077387328101&vid=2&wid=101768433554  8e79981d-dd8f-4feb-9c1b-115c21fa8708     4\n",
       "12   7727208.0                                                                                                                                                                                                                                                                                                                                                                                                                                                                                                                                                                                                                                                                                                                                                                                                                                                      Mensch ...  14.04.2016 21:05:03  www.facebook.com  25369484           False      False            NaN         NaN  Telekom erleben:bereits geantwortet keine Antwort nötig        1  Client 388  ccc369a0-7b71-4a26-a687-000b1792564f                                                 https://www.facebook.com/101768433554/posts/10154036549798555#pid=101768433554_10154036549798555&uid=10154036549798555_10154054952893555&cpid=&aid=994077387328101&vid=2&wid=101768433554  3fb5c257-52b4-4aa8-a98e-da2c82113995     4\n",
       "13   7649654.0                                                                                                                                                                                                                                                                                                                                                                                                                                                                                                                                                                                                                                                                                                                                                                                                Nimm Telekom ! Dort hast überall Empfang plus Hotspots #realtalk  02.04.2016 22:17:42       twitter.com  24999483            True      False            NaN         NaN                               A-Team Twitter:Reaktion ja        0         NaN  ce7220c7-a2f3-40bf-8078-000bc54765b6                                                                                                                                                                               http://twitter.com/AMAHOFFICIAL/statuses/716358969204277249  4b393989-4627-44f1-884f-28b9902021ed     2\n",
       "14   7456145.0                                                                                                                                                                                                                                                                                                                                                                                                                                                                                                                                                                                                                                                                                                                                                        Wie kann es sein , dass ich in Dänemark eine Allnetflat mit 20GB Daten für 20 € bekomme und hier nicht ?  06.03.2016 10:21:26       twitter.com  24108393            True      False            NaN         NaN  Telekom erleben:bereits geantwortet keine Antwort nötig        1  Client 388  33aae6aa-2c07-456d-9438-0011ae881651                                                                                                                                                                 https://twitter.com/jansiebertks/status/706409341369327616#aid=4717235429  b19b7523-51a5-4847-bb25-3c722a0518e8     1\n",
       "..         ...                                                                                                                                                                                                                                                                                                                                                                                                                                                                                                                                                                                                                                                                                                                                                                                                                                                             ...                  ...               ...       ...             ...        ...            ...         ...                                                      ...      ...         ...                                   ...                                                                                                                                                                                                                                       ...                                   ...   ...\n",
       "84  11576305.0                                                                                                                                                                                                                                                                                                                                                                                                                                                                                                                                                                                                                                                                                                                                                                                                                                    @Telekom_hilft Hab geschickt  27.06.2017 19:25:36       twitter.com  42458107           False      False            NaN         NaN                                                      NaN   551631        Alle  2cdf8225-bdfe-4bfb-99b5-004d155b1405                                                                                                                                                               https://twitter.com/T0pito/status/879752589419712512#aid=836127110188187648  0f3ce227-d767-4679-8fd5-e3e699c61e64     4\n",
       "85   2103282.0                                                                                                                                                                                                                                                                                                                                                                                                                                                                                                                                                                                                                                                                                                                                      So viele Probleme mit der das ich echt überlege als eingefleischte Telekomikerin zu Vodafone oder Unitymedia zu wechseln .  07.06.2017 17:18:06       twitter.com  41701251            True      False            NaN         NaN                                                      NaN        1  Client 388  5e974bd8-472c-42b2-ad17-004f9301e2cf                                                                                                                                                                       https://twitter.com/vielweib/status/872472741651337216#aid=28757440  8a91058a-1220-41db-b705-5f4c8cb7e5a5     1\n",
       "86   2742004.0                                                                                                                                                                                                                                                                                                                                                                                                                                                                                                                                                                                                                                                                                                                                                Hackerangriff : Kanadas Telekom-Gigant BCE meldet Datendiebstahl https://t.co/mRtFocIDM6 https://t.co/iVugmqTj2J  19.05.2017 08:30:21       twitter.com  40662150            True      False            NaN         NaN                                                      NaN        1  Client 388  4544ac2d-7f84-4e81-a13f-00508d28efbc                                                                                                                                                                                  http://twitter.com/DSAgentur/statuses/865454562236289024  0084da92-989b-4cba-9007-7f371fb1957c     1\n",
       "87  11092244.0                                                                                                                                                                                                                                                                                                                                                                                                                                                                                                                                                                                                                                                                                                                                                                                       Na ihr keinen graue , ich bin für #SurfenImBus :) https://t.co/lFvQbDMI0a  09.05.2017 12:06:33       twitter.com  40185033            True      False            NaN         NaN                                                      NaN   551631        Alle  fb89cd62-f3c8-4f0b-acd2-0052c72e652d                                                                                                                                                          https://twitter.com/Sina1332828/status/861885090766479360#aid=817444588621332480  416c64a2-efd5-4644-9df9-e44d01850df6     1\n",
       "88  11505129.0                                                                                                                                                                                                                                                                                                                                                                                                                                                                                                                                                                                                                                                                                                                            @Telekom_hilft Wollt ihr mich eigentlich Verarschen ? Garantierte 01234567890 er Leitung , 4500 kommen an ... EIN WITZ IST DAS ! ! !  18.06.2017 23:33:15       twitter.com  42129744           False      False            NaN         NaN                                                      NaN        1  Client 388  73cf7e7c-92c5-4102-8fa7-005317723e55                                                                                                                                                                   https://twitter.com/Galaxy_208/status/876553420295024645#aid=4725882196  3953c591-16a6-48d9-b8d5-37593e022dc6     1\n",
       "89  11505129.0                                                                                                                                                                                                                                                                                                                                                                                                                                                                                                                                                                                                                                                                                                                            @Telekom_hilft Wollt ihr mich eigentlich Verarschen ? Garantierte 01234567890 er Leitung , 4500 kommen an ... EIN WITZ IST DAS ! ! !  18.06.2017 23:33:15       twitter.com  42129703            True      False            NaN         NaN                                                      NaN   551631        Alle  73cf7e7c-92c5-4102-8fa7-005317723e55                                                                                                                                                                   https://twitter.com/Galaxy_208/status/876553420295024645#aid=4725882196  011b50aa-2644-478e-90a7-075851087066     1\n",
       "90  10676082.0                                                                                                                                                                                                                                                                                                                                                                                                                                                                                            Vodafone gratuliert Telekom zum Geburtstag und entfacht Grundschul-Gag-Battle dasbesteaussocialmedia.de Vodafone Deutschland vs . Telekom-hilft . Süß . https://external.xx.fbcdn.net/safe_image.php?d=AQC9Reoj4yxdNov3&w=130&h=130&url=http%3A%2F%2Fwww.dasbesteaussocialmedia.de%2Fwp-content%2Fuploads%2F2017%2F05%2FHeader-1.jpg&cfs=1&_nc_hash=AQCMSAWDk4oK-hrp  09.05.2017 11:40:19  www.facebook.com  40184137            True      False            NaN         NaN                                                      NaN   551631        Alle  e77f2367-8ce8-4b9f-ba67-005497b71531                                                           https://www.facebook.com/DasBesteausSocialMedia/posts/1690331321268710#pid=122768271103611&uid=1421331988168646_1690331321268710&aid=1421331988168646&vid=2&wid=122768271103611  af182bd4-24a5-4cac-99ef-d1efe8e2d88c     1\n",
       "91   8838693.0                                                                                                                                                                                                                                                                                                                                                                                                                                                                                                                                                                                                                                                                                                                                                                                                                                                         Lou Isa  09.05.2017 11:46:34  www.facebook.com  40184142           False      False            NaN         NaN                                                      NaN   551631        Alle  e77f2367-8ce8-4b9f-ba67-005497b71531                                   https://www.facebook.com/DasBesteausSocialMedia/posts/1690331321268710#pid=1421331988168646_1690331321268710&uid=1690331321268710_1690332504601925&cpid=&aid=1145140065498220&vid=2&wid=122768271103611  fe7d35fc-2602-4f91-baed-f8374c0b4807     2\n",
       "92  11092164.0                                                                                                                                                                                                                                                                                                                                                                                                                                                                                                                                                                                                                                                                                                                                                                                         Werden die beiden Kanäle von der selben Social-Media-Agentur bespielt ?  09.05.2017 11:51:24  www.facebook.com  40184582           False      False            NaN         NaN                                                      NaN   551631        Alle  e77f2367-8ce8-4b9f-ba67-005497b71531                                  https://www.facebook.com/DasBesteausSocialMedia/posts/1690331321268710#pid=1421331988168646_1690331321268710&uid=1690331321268710_1690334424601733&cpid=&aid=10207280618484128&vid=2&wid=122768271103611  a8f89771-df04-4722-87f6-328b1354e572     2\n",
       "93  11092165.0                                                                                                                                                                                                                                                                                                                                                                                                                                                                                                                                                                                                                                                                                                                                                                                                                                                 Michi J . Fisch  09.05.2017 11:55:22  www.facebook.com  40184584           False      False            NaN         NaN                                                      NaN   551631        Alle  e77f2367-8ce8-4b9f-ba67-005497b71531                                   https://www.facebook.com/DasBesteausSocialMedia/posts/1690331321268710#pid=1421331988168646_1690331321268710&uid=1690331321268710_1690336131268229&cpid=&aid=1115972445127395&vid=2&wid=122768271103611  0eedea7e-749b-4acf-9043-6cff7954a401     2\n",
       "94   3154958.0                                                                                                                                                                                                                                                                                                                                                                                                                                                                                                                                                                                                                                                                                                                                                                                                                                                       Seht geil  09.05.2017 11:59:20  www.facebook.com  40185011           False      False            NaN         NaN                                                      NaN   551631        Alle  e77f2367-8ce8-4b9f-ba67-005497b71531                                   https://www.facebook.com/DasBesteausSocialMedia/posts/1690331321268710#pid=1421331988168646_1690331321268710&uid=1690331321268710_1690337144601461&cpid=&aid=1587955054793641&vid=2&wid=122768271103611  93875dec-c445-42d0-ad19-712f574dd13d     2\n",
       "95   6923502.0                                                                                                                                                                                                                                                                                                                                                                                                                                                                                                                                                                                                                                                                                                                                                                                                                                                    Maxim Ribsam  09.05.2017 12:04:52  www.facebook.com  40185015           False      False            NaN         NaN                                                      NaN   551631        Alle  e77f2367-8ce8-4b9f-ba67-005497b71531                                    https://www.facebook.com/DasBesteausSocialMedia/posts/1690331321268710#pid=1421331988168646_1690331321268710&uid=1690331321268710_1690337937934715&cpid=&aid=989855077714850&vid=2&wid=122768271103611  7095e6d1-0320-449c-be98-429256ea362c     2\n",
       "96   7960206.0                                                                                                                                                                                                                                                                                                                                                                                                                                                                                                                                                                                                                                                                                                                                                                                                    Anna Henne hatten wir nicht eben noch die Rede von sowas ? 😂  09.05.2017 12:23:44  www.facebook.com  40185908           False      False            NaN         NaN                                                      NaN   551631        Alle  e77f2367-8ce8-4b9f-ba67-005497b71531                                   https://www.facebook.com/DasBesteausSocialMedia/posts/1690331321268710#pid=1421331988168646_1690331321268710&uid=1690331321268710_1690343034600872&cpid=&aid=1012569235445368&vid=2&wid=122768271103611  3848c271-5167-4178-915b-5e9cf6a73e33     2\n",
       "97   1054180.0                                                                                                                                                                                                                                                                                                                                                                                                                                                                                                                                                                                                                    Bin mir nicht ganz sicher , ob ich dieses gegenseitige Abfeiern von \" Hey , wir machen mal ' nen lockerflockigen Diss und zeigen wie cool wir als seriöses Unternehmen kommunizieren \" noch witzig finden kann . #VodafoneTelekom #EdekaLidl  09.05.2017 12:57:15  www.facebook.com  40188023           False      False            NaN         NaN                                                      NaN   551631        Alle  e77f2367-8ce8-4b9f-ba67-005497b71531                                  https://www.facebook.com/DasBesteausSocialMedia/posts/1690331321268710#pid=1421331988168646_1690331321268710&uid=1690331321268710_1690348651266977&cpid=&aid=10206536828849193&vid=2&wid=122768271103611  b1de2ce6-903d-4f30-bd37-f2f586dddd22     2\n",
       "98  11092635.0                                                                                                                                                                                                                                                                                                                                                                                                                                                                                                                                                                                                                                                                                                                                                                                                                                                Absolutely Agree  09.05.2017 13:00:21  www.facebook.com  40188025           False      False            NaN         NaN                                                      NaN   551631        Alle  e77f2367-8ce8-4b9f-ba67-005497b71531  https://www.facebook.com/DasBesteausSocialMedia/posts/1690331321268710#pid=1421331988168646_1690331321268710&uid=1690331321268710_1690349607933548&cpid=1690331321268710_1690343034600872&aid=1944728432480406&vid=2&wid=122768271103611  91ceadfa-0a5f-4b9c-b623-6fe107bd865c     2\n",
       "\n",
       "[102847 rows x 16 columns]"
      ]
     },
     "execution_count": 74,
     "metadata": {},
     "output_type": "execute_result"
    }
   ],
   "source": [
    "raw_df"
   ]
  },
  {
   "cell_type": "code",
   "execution_count": 75,
   "metadata": {
    "ExecuteTime": {
     "end_time": "2018-01-30T08:41:39.360164Z",
     "start_time": "2018-01-30T08:41:39.341531Z"
    },
    "scrolled": true
   },
   "outputs": [
    {
     "data": {
      "text/plain": [
       "array([nan, 'Wechsler', 'GK', 'Entertain', 'IP & FTTH & PSTN', 'Festnetz',\n",
       "       'Dienste & Abos', 'Neue Themen', 'Mobile'], dtype=object)"
      ]
     },
     "execution_count": 75,
     "metadata": {},
     "output_type": "execute_result"
    }
   ],
   "source": [
    "pd.unique(raw_df.SichterName)"
   ]
  },
  {
   "cell_type": "code",
   "execution_count": 76,
   "metadata": {
    "ExecuteTime": {
     "end_time": "2018-01-30T08:41:40.271078Z",
     "start_time": "2018-01-30T08:41:39.435503Z"
    }
   },
   "outputs": [],
   "source": [
    "from collections import defaultdict\n",
    "\n",
    "def f(x):\n",
    "     return pd.Series(dict(SichterName = set(x.SichterName) - {np.nan},\n",
    "                                   Tag = set(x.Tag),\n",
    "                               Content = list(x.Content),\n",
    "                                  Kind = list(x.kind)))\n",
    "\n",
    "df = raw_df.query('(kind==1 or kind==3) and SichterName').sort_values(['Datetime'],ascending=True).groupby('TwistId').apply(f)"
   ]
  },
  {
   "cell_type": "code",
   "execution_count": 77,
   "metadata": {
    "ExecuteTime": {
     "end_time": "2018-01-30T08:41:40.336711Z",
     "start_time": "2018-01-30T08:41:40.282205Z"
    },
    "scrolled": true
   },
   "outputs": [
    {
     "data": {
      "text/html": [
       "<div>\n",
       "<style>\n",
       "    .dataframe thead tr:only-child th {\n",
       "        text-align: right;\n",
       "    }\n",
       "\n",
       "    .dataframe thead th {\n",
       "        text-align: left;\n",
       "    }\n",
       "\n",
       "    .dataframe tbody tr th {\n",
       "        vertical-align: top;\n",
       "    }\n",
       "</style>\n",
       "<table border=\"1\" class=\"dataframe\">\n",
       "  <thead>\n",
       "    <tr style=\"text-align: right;\">\n",
       "      <th></th>\n",
       "      <th>Content</th>\n",
       "      <th>Kind</th>\n",
       "      <th>SichterName</th>\n",
       "      <th>Tag</th>\n",
       "    </tr>\n",
       "    <tr>\n",
       "      <th>TwistId</th>\n",
       "      <th></th>\n",
       "      <th></th>\n",
       "      <th></th>\n",
       "      <th></th>\n",
       "    </tr>\n",
       "  </thead>\n",
       "  <tbody>\n",
       "    <tr>\n",
       "      <th>00090c82-7bd0-48e7-b688-28d148259a06</th>\n",
       "      <td>[... so liebe Telekom , nach 12 Tagen wurde mein Telefonanschluss immer noch nicht aktiviert , eine ganz schön lange Zeit . Scheint schwierig zu sein sich zeitnah um das eigentliche Kerngeschäft zu kümmern . Was machen denn die vielen Telekom Mitarbeiter den ganzen Tag ? Liebe Kunden , ja mein Geschäft gibt es noch , allerdings mangels Fachkompetenz der Telekom leider ohne Telefon und Fax . So etwas ist möglich hier in Deutschland ! Würde ich in Afrika im tiefsten Busch leben , hätte ich ja Verständnis und könnte eine Buschtrommel benutzen . Sollten Rauchzeichen über unserem Ort aufgehen , diese sind von mir ... Freundliche Grüße Eva-Maria Gebels]</td>\n",
       "      <td>[1]</td>\n",
       "      <td>{GK}</td>\n",
       "      <td>{nan}</td>\n",
       "    </tr>\n",
       "    <tr>\n",
       "      <th>00e08556-0ffa-4acd-bae7-d8b0f7a5307f</th>\n",
       "      <td>[Hat hier schon mal jemand von der Telekom weitergeholfen bekommen ? ? ? Ich glaube , das interessiert hier auch keinen von dem Verein . Schade , aber bezahlt mal einer die Rechnung nicht ... Da sind sie schneller]</td>\n",
       "      <td>[1]</td>\n",
       "      <td>{GK}</td>\n",
       "      <td>{Rückgabe an Sichter}</td>\n",
       "    </tr>\n",
       "    <tr>\n",
       "      <th>00f52db8-86e3-46c9-b9d1-36361fd812cc</th>\n",
       "      <td>[Shock Therapy Achtung ! Wegen Portierungsproblemen zwischen der Telekom und Vodafone sind wir telefonisch nicht erreichbar ! Raus telefonieren können wir aber . Schickt uns eine e-mail dann rufen wir zurück oder versucht es unter 0176-0123456 7890 Alternativ könnt ihr auch unser Kontaktformular auf der Website verwenden . http://shock-therapy.com/ueber-shock-therapy/kontaktformular/ Das ist einfach eine riesen Sauerei die da läuft ! Vodafone Deutschland schiebt es auf die Deutsche Telekom AG und die Telekom sagt lapidar man müsse sich an den neuen Anbieter wenden . Soweit \" In Deutschland ist alles geregelt ! ! Shock Therapy shared their photo . https://scontent.xx.fbcdn.net/hphotos-xfp1/v/t1.0-0/s130x130/01234567890_0123456789001234567890_0123456789001234567890_n.jpg?oh=b32af0557c01234567890ce9de9f24d992ade&amp;oe=57BF609D]</td>\n",
       "      <td>[1]</td>\n",
       "      <td>{Wechsler}</td>\n",
       "      <td>{nan}</td>\n",
       "    </tr>\n",
       "    <tr>\n",
       "      <th>01503e4d-59e7-4754-9408-b0569cc8b20f</th>\n",
       "      <td>[Hallo , umzugsbedingt haben wir ein Sonderkündigungsrecht der Telekom genutzt , was aber wohl durch die Rufnummerübernahme zum neuen Anbieter mittlerweile seit November 2015 nur zu Chaos führt . Ständig bekommen wir neue Schreiben , das unser Vertrag mit der Telekom nun gekündigt sei , dann kommt kurz darauf ein Schreiben was besagt , dass unser Vertrag weiter besteht , usw , usw . Bei der Hotline blickt auch niemand mehr durch - oftmals ist das Gespräch \" einfach weg \" ! ! ! Sorry , aber diese Callcenter sind einfach nur Kundenfeindlich ! Muss ich bis nach Bonn fahren , um jmd kompetentes zu erwischen , der endlich helfen kann ? ? ?]</td>\n",
       "      <td>[1]</td>\n",
       "      <td>{Wechsler}</td>\n",
       "      <td>{nan}</td>\n",
       "    </tr>\n",
       "    <tr>\n",
       "      <th>028dae36-ed94-40f0-8a80-cdf2af1a97ba</th>\n",
       "      <td>[Liebes Telekom-hilft-Team , mein Vorgang 01234567890 #01234567890 # flammt wieder auf : Mein Festnetz-Anschluss ist von außen nicht erreichbar , weder mobil aus einem anderen Netz ( \" Anschluss vorübergehend nicht erreichbar \" ) noch aus anderen Festnetzen . Der Versuch , die an der ISDN-Anlage angeschlossenen Festnetznummern gegenseitig anzurufen , endet in einem Besetztzeichen . Kurz : Der Zustand , den wir schon einmal verbessert hatten , hat sich wieder verschlechtert , bei ungeänderter Konfiguration der Anlage und des Routers . Was tun ? Hier scheint das Routing – wieder einmal – erheblich durcheinander gekommen zu sein . Über ein Rückmeldung freue ich mich – ist einfach nicht so schön , wenn die Kunden erst ins Leere laufen und dann mobil anrufen und das erste Thema im Gespräch die eigene Nichterreichbarkeit ist ...]</td>\n",
       "      <td>[1]</td>\n",
       "      <td>{GK}</td>\n",
       "      <td>{nan}</td>\n",
       "    </tr>\n",
       "    <tr>\n",
       "      <th>031ff757-3678-4c9e-a8fb-06c354a2ea2c</th>\n",
       "      <td>[@Telekom_hilft Und warum nur Magenta ? Ich hätte auch gern mehr mit DB Flex ., @Telekom_hilft Und warum nur Magenta ? Ich hätte auch gern mehr mit DB Flex .]</td>\n",
       "      <td>[1, 1]</td>\n",
       "      <td>{GK}</td>\n",
       "      <td>{nan}</td>\n",
       "    </tr>\n",
       "    <tr>\n",
       "      <th>04892a95-2e6c-4a8d-9453-408283a3b5db</th>\n",
       "      <td>[@Telekom_hilft Seid Ihr auch für Geschäfsk . zuständig ? Die Kollegen per Mail legen scheinbar nicht so viel Wert auf 15 + Jahre Kundschaft .]</td>\n",
       "      <td>[1]</td>\n",
       "      <td>{GK}</td>\n",
       "      <td>{nan}</td>\n",
       "    </tr>\n",
       "    <tr>\n",
       "      <th>055a31f2-ac05-4876-b0da-d4dedd63c170</th>\n",
       "      <td>[Guten Abend , obwohl nach den letzten zwei Tagen ? Seit der tollen Umstellung , die bei uns gestern war , haben wir auf Arbeit kein Internet , kein Telefon , kein EC-Cash , kein Fax usw . Wir sind abgeschnitten vom Rest der Welt . Und das als Reisebüro . Ups , da hat bei der Umstellung was nicht geklappt ! Wann sie wieder On sin ? Keine Ahnung , dass kann dauern ! Umsatzeinbuse , Verdienstausfall und was das schlimmste ist , die Kunden gehen nach nebenan ins Reisebüro und kommen mit viel Pech nicht zurück . Arbeitsplätze hängen daran , Existenzen . Naja , macht ja nichts ! Störungsstelle , immer die selbe Aussage . Wir arbeiten daran ! Ach nein ! Wie lange noch ? So lange bis wir zu machen können ? Danke liebe Telekom !]</td>\n",
       "      <td>[1]</td>\n",
       "      <td>{GK}</td>\n",
       "      <td>{nan}</td>\n",
       "    </tr>\n",
       "    <tr>\n",
       "      <th>05feb340-d958-4dbb-bb46-e151dc085e48</th>\n",
       "      <td>[Achtung bittere Ironie ! Vielen Dank liebe Telekom , dass Ihr meine Firmen auf das neue , moderne und innovative VoIP Verfahren umgestellt habt . Meine Güte , was wird dadurch nicht alles besser ... also laut den Hochglanzprospekten . Bessere Sprachqualität , höherer DSL Durchsatz mehr Flexibilität und selbst der Geschmack des Frühstückskaffee sollte durch die neue Technik besser werden . Aber wenn etwas ZU gut klingt , werde ich skeptisch und hab mich lange gegen die Umstellung gewehrt . Aber da Ihr liebe Telekom es so gut mit mit meint , habt Ihr mir einfach meinen Vertrag gekündigt , wohl wissend , dass es keinen Anbieter mehr gibt , der noch ISDN Anschlüsse bereitstellt . Also habe ich mich zerknirscht zurück begeben in den Schoß der wohlmeinenden Telekom , die mich nun mit den Segnungen der VoIP Technik beglückt und damit endlich die Langeweile aus meinen Alltag vertrieben hat . Was war das vorher für ein öder Büroalltag . Wenn man jemanden Anrufen wollte , hat man per CTI di...</td>\n",
       "      <td>[1]</td>\n",
       "      <td>{GK}</td>\n",
       "      <td>{nan}</td>\n",
       "    </tr>\n",
       "    <tr>\n",
       "      <th>06f514b2-2a69-450b-ad87-07972629eae0</th>\n",
       "      <td>[Liebes Telekomteam , wo finde ich Handyangebote für Geschäftskunden bei Vertragsverlängerung . Habe mir schon die Finger wundgetippt .]</td>\n",
       "      <td>[1]</td>\n",
       "      <td>{GK}</td>\n",
       "      <td>{nan}</td>\n",
       "    </tr>\n",
       "    <tr>\n",
       "      <th>07058693-4e21-4d8a-bad8-60bf7c2a87a9</th>\n",
       "      <td>[Fühle mich im Stich gelassen von der Telekom . Schriftliche Auftragsbestätigung 2 Techniker Termine und kein Techniker kommt . 12 Tage offline . Bin sehr verärgert !]</td>\n",
       "      <td>[1]</td>\n",
       "      <td>{GK}</td>\n",
       "      <td>{nan}</td>\n",
       "    </tr>\n",
       "    <tr>\n",
       "      <th>070e721f-ec3d-44d3-a70b-6f853858fd60</th>\n",
       "      <td>[Liebe @Telekom_hilft : Wann kann ich endlich in surfen ? Zahle Business-Tarif . Die mit surfen fleißig . Doch mal wechseln ?]</td>\n",
       "      <td>[1]</td>\n",
       "      <td>{GK}</td>\n",
       "      <td>{nan}</td>\n",
       "    </tr>\n",
       "    <tr>\n",
       "      <th>08d0c730-56a0-48e4-a91e-f7fc5a301fa3</th>\n",
       "      <td>[Das Trick mit garantierter 24h Geschäftskundenentstöhrung der - einfach jeden Tag neues Ticket für altes Problem anlegen]</td>\n",
       "      <td>[1]</td>\n",
       "      <td>{GK}</td>\n",
       "      <td>{nan}</td>\n",
       "    </tr>\n",
       "    <tr>\n",
       "      <th>09c2b2ef-d7a4-44f2-803d-bf670b07f175</th>\n",
       "      <td>[Sehr geehrte Damen und Herren ! Wir sind seit 17 Jahren Business Kunde bei der Telekom . Vor 6 Wochen haben wir bei der telekom angerufen und mit geteilt , dass wir gerne umziehen und um einen Termin mit einem Techniker gebeten . Nachdem die Hotline dann 3 Wochen trotz mehrmaliger Anrufe nicht reagiert hat , haben wir unseren Ansprechpartner Herrn Dirk Emig kontaktiert . Doch auch dort passiert nichts . Herr Emig ruft nie zurück und reagierte auf 20 Emails nicht oder nur sehr ungenügend . Auch hat er es nicht geschafft uns trotz mehrmaliger Aufforderung uns ein Angebot zu machen zum Kauf einer telefonanlage ! Wir warten nun seit 6 Wochen auf einen Termin für unseren Umzug ! Bitte reagieren Sie endlich einmal . Rufnummer : 0621- 0123456 7890 emv GmbH Tobias Eppler]</td>\n",
       "      <td>[1]</td>\n",
       "      <td>{GK}</td>\n",
       "      <td>{Prio-Fall}</td>\n",
       "    </tr>\n",
       "    <tr>\n",
       "      <th>09ef78bc-7512-4b12-bd8f-4b5fb73816b6</th>\n",
       "      <td>[Hallo liebes Team von Telekom hilft . Ich habe eine Frage an Euch , auf die ich selbst nach langer googlerei keine Antwort gefunden habe . Folgende Konstellation liegt vor : C und D sind ein Paar und leben in einem gemeinsamen Haushalt . C hat beim Einzug einen DSL-Vertrag mit der Telekom geschlossen . Mehrere Rufnummern sind in dem Vertrag inkludiert . Jetzt haben sich C und D getrennt . D zieht in eine neue Wohnung und möchte dort einen Vertrag bei einem alternativen DSL-Provider machen . Ist es möglich , eine der Rufnummern aus dem Vertrag von C auf den ( noch abzuschließenden ) Vertrag von D zu portieren ? Und wenn ja , wie geht das ? Danke schon mal für Eure Antwort ! LG Bernd]</td>\n",
       "      <td>[1]</td>\n",
       "      <td>{Wechsler}</td>\n",
       "      <td>{nan}</td>\n",
       "    </tr>\n",
       "    <tr>\n",
       "      <th>...</th>\n",
       "      <td>...</td>\n",
       "      <td>...</td>\n",
       "      <td>...</td>\n",
       "      <td>...</td>\n",
       "    </tr>\n",
       "    <tr>\n",
       "      <th>f497eb6d-50eb-4a1f-9d10-f8aeb24a4eee</th>\n",
       "      <td>[Liebe @Telekom_hilft , wenn Ihr mich schon drosselt ( bei Business XXL ? Echt jetzt ? ) weist mich wenigstens drauf hin #rüde]</td>\n",
       "      <td>[1]</td>\n",
       "      <td>{GK}</td>\n",
       "      <td>{nan}</td>\n",
       "    </tr>\n",
       "    <tr>\n",
       "      <th>f4d9db56-49b5-451e-8a13-c9cd8fbe78f4</th>\n",
       "      <td>[Hallo Telekom , ich habe in meiner Firma seit 23.02 . 2016 kein Telefon und kein Fax mehr . Ich werde bei der Hotline seit über einer Woche im Kreis verbunden und nichts passiert . Wann kann ich wieder telefonieren ?]</td>\n",
       "      <td>[1]</td>\n",
       "      <td>{GK}</td>\n",
       "      <td>{Prio-Fall}</td>\n",
       "    </tr>\n",
       "    <tr>\n",
       "      <th>f574e1f4-5d45-46e1-90a2-ac0a3534c451</th>\n",
       "      <td>[Hallo Regina , ich bitte erneut um Anruf . Wir haben doch noch mal das Vergnügen , denn es gibt noch einen Fehler ... Hast Du meine Nummer noch ? Vg Michael]</td>\n",
       "      <td>[1]</td>\n",
       "      <td>{GK}</td>\n",
       "      <td>{nan}</td>\n",
       "    </tr>\n",
       "    <tr>\n",
       "      <th>f597c302-4517-43bc-a457-18a3a30f04fb</th>\n",
       "      <td>[SoundCloud Widget w.soundcloud.com Hallo Telekom-hilft-Team . Heute bin ich auf einen neuen Business-Tarif umgestellt worden und prompt macht sich das an Eurem Auswahlmenü auf der Hotline bemerkbar . :-D https://w.soundcloud.com/player/?url=https%3A//api.soundcloud.com/tracks/01234567890&amp;auto_play=false&amp;hide_related=false&amp;show_comments=true&amp;show_user=true&amp;show_reposts=false&amp;visual=true]</td>\n",
       "      <td>[1]</td>\n",
       "      <td>{GK}</td>\n",
       "      <td>{nan}</td>\n",
       "    </tr>\n",
       "    <tr>\n",
       "      <th>f5d77166-401a-49ff-bb9c-8ea802efdd61</th>\n",
       "      <td>[klar . Ich mag das auch immer ... Hast du mal @Telekom_hilft gefragt ?]</td>\n",
       "      <td>[1]</td>\n",
       "      <td>{GK}</td>\n",
       "      <td>{nan}</td>\n",
       "    </tr>\n",
       "    <tr>\n",
       "      <th>f7b80706-97fd-4b76-b99a-e2701b128c3a</th>\n",
       "      <td>[Wie hilft denn die Telekom , wenn man sich extra \" frei \" nimmt , um den Techniker für den Bereitstellungstermins des Anschlusses zu empfangen . Sitzt stundenlang zu Hause und der kommt einfach nicht ? ? ? Ruft auch nicht an , um abzusagen . Vom Kunden wird erwartet , dass wenn man den Termin nicht wahrnehmen kann , spätestens drei Tage zuvor absagen soll , da ansonsten eine Anfahrtspauschale berechnet wird . Gut und wer bezahlt meinen Verdienstausfall ? ? ? 1 Brief und 2 SMS-Bestätigungen habe ich erhalten und ging davon aus , dass der Termin dann auch sicher ist ! ! ! Aus Frustration vom ehemaligen Anbieter wechselt man auch extra zu Ihnen , in der Hoffnung , dass man nach 3 Monaten vielleicht doch endlich einmal Internet bekommt und dann geht das Spielchen gerade weiter . Ich hätte nun bitte gerne einen Alternativ-Termin und das nicht erst nächstes Jahr . Da es Ihr Unternehmen verschuldet hat , will ich auch von Ihnen angerufen werden und nicht in der 30 - minütigen Warteschlei...</td>\n",
       "      <td>[1]</td>\n",
       "      <td>{Wechsler}</td>\n",
       "      <td>{Wechsler - Import}</td>\n",
       "    </tr>\n",
       "    <tr>\n",
       "      <th>f89bd0be-18de-475f-8565-7cfeb7ab4977</th>\n",
       "      <td>[. @Telekom_hilft - Forum : Statisches V6 ? Pah , gibts nicht . Musste schon Business-DSL nehmen . Ich würd ' ja zahlen ... #CallYourISPforIPv6]</td>\n",
       "      <td>[1]</td>\n",
       "      <td>{GK}</td>\n",
       "      <td>{nan}</td>\n",
       "    </tr>\n",
       "    <tr>\n",
       "      <th>f8de3f3f-0d6b-494e-90da-a09c2417fa43</th>\n",
       "      <td>[Sehr geehrte Damen und Herren , Als langjähriger Telekom-Geschäftskunde haben wir uns nach Rücksprache mit unserem Kundenberater der Telekom dazu entschlossen , den Schritt von ISDN auf IP zu wagen und unsere komplette Anlage umzustellen . Die Vorbereitungen zum Abschalten unserer beiden NTBA und des DSL-Anschlusses und Zuschaltung des neuen IP-Anschlusses plus zwei zusätzliche SIP-Trunks waren sowohl mit dem Kundenberater der Telekom , unserem IT-Administrator als auch unserem Telefonanlagen-Betreuer abgestimmt und terminiert . Soweit die Planung ... Nun wurde unser DSL-Anschluss Freitagmorgen abgeschaltet , terminiert war jedoch Freitagabend - somit standen wir am kompletten Freitag ohne Fax - und Internet da . Die Umschaltung unserer Telefonleitung war für Montagmorgen zwischen 6-8 Uhr terminiert . Somit haben wir unseren IT-Administrator sowie den Telefonanlagen-Betreuer für Montagmorgen bestellt , um die Anlage neu zu konfigurieren . Da wir bis 9 Uhr immer noch keine Schaltun...</td>\n",
       "      <td>[1]</td>\n",
       "      <td>{GK}</td>\n",
       "      <td>{nan}</td>\n",
       "    </tr>\n",
       "    <tr>\n",
       "      <th>f9c3bb2f-bba3-4403-bee8-a1885fb61bf2</th>\n",
       "      <td>[@Telekom_hilft Eumex 400 , Telefon klingelt nicht an Port 2 , telefonieren geht aber ( rein &amp; raus ) . An Port 1 klingelt es . Was kann das sein ?]</td>\n",
       "      <td>[1]</td>\n",
       "      <td>{GK}</td>\n",
       "      <td>{nan}</td>\n",
       "    </tr>\n",
       "    <tr>\n",
       "      <th>fa31ca7b-cfd0-463d-ad77-8006084bb869</th>\n",
       "      <td>[Hallo @Telekom_hilft ich warte jetzt schon eine Woche auf einen Rückruf bei einem Ticket f . die Digitalisierungsbox Premium . Keine Anrufe]</td>\n",
       "      <td>[1]</td>\n",
       "      <td>{GK}</td>\n",
       "      <td>{nan}</td>\n",
       "    </tr>\n",
       "    <tr>\n",
       "      <th>fb4c94e4-a6d9-4b1d-8de5-552c63b4cdf4</th>\n",
       "      <td>[@Telekom_hilft ich hätte da mal eine Frage zu einem Wechsel in den Businesskunden-Tarif … Hotline ca . 45 ( ! ) min Wartezeit #keinAprilscherz]</td>\n",
       "      <td>[1]</td>\n",
       "      <td>{GK}</td>\n",
       "      <td>{nan}</td>\n",
       "    </tr>\n",
       "    <tr>\n",
       "      <th>fbaede9f-2d3d-42c6-b692-1b9aa78159a5</th>\n",
       "      <td>[Liebe Telekom , auch wir hätten Dich gern erlebt . Vor zwei Monaten begann der kühne Versuch , Dein Kunde zu werden . Einen Shop-Besuch , 31 Telefonate , 22 E-Mails und 4 Fax später müssen wir feststellen : Wir sind gescheitert – es bleibt ein Traum . Nie konnte man unseren Auftrag bestätigen . Immer war eine andere Abteilung zuständig , die auf eine andere Abteilung verwiesen hat , die auf eine andere Abteilung verwiesen hat ... Das war ein Alptraum . Unsere unzähligen Avancen hast Du einfach ignoriert . Offensichtlich bist Du nicht an weiteren Kunden interessiert . Oder es liegt an uns und wir hätten es zuletzt doch noch per Brieftaube oder Flaschenpost versuchen sollen ? ? Klär ' uns gerne auf .]</td>\n",
       "      <td>[1]</td>\n",
       "      <td>{Wechsler}</td>\n",
       "      <td>{Wechsler - Import}</td>\n",
       "    </tr>\n",
       "    <tr>\n",
       "      <th>fbb818da-8c3a-4663-9c95-99a953771d0a</th>\n",
       "      <td>[Liebes Team von Telekom Hilft . Ich versuche jetzt mal auf diesem Weg Hilfe zu finden , da der telefonische Support offensichtlich nicht helfen will . Ich habe meinen alten Provider ( 1 &amp; 1 ) hinter mir gelassen und bin zur Telekom gewechselt , da mir hier 100 Mbit über VDSL Vectoring in Aussicht gestellt wurden . Nach etwas bürokratischem hin und her kam dann letztendlich auch die Auftragsbestätigung und drei Tage vor dem Schalttermin auch die Zugangsdaten . So weit , so gut . Gestern war es dann also so weit . Der 29.2 . wurde mir als Schalttermin für VDSL genannt und ich bemerkte in der Früh auch sofort , dass meine Telefone nicht mehr bei meinem alten Provider angemeldet waren . Meine FRITZ ! Box 7490 teilte mir das so mit . Also hat die Portierung der Telefonie scheinbar schon geklappt . Wunderbar . Allerdings synchronisierte mein Router immer noch mit dem alten ADSL 2 + ( Annex B ) Anschluss . Auch die Einwahldaten meines alten Providers funktionierten noch . Ich rief darauf...</td>\n",
       "      <td>[1]</td>\n",
       "      <td>{Wechsler}</td>\n",
       "      <td>{nan}</td>\n",
       "    </tr>\n",
       "    <tr>\n",
       "      <th>fc2609c6-3a56-4d70-904e-5f1413aca5e3</th>\n",
       "      <td>[@Telekom_hilft Ich kann nicht auf das Geschäftskundenportal zugreifen unter https://t.co/NuMatCi84H . Was ist da los ?]</td>\n",
       "      <td>[1]</td>\n",
       "      <td>{GK}</td>\n",
       "      <td>{nan}</td>\n",
       "    </tr>\n",
       "    <tr>\n",
       "      <th>fd20c103-67a8-4a84-91ce-41c2dd73a16d</th>\n",
       "      <td>[Telekom verweigert Ausschachtung , hält uns seit Dez 2015 hin . Grandioses Theater . Kasperle . @Telekom_hilft #übergabepunkt &gt;:(]</td>\n",
       "      <td>[1]</td>\n",
       "      <td>{Wechsler}</td>\n",
       "      <td>{nan}</td>\n",
       "    </tr>\n",
       "  </tbody>\n",
       "</table>\n",
       "<p>301 rows × 4 columns</p>\n",
       "</div>"
      ],
      "text/plain": [
       "                                                                                                                                                                                                                                                                                                                                                                                                                                                                                                                                                                                                                                                                                                                                                                                                                                                                                                                                                                                                                                                                      Content    Kind SichterName                    Tag\n",
       "TwistId                                                                                                                                                                                                                                                                                                                                                                                                                                                                                                                                                                                                                                                                                                                                                                                                                                                                                                                                                                                                                                                                                                                 \n",
       "00090c82-7bd0-48e7-b688-28d148259a06                                                                                                                                                                                                                                                                                                                                                          [... so liebe Telekom , nach 12 Tagen wurde mein Telefonanschluss immer noch nicht aktiviert , eine ganz schön lange Zeit . Scheint schwierig zu sein sich zeitnah um das eigentliche Kerngeschäft zu kümmern . Was machen denn die vielen Telekom Mitarbeiter den ganzen Tag ? Liebe Kunden , ja mein Geschäft gibt es noch , allerdings mangels Fachkompetenz der Telekom leider ohne Telefon und Fax . So etwas ist möglich hier in Deutschland ! Würde ich in Afrika im tiefsten Busch leben , hätte ich ja Verständnis und könnte eine Buschtrommel benutzen . Sollten Rauchzeichen über unserem Ort aufgehen , diese sind von mir ... Freundliche Grüße Eva-Maria Gebels]     [1]        {GK}                  {nan}\n",
       "00e08556-0ffa-4acd-bae7-d8b0f7a5307f                                                                                                                                                                                                                                                                                                                                                                                                                                                                                                                                                                                                                                                                                                                                                                                                                   [Hat hier schon mal jemand von der Telekom weitergeholfen bekommen ? ? ? Ich glaube , das interessiert hier auch keinen von dem Verein . Schade , aber bezahlt mal einer die Rechnung nicht ... Da sind sie schneller]     [1]        {GK}  {Rückgabe an Sichter}\n",
       "00f52db8-86e3-46c9-b9d1-36361fd812cc                                                                                                                                                                        [Shock Therapy Achtung ! Wegen Portierungsproblemen zwischen der Telekom und Vodafone sind wir telefonisch nicht erreichbar ! Raus telefonieren können wir aber . Schickt uns eine e-mail dann rufen wir zurück oder versucht es unter 0176-0123456 7890 Alternativ könnt ihr auch unser Kontaktformular auf der Website verwenden . http://shock-therapy.com/ueber-shock-therapy/kontaktformular/ Das ist einfach eine riesen Sauerei die da läuft ! Vodafone Deutschland schiebt es auf die Deutsche Telekom AG und die Telekom sagt lapidar man müsse sich an den neuen Anbieter wenden . Soweit \" In Deutschland ist alles geregelt ! ! Shock Therapy shared their photo . https://scontent.xx.fbcdn.net/hphotos-xfp1/v/t1.0-0/s130x130/01234567890_0123456789001234567890_0123456789001234567890_n.jpg?oh=b32af0557c01234567890ce9de9f24d992ade&oe=57BF609D]     [1]  {Wechsler}                  {nan}\n",
       "01503e4d-59e7-4754-9408-b0569cc8b20f                                                                                                                                                                                                                                                                                                                                                                      [Hallo , umzugsbedingt haben wir ein Sonderkündigungsrecht der Telekom genutzt , was aber wohl durch die Rufnummerübernahme zum neuen Anbieter mittlerweile seit November 2015 nur zu Chaos führt . Ständig bekommen wir neue Schreiben , das unser Vertrag mit der Telekom nun gekündigt sei , dann kommt kurz darauf ein Schreiben was besagt , dass unser Vertrag weiter besteht , usw , usw . Bei der Hotline blickt auch niemand mehr durch - oftmals ist das Gespräch \" einfach weg \" ! ! ! Sorry , aber diese Callcenter sind einfach nur Kundenfeindlich ! Muss ich bis nach Bonn fahren , um jmd kompetentes zu erwischen , der endlich helfen kann ? ? ?]     [1]  {Wechsler}                  {nan}\n",
       "028dae36-ed94-40f0-8a80-cdf2af1a97ba                                                                                                                                                                      [Liebes Telekom-hilft-Team , mein Vorgang 01234567890 #01234567890 # flammt wieder auf : Mein Festnetz-Anschluss ist von außen nicht erreichbar , weder mobil aus einem anderen Netz ( \" Anschluss vorübergehend nicht erreichbar \" ) noch aus anderen Festnetzen . Der Versuch , die an der ISDN-Anlage angeschlossenen Festnetznummern gegenseitig anzurufen , endet in einem Besetztzeichen . Kurz : Der Zustand , den wir schon einmal verbessert hatten , hat sich wieder verschlechtert , bei ungeänderter Konfiguration der Anlage und des Routers . Was tun ? Hier scheint das Routing – wieder einmal – erheblich durcheinander gekommen zu sein . Über ein Rückmeldung freue ich mich – ist einfach nicht so schön , wenn die Kunden erst ins Leere laufen und dann mobil anrufen und das erste Thema im Gespräch die eigene Nichterreichbarkeit ist ...]     [1]        {GK}                  {nan}\n",
       "031ff757-3678-4c9e-a8fb-06c354a2ea2c                                                                                                                                                                                                                                                                                                                                                                                                                                                                                                                                                                                                                                                                                                                                                                                                                                                                           [@Telekom_hilft Und warum nur Magenta ? Ich hätte auch gern mehr mit DB Flex ., @Telekom_hilft Und warum nur Magenta ? Ich hätte auch gern mehr mit DB Flex .]  [1, 1]        {GK}                  {nan}\n",
       "04892a95-2e6c-4a8d-9453-408283a3b5db                                                                                                                                                                                                                                                                                                                                                                                                                                                                                                                                                                                                                                                                                                                                                                                                                                                                                          [@Telekom_hilft Seid Ihr auch für Geschäfsk . zuständig ? Die Kollegen per Mail legen scheinbar nicht so viel Wert auf 15 + Jahre Kundschaft .]     [1]        {GK}                  {nan}\n",
       "055a31f2-ac05-4876-b0da-d4dedd63c170                                                                                                                                                                                                                                                                              [Guten Abend , obwohl nach den letzten zwei Tagen ? Seit der tollen Umstellung , die bei uns gestern war , haben wir auf Arbeit kein Internet , kein Telefon , kein EC-Cash , kein Fax usw . Wir sind abgeschnitten vom Rest der Welt . Und das als Reisebüro . Ups , da hat bei der Umstellung was nicht geklappt ! Wann sie wieder On sin ? Keine Ahnung , dass kann dauern ! Umsatzeinbuse , Verdienstausfall und was das schlimmste ist , die Kunden gehen nach nebenan ins Reisebüro und kommen mit viel Pech nicht zurück . Arbeitsplätze hängen daran , Existenzen . Naja , macht ja nichts ! Störungsstelle , immer die selbe Aussage . Wir arbeiten daran ! Ach nein ! Wie lange noch ? So lange bis wir zu machen können ? Danke liebe Telekom !]     [1]        {GK}                  {nan}\n",
       "05feb340-d958-4dbb-bb46-e151dc085e48  [Achtung bittere Ironie ! Vielen Dank liebe Telekom , dass Ihr meine Firmen auf das neue , moderne und innovative VoIP Verfahren umgestellt habt . Meine Güte , was wird dadurch nicht alles besser ... also laut den Hochglanzprospekten . Bessere Sprachqualität , höherer DSL Durchsatz mehr Flexibilität und selbst der Geschmack des Frühstückskaffee sollte durch die neue Technik besser werden . Aber wenn etwas ZU gut klingt , werde ich skeptisch und hab mich lange gegen die Umstellung gewehrt . Aber da Ihr liebe Telekom es so gut mit mit meint , habt Ihr mir einfach meinen Vertrag gekündigt , wohl wissend , dass es keinen Anbieter mehr gibt , der noch ISDN Anschlüsse bereitstellt . Also habe ich mich zerknirscht zurück begeben in den Schoß der wohlmeinenden Telekom , die mich nun mit den Segnungen der VoIP Technik beglückt und damit endlich die Langeweile aus meinen Alltag vertrieben hat . Was war das vorher für ein öder Büroalltag . Wenn man jemanden Anrufen wollte , hat man per CTI di...     [1]        {GK}                  {nan}\n",
       "06f514b2-2a69-450b-ad87-07972629eae0                                                                                                                                                                                                                                                                                                                                                                                                                                                                                                                                                                                                                                                                                                                                                                                                                                                                                                 [Liebes Telekomteam , wo finde ich Handyangebote für Geschäftskunden bei Vertragsverlängerung . Habe mir schon die Finger wundgetippt .]     [1]        {GK}                  {nan}\n",
       "07058693-4e21-4d8a-bad8-60bf7c2a87a9                                                                                                                                                                                                                                                                                                                                                                                                                                                                                                                                                                                                                                                                                                                                                                                                                                                                  [Fühle mich im Stich gelassen von der Telekom . Schriftliche Auftragsbestätigung 2 Techniker Termine und kein Techniker kommt . 12 Tage offline . Bin sehr verärgert !]     [1]        {GK}                  {nan}\n",
       "070e721f-ec3d-44d3-a70b-6f853858fd60                                                                                                                                                                                                                                                                                                                                                                                                                                                                                                                                                                                                                                                                                                                                                                                                                                                                                                           [Liebe @Telekom_hilft : Wann kann ich endlich in surfen ? Zahle Business-Tarif . Die mit surfen fleißig . Doch mal wechseln ?]     [1]        {GK}                  {nan}\n",
       "08d0c730-56a0-48e4-a91e-f7fc5a301fa3                                                                                                                                                                                                                                                                                                                                                                                                                                                                                                                                                                                                                                                                                                                                                                                                                                                                                                               [Das Trick mit garantierter 24h Geschäftskundenentstöhrung der - einfach jeden Tag neues Ticket für altes Problem anlegen]     [1]        {GK}                  {nan}\n",
       "09c2b2ef-d7a4-44f2-803d-bf670b07f175                                                                                                                                                                                                                                  [Sehr geehrte Damen und Herren ! Wir sind seit 17 Jahren Business Kunde bei der Telekom . Vor 6 Wochen haben wir bei der telekom angerufen und mit geteilt , dass wir gerne umziehen und um einen Termin mit einem Techniker gebeten . Nachdem die Hotline dann 3 Wochen trotz mehrmaliger Anrufe nicht reagiert hat , haben wir unseren Ansprechpartner Herrn Dirk Emig kontaktiert . Doch auch dort passiert nichts . Herr Emig ruft nie zurück und reagierte auf 20 Emails nicht oder nur sehr ungenügend . Auch hat er es nicht geschafft uns trotz mehrmaliger Aufforderung uns ein Angebot zu machen zum Kauf einer telefonanlage ! Wir warten nun seit 6 Wochen auf einen Termin für unseren Umzug ! Bitte reagieren Sie endlich einmal . Rufnummer : 0621- 0123456 7890 emv GmbH Tobias Eppler]     [1]        {GK}            {Prio-Fall}\n",
       "09ef78bc-7512-4b12-bd8f-4b5fb73816b6                                                                                                                                                                                                                                                                                                                     [Hallo liebes Team von Telekom hilft . Ich habe eine Frage an Euch , auf die ich selbst nach langer googlerei keine Antwort gefunden habe . Folgende Konstellation liegt vor : C und D sind ein Paar und leben in einem gemeinsamen Haushalt . C hat beim Einzug einen DSL-Vertrag mit der Telekom geschlossen . Mehrere Rufnummern sind in dem Vertrag inkludiert . Jetzt haben sich C und D getrennt . D zieht in eine neue Wohnung und möchte dort einen Vertrag bei einem alternativen DSL-Provider machen . Ist es möglich , eine der Rufnummern aus dem Vertrag von C auf den ( noch abzuschließenden ) Vertrag von D zu portieren ? Und wenn ja , wie geht das ? Danke schon mal für Eure Antwort ! LG Bernd]     [1]  {Wechsler}                  {nan}\n",
       "...                                                                                                                                                                                                                                                                                                                                                                                                                                                                                                                                                                                                                                                                                                                                                                                                                                                                                                                                                                                                                                                                       ...     ...         ...                    ...\n",
       "f497eb6d-50eb-4a1f-9d10-f8aeb24a4eee                                                                                                                                                                                                                                                                                                                                                                                                                                                                                                                                                                                                                                                                                                                                                                                                                                                                                                          [Liebe @Telekom_hilft , wenn Ihr mich schon drosselt ( bei Business XXL ? Echt jetzt ? ) weist mich wenigstens drauf hin #rüde]     [1]        {GK}                  {nan}\n",
       "f4d9db56-49b5-451e-8a13-c9cd8fbe78f4                                                                                                                                                                                                                                                                                                                                                                                                                                                                                                                                                                                                                                                                                                                                                                                                               [Hallo Telekom , ich habe in meiner Firma seit 23.02 . 2016 kein Telefon und kein Fax mehr . Ich werde bei der Hotline seit über einer Woche im Kreis verbunden und nichts passiert . Wann kann ich wieder telefonieren ?]     [1]        {GK}            {Prio-Fall}\n",
       "f574e1f4-5d45-46e1-90a2-ac0a3534c451                                                                                                                                                                                                                                                                                                                                                                                                                                                                                                                                                                                                                                                                                                                                                                                                                                                                           [Hallo Regina , ich bitte erneut um Anruf . Wir haben doch noch mal das Vergnügen , denn es gibt noch einen Fehler ... Hast Du meine Nummer noch ? Vg Michael]     [1]        {GK}                  {nan}\n",
       "f597c302-4517-43bc-a457-18a3a30f04fb                                                                                                                                                                                                                                                                                                                                                                                                                                                                                                                                                                                                                                   [SoundCloud Widget w.soundcloud.com Hallo Telekom-hilft-Team . Heute bin ich auf einen neuen Business-Tarif umgestellt worden und prompt macht sich das an Eurem Auswahlmenü auf der Hotline bemerkbar . :-D https://w.soundcloud.com/player/?url=https%3A//api.soundcloud.com/tracks/01234567890&auto_play=false&hide_related=false&show_comments=true&show_user=true&show_reposts=false&visual=true]     [1]        {GK}                  {nan}\n",
       "f5d77166-401a-49ff-bb9c-8ea802efdd61                                                                                                                                                                                                                                                                                                                                                                                                                                                                                                                                                                                                                                                                                                                                                                                                                                                                                                                                                                 [klar . Ich mag das auch immer ... Hast du mal @Telekom_hilft gefragt ?]     [1]        {GK}                  {nan}\n",
       "f7b80706-97fd-4b76-b99a-e2701b128c3a  [Wie hilft denn die Telekom , wenn man sich extra \" frei \" nimmt , um den Techniker für den Bereitstellungstermins des Anschlusses zu empfangen . Sitzt stundenlang zu Hause und der kommt einfach nicht ? ? ? Ruft auch nicht an , um abzusagen . Vom Kunden wird erwartet , dass wenn man den Termin nicht wahrnehmen kann , spätestens drei Tage zuvor absagen soll , da ansonsten eine Anfahrtspauschale berechnet wird . Gut und wer bezahlt meinen Verdienstausfall ? ? ? 1 Brief und 2 SMS-Bestätigungen habe ich erhalten und ging davon aus , dass der Termin dann auch sicher ist ! ! ! Aus Frustration vom ehemaligen Anbieter wechselt man auch extra zu Ihnen , in der Hoffnung , dass man nach 3 Monaten vielleicht doch endlich einmal Internet bekommt und dann geht das Spielchen gerade weiter . Ich hätte nun bitte gerne einen Alternativ-Termin und das nicht erst nächstes Jahr . Da es Ihr Unternehmen verschuldet hat , will ich auch von Ihnen angerufen werden und nicht in der 30 - minütigen Warteschlei...     [1]  {Wechsler}    {Wechsler - Import}\n",
       "f89bd0be-18de-475f-8565-7cfeb7ab4977                                                                                                                                                                                                                                                                                                                                                                                                                                                                                                                                                                                                                                                                                                                                                                                                                                                                                         [. @Telekom_hilft - Forum : Statisches V6 ? Pah , gibts nicht . Musste schon Business-DSL nehmen . Ich würd ' ja zahlen ... #CallYourISPforIPv6]     [1]        {GK}                  {nan}\n",
       "f8de3f3f-0d6b-494e-90da-a09c2417fa43  [Sehr geehrte Damen und Herren , Als langjähriger Telekom-Geschäftskunde haben wir uns nach Rücksprache mit unserem Kundenberater der Telekom dazu entschlossen , den Schritt von ISDN auf IP zu wagen und unsere komplette Anlage umzustellen . Die Vorbereitungen zum Abschalten unserer beiden NTBA und des DSL-Anschlusses und Zuschaltung des neuen IP-Anschlusses plus zwei zusätzliche SIP-Trunks waren sowohl mit dem Kundenberater der Telekom , unserem IT-Administrator als auch unserem Telefonanlagen-Betreuer abgestimmt und terminiert . Soweit die Planung ... Nun wurde unser DSL-Anschluss Freitagmorgen abgeschaltet , terminiert war jedoch Freitagabend - somit standen wir am kompletten Freitag ohne Fax - und Internet da . Die Umschaltung unserer Telefonleitung war für Montagmorgen zwischen 6-8 Uhr terminiert . Somit haben wir unseren IT-Administrator sowie den Telefonanlagen-Betreuer für Montagmorgen bestellt , um die Anlage neu zu konfigurieren . Da wir bis 9 Uhr immer noch keine Schaltun...     [1]        {GK}                  {nan}\n",
       "f9c3bb2f-bba3-4403-bee8-a1885fb61bf2                                                                                                                                                                                                                                                                                                                                                                                                                                                                                                                                                                                                                                                                                                                                                                                                                                                                                     [@Telekom_hilft Eumex 400 , Telefon klingelt nicht an Port 2 , telefonieren geht aber ( rein & raus ) . An Port 1 klingelt es . Was kann das sein ?]     [1]        {GK}                  {nan}\n",
       "fa31ca7b-cfd0-463d-ad77-8006084bb869                                                                                                                                                                                                                                                                                                                                                                                                                                                                                                                                                                                                                                                                                                                                                                                                                                                                                            [Hallo @Telekom_hilft ich warte jetzt schon eine Woche auf einen Rückruf bei einem Ticket f . die Digitalisierungsbox Premium . Keine Anrufe]     [1]        {GK}                  {nan}\n",
       "fb4c94e4-a6d9-4b1d-8de5-552c63b4cdf4                                                                                                                                                                                                                                                                                                                                                                                                                                                                                                                                                                                                                                                                                                                                                                                                                                                                                         [@Telekom_hilft ich hätte da mal eine Frage zu einem Wechsel in den Businesskunden-Tarif … Hotline ca . 45 ( ! ) min Wartezeit #keinAprilscherz]     [1]        {GK}                  {nan}\n",
       "fbaede9f-2d3d-42c6-b692-1b9aa78159a5                                                                                                                                                                                                                                                                                                    [Liebe Telekom , auch wir hätten Dich gern erlebt . Vor zwei Monaten begann der kühne Versuch , Dein Kunde zu werden . Einen Shop-Besuch , 31 Telefonate , 22 E-Mails und 4 Fax später müssen wir feststellen : Wir sind gescheitert – es bleibt ein Traum . Nie konnte man unseren Auftrag bestätigen . Immer war eine andere Abteilung zuständig , die auf eine andere Abteilung verwiesen hat , die auf eine andere Abteilung verwiesen hat ... Das war ein Alptraum . Unsere unzähligen Avancen hast Du einfach ignoriert . Offensichtlich bist Du nicht an weiteren Kunden interessiert . Oder es liegt an uns und wir hätten es zuletzt doch noch per Brieftaube oder Flaschenpost versuchen sollen ? ? Klär ' uns gerne auf .]     [1]  {Wechsler}    {Wechsler - Import}\n",
       "fbb818da-8c3a-4663-9c95-99a953771d0a  [Liebes Team von Telekom Hilft . Ich versuche jetzt mal auf diesem Weg Hilfe zu finden , da der telefonische Support offensichtlich nicht helfen will . Ich habe meinen alten Provider ( 1 & 1 ) hinter mir gelassen und bin zur Telekom gewechselt , da mir hier 100 Mbit über VDSL Vectoring in Aussicht gestellt wurden . Nach etwas bürokratischem hin und her kam dann letztendlich auch die Auftragsbestätigung und drei Tage vor dem Schalttermin auch die Zugangsdaten . So weit , so gut . Gestern war es dann also so weit . Der 29.2 . wurde mir als Schalttermin für VDSL genannt und ich bemerkte in der Früh auch sofort , dass meine Telefone nicht mehr bei meinem alten Provider angemeldet waren . Meine FRITZ ! Box 7490 teilte mir das so mit . Also hat die Portierung der Telefonie scheinbar schon geklappt . Wunderbar . Allerdings synchronisierte mein Router immer noch mit dem alten ADSL 2 + ( Annex B ) Anschluss . Auch die Einwahldaten meines alten Providers funktionierten noch . Ich rief darauf...     [1]  {Wechsler}                  {nan}\n",
       "fc2609c6-3a56-4d70-904e-5f1413aca5e3                                                                                                                                                                                                                                                                                                                                                                                                                                                                                                                                                                                                                                                                                                                                                                                                                                                                                                                 [@Telekom_hilft Ich kann nicht auf das Geschäftskundenportal zugreifen unter https://t.co/NuMatCi84H . Was ist da los ?]     [1]        {GK}                  {nan}\n",
       "fd20c103-67a8-4a84-91ce-41c2dd73a16d                                                                                                                                                                                                                                                                                                                                                                                                                                                                                                                                                                                                                                                                                                                                                                                                                                                                                                      [Telekom verweigert Ausschachtung , hält uns seit Dez 2015 hin . Grandioses Theater . Kasperle . @Telekom_hilft #übergabepunkt >:(]     [1]  {Wechsler}                  {nan}\n",
       "\n",
       "[301 rows x 4 columns]"
      ]
     },
     "execution_count": 77,
     "metadata": {},
     "output_type": "execute_result"
    }
   ],
   "source": [
    "df"
   ]
  },
  {
   "cell_type": "code",
   "execution_count": 78,
   "metadata": {
    "ExecuteTime": {
     "end_time": "2018-01-30T08:41:40.398947Z",
     "start_time": "2018-01-30T08:41:40.339768Z"
    }
   },
   "outputs": [],
   "source": [
    "import re\n",
    "GRUBER_URLINTEXT_PAT = re.compile(r'(?i)\\b((?:https?://|www\\d{0,3}[.]|[a-z0-9.\\-]+[.][a-z]{2,4}/)(?:[^\\s()<>]|\\(([^\\s()<>]+|(\\([^\\s()<>]+\\)))*\\))+(?:\\(([^\\s()<>]+|(\\([^\\s()<>]+\\)))*\\)|[^\\s`!()\\[\\]{};:\\'\".,<>?\\xab\\xbb\\u201c\\u201d\\u2018\\u2019]))')\n",
    "NUMBER_CLEAN = re.compile(r'\\d+(:?[.,]?\\d+)*')\n",
    "TIME_CLEAN = re.compile(r'\\d+:\\d+(?:\\s?[u]hr)?')\n",
    "PUNCT_CLEAN = re.compile(r'(\\s?)[\\.\\,()\\[\\]\\{\\}\\^\\:\\'\\\"\\/;/!/?/…/€/%//“„=–><&]+(\\s?)')\n",
    "DASH_CLEAN = re.compile(r'([^et])[-]')\n",
    "TWEET_CLEAN = re.compile(r'@\\w+')\n",
    "HASH_CLEAN = re.compile(r'#(\\w+)')\n",
    "SPACE_CLEAN = re.compile(r'(\\s)\\s+')\n",
    "RT_CLEAN = re.compile(r'^rt\\b')\n",
    "\n",
    "def preprocessing(text):\n",
    "    try:\n",
    "        text = text.lower()\n",
    "        # clean-up url\n",
    "        text = GRUBER_URLINTEXT_PAT.sub('', text)\n",
    "        # remove time\n",
    "        text = TIME_CLEAN.sub('', text)\n",
    "        # clean-up numbers\n",
    "        text = NUMBER_CLEAN.sub('', text)\n",
    "        text = PUNCT_CLEAN.sub(r'\\1\\2',text)\n",
    "        text = TWEET_CLEAN.sub('', text)\n",
    "        text = HASH_CLEAN.sub(r'\\1', text)\n",
    "#         text = DASH_CLEAN.sub(r'\\1 ', text)\n",
    "        text = SPACE_CLEAN.sub(r'\\1', text)\n",
    "        text = RT_CLEAN.sub(r'', text)\n",
    "        return ' '.join([word for word in text.split(' ') if word not in stopwords]).strip()\n",
    "    except:\n",
    "        return ''\n",
    "\n",
    "with open('./stopwords-de.txt') as f:\n",
    "    stopwords = f.read().split('\\n')"
   ]
  },
  {
   "cell_type": "code",
   "execution_count": 79,
   "metadata": {
    "ExecuteTime": {
     "end_time": "2018-01-30T08:41:40.820865Z",
     "start_time": "2018-01-30T08:41:40.401001Z"
    }
   },
   "outputs": [],
   "source": [
    "documents = [] # Content\n",
    "documents_raw = []\n",
    "labels = [] # SichterName\n",
    "\n",
    "for (idx, row) in df.iterrows():\n",
    "    if not row.Content:\n",
    "        continue\n",
    "    labels.append(row.SichterName)\n",
    "    documents_raw.append(row.Content)\n",
    "    documents.append(' '.join([preprocessing(text) for text in documents_raw[-1] if text]))"
   ]
  },
  {
   "cell_type": "code",
   "execution_count": 80,
   "metadata": {
    "ExecuteTime": {
     "end_time": "2018-01-30T08:41:41.280477Z",
     "start_time": "2018-01-30T08:41:41.275956Z"
    },
    "scrolled": true
   },
   "outputs": [
    {
     "data": {
      "text/plain": [
       "['liebe telefonanschluss aktiviert schön scheint schwierig zeitnah eigentliche kerngeschäft kümmern mitarbeiter liebe kunden geschäft mangels fachkompetenz leider telefon fax deutschland afrika tiefsten busch leben verständnis buschtrommel benutzen rauchzeichen unserem ort aufgehen freundliche grüße eva-maria gebels',\n",
       " 'weitergeholfen bekommen glaube interessiert verein schade bezahlt rechnung schneller',\n",
       " 'shock therapy achtung portierungsproblemen telefonisch erreichbar raus telefonieren schickt e-mail rufen versucht - alternativ kontaktformular website verwenden einfach riesen sauerei läuft deutschland schiebt deutsche lapidar müsse anbieter wenden deutschland geregelt shock therapy shared their photo',\n",
       " 'umzugsbedingt sonderkündigungsrecht genutzt rufnummerübernahme anbieter mittlerweile chaos führt ständig bekommen schreiben vertrag gekündigt schreiben besagt vertrag besteht usw usw hotline blickt - oftmals gespräch einfach sorry callcenter einfach kundenfeindlich bonn fahren jmd kompetentes erwischen helfen',\n",
       " 'liebes telekom-hilft-team vorgang # # flammt festnetz-anschluss außen erreichbar weder mobil netz anschluss vorübergehend erreichbar festnetzen versuch isdn-anlage angeschlossenen festnetznummern gegenseitig anzurufen endet besetztzeichen zustand verbessert verschlechtert ungeänderter konfiguration anlage routers scheint routing erheblich durcheinander gekommen rückmeldung freue einfach schön kunden leere laufen mobil anrufen thema gespräch nichterreichbarkeit',\n",
       " 'magenta db flex magenta db flex',\n",
       " 'geschäfsk zuständig kollegen per mail legen scheinbar wert + kundschaft',\n",
       " 'guten abend obwohl letzten tollen umstellung gestern arbeit internet telefon ec-cash fax usw abgeschnitten rest welt reisebüro ups umstellung geklappt on sin ahnung dauern umsatzeinbuse verdienstausfall schlimmste kunden nebenan reisebüro pech arbeitsplätze hängen existenzen naja störungsstelle selbe aussage arbeiten liebe',\n",
       " 'achtung bittere ironie liebe firmen moderne innovative voip verfahren umgestellt güte laut hochglanzprospekten bessere sprachqualität höherer dsl durchsatz flexibilität geschmack frühstückskaffee technik klingt skeptisch umstellung gewehrt liebe meint einfach vertrag gekündigt wissend anbieter isdn anschlüsse bereitstellt zerknirscht begeben schoß wohlmeinenden segnungen voip technik beglückt langeweile alltag vertrieben vorher öder büroalltag anrufen per cti nummer gewählt telefoniert sturzlangweilig voip telefonieren abenteuer meisten abenteuern vorfreude schönste funktionierte ip umstellung telefonie internet güte freudig aufgeregt bemerkte edv unternehmen umsatzes fernwartung internet realisiert sorgt totalausfall entspannte atmosphäre ruhe stuhlkreis kollegen bilden buchbaren stunden quick-reparaturoption firmen ruhe stunden angst kunden erreichbarkeit ausnutzen anrufen belästigen ansturm lauen lüftchen anruf telefonat abheben hörers schnell getrennt panik aufkommen lassen einfach kunden zurückrufen klappt anlauf ansonsten halt besetztzeichen sekunden kunden redet angenehmen situation verstehen rauschen elektronischer verzerrung mangelnde sprachqualität herausreden alten glück überholten isdn zeiten cd qualität verzögerungsfrei reden kunde bekommt glück - minuten gratis gesprächstrennung schnelleres internet äh vorher router kbit synchronisiert schafft logisch immerhin brauche leitung telefongespräche dsl geroutet kbit bandbreite braucht eh it systemhaus wohlmeinenden funktioniert dsl umstellung teuer gekaufte faxsoftware solls faxen eh aussterbende technik kunden bestehen drauf sicher erziehend eingreifen hause voip technik anrufe anlage handy weiterleiten nee vorher veralteten isdn technik dummerweise nummer anrufers angezeigt technik einfach kundencenter einloggen händisch klick verfahren hinterlegen veraltete technologie umstellungen direkt telefonanlage zeitgesteuert direkt amt durchführen lassen eh genutzt kunde feierabend nervt behaupten gewusst anruft schließlich sehe nummer knüller all innovativen spaßbringenden kreativen neuerungen bezahle micht euro ups rechnungen verwechselt zahle freude monat euro spass beiseite - - - komme voip umstellung zurückgesetzt digitale steinzeit verfahren privat-anwender praktikabel limitierungen voip protokolle firmen absolut inakzeptabel firma technisch aufgestellt nutzen business präferierten lancom business router zertifizierte techniker haus firma lancom partner telefonie stabiler dsl leitung stabil bekommen antwortzeiten voip server unterirdisch faxprotokoll unterstützt gespräche brechen völlig unkontrolliert qualität verbindungen trotz router implementierter qos regeln voip vermitteln amt langsame webseite kryptische überholte tastenmakros telefon tastatur völlig unhaltbarer zustand fordere hiermit diversen problemen stellung beziehen umgehend spätestens umfassend lösen erwarte rückabwicklung voip umstellung bereitstellung business isdn anschluss zeitpunkt technologie firmenkunden sauber stabil gehandelt',\n",
       " 'liebes telekomteam finde handyangebote geschäftskunden vertragsverlängerung finger wundgetippt']"
      ]
     },
     "execution_count": 80,
     "metadata": {},
     "output_type": "execute_result"
    }
   ],
   "source": [
    "documents[:10]"
   ]
  },
  {
   "cell_type": "code",
   "execution_count": 81,
   "metadata": {
    "ExecuteTime": {
     "end_time": "2018-01-30T08:41:42.067563Z",
     "start_time": "2018-01-30T08:41:42.008292Z"
    }
   },
   "outputs": [],
   "source": [
    "from gensim import corpora, models\n",
    "\n",
    "dictionary = corpora.Dictionary([document.split(' ') for document in documents])"
   ]
  },
  {
   "cell_type": "code",
   "execution_count": 82,
   "metadata": {
    "ExecuteTime": {
     "end_time": "2018-01-30T08:41:42.562992Z",
     "start_time": "2018-01-30T08:41:42.530978Z"
    }
   },
   "outputs": [],
   "source": [
    "corpus = [dictionary.doc2bow(document.split(' ')) for document in documents]"
   ]
  },
  {
   "cell_type": "code",
   "execution_count": 83,
   "metadata": {
    "ExecuteTime": {
     "end_time": "2018-01-30T08:42:17.662152Z",
     "start_time": "2018-01-30T08:41:42.820247Z"
    }
   },
   "outputs": [],
   "source": [
    "ldamodel = gensim.models.ldamodel.LdaModel(corpus, num_topics=N_TOPICS, id2word=dictionary, passes=N_PASSES)"
   ]
  },
  {
   "cell_type": "code",
   "execution_count": 84,
   "metadata": {
    "ExecuteTime": {
     "end_time": "2018-01-30T08:42:17.671713Z",
     "start_time": "2018-01-30T08:42:17.664354Z"
    }
   },
   "outputs": [],
   "source": [
    "topics_list = dict(ldamodel.print_topics(num_topics=30, num_words=4))"
   ]
  },
  {
   "cell_type": "code",
   "execution_count": 85,
   "metadata": {
    "ExecuteTime": {
     "end_time": "2018-01-30T08:42:17.678973Z",
     "start_time": "2018-01-30T08:42:17.674193Z"
    },
    "scrolled": true
   },
   "outputs": [
    {
     "data": {
      "text/plain": [
       "{0: '0.016*\"adresse\" + 0.015*\"absage\" + 0.013*\"-\" + 0.010*\"internet\"',\n",
       " 1: '0.025*\"techniker\" + 0.014*\"anruf\" + 0.008*\"-\" + 0.008*\"telefon\"',\n",
       " 2: '0.008*\"surfen\" + 0.008*\"deutschland\" + 0.008*\"shock\" + 0.008*\"therapy\"',\n",
       " 3: '0.012*\"techniker\" + 0.010*\"-\" + 0.010*\"telefon\" + 0.010*\"hilfe\"',\n",
       " 4: '0.008*\"magenta\" + 0.008*\"echt\" + 0.005*\"router\" + 0.005*\"erreichbar\"',\n",
       " 5: '0.010*\"vertrag\" + 0.008*\"neues\" + 0.006*\"kunden\" + 0.006*\"nix\"',\n",
       " 6: '0.019*\"hotline\" + 0.012*\"isdn\" + 0.009*\"teilte\" + 0.008*\"mitarbeiter\"',\n",
       " 7: '0.017*\"hotline\" + 0.012*\"vertrag\" + 0.010*\"kündigen\" + 0.007*\"laut\"',\n",
       " 8: '0.012*\"techniker\" + 0.011*\"anschluss\" + 0.010*\"-\" + 0.010*\"leider\"',\n",
       " 9: '0.027*\"-\" + 0.013*\"techniker\" + 0.011*\"internet\" + 0.011*\"unserem\"',\n",
       " 10: '0.012*\"-\" + 0.008*\"dtag\" + 0.008*\"kunden\" + 0.006*\"einfach\"',\n",
       " 11: '0.012*\"internet\" + 0.011*\"-\" + 0.011*\"voip\" + 0.008*\"technik\"',\n",
       " 12: '0.007*\"telefon\" + 0.007*\"hotline\" + 0.007*\"termin\" + 0.007*\"business\"',\n",
       " 13: '0.019*\"-\" + 0.008*\"hotline\" + 0.008*\"business\" + 0.006*\"leitung\"',\n",
       " 14: '0.014*\"service\" + 0.012*\"problem\" + 0.009*\"-\" + 0.009*\"anschluss\"',\n",
       " 15: '0.012*\"hotline\" + 0.012*\"leitung\" + 0.010*\"wechseln\" + 0.009*\"telefon\"',\n",
       " 16: '0.060*\"-\" + 0.009*\"mbit\" + 0.008*\"fall\" + 0.008*\"erneut\"',\n",
       " 17: '0.007*\"funktioniert\" + 0.007*\"umstellung\" + 0.007*\"liebe\" + 0.007*\"reisebüro\"',\n",
       " 18: '0.011*\"-\" + 0.007*\"änderung\" + 0.007*\"mbit-leitung\" + 0.005*\"telefon\"',\n",
       " 19: '0.007*\"techniker\" + 0.007*\"deutschland\" + 0.007*\"kunden\" + 0.007*\"telefonisch\"'}"
      ]
     },
     "execution_count": 85,
     "metadata": {},
     "output_type": "execute_result"
    }
   ],
   "source": [
    "topics_list"
   ]
  },
  {
   "cell_type": "code",
   "execution_count": 86,
   "metadata": {
    "ExecuteTime": {
     "end_time": "2018-01-30T08:42:17.686443Z",
     "start_time": "2018-01-30T08:42:17.681214Z"
    }
   },
   "outputs": [],
   "source": [
    "a = ldamodel[dictionary.doc2bow(documents[10].split(' '))]"
   ]
  },
  {
   "cell_type": "code",
   "execution_count": 87,
   "metadata": {
    "ExecuteTime": {
     "end_time": "2018-01-30T08:42:17.692969Z",
     "start_time": "2018-01-30T08:42:17.688455Z"
    }
   },
   "outputs": [
    {
     "data": {
      "text/plain": [
       "'fühle stich gelassen schriftliche auftragsbestätigung techniker termine techniker offline verärgert'"
      ]
     },
     "execution_count": 87,
     "metadata": {},
     "output_type": "execute_result"
    }
   ],
   "source": [
    "documents[10]"
   ]
  },
  {
   "cell_type": "code",
   "execution_count": 88,
   "metadata": {
    "ExecuteTime": {
     "end_time": "2018-01-30T08:42:17.700423Z",
     "start_time": "2018-01-30T08:42:17.695397Z"
    }
   },
   "outputs": [
    {
     "data": {
      "text/plain": [
       "(1, '0.012*\"-\" + 0.008*\"dtag\" + 0.008*\"kunden\" + 0.006*\"einfach\"')"
      ]
     },
     "execution_count": 88,
     "metadata": {},
     "output_type": "execute_result"
    }
   ],
   "source": [
    "sorted(a, key=lambda x: x[1],reverse=True)[0][0], topics_list[10]"
   ]
  },
  {
   "cell_type": "markdown",
   "metadata": {},
   "source": [
    "# GET MORE LABELS FROM TELEKOM.DE/HILFE"
   ]
  },
  {
   "cell_type": "code",
   "execution_count": 89,
   "metadata": {
    "ExecuteTime": {
     "end_time": "2018-01-30T08:42:17.838774Z",
     "start_time": "2018-01-30T08:42:17.702405Z"
    }
   },
   "outputs": [],
   "source": [
    "from itertools import product\n",
    "import pickle\n",
    "items = pickle.load(open('./cleaned_answers_2.pickle','rb'))\n",
    "\n",
    "qa = []\n",
    "qa_labels = []\n",
    "\n",
    "for item in items:\n",
    "    KQ = [kq.decode('utf-8') for kq in item['key_questions']]\n",
    "    answer = item['answer'].decode('utf-8')\n",
    "    question = item['question'].decode('utf-8')\n",
    "    if KQ:\n",
    "        combs = list(product([question], KQ, [answer]))\n",
    "    else:\n",
    "        combs = list(product([question], [answer]))\n",
    "    qa_labels += [item['link'].split('>')] * len(combs)\n",
    "    qa += [' '.join(comb) for comb in combs]"
   ]
  },
  {
   "cell_type": "code",
   "execution_count": 90,
   "metadata": {
    "ExecuteTime": {
     "end_time": "2018-01-30T08:42:19.820711Z",
     "start_time": "2018-01-30T08:42:17.841003Z"
    }
   },
   "outputs": [],
   "source": [
    "# bag of words\n",
    "from sklearn.feature_extraction.text import CountVectorizer\n",
    "from sklearn.feature_extraction.text import TfidfTransformer\n",
    "\n",
    "BoW = CountVectorizer(documents+qa, stop_words=stopwords, strip_accents='unicode', ngram_range=(1,3), min_df=3)\n",
    "X_bag = BoW.fit_transform(documents+qa)\n",
    "tf_transformer = TfidfTransformer()\n",
    "X_bag = tf_transformer.fit_transform(X_bag)"
   ]
  },
  {
   "cell_type": "code",
   "execution_count": 91,
   "metadata": {
    "ExecuteTime": {
     "end_time": "2018-01-30T08:42:22.149897Z",
     "start_time": "2018-01-30T08:42:19.823686Z"
    }
   },
   "outputs": [],
   "source": [
    "vectors = []\n",
    "clusters = []\n",
    "for document in documents:\n",
    "    cluster = ldamodel[dictionary.doc2bow(document.split(' '))]\n",
    "    clusters.append(sorted(a, key=lambda x: x[1],reverse=True)[0][0])\n",
    "    vector = BoW.transform([document])\n",
    "    vector = tf_transformer.transform(vector)\n",
    "    vectors.append(vector)\n",
    "    \n",
    "qa_vectors = []\n",
    "for document in qa:\n",
    "    vector = BoW.transform([document])\n",
    "    vector = tf_transformer.transform(vector)\n",
    "    qa_vectors.append(vector)"
   ]
  },
  {
   "cell_type": "code",
   "execution_count": 92,
   "metadata": {
    "ExecuteTime": {
     "end_time": "2018-01-30T08:42:22.249599Z",
     "start_time": "2018-01-30T08:42:22.152489Z"
    },
    "scrolled": false
   },
   "outputs": [
    {
     "data": {
      "text/plain": [
       "(301, 1655)"
      ]
     },
     "execution_count": 92,
     "metadata": {},
     "output_type": "execute_result"
    }
   ],
   "source": [
    "from sklearn.metrics.pairwise import linear_kernel\n",
    "from scipy.sparse import vstack\n",
    "\n",
    "vectors = vstack(vectors)\n",
    "qa_vectors = vstack(qa_vectors)\n",
    "\n",
    "sim = linear_kernel(vectors, qa_vectors)\n",
    "sim.shape"
   ]
  },
  {
   "cell_type": "code",
   "execution_count": 93,
   "metadata": {
    "ExecuteTime": {
     "end_time": "2018-01-30T08:42:22.262352Z",
     "start_time": "2018-01-30T08:42:22.252273Z"
    }
   },
   "outputs": [],
   "source": [
    "def get_new_labels(document):\n",
    "    print(document)\n",
    "    topic = topics[documents == document]\n",
    "    print(topics_list)"
   ]
  },
  {
   "cell_type": "code",
   "execution_count": 94,
   "metadata": {
    "ExecuteTime": {
     "end_time": "2018-01-30T08:42:22.270254Z",
     "start_time": "2018-01-30T08:42:22.264361Z"
    }
   },
   "outputs": [],
   "source": [
    "def get_topic(document):\n",
    "    topics = ldamodel[dictionary.doc2bow(document.split(' '))]\n",
    "    topic_ind = sorted(topics, key=lambda x: x[1],reverse=True)[0][0]\n",
    "    return topic_ind, ldamodel.print_topics(num_topics=30, num_words=10)[topic_ind]"
   ]
  },
  {
   "cell_type": "code",
   "execution_count": 95,
   "metadata": {
    "ExecuteTime": {
     "end_time": "2018-01-30T08:42:22.305859Z",
     "start_time": "2018-01-30T08:42:22.273037Z"
    }
   },
   "outputs": [
    {
     "data": {
      "text/plain": [
       "(301, 1655)"
      ]
     },
     "execution_count": 95,
     "metadata": {},
     "output_type": "execute_result"
    }
   ],
   "source": [
    "sort_sim = sim.argsort(axis=0)\n",
    "sort_sim.shape"
   ]
  },
  {
   "cell_type": "code",
   "execution_count": 96,
   "metadata": {
    "ExecuteTime": {
     "end_time": "2018-01-30T08:42:22.315086Z",
     "start_time": "2018-01-30T08:42:22.309760Z"
    }
   },
   "outputs": [],
   "source": [
    "def get_qa(document_ind):\n",
    "    sort_sim[-1:document_ind]"
   ]
  },
  {
   "cell_type": "code",
   "execution_count": 97,
   "metadata": {
    "ExecuteTime": {
     "end_time": "2018-01-30T08:42:22.502008Z",
     "start_time": "2018-01-30T08:42:22.318350Z"
    }
   },
   "outputs": [
    {
     "ename": "IndexError",
     "evalue": "list index out of range",
     "output_type": "error",
     "traceback": [
      "\u001b[0;31m---------------------------------------------------------------------------\u001b[0m",
      "\u001b[0;31mIndexError\u001b[0m                                Traceback (most recent call last)",
      "\u001b[0;32m<ipython-input-97-2cdb10dfd8d9>\u001b[0m in \u001b[0;36m<module>\u001b[0;34m()\u001b[0m\n\u001b[0;32m----> 1\u001b[0;31m \u001b[0mget_topic\u001b[0m\u001b[0;34m(\u001b[0m\u001b[0mdocuments\u001b[0m\u001b[0;34m[\u001b[0m\u001b[0;36m7135\u001b[0m\u001b[0;34m]\u001b[0m\u001b[0;34m)\u001b[0m\u001b[0;34m\u001b[0m\u001b[0m\n\u001b[0m",
      "\u001b[0;31mIndexError\u001b[0m: list index out of range"
     ]
    }
   ],
   "source": [
    "get_topic(documents[7135])"
   ]
  },
  {
   "cell_type": "code",
   "execution_count": null,
   "metadata": {
    "ExecuteTime": {
     "end_time": "2018-01-30T08:42:22.503137Z",
     "start_time": "2018-01-30T08:41:45.408Z"
    }
   },
   "outputs": [],
   "source": [
    "topics = [get_topic(document)[0] for document in documents]\n",
    "topics = np.array(topics)"
   ]
  },
  {
   "cell_type": "code",
   "execution_count": null,
   "metadata": {
    "ExecuteTime": {
     "end_time": "2018-01-30T08:42:22.504375Z",
     "start_time": "2018-01-30T08:41:45.562Z"
    }
   },
   "outputs": [],
   "source": [
    "from collections import defaultdict\n",
    "new_labels = defaultdict(list)\n",
    "new_topics = defaultdict(set)\n",
    "\n",
    "k = 4\n",
    "l = 2\n",
    "granularity = 2\n",
    "best_sort = sort_sim[-k:,:]\n",
    "\n",
    "for i in range(len(qa_labels)):\n",
    "    if len(np.unique(topics[best_sort[:,i]])) <= l:\n",
    "        best_topic = np.bincount(topics[best_sort[:,i]]).argmax()\n",
    "        new_topics[topics[best_topic]] |= (set(qa_labels[i][:granularity]))"
   ]
  },
  {
   "cell_type": "code",
   "execution_count": null,
   "metadata": {
    "ExecuteTime": {
     "end_time": "2018-01-30T08:42:22.506139Z",
     "start_time": "2018-01-30T08:41:45.718Z"
    },
    "scrolled": false
   },
   "outputs": [],
   "source": [
    "new_topics, topics_list"
   ]
  },
  {
   "cell_type": "code",
   "execution_count": null,
   "metadata": {
    "ExecuteTime": {
     "end_time": "2018-01-30T08:42:22.507928Z",
     "start_time": "2018-01-30T08:41:45.874Z"
    },
    "scrolled": true
   },
   "outputs": [],
   "source": [
    "topics[[30864, 25575, 17414, 33209]]"
   ]
  },
  {
   "cell_type": "code",
   "execution_count": null,
   "metadata": {
    "ExecuteTime": {
     "end_time": "2018-01-30T03:45:20.072052Z",
     "start_time": "2018-01-30T03:02:58.798Z"
    }
   },
   "outputs": [],
   "source": [
    "len(qa_labels)"
   ]
  },
  {
   "cell_type": "code",
   "execution_count": null,
   "metadata": {
    "ExecuteTime": {
     "end_time": "2018-01-30T03:45:20.074388Z",
     "start_time": "2018-01-30T03:02:58.811Z"
    }
   },
   "outputs": [],
   "source": [
    "new_topics"
   ]
  },
  {
   "cell_type": "code",
   "execution_count": null,
   "metadata": {
    "ExecuteTime": {
     "end_time": "2018-01-30T03:45:20.077659Z",
     "start_time": "2018-01-30T03:02:58.821Z"
    }
   },
   "outputs": [],
   "source": [
    "documents[283]"
   ]
  },
  {
   "cell_type": "code",
   "execution_count": null,
   "metadata": {
    "ExecuteTime": {
     "end_time": "2018-01-30T03:45:20.083173Z",
     "start_time": "2018-01-30T03:02:58.835Z"
    }
   },
   "outputs": [],
   "source": [
    "new_labels"
   ]
  },
  {
   "cell_type": "code",
   "execution_count": null,
   "metadata": {
    "ExecuteTime": {
     "end_time": "2018-01-30T03:45:20.085647Z",
     "start_time": "2018-01-30T03:02:58.844Z"
    }
   },
   "outputs": [],
   "source": [
    "len(qa_labels)"
   ]
  },
  {
   "cell_type": "code",
   "execution_count": null,
   "metadata": {
    "ExecuteTime": {
     "end_time": "2018-01-30T03:45:20.087750Z",
     "start_time": "2018-01-30T03:02:58.854Z"
    }
   },
   "outputs": [],
   "source": [
    "len(topics)"
   ]
  },
  {
   "cell_type": "code",
   "execution_count": null,
   "metadata": {
    "ExecuteTime": {
     "end_time": "2018-01-30T03:45:20.089576Z",
     "start_time": "2018-01-30T03:02:58.863Z"
    },
    "scrolled": true
   },
   "outputs": [],
   "source": [
    "documents[7135], qa_labels[1403], qa[1403]"
   ]
  }
 ],
 "metadata": {
  "kernelspec": {
   "display_name": "Python 3",
   "language": "python",
   "name": "python3"
  },
  "language_info": {
   "codemirror_mode": {
    "name": "ipython",
    "version": 3
   },
   "file_extension": ".py",
   "mimetype": "text/x-python",
   "name": "python",
   "nbconvert_exporter": "python",
   "pygments_lexer": "ipython3",
   "version": "3.6.3"
  },
  "notify_time": "5"
 },
 "nbformat": 4,
 "nbformat_minor": 2
}
