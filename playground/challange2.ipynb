{
 "cells": [
  {
   "cell_type": "code",
   "execution_count": 1,
   "metadata": {
    "ExecuteTime": {
     "end_time": "2018-01-30T03:02:59.357709Z",
     "start_time": "2018-01-30T03:02:58.390113Z"
    }
   },
   "outputs": [],
   "source": [
    "import pandas as pd\n",
    "import glob\n",
    "pd.set_option(\"display.max_rows\", 30)\n",
    "pd.set_option(\"display.max_columns\", 1000)\n",
    "pd.set_option(\"display.max_colwidth\", 1000)\n",
    "pd.set_option(\"display.width\", 2000)"
   ]
  },
  {
   "cell_type": "code",
   "execution_count": 2,
   "metadata": {
    "ExecuteTime": {
     "end_time": "2018-01-30T03:03:00.434352Z",
     "start_time": "2018-01-30T03:02:59.364413Z"
    }
   },
   "outputs": [],
   "source": [
    "import gensim"
   ]
  },
  {
   "cell_type": "code",
   "execution_count": 3,
   "metadata": {
    "ExecuteTime": {
     "end_time": "2018-01-30T03:03:00.714177Z",
     "start_time": "2018-01-30T03:03:00.436677Z"
    }
   },
   "outputs": [],
   "source": [
    "import numpy as np\n",
    "np.set_printoptions(precision=4,suppress=True)\n",
    "import matplotlib as mpl\n",
    "import matplotlib.pyplot as plt\n",
    "%matplotlib inline"
   ]
  },
  {
   "cell_type": "code",
   "execution_count": 4,
   "metadata": {
    "ExecuteTime": {
     "end_time": "2018-01-30T03:03:01.230015Z",
     "start_time": "2018-01-30T03:03:00.717306Z"
    }
   },
   "outputs": [],
   "source": [
    "import spacy"
   ]
  },
  {
   "cell_type": "markdown",
   "metadata": {},
   "source": [
    "# PARAMETERS"
   ]
  },
  {
   "cell_type": "code",
   "execution_count": 5,
   "metadata": {
    "ExecuteTime": {
     "end_time": "2018-01-30T03:03:01.238433Z",
     "start_time": "2018-01-30T03:03:01.233786Z"
    }
   },
   "outputs": [],
   "source": [
    "N_TOPICS = 20\n",
    "N_PASSES = 30"
   ]
  },
  {
   "cell_type": "markdown",
   "metadata": {},
   "source": [
    "# READ DATA"
   ]
  },
  {
   "cell_type": "code",
   "execution_count": 6,
   "metadata": {
    "ExecuteTime": {
     "end_time": "2018-01-30T03:03:15.294727Z",
     "start_time": "2018-01-30T03:03:01.241669Z"
    }
   },
   "outputs": [],
   "source": [
    "frames = []\n",
    "for f in glob.glob('../data/*.csv'):\n",
    "    frames.append(pd.read_csv(f))"
   ]
  },
  {
   "cell_type": "code",
   "execution_count": 7,
   "metadata": {
    "ExecuteTime": {
     "end_time": "2018-01-30T03:03:16.172423Z",
     "start_time": "2018-01-30T03:03:15.298571Z"
    },
    "scrolled": false
   },
   "outputs": [],
   "source": [
    "raw_df = pd.concat(frames)"
   ]
  },
  {
   "cell_type": "code",
   "execution_count": 8,
   "metadata": {
    "ExecuteTime": {
     "end_time": "2018-01-30T03:03:18.115227Z",
     "start_time": "2018-01-30T03:03:16.176242Z"
    },
    "scrolled": false
   },
   "outputs": [
    {
     "data": {
      "text/plain": [
       "2                                                                                                                                                                                                                                                                                                                                                                                                                                                                                                                                                                                                                                                                                                                                                                                                                                                                                                               Muss ich mit Hotspot registrieren wlan to go auf meinem Handy zu gehen , weiß ich nicht , wie es zu tun ich bin Telekom Kunde\n",
       "14                                                                                                                                                                                                                                                                                                                                                                                                                       Hallo zusammen . Gab es vor kurzem ein Update des MR400 ? Heute ist mir aufgefallen , dass einige Serienaufnahmen nicht mehr aufgenommen wurden , z . B . RTL 17:30 Unter Uns . In der Liste \" geplante Aufnahme \" war es vorhanden , jedoch mit 0 in der Klammer . Ich musste erst die Serienaufnahme löschen und neu programmieren . Gibt es inzwischen eine Lösung , wie man den Receiver dazu bringt , die Serien nur einmal aufzunehmen und nicht mit allen Wiederholungen . Ich meine die Programmierung über EPG . Den Workaround über manuelle Aufnahme kenne ich . Danke und schöne Grüße an die Kollegen !\n",
       "22                                                                                                                                                                                                                                                                                                                                                                                                                                                                                                                                                                                                                                                                            Seit gestern geht wieder einmal nichts ( Kein Internet , kein Fernsehen , kein gar nichts ) . Es wäre ausgesprochen schön , wenn beim Kundenservice auch mal Leute arbeiten würden , die versuchen zu helfen anstatt aufzulegen . Ich habe gestern und auch heute Ewigkeiten für so einen Service in der Telefonwarteschleife gehangen . Danke für nichts ! ! !\n",
       "30                                                                                                                                                                                                                                                                                                                                                                                                                                                                                                                                                                                                                                                                                                                         Könnten Sie sich bitte einen anderen Kooperationspartner für Nachnahme Pakete suchen als GLS ? Nachdem mein Handy drei Wochen nicht lieferbar war , versuche ich seit zwei Wochen an das Paket zu kommen da die Kommunikation intern bei GLS scheinbar nicht funktioniert . Eine Odyssee die ihresgleichen sucht !\n",
       "34    was die telekom mit ihr kunden abzieht ist unterste schublade . man hat dafür keine worte mehr , das alles bestätigte noch der bericht von markt im tv.unfassbar.nach 13 monaten permanten ärger mit der telekom hab ich mich entschieden , den vertrag zu kündigen . die kündigung umfasste 2 din 4 seiten . gestern rief mich ein herr louven an und fragte warum ich kündigen wollte ? ich erzählte es , war grad am reden , legt der lustige mann auf.dumm ! ! ! heute bekam ich auf postalen wege einen retourenschein für die ware . kein plan was nun sache ist.keine kündigungsbestätigung gar nix ! ! obwohl die wissen das ich bald zu meiner freundin nach düsseldorf ziehe ( und sie vodafonekunde ist ) komm ich nicht eher aus dem vertrag . stattdessen sagt man mir in der hotline , telekom zieht mit ihnen um . ich lach mich weg . ich darf nun noch bis august 17 bezahlen für nix ! ! ! an moral fehlt es vom feinsten.das die menschen in der hotline kein gewissen haben und ruhig schlafen können ist mir un...\n",
       "Name: Content, dtype: object"
      ]
     },
     "execution_count": 8,
     "metadata": {},
     "output_type": "execute_result"
    }
   ],
   "source": [
    "raw_df.query('(kind==1 or kind==3) and SichterName').Content.head(5)"
   ]
  },
  {
   "cell_type": "code",
   "execution_count": 9,
   "metadata": {
    "ExecuteTime": {
     "end_time": "2018-01-30T03:03:18.200650Z",
     "start_time": "2018-01-30T03:03:18.118336Z"
    }
   },
   "outputs": [
    {
     "data": {
      "text/html": [
       "<div>\n",
       "<style>\n",
       "    .dataframe thead tr:only-child th {\n",
       "        text-align: right;\n",
       "    }\n",
       "\n",
       "    .dataframe thead th {\n",
       "        text-align: left;\n",
       "    }\n",
       "\n",
       "    .dataframe tbody tr th {\n",
       "        vertical-align: top;\n",
       "    }\n",
       "</style>\n",
       "<table border=\"1\" class=\"dataframe\">\n",
       "  <thead>\n",
       "    <tr style=\"text-align: right;\">\n",
       "      <th></th>\n",
       "      <th>SichterGruppe</th>\n",
       "      <th>SichterName</th>\n",
       "      <th>Host</th>\n",
       "      <th>kind</th>\n",
       "      <th>Datetime</th>\n",
       "      <th>Content</th>\n",
       "      <th>Url</th>\n",
       "      <th>Authorid</th>\n",
       "      <th>Tag</th>\n",
       "      <th>entryid</th>\n",
       "      <th>Id</th>\n",
       "      <th>TwistId</th>\n",
       "      <th>TopicId</th>\n",
       "      <th>TopicName</th>\n",
       "      <th>IsInitialEntry</th>\n",
       "      <th>IsPrivate</th>\n",
       "    </tr>\n",
       "  </thead>\n",
       "  <tbody>\n",
       "    <tr>\n",
       "      <th>0</th>\n",
       "      <td>NaN</td>\n",
       "      <td>NaN</td>\n",
       "      <td>twitter.com</td>\n",
       "      <td>1</td>\n",
       "      <td>21.10.2016 23:18:00</td>\n",
       "      <td>HighTechno ! Ich will Claras WG mal so richtig zu #Elektro dancen sehen . https://t.co/oLKYDGHBGQ</td>\n",
       "      <td>https://twitter.com/Carina42008/status/789576493810737152#aid=1394595750</td>\n",
       "      <td>3796107.0</td>\n",
       "      <td>NaN</td>\n",
       "      <td>bc6c4c70-a00d-429d-8bde-4e7afa072a15</td>\n",
       "      <td>31796013</td>\n",
       "      <td>04b9f324-5cee-4dd3-8387-0ff934ec1472</td>\n",
       "      <td>551631</td>\n",
       "      <td>Alle</td>\n",
       "      <td>False</td>\n",
       "      <td>False</td>\n",
       "    </tr>\n",
       "    <tr>\n",
       "      <th>1</th>\n",
       "      <td>NaN</td>\n",
       "      <td>NaN</td>\n",
       "      <td>twitter.com</td>\n",
       "      <td>3</td>\n",
       "      <td>21.10.2016 23:18:00</td>\n",
       "      <td>Yeah , der WG gefällt deine Musik . Hol dir auch superschnelles Internet ! https://t.co/0dPArCUv0b https://t.co/HHRZaAQnte http://pbs.twimg.com/amplify_video_thumb/0123456789001234567890/img/QEQntlwB_ifYH3Gv.jpg</td>\n",
       "      <td>https://twitter.com/telekomerleben/status/789576496071446528#aid=20459730</td>\n",
       "      <td>1060906.0</td>\n",
       "      <td>NaN</td>\n",
       "      <td>5a676fbd-f7c7-45b1-8744-3a7fd8ebc9e9</td>\n",
       "      <td>31795989</td>\n",
       "      <td>04b9f324-5cee-4dd3-8387-0ff934ec1472</td>\n",
       "      <td>551631</td>\n",
       "      <td>Alle</td>\n",
       "      <td>True</td>\n",
       "      <td>False</td>\n",
       "    </tr>\n",
       "    <tr>\n",
       "      <th>2</th>\n",
       "      <td>Sichter FB/TW</td>\n",
       "      <td>Hotspot</td>\n",
       "      <td>www.facebook.com</td>\n",
       "      <td>1</td>\n",
       "      <td>24.09.2016 14:57:02</td>\n",
       "      <td>Muss ich mit Hotspot registrieren wlan to go auf meinem Handy zu gehen , weiß ich nicht , wie es zu tun ich bin Telekom Kunde</td>\n",
       "      <td>https://www.facebook.com/122768271103611/posts/1141448189235609#pid=122768271103611&amp;uid=122768271103611_1141448189235609&amp;aid=992943974115174&amp;vid=2&amp;wid=122768271103611</td>\n",
       "      <td>7707299.0</td>\n",
       "      <td>NaN</td>\n",
       "      <td>94e8d4f1-60c1-45e5-894a-c11a3ff7b655</td>\n",
       "      <td>30744441</td>\n",
       "      <td>0be928df-7378-421e-be6e-07269f1dac19</td>\n",
       "      <td>551631</td>\n",
       "      <td>Alle</td>\n",
       "      <td>True</td>\n",
       "      <td>False</td>\n",
       "    </tr>\n",
       "    <tr>\n",
       "      <th>3</th>\n",
       "      <td>NaN</td>\n",
       "      <td>NaN</td>\n",
       "      <td>www.facebook.com</td>\n",
       "      <td>3</td>\n",
       "      <td>24.09.2016 15:12:35</td>\n",
       "      <td>Hallo Fiona . Wenn Sie für WLAN TO GO angemeldet sind , dann können Sie unsere HotSpots nutzen in dem Sie sich mit Ihrer T-Online E-Mail-Adresse und dem dazugehörigen Passwort ( das gleiche wie für das Kundencenter ) anmelden . Viele Grüße Christian We .</td>\n",
       "      <td>https://www.facebook.com/122768271103611/posts/1141448189235609#pid=122768271103611_1141448189235609&amp;uid=1141448189235609_1141458792567882&amp;cpid=&amp;aid=122768271103611&amp;vid=2&amp;wid=122768271103611</td>\n",
       "      <td>254017.0</td>\n",
       "      <td>NaN</td>\n",
       "      <td>263da5f3-4f0c-4a3e-ac27-358eb033912f</td>\n",
       "      <td>30744872</td>\n",
       "      <td>0be928df-7378-421e-be6e-07269f1dac19</td>\n",
       "      <td>551631</td>\n",
       "      <td>Alle</td>\n",
       "      <td>False</td>\n",
       "      <td>False</td>\n",
       "    </tr>\n",
       "    <tr>\n",
       "      <th>4</th>\n",
       "      <td>NaN</td>\n",
       "      <td>NaN</td>\n",
       "      <td>www.facebook.com</td>\n",
       "      <td>4</td>\n",
       "      <td>24.09.2016 15:16:45</td>\n",
       "      <td>ich bin nicht gemeldet , es ok ich vergesse es</td>\n",
       "      <td>https://www.facebook.com/122768271103611/posts/1141448189235609#pid=122768271103611_1141448189235609&amp;uid=1141448189235609_1141461172567644&amp;cpid=1141448189235609_1141458792567882&amp;aid=992943974115174&amp;vid=2&amp;wid=122768271103611</td>\n",
       "      <td>7707299.0</td>\n",
       "      <td>NaN</td>\n",
       "      <td>51a8de05-48e4-4422-822f-50aba72fb5f5</td>\n",
       "      <td>30745002</td>\n",
       "      <td>0be928df-7378-421e-be6e-07269f1dac19</td>\n",
       "      <td>551631</td>\n",
       "      <td>Alle</td>\n",
       "      <td>False</td>\n",
       "      <td>False</td>\n",
       "    </tr>\n",
       "    <tr>\n",
       "      <th>5</th>\n",
       "      <td>Sichter FB/TW</td>\n",
       "      <td>Hotspot</td>\n",
       "      <td>www.facebook.com</td>\n",
       "      <td>4</td>\n",
       "      <td>24.09.2016 15:18:01</td>\n",
       "      <td>Jetzt muss ich mal eins fragen . Ich kann doch nicht mit Wlan to go alle Hotspots der Telekom kostenfrei nutzen , oder ? Was ich weiss nur die Hotspots der teilnehmenden Partner / Telekomkunden der Fa . Fon</td>\n",
       "      <td>https://www.facebook.com/122768271103611/posts/1141448189235609#pid=122768271103611_1141448189235609&amp;uid=1141448189235609_1141461895900905&amp;cpid=&amp;aid=1096037533756491&amp;vid=2&amp;wid=122768271103611</td>\n",
       "      <td>127469.0</td>\n",
       "      <td>NaN</td>\n",
       "      <td>a255ed96-818f-42b2-84f1-0c0c7e2581da</td>\n",
       "      <td>30745045</td>\n",
       "      <td>0be928df-7378-421e-be6e-07269f1dac19</td>\n",
       "      <td>551631</td>\n",
       "      <td>Alle</td>\n",
       "      <td>False</td>\n",
       "      <td>False</td>\n",
       "    </tr>\n",
       "    <tr>\n",
       "      <th>6</th>\n",
       "      <td>NaN</td>\n",
       "      <td>NaN</td>\n",
       "      <td>www.facebook.com</td>\n",
       "      <td>4</td>\n",
       "      <td>24.09.2016 15:18:01</td>\n",
       "      <td>Jetzt muss ich mal eins fragen . Ich kann doch nicht mit Wlan to go alle Hotspots der Telekom kostenfrei nutzen , oder ? Was ich weiss nur die Hotspots der teilnehmenden Partner / Telekomkunden der Fa . Fon</td>\n",
       "      <td>https://www.facebook.com/122768271103611/posts/1141448189235609#pid=122768271103611_1141448189235609&amp;uid=1141448189235609_1141461895900905&amp;cpid=&amp;aid=1096037533756491&amp;vid=2&amp;wid=122768271103611</td>\n",
       "      <td>127469.0</td>\n",
       "      <td>NaN</td>\n",
       "      <td>a255ed96-818f-42b2-84f1-0c0c7e2581da</td>\n",
       "      <td>30745045</td>\n",
       "      <td>0be928df-7378-421e-be6e-07269f1dac19</td>\n",
       "      <td>551631</td>\n",
       "      <td>Alle</td>\n",
       "      <td>False</td>\n",
       "      <td>False</td>\n",
       "    </tr>\n",
       "    <tr>\n",
       "      <th>7</th>\n",
       "      <td>NaN</td>\n",
       "      <td>NaN</td>\n",
       "      <td>www.facebook.com</td>\n",
       "      <td>4</td>\n",
       "      <td>24.09.2016 15:19:10</td>\n",
       "      <td>ich weis nicht wie es geht :(</td>\n",
       "      <td>https://www.facebook.com/122768271103611/posts/1141448189235609#pid=122768271103611_1141448189235609&amp;uid=1141448189235609_1141462655900829&amp;cpid=1141448189235609_1141458792567882&amp;aid=992943974115174&amp;vid=2&amp;wid=122768271103611</td>\n",
       "      <td>7707299.0</td>\n",
       "      <td>NaN</td>\n",
       "      <td>53632505-a61d-423e-bfc2-9f2047ad75b1</td>\n",
       "      <td>30745129</td>\n",
       "      <td>0be928df-7378-421e-be6e-07269f1dac19</td>\n",
       "      <td>551631</td>\n",
       "      <td>Alle</td>\n",
       "      <td>False</td>\n",
       "      <td>False</td>\n",
       "    </tr>\n",
       "    <tr>\n",
       "      <th>8</th>\n",
       "      <td>NaN</td>\n",
       "      <td>NaN</td>\n",
       "      <td>www.facebook.com</td>\n",
       "      <td>3</td>\n",
       "      <td>24.09.2016 15:28:31</td>\n",
       "      <td>Natürlich dürfen Sie alle HotSpots der Telekom nutzen . Nur zu . :) Viele Grüße Christian We .</td>\n",
       "      <td>https://www.facebook.com/122768271103611/posts/1141448189235609#pid=122768271103611_1141448189235609&amp;uid=1141448189235609_1141468849233543&amp;cpid=1141448189235609_1141461895900905&amp;aid=122768271103611&amp;vid=2&amp;wid=122768271103611</td>\n",
       "      <td>254017.0</td>\n",
       "      <td>NaN</td>\n",
       "      <td>5c21050e-f459-48c8-bd1d-d80b8b9888a3</td>\n",
       "      <td>30745333</td>\n",
       "      <td>0be928df-7378-421e-be6e-07269f1dac19</td>\n",
       "      <td>551631</td>\n",
       "      <td>Alle</td>\n",
       "      <td>False</td>\n",
       "      <td>False</td>\n",
       "    </tr>\n",
       "    <tr>\n",
       "      <th>9</th>\n",
       "      <td>NaN</td>\n",
       "      <td>NaN</td>\n",
       "      <td>www.facebook.com</td>\n",
       "      <td>4</td>\n",
       "      <td>24.09.2016 15:30:05</td>\n",
       "      <td>Na erst wenn das Vectoring hier abgeschlossen ist . Von meiner 6000er RAM Leitung wo nur 5000 anliegen geb ich nix ab 😊</td>\n",
       "      <td>https://www.facebook.com/122768271103611/posts/1141448189235609#pid=122768271103611_1141448189235609&amp;uid=1141448189235609_1141469592566802&amp;cpid=1141448189235609_1141461895900905&amp;aid=1096037533756491&amp;vid=2&amp;wid=122768271103611</td>\n",
       "      <td>127469.0</td>\n",
       "      <td>NaN</td>\n",
       "      <td>5591da8f-8679-4a9d-874d-6c5d3ad8b171</td>\n",
       "      <td>30745484</td>\n",
       "      <td>0be928df-7378-421e-be6e-07269f1dac19</td>\n",
       "      <td>551631</td>\n",
       "      <td>Alle</td>\n",
       "      <td>False</td>\n",
       "      <td>False</td>\n",
       "    </tr>\n",
       "    <tr>\n",
       "      <th>10</th>\n",
       "      <td>NaN</td>\n",
       "      <td>NaN</td>\n",
       "      <td>www.facebook.com</td>\n",
       "      <td>3</td>\n",
       "      <td>24.09.2016 15:34:09</td>\n",
       "      <td>Am besten laden Sie sich die Online Manager App http://bit.ly/18XtwyH auf Ihr Smartphone und hinterlegen dort die Login-Daten . Das macht die Nutzung der HotSpots dann ganz einfach . Hier haben wir auch noch ein Hilfe-Video zur Nutzung unserer HotSpots mit WLAN TO GO http://bit.ly/WLANtogo - Viele Grüße Christian We . https://external.xx.fbcdn.net/safe_image.php?d=AQBw-A77zLxYNaqM&amp;w=720&amp;h=720&amp;url=http%3A%2F%2Fwww.telekom.de%2Fis-bin%2FINTERSHOP.static%2FWFS%2FEKI-TELEKOM-Site%2FEKI-TELEKOM%2F-%2Fspecial%2Fonline-manager%2Fimages%2Fteaser-devices.png&amp;cfs=1</td>\n",
       "      <td>https://www.facebook.com/122768271103611/posts/1141448189235609#pid=122768271103611_1141448189235609&amp;uid=1141448189235609_1141471792566582&amp;cpid=1141448189235609_1141458792567882&amp;aid=122768271103611&amp;vid=2&amp;wid=122768271103611</td>\n",
       "      <td>254017.0</td>\n",
       "      <td>NaN</td>\n",
       "      <td>e79c95ca-e292-47ee-9c55-fdb327be4d07</td>\n",
       "      <td>30745575</td>\n",
       "      <td>0be928df-7378-421e-be6e-07269f1dac19</td>\n",
       "      <td>551631</td>\n",
       "      <td>Alle</td>\n",
       "      <td>False</td>\n",
       "      <td>False</td>\n",
       "    </tr>\n",
       "    <tr>\n",
       "      <th>11</th>\n",
       "      <td>NaN</td>\n",
       "      <td>NaN</td>\n",
       "      <td>www.facebook.com</td>\n",
       "      <td>3</td>\n",
       "      <td>24.09.2016 15:47:20</td>\n",
       "      <td>Geben Sie sich einen Ruck . ;) Ich hoffe es ist schon bald . Gruß Christian We .</td>\n",
       "      <td>https://www.facebook.com/122768271103611/posts/1141448189235609#pid=122768271103611_1141448189235609&amp;uid=1141448189235609_1141478519232576&amp;cpid=1141448189235609_1141461895900905&amp;aid=122768271103611&amp;vid=2&amp;wid=122768271103611</td>\n",
       "      <td>254017.0</td>\n",
       "      <td>NaN</td>\n",
       "      <td>5d7b8886-70d7-464d-9850-e6c7ed4be0ee</td>\n",
       "      <td>30745865</td>\n",
       "      <td>0be928df-7378-421e-be6e-07269f1dac19</td>\n",
       "      <td>551631</td>\n",
       "      <td>Alle</td>\n",
       "      <td>False</td>\n",
       "      <td>False</td>\n",
       "    </tr>\n",
       "    <tr>\n",
       "      <th>12</th>\n",
       "      <td>NaN</td>\n",
       "      <td>NaN</td>\n",
       "      <td>www.facebook.com</td>\n",
       "      <td>4</td>\n",
       "      <td>24.09.2016 15:53:49</td>\n",
       "      <td>Ist angeblich Anfang November falls alles planmässig verläuft . Vorher ist mit mir kein Geschäft zu machen</td>\n",
       "      <td>https://www.facebook.com/122768271103611/posts/1141448189235609#pid=122768271103611_1141448189235609&amp;uid=1141448189235609_1141482402565521&amp;cpid=1141448189235609_1141461895900905&amp;aid=1096037533756491&amp;vid=2&amp;wid=122768271103611</td>\n",
       "      <td>127469.0</td>\n",
       "      <td>abgelegt durch Sichter</td>\n",
       "      <td>ec1b4056-1f13-4006-a63e-8140368d8be4</td>\n",
       "      <td>30745977</td>\n",
       "      <td>0be928df-7378-421e-be6e-07269f1dac19</td>\n",
       "      <td>551631</td>\n",
       "      <td>Alle</td>\n",
       "      <td>False</td>\n",
       "      <td>False</td>\n",
       "    </tr>\n",
       "    <tr>\n",
       "      <th>13</th>\n",
       "      <td>NaN</td>\n",
       "      <td>NaN</td>\n",
       "      <td>twitter.com</td>\n",
       "      <td>1</td>\n",
       "      <td>14.10.2016 18:10:29</td>\n",
       "      <td>RT : OneERP @DeutscheTelekom supportet by Detecon : One Figure – One Truth ! https://t.co/BqSUdYKVEu #telekomwall #digitalchange https …</td>\n",
       "      <td>https://twitter.com/MilovanSmaaken/status/786962388729880576#aid=708236900830744577</td>\n",
       "      <td>8706498.0</td>\n",
       "      <td>NaN</td>\n",
       "      <td>a28e0836-2051-47d9-8425-17fd02e2b924</td>\n",
       "      <td>31460970</td>\n",
       "      <td>0e88f0df-d7bf-4dbe-885d-030d83e9ffad</td>\n",
       "      <td>1</td>\n",
       "      <td>Client 388</td>\n",
       "      <td>True</td>\n",
       "      <td>False</td>\n",
       "    </tr>\n",
       "    <tr>\n",
       "      <th>14</th>\n",
       "      <td>Sichter FB/TW</td>\n",
       "      <td>Festnetz</td>\n",
       "      <td>www.facebook.com</td>\n",
       "      <td>1</td>\n",
       "      <td>12.09.2016 20:02:22</td>\n",
       "      <td>Hallo zusammen . Gab es vor kurzem ein Update des MR400 ? Heute ist mir aufgefallen , dass einige Serienaufnahmen nicht mehr aufgenommen wurden , z . B . RTL 17:30 Unter Uns . In der Liste \" geplante Aufnahme \" war es vorhanden , jedoch mit 0 in der Klammer . Ich musste erst die Serienaufnahme löschen und neu programmieren . Gibt es inzwischen eine Lösung , wie man den Receiver dazu bringt , die Serien nur einmal aufzunehmen und nicht mit allen Wiederholungen . Ich meine die Programmierung über EPG . Den Workaround über manuelle Aufnahme kenne ich . Danke und schöne Grüße an die Kollegen !</td>\n",
       "      <td>https://www.facebook.com/122768271103611/posts/1132697233444038#pid=122768271103611&amp;uid=122768271103611_1132697233444038&amp;aid=690883714350731&amp;vid=2&amp;wid=122768271103611</td>\n",
       "      <td>2214312.0</td>\n",
       "      <td>NaN</td>\n",
       "      <td>cc8e06d8-c18f-466b-b875-b2c8ac5f0cbc</td>\n",
       "      <td>30334117</td>\n",
       "      <td>143051fa-9445-468c-b9d2-0ea2ff658536</td>\n",
       "      <td>551631</td>\n",
       "      <td>Alle</td>\n",
       "      <td>True</td>\n",
       "      <td>False</td>\n",
       "    </tr>\n",
       "    <tr>\n",
       "      <th>...</th>\n",
       "      <td>...</td>\n",
       "      <td>...</td>\n",
       "      <td>...</td>\n",
       "      <td>...</td>\n",
       "      <td>...</td>\n",
       "      <td>...</td>\n",
       "      <td>...</td>\n",
       "      <td>...</td>\n",
       "      <td>...</td>\n",
       "      <td>...</td>\n",
       "      <td>...</td>\n",
       "      <td>...</td>\n",
       "      <td>...</td>\n",
       "      <td>...</td>\n",
       "      <td>...</td>\n",
       "      <td>...</td>\n",
       "    </tr>\n",
       "    <tr>\n",
       "      <th>121495</th>\n",
       "      <td>NaN</td>\n",
       "      <td>NaN</td>\n",
       "      <td>www.facebook.com</td>\n",
       "      <td>4</td>\n",
       "      <td>22.01.2016 05:20:40</td>\n",
       "      <td>No , because I talked in German . And in any case that can never be the reason to hang up a client call .</td>\n",
       "      <td>https://www.facebook.com/122768271103611/posts/990107297703033#pid=122768271103611_990107297703033&amp;uid=990107297703033_990226644357765&amp;cpid=990107297703033_990109827702780&amp;aid=10153899485030798&amp;vid=2&amp;wid=122768271103611</td>\n",
       "      <td>7160182.0</td>\n",
       "      <td>NaN</td>\n",
       "      <td>1258ce2e-2a76-467c-b49b-6aef32b48452</td>\n",
       "      <td>22680029</td>\n",
       "      <td>85b2b516-9442-49db-a133-fff69e033083</td>\n",
       "      <td>551631</td>\n",
       "      <td>Alle</td>\n",
       "      <td>False</td>\n",
       "      <td>False</td>\n",
       "    </tr>\n",
       "    <tr>\n",
       "      <th>121496</th>\n",
       "      <td>NaN</td>\n",
       "      <td>NaN</td>\n",
       "      <td>www.facebook.com</td>\n",
       "      <td>3</td>\n",
       "      <td>22.01.2016 09:33:23</td>\n",
       "      <td>Hi Mon . What do you want to modify on your contract ? Maybe we can make it . Regards Kevin</td>\n",
       "      <td>https://www.facebook.com/122768271103611/posts/990107297703033#pid=122768271103611_990107297703033&amp;uid=990107297703033_990293397684423&amp;cpid=990107297703033_990109827702780&amp;aid=122768271103611&amp;vid=2&amp;wid=122768271103611</td>\n",
       "      <td>254017.0</td>\n",
       "      <td>NaN</td>\n",
       "      <td>ad799334-203c-4056-a969-d48ee79e7575</td>\n",
       "      <td>22682827</td>\n",
       "      <td>85b2b516-9442-49db-a133-fff69e033083</td>\n",
       "      <td>551631</td>\n",
       "      <td>Alle</td>\n",
       "      <td>False</td>\n",
       "      <td>False</td>\n",
       "    </tr>\n",
       "    <tr>\n",
       "      <th>121497</th>\n",
       "      <td>NaN</td>\n",
       "      <td>NaN</td>\n",
       "      <td>www.facebook.com</td>\n",
       "      <td>4</td>\n",
       "      <td>22.01.2016 19:29:29</td>\n",
       "      <td>Telekom-hilft After such a service I won't upgrade it . Please let me know how to change my address due that seems to be impossible to make it via telephone .</td>\n",
       "      <td>https://www.facebook.com/122768271103611/posts/990107297703033#pid=122768271103611_990107297703033&amp;uid=990107297703033_990485040998592&amp;cpid=990107297703033_990109827702780&amp;aid=10153899485030798&amp;vid=2&amp;wid=122768271103611</td>\n",
       "      <td>7160182.0</td>\n",
       "      <td>Antworten mit Links:Link Kontaktformular</td>\n",
       "      <td>bca1d064-179d-40fe-8f2b-5c86ae81de0e</td>\n",
       "      <td>22706417</td>\n",
       "      <td>85b2b516-9442-49db-a133-fff69e033083</td>\n",
       "      <td>551631</td>\n",
       "      <td>Alle</td>\n",
       "      <td>False</td>\n",
       "      <td>False</td>\n",
       "    </tr>\n",
       "    <tr>\n",
       "      <th>121498</th>\n",
       "      <td>NaN</td>\n",
       "      <td>NaN</td>\n",
       "      <td>www.facebook.com</td>\n",
       "      <td>3</td>\n",
       "      <td>22.01.2016 20:23:10</td>\n",
       "      <td>We're just asking what happened and what the call was about to help you . Do you move ? Or why needs an address to be changed ? You can send me your data with this : http://bit.ly/1MN0LCt form and I can change the address . Gruß Mandy S .</td>\n",
       "      <td>https://www.facebook.com/122768271103611/posts/990107297703033#pid=122768271103611_990107297703033&amp;uid=990107297703033_990506694329760&amp;cpid=990107297703033_990109827702780&amp;aid=122768271103611&amp;vid=2&amp;wid=122768271103611</td>\n",
       "      <td>254017.0</td>\n",
       "      <td>NaN</td>\n",
       "      <td>516d5a02-fbb8-4742-a084-7f52534bab75</td>\n",
       "      <td>22708053</td>\n",
       "      <td>85b2b516-9442-49db-a133-fff69e033083</td>\n",
       "      <td>551631</td>\n",
       "      <td>Alle</td>\n",
       "      <td>False</td>\n",
       "      <td>False</td>\n",
       "    </tr>\n",
       "    <tr>\n",
       "      <th>121499</th>\n",
       "      <td>NaN</td>\n",
       "      <td>NaN</td>\n",
       "      <td>www.facebook.com</td>\n",
       "      <td>4</td>\n",
       "      <td>22.01.2016 23:54:16</td>\n",
       "      <td>Mon Struita Of course that could be . If someone ask me in turkish i dont talk with him i go away</td>\n",
       "      <td>https://www.facebook.com/122768271103611/posts/990107297703033#pid=122768271103611_990107297703033&amp;uid=990107297703033_990573840989712&amp;cpid=990107297703033_990109827702780&amp;aid=1621240634828915&amp;vid=2&amp;wid=122768271103611</td>\n",
       "      <td>2224343.0</td>\n",
       "      <td>abgelegt durch Sichter</td>\n",
       "      <td>54cbbc48-29d1-4455-80d1-cb494331eae8</td>\n",
       "      <td>22713362</td>\n",
       "      <td>85b2b516-9442-49db-a133-fff69e033083</td>\n",
       "      <td>551631</td>\n",
       "      <td>Alle</td>\n",
       "      <td>False</td>\n",
       "      <td>False</td>\n",
       "    </tr>\n",
       "    <tr>\n",
       "      <th>121500</th>\n",
       "      <td>NaN</td>\n",
       "      <td>NaN</td>\n",
       "      <td>www.facebook.com</td>\n",
       "      <td>1</td>\n",
       "      <td>22.01.2016 07:10:12</td>\n",
       "      <td>Liebe Telekom , wir wohnen nun bereits , seit Dezember in einem Neubau mitten im alten Ortskern von Waldalgesheim . Leider bislang immernoch ohne jegliche Internet , - und Telefonmöglichkeit . Nach ihrer Aussage werden die Leitungen erst im Juni fertig gelegt . Wie kann das sein ? Laut Aussage unserer bisherigen Anbieter , können wir noch nicht einmal von unserem Sonderkündigungsrecht Gebrauch machen , da diese auf Antwort der TELEKOM warten ... Auch einen besseren Handyvertrag , evtl . zu gleichen Konditionen wie bisher , werden einem , trotz der Umstände , abgelehnt . Sehr schade 😕</td>\n",
       "      <td>https://www.facebook.com/122768271103611/posts/990256167688146#pid=122768271103611&amp;uid=122768271103611_990256167688146&amp;aid=969136236486548&amp;vid=2&amp;wid=122768271103611</td>\n",
       "      <td>7161572.0</td>\n",
       "      <td>NaN</td>\n",
       "      <td>1c42807a-fa68-4fa9-b166-058e8402811c</td>\n",
       "      <td>22680505</td>\n",
       "      <td>4775f8ea-09fd-4f0e-a7b4-fff71d4da21f</td>\n",
       "      <td>551631</td>\n",
       "      <td>Alle</td>\n",
       "      <td>True</td>\n",
       "      <td>False</td>\n",
       "    </tr>\n",
       "    <tr>\n",
       "      <th>121501</th>\n",
       "      <td>NaN</td>\n",
       "      <td>NaN</td>\n",
       "      <td>www.facebook.com</td>\n",
       "      <td>2</td>\n",
       "      <td>22.01.2016 08:43:05</td>\n",
       "      <td>Warum sollte es einen \" besseren \" Handyvertrag geben ?</td>\n",
       "      <td>https://www.facebook.com/122768271103611/posts/990256167688146#pid=122768271103611_990256167688146&amp;uid=990256167688146_990278001019296&amp;cpid=&amp;aid=1405233389806347&amp;vid=2&amp;wid=122768271103611</td>\n",
       "      <td>5659126.0</td>\n",
       "      <td>abgelegt durch Sichter</td>\n",
       "      <td>e0f55a5c-fbc0-4271-af79-a4d22d986785</td>\n",
       "      <td>22681761</td>\n",
       "      <td>4775f8ea-09fd-4f0e-a7b4-fff71d4da21f</td>\n",
       "      <td>551631</td>\n",
       "      <td>Alle</td>\n",
       "      <td>False</td>\n",
       "      <td>False</td>\n",
       "    </tr>\n",
       "    <tr>\n",
       "      <th>121502</th>\n",
       "      <td>NaN</td>\n",
       "      <td>NaN</td>\n",
       "      <td>www.facebook.com</td>\n",
       "      <td>3</td>\n",
       "      <td>22.01.2016 09:21:12</td>\n",
       "      <td>Hallo Anna . Ich kann zu Ihrer speziellen Situation aktuell nichts genaueres sagen . Ich gehe aber davon aus , dass Leitungen gelegt werden müssen . Dies hat eventuell zur Folge , dass die Straße aufgerissen werden muss . Dies muss durch die Behörden genehmigt werden und das kann teilweise länger dauern . Gerade in alten Ortskernen . Grüße Kevin H .</td>\n",
       "      <td>https://www.facebook.com/122768271103611/posts/990256167688146#pid=122768271103611_990256167688146&amp;uid=990256167688146_990289571018139&amp;cpid=&amp;aid=122768271103611&amp;vid=2&amp;wid=122768271103611</td>\n",
       "      <td>254017.0</td>\n",
       "      <td>NaN</td>\n",
       "      <td>7e86364d-0212-4a1b-be4c-dd95a47d12f2</td>\n",
       "      <td>22682547</td>\n",
       "      <td>4775f8ea-09fd-4f0e-a7b4-fff71d4da21f</td>\n",
       "      <td>551631</td>\n",
       "      <td>Alle</td>\n",
       "      <td>False</td>\n",
       "      <td>False</td>\n",
       "    </tr>\n",
       "    <tr>\n",
       "      <th>121503</th>\n",
       "      <td>NaN</td>\n",
       "      <td>NaN</td>\n",
       "      <td>www.facebook.com</td>\n",
       "      <td>4</td>\n",
       "      <td>22.01.2016 09:23:14</td>\n",
       "      <td>Die Leitungen liegen bereits vom Haus weg an der Straße ... 😯</td>\n",
       "      <td>https://www.facebook.com/122768271103611/posts/990256167688146#pid=122768271103611_990256167688146&amp;uid=990256167688146_990290377684725&amp;cpid=990256167688146_990289571018139&amp;aid=969136236486548&amp;vid=2&amp;wid=122768271103611</td>\n",
       "      <td>7161572.0</td>\n",
       "      <td>NaN</td>\n",
       "      <td>dc41891e-7682-4ab0-a05d-5434d7f56858</td>\n",
       "      <td>22682590</td>\n",
       "      <td>4775f8ea-09fd-4f0e-a7b4-fff71d4da21f</td>\n",
       "      <td>551631</td>\n",
       "      <td>Alle</td>\n",
       "      <td>False</td>\n",
       "      <td>False</td>\n",
       "    </tr>\n",
       "    <tr>\n",
       "      <th>121504</th>\n",
       "      <td>NaN</td>\n",
       "      <td>NaN</td>\n",
       "      <td>www.facebook.com</td>\n",
       "      <td>3</td>\n",
       "      <td>22.01.2016 09:31:04</td>\n",
       "      <td>Ok . Also vom haus bist zum Straßenkasten ? Oder schon weiter ? Wissen Sie das zufällig ? Grüße Kevin H .</td>\n",
       "      <td>https://www.facebook.com/122768271103611/posts/990256167688146#pid=122768271103611_990256167688146&amp;uid=990256167688146_990292887684474&amp;cpid=990256167688146_990289571018139&amp;aid=122768271103611&amp;vid=2&amp;wid=122768271103611</td>\n",
       "      <td>254017.0</td>\n",
       "      <td>NaN</td>\n",
       "      <td>0663c5a7-6571-4b61-9068-94b9438e0c0d</td>\n",
       "      <td>22682790</td>\n",
       "      <td>4775f8ea-09fd-4f0e-a7b4-fff71d4da21f</td>\n",
       "      <td>551631</td>\n",
       "      <td>Alle</td>\n",
       "      <td>False</td>\n",
       "      <td>False</td>\n",
       "    </tr>\n",
       "    <tr>\n",
       "      <th>121505</th>\n",
       "      <td>NaN</td>\n",
       "      <td>NaN</td>\n",
       "      <td>twitter.com</td>\n",
       "      <td>2</td>\n",
       "      <td>25.01.2016 14:31:58</td>\n",
       "      <td>Telekom beeindruckt Bundesgesundheitsminister mit \" Visite 2.0 \" im Lukaskrankenhaus Neuss https://t.co/m2XNE5807c</td>\n",
       "      <td>http://twitter.com/Officesolution0/statuses/691614488882065410</td>\n",
       "      <td>7180261.0</td>\n",
       "      <td>A-Team Twitter:Reaktion nein</td>\n",
       "      <td>4e2e1bc4-fc29-4bd4-8c4d-60eed59d7e4a</td>\n",
       "      <td>22768293</td>\n",
       "      <td>8d19650f-64c4-49ea-afbb-fff755150f26</td>\n",
       "      <td>0</td>\n",
       "      <td>NaN</td>\n",
       "      <td>True</td>\n",
       "      <td>False</td>\n",
       "    </tr>\n",
       "    <tr>\n",
       "      <th>121506</th>\n",
       "      <td>NaN</td>\n",
       "      <td>NaN</td>\n",
       "      <td>twitter.com</td>\n",
       "      <td>1</td>\n",
       "      <td>21.01.2016 17:47:05</td>\n",
       "      <td>kostenfrei aktuell nur in der 1 . Klasse . Die 2 . Klasse folgt aber noch dieses Jahr . / cc @Telekom_hilft / jn</td>\n",
       "      <td>https://twitter.com/DB_Bahn/status/690214041290170368#aid=39999078</td>\n",
       "      <td>60974.0</td>\n",
       "      <td>abgelegt durch Sichter</td>\n",
       "      <td>68d5ed1f-7d2a-42b4-9a29-beb5f837797c</td>\n",
       "      <td>22666577</td>\n",
       "      <td>b2d47577-83c2-401a-837a-fff8bd0cb955</td>\n",
       "      <td>551631</td>\n",
       "      <td>Alle</td>\n",
       "      <td>True</td>\n",
       "      <td>False</td>\n",
       "    </tr>\n",
       "    <tr>\n",
       "      <th>121507</th>\n",
       "      <td>NaN</td>\n",
       "      <td>NaN</td>\n",
       "      <td>twitter.com</td>\n",
       "      <td>2</td>\n",
       "      <td>21.01.2016 17:49:53</td>\n",
       "      <td>eine Preiserhöhung gab es dadurch nicht . / cc @Telekom_hilft / jn</td>\n",
       "      <td>https://twitter.com/DB_Bahn/status/690214746352664582#aid=39999078</td>\n",
       "      <td>60974.0</td>\n",
       "      <td>abgelegt durch Sichter</td>\n",
       "      <td>ae6cd0dd-5469-4a1f-91fc-a42bbd1887f1</td>\n",
       "      <td>22666617</td>\n",
       "      <td>b2d47577-83c2-401a-837a-fff8bd0cb955</td>\n",
       "      <td>551631</td>\n",
       "      <td>Alle</td>\n",
       "      <td>False</td>\n",
       "      <td>False</td>\n",
       "    </tr>\n",
       "    <tr>\n",
       "      <th>121508</th>\n",
       "      <td>NaN</td>\n",
       "      <td>NaN</td>\n",
       "      <td>www.facebook.com</td>\n",
       "      <td>3</td>\n",
       "      <td>18.02.2016 13:58:00</td>\n",
       "      <td>JBL Flip 2 track.adform.net Der tragbare und kabellose Bluetooth Lautsprecher bringt satten Sound in Ihr mobiles Leben und harmoniert perfekt mit Ihren Mobiltelefonen und Tablets . Nutzen Sie ihn auch als Freisprecheinrichtung . Cyber Weekend . Super Sound zum Schnäppchenpreis ! Nur für kurze Zeit und nur solange der Vorrat reicht . https://external.xx.fbcdn.net/safe_image.php?d=AQCbGlWKiweLEm1N&amp;w=130&amp;h=130&amp;url=https%3A%2F%2Fwww.facebook.com%2Fads%2Fimage%2F%3Fd%3DAQIPhzL7mWTA6f_Zu-74TqbwStgKSPyE1P0vXWn_Stnf5vWZF6vSpmfBfBocMtCEo9zaOhA9jJW4Y_X_vuWaUcklMp0BPMA9p4lR-0IKS9C1kI8GEFekpseBgFfZzx67W6RC7eAOfwvsOgke8XdPeLqa&amp;cfs=1</td>\n",
       "      <td>https://www.facebook.com/181692235207011/posts/1044724372237122#pid=181692235207011&amp;uid=181692235207011_1044724372237122&amp;aid=181692235207011&amp;vid=2&amp;wid=181692235207011</td>\n",
       "      <td>2581510.0</td>\n",
       "      <td>NaN</td>\n",
       "      <td>db84fc62-5d1f-4ac6-916f-a88335ea5916</td>\n",
       "      <td>23575125</td>\n",
       "      <td>75baa086-064f-459b-9132-fffa654d1992</td>\n",
       "      <td>1</td>\n",
       "      <td>Client 388</td>\n",
       "      <td>True</td>\n",
       "      <td>False</td>\n",
       "    </tr>\n",
       "    <tr>\n",
       "      <th>121509</th>\n",
       "      <td>NaN</td>\n",
       "      <td>NaN</td>\n",
       "      <td>twitter.com</td>\n",
       "      <td>2</td>\n",
       "      <td>24.02.2016 19:46:30</td>\n",
       "      <td>Der Junge heißt \" Zipser \" und nicht \" Zipzer \" .. � #Eurocup #Telekom #ALBBAY #FCBB</td>\n",
       "      <td>http://twitter.com/mike_NotGuilty/statuses/702565278576734208</td>\n",
       "      <td>2420106.0</td>\n",
       "      <td>A-Team Twitter:Reaktion nein</td>\n",
       "      <td>966fcea5-3b79-46fc-b997-0110c13e6eaa</td>\n",
       "      <td>23777972</td>\n",
       "      <td>d011a497-8fde-42bd-bf1d-fffb0899eb4d</td>\n",
       "      <td>0</td>\n",
       "      <td>NaN</td>\n",
       "      <td>True</td>\n",
       "      <td>False</td>\n",
       "    </tr>\n",
       "  </tbody>\n",
       "</table>\n",
       "<p>1049220 rows × 16 columns</p>\n",
       "</div>"
      ],
      "text/plain": [
       "        SichterGruppe SichterName              Host  kind             Datetime                                                                                                                                                                                                                                                                                                                                                                                                                                                                                                                                                                                                                                              Content                                                                                                                                                                                                                               Url   Authorid                                       Tag                               entryid        Id                               TwistId  TopicId   TopicName  IsInitialEntry  IsPrivate\n",
       "0                 NaN         NaN       twitter.com     1  21.10.2016 23:18:00                                                                                                                                                                                                                                                                                                                                                                                                                                                                                                                                                    HighTechno ! Ich will Claras WG mal so richtig zu #Elektro dancen sehen . https://t.co/oLKYDGHBGQ                                                                                                                                                          https://twitter.com/Carina42008/status/789576493810737152#aid=1394595750  3796107.0                                       NaN  bc6c4c70-a00d-429d-8bde-4e7afa072a15  31796013  04b9f324-5cee-4dd3-8387-0ff934ec1472   551631        Alle           False      False\n",
       "1                 NaN         NaN       twitter.com     3  21.10.2016 23:18:00                                                                                                                                                                                                                                                                                                                                                                                                                                  Yeah , der WG gefällt deine Musik . Hol dir auch superschnelles Internet ! https://t.co/0dPArCUv0b https://t.co/HHRZaAQnte http://pbs.twimg.com/amplify_video_thumb/0123456789001234567890/img/QEQntlwB_ifYH3Gv.jpg                                                                                                                                                         https://twitter.com/telekomerleben/status/789576496071446528#aid=20459730  1060906.0                                       NaN  5a676fbd-f7c7-45b1-8744-3a7fd8ebc9e9  31795989  04b9f324-5cee-4dd3-8387-0ff934ec1472   551631        Alle            True      False\n",
       "2       Sichter FB/TW     Hotspot  www.facebook.com     1  24.09.2016 14:57:02                                                                                                                                                                                                                                                                                                                                                                                                                                                                                                                        Muss ich mit Hotspot registrieren wlan to go auf meinem Handy zu gehen , weiß ich nicht , wie es zu tun ich bin Telekom Kunde                                                            https://www.facebook.com/122768271103611/posts/1141448189235609#pid=122768271103611&uid=122768271103611_1141448189235609&aid=992943974115174&vid=2&wid=122768271103611  7707299.0                                       NaN  94e8d4f1-60c1-45e5-894a-c11a3ff7b655  30744441  0be928df-7378-421e-be6e-07269f1dac19   551631        Alle            True      False\n",
       "3                 NaN         NaN  www.facebook.com     3  24.09.2016 15:12:35                                                                                                                                                                                                                                                                                                                                                                                       Hallo Fiona . Wenn Sie für WLAN TO GO angemeldet sind , dann können Sie unsere HotSpots nutzen in dem Sie sich mit Ihrer T-Online E-Mail-Adresse und dem dazugehörigen Passwort ( das gleiche wie für das Kundencenter ) anmelden . Viele Grüße Christian We .                                    https://www.facebook.com/122768271103611/posts/1141448189235609#pid=122768271103611_1141448189235609&uid=1141448189235609_1141458792567882&cpid=&aid=122768271103611&vid=2&wid=122768271103611   254017.0                                       NaN  263da5f3-4f0c-4a3e-ac27-358eb033912f  30744872  0be928df-7378-421e-be6e-07269f1dac19   551631        Alle           False      False\n",
       "4                 NaN         NaN  www.facebook.com     4  24.09.2016 15:16:45                                                                                                                                                                                                                                                                                                                                                                                                                                                                                                                                                                                                       ich bin nicht gemeldet , es ok ich vergesse es   https://www.facebook.com/122768271103611/posts/1141448189235609#pid=122768271103611_1141448189235609&uid=1141448189235609_1141461172567644&cpid=1141448189235609_1141458792567882&aid=992943974115174&vid=2&wid=122768271103611  7707299.0                                       NaN  51a8de05-48e4-4422-822f-50aba72fb5f5  30745002  0be928df-7378-421e-be6e-07269f1dac19   551631        Alle           False      False\n",
       "5       Sichter FB/TW     Hotspot  www.facebook.com     4  24.09.2016 15:18:01                                                                                                                                                                                                                                                                                                                                                                                                                                       Jetzt muss ich mal eins fragen . Ich kann doch nicht mit Wlan to go alle Hotspots der Telekom kostenfrei nutzen , oder ? Was ich weiss nur die Hotspots der teilnehmenden Partner / Telekomkunden der Fa . Fon                                   https://www.facebook.com/122768271103611/posts/1141448189235609#pid=122768271103611_1141448189235609&uid=1141448189235609_1141461895900905&cpid=&aid=1096037533756491&vid=2&wid=122768271103611   127469.0                                       NaN  a255ed96-818f-42b2-84f1-0c0c7e2581da  30745045  0be928df-7378-421e-be6e-07269f1dac19   551631        Alle           False      False\n",
       "6                 NaN         NaN  www.facebook.com     4  24.09.2016 15:18:01                                                                                                                                                                                                                                                                                                                                                                                                                                       Jetzt muss ich mal eins fragen . Ich kann doch nicht mit Wlan to go alle Hotspots der Telekom kostenfrei nutzen , oder ? Was ich weiss nur die Hotspots der teilnehmenden Partner / Telekomkunden der Fa . Fon                                   https://www.facebook.com/122768271103611/posts/1141448189235609#pid=122768271103611_1141448189235609&uid=1141448189235609_1141461895900905&cpid=&aid=1096037533756491&vid=2&wid=122768271103611   127469.0                                       NaN  a255ed96-818f-42b2-84f1-0c0c7e2581da  30745045  0be928df-7378-421e-be6e-07269f1dac19   551631        Alle           False      False\n",
       "7                 NaN         NaN  www.facebook.com     4  24.09.2016 15:19:10                                                                                                                                                                                                                                                                                                                                                                                                                                                                                                                                                                                                                        ich weis nicht wie es geht :(   https://www.facebook.com/122768271103611/posts/1141448189235609#pid=122768271103611_1141448189235609&uid=1141448189235609_1141462655900829&cpid=1141448189235609_1141458792567882&aid=992943974115174&vid=2&wid=122768271103611  7707299.0                                       NaN  53632505-a61d-423e-bfc2-9f2047ad75b1  30745129  0be928df-7378-421e-be6e-07269f1dac19   551631        Alle           False      False\n",
       "8                 NaN         NaN  www.facebook.com     3  24.09.2016 15:28:31                                                                                                                                                                                                                                                                                                                                                                                                                                                                                                                                                       Natürlich dürfen Sie alle HotSpots der Telekom nutzen . Nur zu . :) Viele Grüße Christian We .   https://www.facebook.com/122768271103611/posts/1141448189235609#pid=122768271103611_1141448189235609&uid=1141448189235609_1141468849233543&cpid=1141448189235609_1141461895900905&aid=122768271103611&vid=2&wid=122768271103611   254017.0                                       NaN  5c21050e-f459-48c8-bd1d-d80b8b9888a3  30745333  0be928df-7378-421e-be6e-07269f1dac19   551631        Alle           False      False\n",
       "9                 NaN         NaN  www.facebook.com     4  24.09.2016 15:30:05                                                                                                                                                                                                                                                                                                                                                                                                                                                                                                                              Na erst wenn das Vectoring hier abgeschlossen ist . Von meiner 6000er RAM Leitung wo nur 5000 anliegen geb ich nix ab 😊  https://www.facebook.com/122768271103611/posts/1141448189235609#pid=122768271103611_1141448189235609&uid=1141448189235609_1141469592566802&cpid=1141448189235609_1141461895900905&aid=1096037533756491&vid=2&wid=122768271103611   127469.0                                       NaN  5591da8f-8679-4a9d-874d-6c5d3ad8b171  30745484  0be928df-7378-421e-be6e-07269f1dac19   551631        Alle           False      False\n",
       "10                NaN         NaN  www.facebook.com     3  24.09.2016 15:34:09                                                                    Am besten laden Sie sich die Online Manager App http://bit.ly/18XtwyH auf Ihr Smartphone und hinterlegen dort die Login-Daten . Das macht die Nutzung der HotSpots dann ganz einfach . Hier haben wir auch noch ein Hilfe-Video zur Nutzung unserer HotSpots mit WLAN TO GO http://bit.ly/WLANtogo - Viele Grüße Christian We . https://external.xx.fbcdn.net/safe_image.php?d=AQBw-A77zLxYNaqM&w=720&h=720&url=http%3A%2F%2Fwww.telekom.de%2Fis-bin%2FINTERSHOP.static%2FWFS%2FEKI-TELEKOM-Site%2FEKI-TELEKOM%2F-%2Fspecial%2Fonline-manager%2Fimages%2Fteaser-devices.png&cfs=1   https://www.facebook.com/122768271103611/posts/1141448189235609#pid=122768271103611_1141448189235609&uid=1141448189235609_1141471792566582&cpid=1141448189235609_1141458792567882&aid=122768271103611&vid=2&wid=122768271103611   254017.0                                       NaN  e79c95ca-e292-47ee-9c55-fdb327be4d07  30745575  0be928df-7378-421e-be6e-07269f1dac19   551631        Alle           False      False\n",
       "11                NaN         NaN  www.facebook.com     3  24.09.2016 15:47:20                                                                                                                                                                                                                                                                                                                                                                                                                                                                                                                                                                     Geben Sie sich einen Ruck . ;) Ich hoffe es ist schon bald . Gruß Christian We .   https://www.facebook.com/122768271103611/posts/1141448189235609#pid=122768271103611_1141448189235609&uid=1141448189235609_1141478519232576&cpid=1141448189235609_1141461895900905&aid=122768271103611&vid=2&wid=122768271103611   254017.0                                       NaN  5d7b8886-70d7-464d-9850-e6c7ed4be0ee  30745865  0be928df-7378-421e-be6e-07269f1dac19   551631        Alle           False      False\n",
       "12                NaN         NaN  www.facebook.com     4  24.09.2016 15:53:49                                                                                                                                                                                                                                                                                                                                                                                                                                                                                                                                           Ist angeblich Anfang November falls alles planmässig verläuft . Vorher ist mit mir kein Geschäft zu machen  https://www.facebook.com/122768271103611/posts/1141448189235609#pid=122768271103611_1141448189235609&uid=1141448189235609_1141482402565521&cpid=1141448189235609_1141461895900905&aid=1096037533756491&vid=2&wid=122768271103611   127469.0                    abgelegt durch Sichter  ec1b4056-1f13-4006-a63e-8140368d8be4  30745977  0be928df-7378-421e-be6e-07269f1dac19   551631        Alle           False      False\n",
       "13                NaN         NaN       twitter.com     1  14.10.2016 18:10:29                                                                                                                                                                                                                                                                                                                                                                                                                                                                                                             RT : OneERP @DeutscheTelekom supportet by Detecon : One Figure – One Truth ! https://t.co/BqSUdYKVEu #telekomwall #digitalchange https …                                                                                                                                               https://twitter.com/MilovanSmaaken/status/786962388729880576#aid=708236900830744577  8706498.0                                       NaN  a28e0836-2051-47d9-8425-17fd02e2b924  31460970  0e88f0df-d7bf-4dbe-885d-030d83e9ffad        1  Client 388            True      False\n",
       "14      Sichter FB/TW    Festnetz  www.facebook.com     1  12.09.2016 20:02:22                                 Hallo zusammen . Gab es vor kurzem ein Update des MR400 ? Heute ist mir aufgefallen , dass einige Serienaufnahmen nicht mehr aufgenommen wurden , z . B . RTL 17:30 Unter Uns . In der Liste \" geplante Aufnahme \" war es vorhanden , jedoch mit 0 in der Klammer . Ich musste erst die Serienaufnahme löschen und neu programmieren . Gibt es inzwischen eine Lösung , wie man den Receiver dazu bringt , die Serien nur einmal aufzunehmen und nicht mit allen Wiederholungen . Ich meine die Programmierung über EPG . Den Workaround über manuelle Aufnahme kenne ich . Danke und schöne Grüße an die Kollegen !                                                            https://www.facebook.com/122768271103611/posts/1132697233444038#pid=122768271103611&uid=122768271103611_1132697233444038&aid=690883714350731&vid=2&wid=122768271103611  2214312.0                                       NaN  cc8e06d8-c18f-466b-b875-b2c8ac5f0cbc  30334117  143051fa-9445-468c-b9d2-0ea2ff658536   551631        Alle            True      False\n",
       "...               ...         ...               ...   ...                  ...                                                                                                                                                                                                                                                                                                                                                                                                                                                                                                                                                                                                                                                  ...                                                                                                                                                                                                                               ...        ...                                       ...                                   ...       ...                                   ...      ...         ...             ...        ...\n",
       "121495            NaN         NaN  www.facebook.com     4  22.01.2016 05:20:40                                                                                                                                                                                                                                                                                                                                                                                                                                                                                                                                            No , because I talked in German . And in any case that can never be the reason to hang up a client call .       https://www.facebook.com/122768271103611/posts/990107297703033#pid=122768271103611_990107297703033&uid=990107297703033_990226644357765&cpid=990107297703033_990109827702780&aid=10153899485030798&vid=2&wid=122768271103611  7160182.0                                       NaN  1258ce2e-2a76-467c-b49b-6aef32b48452  22680029  85b2b516-9442-49db-a133-fff69e033083   551631        Alle           False      False\n",
       "121496            NaN         NaN  www.facebook.com     3  22.01.2016 09:33:23                                                                                                                                                                                                                                                                                                                                                                                                                                                                                                                                                          Hi Mon . What do you want to modify on your contract ? Maybe we can make it . Regards Kevin         https://www.facebook.com/122768271103611/posts/990107297703033#pid=122768271103611_990107297703033&uid=990107297703033_990293397684423&cpid=990107297703033_990109827702780&aid=122768271103611&vid=2&wid=122768271103611   254017.0                                       NaN  ad799334-203c-4056-a969-d48ee79e7575  22682827  85b2b516-9442-49db-a133-fff69e033083   551631        Alle           False      False\n",
       "121497            NaN         NaN  www.facebook.com     4  22.01.2016 19:29:29                                                                                                                                                                                                                                                                                                                                                                                                                                                                                       Telekom-hilft After such a service I won't upgrade it . Please let me know how to change my address due that seems to be impossible to make it via telephone .       https://www.facebook.com/122768271103611/posts/990107297703033#pid=122768271103611_990107297703033&uid=990107297703033_990485040998592&cpid=990107297703033_990109827702780&aid=10153899485030798&vid=2&wid=122768271103611  7160182.0  Antworten mit Links:Link Kontaktformular  bca1d064-179d-40fe-8f2b-5c86ae81de0e  22706417  85b2b516-9442-49db-a133-fff69e033083   551631        Alle           False      False\n",
       "121498            NaN         NaN  www.facebook.com     3  22.01.2016 20:23:10                                                                                                                                                                                                                                                                                                                                                                                                       We're just asking what happened and what the call was about to help you . Do you move ? Or why needs an address to be changed ? You can send me your data with this : http://bit.ly/1MN0LCt form and I can change the address . Gruß Mandy S .         https://www.facebook.com/122768271103611/posts/990107297703033#pid=122768271103611_990107297703033&uid=990107297703033_990506694329760&cpid=990107297703033_990109827702780&aid=122768271103611&vid=2&wid=122768271103611   254017.0                                       NaN  516d5a02-fbb8-4742-a084-7f52534bab75  22708053  85b2b516-9442-49db-a133-fff69e033083   551631        Alle           False      False\n",
       "121499            NaN         NaN  www.facebook.com     4  22.01.2016 23:54:16                                                                                                                                                                                                                                                                                                                                                                                                                                                                                                                                                    Mon Struita Of course that could be . If someone ask me in turkish i dont talk with him i go away        https://www.facebook.com/122768271103611/posts/990107297703033#pid=122768271103611_990107297703033&uid=990107297703033_990573840989712&cpid=990107297703033_990109827702780&aid=1621240634828915&vid=2&wid=122768271103611  2224343.0                    abgelegt durch Sichter  54cbbc48-29d1-4455-80d1-cb494331eae8  22713362  85b2b516-9442-49db-a133-fff69e033083   551631        Alle           False      False\n",
       "121500            NaN         NaN  www.facebook.com     1  22.01.2016 07:10:12                                       Liebe Telekom , wir wohnen nun bereits , seit Dezember in einem Neubau mitten im alten Ortskern von Waldalgesheim . Leider bislang immernoch ohne jegliche Internet , - und Telefonmöglichkeit . Nach ihrer Aussage werden die Leitungen erst im Juni fertig gelegt . Wie kann das sein ? Laut Aussage unserer bisherigen Anbieter , können wir noch nicht einmal von unserem Sonderkündigungsrecht Gebrauch machen , da diese auf Antwort der TELEKOM warten ... Auch einen besseren Handyvertrag , evtl . zu gleichen Konditionen wie bisher , werden einem , trotz der Umstände , abgelehnt . Sehr schade 😕                                                              https://www.facebook.com/122768271103611/posts/990256167688146#pid=122768271103611&uid=122768271103611_990256167688146&aid=969136236486548&vid=2&wid=122768271103611  7161572.0                                       NaN  1c42807a-fa68-4fa9-b166-058e8402811c  22680505  4775f8ea-09fd-4f0e-a7b4-fff71d4da21f   551631        Alle            True      False\n",
       "121501            NaN         NaN  www.facebook.com     2  22.01.2016 08:43:05                                                                                                                                                                                                                                                                                                                                                                                                                                                                                                                                                                                              Warum sollte es einen \" besseren \" Handyvertrag geben ?                                       https://www.facebook.com/122768271103611/posts/990256167688146#pid=122768271103611_990256167688146&uid=990256167688146_990278001019296&cpid=&aid=1405233389806347&vid=2&wid=122768271103611  5659126.0                    abgelegt durch Sichter  e0f55a5c-fbc0-4271-af79-a4d22d986785  22681761  4775f8ea-09fd-4f0e-a7b4-fff71d4da21f   551631        Alle           False      False\n",
       "121502            NaN         NaN  www.facebook.com     3  22.01.2016 09:21:12                                                                                                                                                                                                                                                                                      Hallo Anna . Ich kann zu Ihrer speziellen Situation aktuell nichts genaueres sagen . Ich gehe aber davon aus , dass Leitungen gelegt werden müssen . Dies hat eventuell zur Folge , dass die Straße aufgerissen werden muss . Dies muss durch die Behörden genehmigt werden und das kann teilweise länger dauern . Gerade in alten Ortskernen . Grüße Kevin H .                                        https://www.facebook.com/122768271103611/posts/990256167688146#pid=122768271103611_990256167688146&uid=990256167688146_990289571018139&cpid=&aid=122768271103611&vid=2&wid=122768271103611   254017.0                                       NaN  7e86364d-0212-4a1b-be4c-dd95a47d12f2  22682547  4775f8ea-09fd-4f0e-a7b4-fff71d4da21f   551631        Alle           False      False\n",
       "121503            NaN         NaN  www.facebook.com     4  22.01.2016 09:23:14                                                                                                                                                                                                                                                                                                                                                                                                                                                                                                                                                                                        Die Leitungen liegen bereits vom Haus weg an der Straße ... 😯         https://www.facebook.com/122768271103611/posts/990256167688146#pid=122768271103611_990256167688146&uid=990256167688146_990290377684725&cpid=990256167688146_990289571018139&aid=969136236486548&vid=2&wid=122768271103611  7161572.0                                       NaN  dc41891e-7682-4ab0-a05d-5434d7f56858  22682590  4775f8ea-09fd-4f0e-a7b4-fff71d4da21f   551631        Alle           False      False\n",
       "121504            NaN         NaN  www.facebook.com     3  22.01.2016 09:31:04                                                                                                                                                                                                                                                                                                                                                                                                                                                                                                                                            Ok . Also vom haus bist zum Straßenkasten ? Oder schon weiter ? Wissen Sie das zufällig ? Grüße Kevin H .         https://www.facebook.com/122768271103611/posts/990256167688146#pid=122768271103611_990256167688146&uid=990256167688146_990292887684474&cpid=990256167688146_990289571018139&aid=122768271103611&vid=2&wid=122768271103611   254017.0                                       NaN  0663c5a7-6571-4b61-9068-94b9438e0c0d  22682790  4775f8ea-09fd-4f0e-a7b4-fff71d4da21f   551631        Alle           False      False\n",
       "121505            NaN         NaN       twitter.com     2  25.01.2016 14:31:58                                                                                                                                                                                                                                                                                                                                                                                                                                                                                                                                   Telekom beeindruckt Bundesgesundheitsminister mit \" Visite 2.0 \" im Lukaskrankenhaus Neuss https://t.co/m2XNE5807c                                                                                                                                                                    http://twitter.com/Officesolution0/statuses/691614488882065410  7180261.0              A-Team Twitter:Reaktion nein  4e2e1bc4-fc29-4bd4-8c4d-60eed59d7e4a  22768293  8d19650f-64c4-49ea-afbb-fff755150f26        0         NaN            True      False\n",
       "121506            NaN         NaN       twitter.com     1  21.01.2016 17:47:05                                                                                                                                                                                                                                                                                                                                                                                                                                                                                                                                     kostenfrei aktuell nur in der 1 . Klasse . Die 2 . Klasse folgt aber noch dieses Jahr . / cc @Telekom_hilft / jn                                                                                                                                                                https://twitter.com/DB_Bahn/status/690214041290170368#aid=39999078    60974.0                    abgelegt durch Sichter  68d5ed1f-7d2a-42b4-9a29-beb5f837797c  22666577  b2d47577-83c2-401a-837a-fff8bd0cb955   551631        Alle            True      False\n",
       "121507            NaN         NaN       twitter.com     2  21.01.2016 17:49:53                                                                                                                                                                                                                                                                                                                                                                                                                                                                                                                                                                                   eine Preiserhöhung gab es dadurch nicht . / cc @Telekom_hilft / jn                                                                                                                                                                https://twitter.com/DB_Bahn/status/690214746352664582#aid=39999078    60974.0                    abgelegt durch Sichter  ae6cd0dd-5469-4a1f-91fc-a42bbd1887f1  22666617  b2d47577-83c2-401a-837a-fff8bd0cb955   551631        Alle           False      False\n",
       "121508            NaN         NaN  www.facebook.com     3  18.02.2016 13:58:00  JBL Flip 2 track.adform.net Der tragbare und kabellose Bluetooth Lautsprecher bringt satten Sound in Ihr mobiles Leben und harmoniert perfekt mit Ihren Mobiltelefonen und Tablets . Nutzen Sie ihn auch als Freisprecheinrichtung . Cyber Weekend . Super Sound zum Schnäppchenpreis ! Nur für kurze Zeit und nur solange der Vorrat reicht . https://external.xx.fbcdn.net/safe_image.php?d=AQCbGlWKiweLEm1N&w=130&h=130&url=https%3A%2F%2Fwww.facebook.com%2Fads%2Fimage%2F%3Fd%3DAQIPhzL7mWTA6f_Zu-74TqbwStgKSPyE1P0vXWn_Stnf5vWZF6vSpmfBfBocMtCEo9zaOhA9jJW4Y_X_vuWaUcklMp0BPMA9p4lR-0IKS9C1kI8GEFekpseBgFfZzx67W6RC7eAOfwvsOgke8XdPeLqa&cfs=1                                                            https://www.facebook.com/181692235207011/posts/1044724372237122#pid=181692235207011&uid=181692235207011_1044724372237122&aid=181692235207011&vid=2&wid=181692235207011  2581510.0                                       NaN  db84fc62-5d1f-4ac6-916f-a88335ea5916  23575125  75baa086-064f-459b-9132-fffa654d1992        1  Client 388            True      False\n",
       "121509            NaN         NaN       twitter.com     2  24.02.2016 19:46:30                                                                                                                                                                                                                                                                                                                                                                                                                                                                                                                                                                 Der Junge heißt \" Zipser \" und nicht \" Zipzer \" .. � #Eurocup #Telekom #ALBBAY #FCBB                                                                                                                                                                     http://twitter.com/mike_NotGuilty/statuses/702565278576734208  2420106.0              A-Team Twitter:Reaktion nein  966fcea5-3b79-46fc-b997-0110c13e6eaa  23777972  d011a497-8fde-42bd-bf1d-fffb0899eb4d        0         NaN            True      False\n",
       "\n",
       "[1049220 rows x 16 columns]"
      ]
     },
     "execution_count": 9,
     "metadata": {},
     "output_type": "execute_result"
    }
   ],
   "source": [
    "raw_df"
   ]
  },
  {
   "cell_type": "code",
   "execution_count": 10,
   "metadata": {
    "ExecuteTime": {
     "end_time": "2018-01-30T03:03:18.289199Z",
     "start_time": "2018-01-30T03:03:18.204080Z"
    },
    "scrolled": true
   },
   "outputs": [
    {
     "data": {
      "text/plain": [
       "array([nan, 'Hotspot', 'Festnetz', 'Mobilfunk', 'GK', 'MMS', 'A-Team',\n",
       "       'Mobile', 'MMS COM', 'Mobilfunk (Mark./T-Shop)', 'Mobilfunk COM',\n",
       "       'Festnetz (Mark./T-Shop)', 'Festnetz COM', 'MMS (Mark./T-Shop)',\n",
       "       'Hybrid FB/TW', 'Wechsler', 'Smart Home FB/TW', 'Meinungsbildner',\n",
       "       'Hosting FB/TW', 'Hybrid & LTE', 'Abuse/Missbrauch',\n",
       "       'Anfragen in Arabisch', 'Entertain', 'IP & FTTH & PSTN',\n",
       "       'Neue Themen', 'Dienste & Abos', 'Hosting', 'Endgeräte'],\n",
       "      dtype=object)"
      ]
     },
     "execution_count": 10,
     "metadata": {},
     "output_type": "execute_result"
    }
   ],
   "source": [
    "pd.unique(raw_df.SichterName)"
   ]
  },
  {
   "cell_type": "code",
   "execution_count": 11,
   "metadata": {
    "ExecuteTime": {
     "end_time": "2018-01-30T03:04:00.082969Z",
     "start_time": "2018-01-30T03:03:18.292498Z"
    }
   },
   "outputs": [],
   "source": [
    "from collections import defaultdict\n",
    "\n",
    "def f(x):\n",
    "     return pd.Series(dict(SichterName = set(x.SichterName) - {np.nan},\n",
    "                                   Tag = set(x.Tag),\n",
    "                               Content = list(x.Content),\n",
    "                                  Kind = list(x.kind)))\n",
    "\n",
    "df = raw_df.query('(kind==1 or kind==3) and SichterName').sort_values(['Datetime'],ascending=True).groupby('TwistId').apply(f)"
   ]
  },
  {
   "cell_type": "code",
   "execution_count": 12,
   "metadata": {
    "ExecuteTime": {
     "end_time": "2018-01-30T03:04:00.183254Z",
     "start_time": "2018-01-30T03:04:00.089313Z"
    },
    "scrolled": true
   },
   "outputs": [
    {
     "data": {
      "text/html": [
       "<div>\n",
       "<style>\n",
       "    .dataframe thead tr:only-child th {\n",
       "        text-align: right;\n",
       "    }\n",
       "\n",
       "    .dataframe thead th {\n",
       "        text-align: left;\n",
       "    }\n",
       "\n",
       "    .dataframe tbody tr th {\n",
       "        vertical-align: top;\n",
       "    }\n",
       "</style>\n",
       "<table border=\"1\" class=\"dataframe\">\n",
       "  <thead>\n",
       "    <tr style=\"text-align: right;\">\n",
       "      <th></th>\n",
       "      <th>Content</th>\n",
       "      <th>Kind</th>\n",
       "      <th>SichterName</th>\n",
       "      <th>Tag</th>\n",
       "    </tr>\n",
       "    <tr>\n",
       "      <th>TwistId</th>\n",
       "      <th></th>\n",
       "      <th></th>\n",
       "      <th></th>\n",
       "      <th></th>\n",
       "    </tr>\n",
       "  </thead>\n",
       "  <tbody>\n",
       "    <tr>\n",
       "      <th>000010ca-a611-423d-a6a7-375521e53431</th>\n",
       "      <td>[@Telekom_hilft Ich hab da mal ein Eltern-Weihnachten-Technik-Problem . Wie hier : https://t.co/d2k82KRY4E https://t.co/IwwUUYYQLu http://pbs.twimg.com/media/C0id6roXUAEqrsR.png]</td>\n",
       "      <td>[1]</td>\n",
       "      <td>{Festnetz}</td>\n",
       "      <td>{nan}</td>\n",
       "    </tr>\n",
       "    <tr>\n",
       "      <th>00006e01-e8ef-4677-8ca3-457ea8a4e3ac</th>\n",
       "      <td>[SO GEHT MAN NICHT MIT SEINEN KUNDEN UM ! ! ! SIND DAS DIE METHODEN DER TELEKOM ? ? ? Anf . Juni habe ich einen Handyvertrag mit iphone abgeschlossen , durch Werbung meines Sohnes . Man hatte mir eine Gutschrift nach Ablauf des Rückgaberechts von 90 € zugesagt und meinem Sohn eine Werbungsprämie von 90 € ! Nachdem die erste und zweite Rechnung kamen und immer noch keine Gutschrift verrechnet wurde , schrieb ich die erste Mail an den zuständigen Sachbearbeiter am 6.8 . 16 , dessen Name und Email Adresse mir sehr wohl bekannt ist . Auch auf die 2 . Mail vom 14.8 . keine Reaktion ( lt . Sachbearbeiter sind die Mails im SPAMORDNER gelandet ) Am 26.8 . rief ich an , nachdem der zuständige Sachbearbeiter zurückrief wurden mir die Prämien erneut zugesagt ! ! ! Zur Gutschrift am 29.8 . 16 ! Die Abrechnung vom 7.9 . sagt allerdings etwas anderes ! Wieder keine Gutschriften ! ! ! ! Hätte man mir die Gutschriften nicht zugesagt wäre dieser Vertrag nieee zu Stande gekommen . Auch gestern am 14...</td>\n",
       "      <td>[1]</td>\n",
       "      <td>{Mobilfunk}</td>\n",
       "      <td>{Leerkategorie}</td>\n",
       "    </tr>\n",
       "    <tr>\n",
       "      <th>0001d985-62d5-41bd-9e2c-c8a5af928207</th>\n",
       "      <td>[Sehr geehrte Telekom , Durch den sehr schlecht gewordenen Kunden Service , musste ich heute leider mein Vertrag kündigen , da zum dritten mal nicht das gehalten wurde , welches Versprochen wurde . Zudem wurde mir gesagt , dann wechseln sie doch zu einem anderen Tarifpartner ...]</td>\n",
       "      <td>[1]</td>\n",
       "      <td>{Mobilfunk}</td>\n",
       "      <td>{nan}</td>\n",
       "    </tr>\n",
       "    <tr>\n",
       "      <th>00026ddd-f481-4935-9cb6-0fafac67bc38</th>\n",
       "      <td>[RT : Für ICE 27 ist noch zuständig . / da]</td>\n",
       "      <td>[1]</td>\n",
       "      <td>{Hotspot}</td>\n",
       "      <td>{nan}</td>\n",
       "    </tr>\n",
       "    <tr>\n",
       "      <th>0004f38f-a51a-4a33-b1f7-754437e5e514</th>\n",
       "      <td>[Hallo . Sind aktuell Störungen im Raum 01234567890 bekannt ? Festnetztelefonie funktioniert seit etwa 6stunden nicht mehr . Haben den Router bereits mehrmals neu gestartet . Gruß Jens .]</td>\n",
       "      <td>[1]</td>\n",
       "      <td>{MMS}</td>\n",
       "      <td>{nan}</td>\n",
       "    </tr>\n",
       "    <tr>\n",
       "      <th>00055016-2103-4240-8979-ec9a0048e4c9</th>\n",
       "      <td>[Darauf warten , dass der T-Punkt aufmacht ... #kpauttesiPhone #hilflos #lasttweet @Telekom_hilft]</td>\n",
       "      <td>[1]</td>\n",
       "      <td>{Mobilfunk}</td>\n",
       "      <td>{nan}</td>\n",
       "    </tr>\n",
       "    <tr>\n",
       "      <th>00087ad4-ffb7-42c7-947e-efcd7531cc29</th>\n",
       "      <td>[Hallo @Telekom_hilft - \" EntertainTV mobil \" ist doch mit Magenta Eins kostenlos , oder ?]</td>\n",
       "      <td>[1]</td>\n",
       "      <td>{Festnetz}</td>\n",
       "      <td>{nan}</td>\n",
       "    </tr>\n",
       "    <tr>\n",
       "      <th>00090c82-7bd0-48e7-b688-28d148259a06</th>\n",
       "      <td>[... so liebe Telekom , nach 12 Tagen wurde mein Telefonanschluss immer noch nicht aktiviert , eine ganz schön lange Zeit . Scheint schwierig zu sein sich zeitnah um das eigentliche Kerngeschäft zu kümmern . Was machen denn die vielen Telekom Mitarbeiter den ganzen Tag ? Liebe Kunden , ja mein Geschäft gibt es noch , allerdings mangels Fachkompetenz der Telekom leider ohne Telefon und Fax . So etwas ist möglich hier in Deutschland ! Würde ich in Afrika im tiefsten Busch leben , hätte ich ja Verständnis und könnte eine Buschtrommel benutzen . Sollten Rauchzeichen über unserem Ort aufgehen , diese sind von mir ... Freundliche Grüße Eva-Maria Gebels]</td>\n",
       "      <td>[1]</td>\n",
       "      <td>{GK}</td>\n",
       "      <td>{nan}</td>\n",
       "    </tr>\n",
       "    <tr>\n",
       "      <th>00097026-31f3-4a10-a8d2-f681f5a94cf4</th>\n",
       "      <td>[@Telekom_hilft Bin in England , versuche eingehende Anrufe umzuleiten - Status ist OK , aber alle Anrufe kommen hier an . Was kann ich tun ?]</td>\n",
       "      <td>[1]</td>\n",
       "      <td>{MMS}</td>\n",
       "      <td>{nan}</td>\n",
       "    </tr>\n",
       "    <tr>\n",
       "      <th>000c834b-acc8-423b-adb4-fe55a196c967</th>\n",
       "      <td>[@Telekom_hilft gibt es einE DSL Störung im PLZ Bereich 01234567890 ?]</td>\n",
       "      <td>[1]</td>\n",
       "      <td>{MMS}</td>\n",
       "      <td>{nan}</td>\n",
       "    </tr>\n",
       "    <tr>\n",
       "      <th>000cd1ae-ecaa-4696-8227-a1902b11a876</th>\n",
       "      <td>[hallöchen ich habe eine frage : wie sieht es mit dem thema entschädigung von telekom kunden aus . ich war eine woch lang ohne internet und telefon bis ein mitarbeiter der telekom einen anschluss wieder fit machen konnte . dadurch ist für mich logischerweise 1 woche grundleistung der telekom weggefallen . was gibt es für möglichkeiten mir entgegen zu kommen seitens der telekom ?]</td>\n",
       "      <td>[1]</td>\n",
       "      <td>{Festnetz COM}</td>\n",
       "      <td>{nan}</td>\n",
       "    </tr>\n",
       "    <tr>\n",
       "      <th>000ce528-2261-49b1-b2c3-2d9d092e59e7</th>\n",
       "      <td>[Hallo liebste Telekom , das ist mal wieder 100 % typisch für Euch ! Wir haben neu gebaut und dafür einen Telefonanschluss bei Euch beantragt - das war an Weihnachten 2015 . Im Oktober diesen Jahres war es dann nach unzähligen Verzögerungen soweit und der Hausanschluss wurde gemacht . Nur leider war Gas / Wasser etc . schon alles längst verlegt und die Straße wieder zu . Was macht die Telekom ? Reißt halt wieder die Straße auf , wieso auch nicht ? Die Kosten kann man ja an den Verbraucher weitergeben . Und so kam dann Anfang November eine Rechnung in Höhe von 600 € . Dabei waren die Tiefbauarbeiten zum ursprünglich vereinbarten Termin bereits gemacht und das Telefonkabel bereits verlegt . Es sollte nicht mehr gemacht werden als das Kabel anzuklemmen ! Auf der Rechnung über 600 € stehen keinerlei erbrachte Leistungen , außer : \" Hausanschluss - innen einmaliges Entgeld \" . Ja , das Kabel wurde innen vom Telekomtechniker angeschlossen . Er war max . 1h da . Da kann also etwas nicht s...</td>\n",
       "      <td>[1]</td>\n",
       "      <td>{Festnetz}</td>\n",
       "      <td>{nan}</td>\n",
       "    </tr>\n",
       "    <tr>\n",
       "      <th>000d6891-87ab-44d8-a164-4f5d45f8cdad</th>\n",
       "      <td>[Hallo @Telekom_hilft , was genau heißt \" reduzierte Geschwindigkeit \" ? 0,01234567890 kb / s ? Ernstgemeinte frage]</td>\n",
       "      <td>[1]</td>\n",
       "      <td>{Mobilfunk}</td>\n",
       "      <td>{nan}</td>\n",
       "    </tr>\n",
       "    <tr>\n",
       "      <th>000eb227-e966-401e-ad1f-4bc3e28f4431</th>\n",
       "      <td>[danke dass ich schon seit 3 wochen paketverlust hab]</td>\n",
       "      <td>[1]</td>\n",
       "      <td>{MMS}</td>\n",
       "      <td>{nan}</td>\n",
       "    </tr>\n",
       "    <tr>\n",
       "      <th>000ed5b5-1935-4dc7-a7f2-cd06a3c2e2f9</th>\n",
       "      <td>[Telekom.de unterstützt den aktuelle Firefox nicht ? Was ist das für ein Unsinn ? Chrome und IE sind für mich nur 3.klassig !]</td>\n",
       "      <td>[1]</td>\n",
       "      <td>{Festnetz}</td>\n",
       "      <td>{nan}</td>\n",
       "    </tr>\n",
       "    <tr>\n",
       "      <th>...</th>\n",
       "      <td>...</td>\n",
       "      <td>...</td>\n",
       "      <td>...</td>\n",
       "      <td>...</td>\n",
       "    </tr>\n",
       "    <tr>\n",
       "      <th>ffe34507-81d0-4c0b-977f-fd9a90ce2047</th>\n",
       "      <td>[@Telekom_hilft aktuell geht der DEL Stream nicht . Dadurch leider keine #geilstezeit]</td>\n",
       "      <td>[1]</td>\n",
       "      <td>{Festnetz}</td>\n",
       "      <td>{nan}</td>\n",
       "    </tr>\n",
       "    <tr>\n",
       "      <th>ffe7d19e-bd60-4b71-bc57-6b120ca6d52b</th>\n",
       "      <td>[Sorry , Telekom , aber was habt ihr wieder für ein Problem bei der DEL-Übertragung ? ? ? Ständig werden die Spiele unterbrochen . Beim jetzigen Spiel geht nix mehr ! Wofür bezahle ich ein Monats-Abo , wenn ich nicht flüssig gucken kann ? ? ? Es kann ja MAL passieren , aber es ist bei fast jedem Spiel und es wird immer mehr ! So kann ich auch mein Fenster öffnen und mein Geld da hinauswerfen . Bin echt sauer ! ! ! Wie ist euer Lösungsvorschlag ? ? ?]</td>\n",
       "      <td>[1]</td>\n",
       "      <td>{Festnetz}</td>\n",
       "      <td>{nan}</td>\n",
       "    </tr>\n",
       "    <tr>\n",
       "      <th>ffe8347a-8b1d-4db5-afc0-91a77d5e5e18</th>\n",
       "      <td>[Moin , so langsam habe ich die Faxen echt dicke mit dem MR 400 und den Serienaufnahmen . Gestern programmiert , alles war ok , Serienaufnahmen wurden gespeichert und heute funktioniert es wieder nicht . Einige Aufnahmen lassen sich plötzlich auch nicht mehr als Serienaufnahme programmieren . Es nervt echt . Solche Probleme hatte ich mit dem alten MR nicht . Hätten wir vorher gewusst was dass für ein Mist ist , hätten wir überhaupt nicht auf Entertain TV gewechselt !]</td>\n",
       "      <td>[1]</td>\n",
       "      <td>{MMS}</td>\n",
       "      <td>{nan}</td>\n",
       "    </tr>\n",
       "    <tr>\n",
       "      <th>ffea7d22-08e4-4624-abeb-96220db13a03</th>\n",
       "      <td>[Whesalb bekomme ich ständig Werbung per E-mail von Ihnen , in der auch noch behauptet wird , ich hätte hierzu mein Einverständnis erklärt ? Ich habe niemals mein Einverständnis hierzu erklärt und es Ihnen mit Schreiben vom 24.11 . 2016 nochmals ausdrücklich untersagt mich zu Werbezwecken zu kontaktieren . Möchten Sie , dass ich Sie auf Unterlassung in Anspruch nehme ?]</td>\n",
       "      <td>[1]</td>\n",
       "      <td>{Festnetz (Mark./T-Shop)}</td>\n",
       "      <td>{nan}</td>\n",
       "    </tr>\n",
       "    <tr>\n",
       "      <th>ffead0da-94c8-4796-acf6-65803a5d4648</th>\n",
       "      <td>[@Telekom_hilft Schönen guten Tag , hat bei uns ein Ausbau stattgefunden ? Seit einigen Tagen habe ich statt E nun . ( Rein interessehalber ^ ^ )]</td>\n",
       "      <td>[1]</td>\n",
       "      <td>{Mobilfunk}</td>\n",
       "      <td>{nan}</td>\n",
       "    </tr>\n",
       "    <tr>\n",
       "      <th>ffeb48db-d450-434d-b4af-e5d0b594f14b</th>\n",
       "      <td>[@Telekom_hilft das ICE Portal im ICE 776 Wagen 7 funtioniert schon seit Frankfurt nicht . DB sagt , Sie helfen ;-)]</td>\n",
       "      <td>[1]</td>\n",
       "      <td>{Hotspot}</td>\n",
       "      <td>{nan}</td>\n",
       "    </tr>\n",
       "    <tr>\n",
       "      <th>ffeb53b1-45e3-43d0-ab8a-3eb790a622a6</th>\n",
       "      <td>[Habe seit heute Hybrid . Eine Frage , da unser Telefon nicht funktioniert . Gigaset S810 Das Telefon verlangt eine Provider-Anmeldung . Das heißt \" Anmeldenamen \" und \" Kennwort \" . Welche Daten sind damit gemeint ? Kann jemand helfen ?]</td>\n",
       "      <td>[1]</td>\n",
       "      <td>{Festnetz}</td>\n",
       "      <td>{nan}</td>\n",
       "    </tr>\n",
       "    <tr>\n",
       "      <th>ffebe9a3-f989-4af4-8bd6-873eacde373f</th>\n",
       "      <td>[Orrr . 😣 @Telekom_hilft wie ist denn jetzt die Antwort , wenn ich nicht will , dass mir Voicemail den Akku leer saugt ? https://t.co/AlzILzZt2C http://pbs.twimg.com/media/C16AkK1XcAA2hhO.jpg]</td>\n",
       "      <td>[1]</td>\n",
       "      <td>{Mobilfunk}</td>\n",
       "      <td>{nan}</td>\n",
       "    </tr>\n",
       "    <tr>\n",
       "      <th>ffec49fc-9c59-40ee-8b56-c4515de4de99</th>\n",
       "      <td>[Liebe Telekom . Seitdem wir unseren Handyvertrag bei Euch gekündigt haben werde ich unangemessen häufig von Euch kontaktiert und mit Werbung belästigt . Obwohl ich bereits allen Mitarbeitern ( die Armen ! ) die mich angerufen habe mitgeteilt habe , dass man mich bitte in Zukunft weder anrufen , noch per SMS kontaktieren solle hört die Belästigung nicht auf ! Jetzt versuche ich es auf diesem Wege : Bitte kontaktiert mich nicht mehr um zu fragen ob ich die Kündigung rückgängig machen möchte . BITTE ! ! ! Ich bedanke mich jetzt mal nicht im Voraus , denn das hat die anderen Male ja leider auch nicht geklappt ...]</td>\n",
       "      <td>[1]</td>\n",
       "      <td>{Mobilfunk COM}</td>\n",
       "      <td>{nan}</td>\n",
       "    </tr>\n",
       "    <tr>\n",
       "      <th>ffec8925-0719-419a-b0a8-808ea619cc44</th>\n",
       "      <td>[@Telekom_hilft Störungen in 01234567890 Schwörstadt . WLAN geht an / aus im paar Minuten tackt . Wann wird das in Ordnung gebracht ?]</td>\n",
       "      <td>[1]</td>\n",
       "      <td>{MMS}</td>\n",
       "      <td>{nan}</td>\n",
       "    </tr>\n",
       "    <tr>\n",
       "      <th>fff6d6fc-25b6-4061-8395-427d30749ece</th>\n",
       "      <td>[Seit 9 tagen Störung , kein Fernsehen , Telefon oder Internet , Störung noch nicht behoben , Störungsstelle mehr als schlecht , viel versprochen , aber auch gar nichts gehalten . Angerufen worden auf Handy um technikertermin abzusprechen , Techniker um 17.00 Uhr gemacht , Techniker war ohne Ankündigung schon 15.15 da , und hat natürliche niemanden angetroffen.neuer Termin sollte dann am 05.10 . 16 sein ! ! ! Nach stundenlangen handytelefonaten Termin am 30.09 abgerungene . Warum darf ICH wieder tagelang warten , weil sich der Techniker nicht an den Termin gehalten hat ! ! ! Also Störung seit 8 Tagen und kein Ende abzusehen . Wenn der Techniker die Störung wieder nicht beheben kann , wie beim letzten Mal , knack ich bestimmt noch die 3 Wochen offline marke . Einmal hab ich schon an den Vorstand und die Geschäftsleitung geschrieben , scheinbar muss ich das nochmal wiederholen . Als Kunde wirst du nur Vera ... Und belogen . Es möchte auch niemand von der Telekom meiner Familie erklär...</td>\n",
       "      <td>[1]</td>\n",
       "      <td>{Festnetz}</td>\n",
       "      <td>{Prio-Fall}</td>\n",
       "    </tr>\n",
       "    <tr>\n",
       "      <th>fff7192d-243b-4035-a86d-9e9c05c991b1</th>\n",
       "      <td>[:p mein Internet Anschluss ist auch bestellt , aber @Telekom_hilft lässt mit der Bestätigung auf sich warten .]</td>\n",
       "      <td>[1]</td>\n",
       "      <td>{Festnetz}</td>\n",
       "      <td>{nan}</td>\n",
       "    </tr>\n",
       "    <tr>\n",
       "      <th>fffb7d5e-9a36-422d-b546-91926f6fce85</th>\n",
       "      <td>[@Telekom_hilft mal wieder Störung in 01234567890 . Langsam kann man die Uhr nach den Ausfällen stellen ! Kriegt ihr das irgendwann mal auf die Reihe ?]</td>\n",
       "      <td>[1]</td>\n",
       "      <td>{MMS}</td>\n",
       "      <td>{nan}</td>\n",
       "    </tr>\n",
       "    <tr>\n",
       "      <th>fffe66aa-b9be-4ffa-94e6-a5e87a43850e</th>\n",
       "      <td>[@Telekom_hilft wo darf man bei euch Bugs melden ?]</td>\n",
       "      <td>[1]</td>\n",
       "      <td>{Festnetz}</td>\n",
       "      <td>{nan}</td>\n",
       "    </tr>\n",
       "    <tr>\n",
       "      <th>ffff5a35-909b-4767-bd8f-ced210ad7653</th>\n",
       "      <td>[Sehr geehrte Damen und Herren , seit mehreren Monaten belästigt mich nun die Nummer \" +01234567890 96 \" . Die Herren an der anderen Seite der Leitung melden sich im Namen der Telekom und möchten mir einen neuen Vertrag aufdrücken . Sie haben meine Daten und auch Kentnisse über meine laufenden Verträge bei der Telekom , die sie keinenfalls von mir erhalten haben . Ich habe bereits MEHRMALS verlangt alle Daten über den Vertrag per Mail zugesendet zu bekommen . Dies ist nie geschehen . Dennoch ruft mich täglich die oben genannte Nummer an . Als ich heute das Telefonat angenommen habe , erhielt ich wie die Male zuvor dasselbe Angebot eines neuen Vertrages . Verärgert habe ich erwähnt , dass man mir das Angebot längst per Mail senden wollte . Ich konnte meinen Satz nicht beenden , schon hatte der vermeintliche Mitarbeiter der Telekom einfach den Hörer aufgelegt . Das ist alles in allem eine bodenlose Unverschämtheit . Zusammenfassend ist die Telekom der teuerste Anbieter , mit dem mies...</td>\n",
       "      <td>[1]</td>\n",
       "      <td>{Mobilfunk}</td>\n",
       "      <td>{nan}</td>\n",
       "    </tr>\n",
       "  </tbody>\n",
       "</table>\n",
       "<p>35565 rows × 4 columns</p>\n",
       "</div>"
      ],
      "text/plain": [
       "                                                                                                                                                                                                                                                                                                                                                                                                                                                                                                                                                                                                                                                                                                                                                                                                                                                                                                                                                                                                                                                                      Content Kind                SichterName              Tag\n",
       "TwistId                                                                                                                                                                                                                                                                                                                                                                                                                                                                                                                                                                                                                                                                                                                                                                                                                                                                                                                                                                                                                                                                                                                       \n",
       "000010ca-a611-423d-a6a7-375521e53431                                                                                                                                                                                                                                                                                                                                                                                                                                                                                                                                                                                                                                                                                                                                                                                                                                                       [@Telekom_hilft Ich hab da mal ein Eltern-Weihnachten-Technik-Problem . Wie hier : https://t.co/d2k82KRY4E https://t.co/IwwUUYYQLu http://pbs.twimg.com/media/C0id6roXUAEqrsR.png]  [1]                 {Festnetz}            {nan}\n",
       "00006e01-e8ef-4677-8ca3-457ea8a4e3ac  [SO GEHT MAN NICHT MIT SEINEN KUNDEN UM ! ! ! SIND DAS DIE METHODEN DER TELEKOM ? ? ? Anf . Juni habe ich einen Handyvertrag mit iphone abgeschlossen , durch Werbung meines Sohnes . Man hatte mir eine Gutschrift nach Ablauf des Rückgaberechts von 90 € zugesagt und meinem Sohn eine Werbungsprämie von 90 € ! Nachdem die erste und zweite Rechnung kamen und immer noch keine Gutschrift verrechnet wurde , schrieb ich die erste Mail an den zuständigen Sachbearbeiter am 6.8 . 16 , dessen Name und Email Adresse mir sehr wohl bekannt ist . Auch auf die 2 . Mail vom 14.8 . keine Reaktion ( lt . Sachbearbeiter sind die Mails im SPAMORDNER gelandet ) Am 26.8 . rief ich an , nachdem der zuständige Sachbearbeiter zurückrief wurden mir die Prämien erneut zugesagt ! ! ! Zur Gutschrift am 29.8 . 16 ! Die Abrechnung vom 7.9 . sagt allerdings etwas anderes ! Wieder keine Gutschriften ! ! ! ! Hätte man mir die Gutschriften nicht zugesagt wäre dieser Vertrag nieee zu Stande gekommen . Auch gestern am 14...  [1]                {Mobilfunk}  {Leerkategorie}\n",
       "0001d985-62d5-41bd-9e2c-c8a5af928207                                                                                                                                                                                                                                                                                                                                                                                                                                                                                                                                                                                                                                                                                                                                                 [Sehr geehrte Telekom , Durch den sehr schlecht gewordenen Kunden Service , musste ich heute leider mein Vertrag kündigen , da zum dritten mal nicht das gehalten wurde , welches Versprochen wurde . Zudem wurde mir gesagt , dann wechseln sie doch zu einem anderen Tarifpartner ...]  [1]                {Mobilfunk}            {nan}\n",
       "00026ddd-f481-4935-9cb6-0fafac67bc38                                                                                                                                                                                                                                                                                                                                                                                                                                                                                                                                                                                                                                                                                                                                                                                                                                                                                                                                                                                              [RT : Für ICE 27 ist noch zuständig . / da]  [1]                  {Hotspot}            {nan}\n",
       "0004f38f-a51a-4a33-b1f7-754437e5e514                                                                                                                                                                                                                                                                                                                                                                                                                                                                                                                                                                                                                                                                                                                                                                                                                                              [Hallo . Sind aktuell Störungen im Raum 01234567890 bekannt ? Festnetztelefonie funktioniert seit etwa 6stunden nicht mehr . Haben den Router bereits mehrmals neu gestartet . Gruß Jens .]  [1]                      {MMS}            {nan}\n",
       "00055016-2103-4240-8979-ec9a0048e4c9                                                                                                                                                                                                                                                                                                                                                                                                                                                                                                                                                                                                                                                                                                                                                                                                                                                                                                                                       [Darauf warten , dass der T-Punkt aufmacht ... #kpauttesiPhone #hilflos #lasttweet @Telekom_hilft]  [1]                {Mobilfunk}            {nan}\n",
       "00087ad4-ffb7-42c7-947e-efcd7531cc29                                                                                                                                                                                                                                                                                                                                                                                                                                                                                                                                                                                                                                                                                                                                                                                                                                                                                                                                              [Hallo @Telekom_hilft - \" EntertainTV mobil \" ist doch mit Magenta Eins kostenlos , oder ?]  [1]                 {Festnetz}            {nan}\n",
       "00090c82-7bd0-48e7-b688-28d148259a06                                                                                                                                                                                                                                                                                                                                                          [... so liebe Telekom , nach 12 Tagen wurde mein Telefonanschluss immer noch nicht aktiviert , eine ganz schön lange Zeit . Scheint schwierig zu sein sich zeitnah um das eigentliche Kerngeschäft zu kümmern . Was machen denn die vielen Telekom Mitarbeiter den ganzen Tag ? Liebe Kunden , ja mein Geschäft gibt es noch , allerdings mangels Fachkompetenz der Telekom leider ohne Telefon und Fax . So etwas ist möglich hier in Deutschland ! Würde ich in Afrika im tiefsten Busch leben , hätte ich ja Verständnis und könnte eine Buschtrommel benutzen . Sollten Rauchzeichen über unserem Ort aufgehen , diese sind von mir ... Freundliche Grüße Eva-Maria Gebels]  [1]                       {GK}            {nan}\n",
       "00097026-31f3-4a10-a8d2-f681f5a94cf4                                                                                                                                                                                                                                                                                                                                                                                                                                                                                                                                                                                                                                                                                                                                                                                                                                                                                           [@Telekom_hilft Bin in England , versuche eingehende Anrufe umzuleiten - Status ist OK , aber alle Anrufe kommen hier an . Was kann ich tun ?]  [1]                      {MMS}            {nan}\n",
       "000c834b-acc8-423b-adb4-fe55a196c967                                                                                                                                                                                                                                                                                                                                                                                                                                                                                                                                                                                                                                                                                                                                                                                                                                                                                                                                                                   [@Telekom_hilft gibt es einE DSL Störung im PLZ Bereich 01234567890 ?]  [1]                      {MMS}            {nan}\n",
       "000cd1ae-ecaa-4696-8227-a1902b11a876                                                                                                                                                                                                                                                                                                                                                                                                                                                                                                                                                                                                                                           [hallöchen ich habe eine frage : wie sieht es mit dem thema entschädigung von telekom kunden aus . ich war eine woch lang ohne internet und telefon bis ein mitarbeiter der telekom einen anschluss wieder fit machen konnte . dadurch ist für mich logischerweise 1 woche grundleistung der telekom weggefallen . was gibt es für möglichkeiten mir entgegen zu kommen seitens der telekom ?]  [1]             {Festnetz COM}            {nan}\n",
       "000ce528-2261-49b1-b2c3-2d9d092e59e7  [Hallo liebste Telekom , das ist mal wieder 100 % typisch für Euch ! Wir haben neu gebaut und dafür einen Telefonanschluss bei Euch beantragt - das war an Weihnachten 2015 . Im Oktober diesen Jahres war es dann nach unzähligen Verzögerungen soweit und der Hausanschluss wurde gemacht . Nur leider war Gas / Wasser etc . schon alles längst verlegt und die Straße wieder zu . Was macht die Telekom ? Reißt halt wieder die Straße auf , wieso auch nicht ? Die Kosten kann man ja an den Verbraucher weitergeben . Und so kam dann Anfang November eine Rechnung in Höhe von 600 € . Dabei waren die Tiefbauarbeiten zum ursprünglich vereinbarten Termin bereits gemacht und das Telefonkabel bereits verlegt . Es sollte nicht mehr gemacht werden als das Kabel anzuklemmen ! Auf der Rechnung über 600 € stehen keinerlei erbrachte Leistungen , außer : \" Hausanschluss - innen einmaliges Entgeld \" . Ja , das Kabel wurde innen vom Telekomtechniker angeschlossen . Er war max . 1h da . Da kann also etwas nicht s...  [1]                 {Festnetz}            {nan}\n",
       "000d6891-87ab-44d8-a164-4f5d45f8cdad                                                                                                                                                                                                                                                                                                                                                                                                                                                                                                                                                                                                                                                                                                                                                                                                                                                                                                                     [Hallo @Telekom_hilft , was genau heißt \" reduzierte Geschwindigkeit \" ? 0,01234567890 kb / s ? Ernstgemeinte frage]  [1]                {Mobilfunk}            {nan}\n",
       "000eb227-e966-401e-ad1f-4bc3e28f4431                                                                                                                                                                                                                                                                                                                                                                                                                                                                                                                                                                                                                                                                                                                                                                                                                                                                                                                                                                                    [danke dass ich schon seit 3 wochen paketverlust hab]  [1]                      {MMS}            {nan}\n",
       "000ed5b5-1935-4dc7-a7f2-cd06a3c2e2f9                                                                                                                                                                                                                                                                                                                                                                                                                                                                                                                                                                                                                                                                                                                                                                                                                                                                                                           [Telekom.de unterstützt den aktuelle Firefox nicht ? Was ist das für ein Unsinn ? Chrome und IE sind für mich nur 3.klassig !]  [1]                 {Festnetz}            {nan}\n",
       "...                                                                                                                                                                                                                                                                                                                                                                                                                                                                                                                                                                                                                                                                                                                                                                                                                                                                                                                                                                                                                                                                       ...  ...                        ...              ...\n",
       "ffe34507-81d0-4c0b-977f-fd9a90ce2047                                                                                                                                                                                                                                                                                                                                                                                                                                                                                                                                                                                                                                                                                                                                                                                                                                                                                                                                                   [@Telekom_hilft aktuell geht der DEL Stream nicht . Dadurch leider keine #geilstezeit]  [1]                 {Festnetz}            {nan}\n",
       "ffe7d19e-bd60-4b71-bc57-6b120ca6d52b                                                                                                                                                                                                                                                                                                                                                                                                                                                                                                                                                                   [Sorry , Telekom , aber was habt ihr wieder für ein Problem bei der DEL-Übertragung ? ? ? Ständig werden die Spiele unterbrochen . Beim jetzigen Spiel geht nix mehr ! Wofür bezahle ich ein Monats-Abo , wenn ich nicht flüssig gucken kann ? ? ? Es kann ja MAL passieren , aber es ist bei fast jedem Spiel und es wird immer mehr ! So kann ich auch mein Fenster öffnen und mein Geld da hinauswerfen . Bin echt sauer ! ! ! Wie ist euer Lösungsvorschlag ? ? ?]  [1]                 {Festnetz}            {nan}\n",
       "ffe8347a-8b1d-4db5-afc0-91a77d5e5e18                                                                                                                                                                                                                                                                                                                                                                                                                                                                                                                                                 [Moin , so langsam habe ich die Faxen echt dicke mit dem MR 400 und den Serienaufnahmen . Gestern programmiert , alles war ok , Serienaufnahmen wurden gespeichert und heute funktioniert es wieder nicht . Einige Aufnahmen lassen sich plötzlich auch nicht mehr als Serienaufnahme programmieren . Es nervt echt . Solche Probleme hatte ich mit dem alten MR nicht . Hätten wir vorher gewusst was dass für ein Mist ist , hätten wir überhaupt nicht auf Entertain TV gewechselt !]  [1]                      {MMS}            {nan}\n",
       "ffea7d22-08e4-4624-abeb-96220db13a03                                                                                                                                                                                                                                                                                                                                                                                                                                                                                                                                                                                                                                                     [Whesalb bekomme ich ständig Werbung per E-mail von Ihnen , in der auch noch behauptet wird , ich hätte hierzu mein Einverständnis erklärt ? Ich habe niemals mein Einverständnis hierzu erklärt und es Ihnen mit Schreiben vom 24.11 . 2016 nochmals ausdrücklich untersagt mich zu Werbezwecken zu kontaktieren . Möchten Sie , dass ich Sie auf Unterlassung in Anspruch nehme ?]  [1]  {Festnetz (Mark./T-Shop)}            {nan}\n",
       "ffead0da-94c8-4796-acf6-65803a5d4648                                                                                                                                                                                                                                                                                                                                                                                                                                                                                                                                                                                                                                                                                                                                                                                                                                                                                       [@Telekom_hilft Schönen guten Tag , hat bei uns ein Ausbau stattgefunden ? Seit einigen Tagen habe ich statt E nun . ( Rein interessehalber ^ ^ )]  [1]                {Mobilfunk}            {nan}\n",
       "ffeb48db-d450-434d-b4af-e5d0b594f14b                                                                                                                                                                                                                                                                                                                                                                                                                                                                                                                                                                                                                                                                                                                                                                                                                                                                                                                     [@Telekom_hilft das ICE Portal im ICE 776 Wagen 7 funtioniert schon seit Frankfurt nicht . DB sagt , Sie helfen ;-)]  [1]                  {Hotspot}            {nan}\n",
       "ffeb53b1-45e3-43d0-ab8a-3eb790a622a6                                                                                                                                                                                                                                                                                                                                                                                                                                                                                                                                                                                                                                                                                                                                                                                           [Habe seit heute Hybrid . Eine Frage , da unser Telefon nicht funktioniert . Gigaset S810 Das Telefon verlangt eine Provider-Anmeldung . Das heißt \" Anmeldenamen \" und \" Kennwort \" . Welche Daten sind damit gemeint ? Kann jemand helfen ?]  [1]                 {Festnetz}            {nan}\n",
       "ffebe9a3-f989-4af4-8bd6-873eacde373f                                                                                                                                                                                                                                                                                                                                                                                                                                                                                                                                                                                                                                                                                                                                                                                                                                         [Orrr . 😣 @Telekom_hilft wie ist denn jetzt die Antwort , wenn ich nicht will , dass mir Voicemail den Akku leer saugt ? https://t.co/AlzILzZt2C http://pbs.twimg.com/media/C16AkK1XcAA2hhO.jpg]  [1]                {Mobilfunk}            {nan}\n",
       "ffec49fc-9c59-40ee-8b56-c4515de4de99                                                                                                                                                                                                                                                                                                                                                                                               [Liebe Telekom . Seitdem wir unseren Handyvertrag bei Euch gekündigt haben werde ich unangemessen häufig von Euch kontaktiert und mit Werbung belästigt . Obwohl ich bereits allen Mitarbeitern ( die Armen ! ) die mich angerufen habe mitgeteilt habe , dass man mich bitte in Zukunft weder anrufen , noch per SMS kontaktieren solle hört die Belästigung nicht auf ! Jetzt versuche ich es auf diesem Wege : Bitte kontaktiert mich nicht mehr um zu fragen ob ich die Kündigung rückgängig machen möchte . BITTE ! ! ! Ich bedanke mich jetzt mal nicht im Voraus , denn das hat die anderen Male ja leider auch nicht geklappt ...]  [1]            {Mobilfunk COM}            {nan}\n",
       "ffec8925-0719-419a-b0a8-808ea619cc44                                                                                                                                                                                                                                                                                                                                                                                                                                                                                                                                                                                                                                                                                                                                                                                                                                                                                                   [@Telekom_hilft Störungen in 01234567890 Schwörstadt . WLAN geht an / aus im paar Minuten tackt . Wann wird das in Ordnung gebracht ?]  [1]                      {MMS}            {nan}\n",
       "fff6d6fc-25b6-4061-8395-427d30749ece  [Seit 9 tagen Störung , kein Fernsehen , Telefon oder Internet , Störung noch nicht behoben , Störungsstelle mehr als schlecht , viel versprochen , aber auch gar nichts gehalten . Angerufen worden auf Handy um technikertermin abzusprechen , Techniker um 17.00 Uhr gemacht , Techniker war ohne Ankündigung schon 15.15 da , und hat natürliche niemanden angetroffen.neuer Termin sollte dann am 05.10 . 16 sein ! ! ! Nach stundenlangen handytelefonaten Termin am 30.09 abgerungene . Warum darf ICH wieder tagelang warten , weil sich der Techniker nicht an den Termin gehalten hat ! ! ! Also Störung seit 8 Tagen und kein Ende abzusehen . Wenn der Techniker die Störung wieder nicht beheben kann , wie beim letzten Mal , knack ich bestimmt noch die 3 Wochen offline marke . Einmal hab ich schon an den Vorstand und die Geschäftsleitung geschrieben , scheinbar muss ich das nochmal wiederholen . Als Kunde wirst du nur Vera ... Und belogen . Es möchte auch niemand von der Telekom meiner Familie erklär...  [1]                 {Festnetz}      {Prio-Fall}\n",
       "fff7192d-243b-4035-a86d-9e9c05c991b1                                                                                                                                                                                                                                                                                                                                                                                                                                                                                                                                                                                                                                                                                                                                                                                                                                                                                                                         [:p mein Internet Anschluss ist auch bestellt , aber @Telekom_hilft lässt mit der Bestätigung auf sich warten .]  [1]                 {Festnetz}            {nan}\n",
       "fffb7d5e-9a36-422d-b546-91926f6fce85                                                                                                                                                                                                                                                                                                                                                                                                                                                                                                                                                                                                                                                                                                                                                                                                                                                                                 [@Telekom_hilft mal wieder Störung in 01234567890 . Langsam kann man die Uhr nach den Ausfällen stellen ! Kriegt ihr das irgendwann mal auf die Reihe ?]  [1]                      {MMS}            {nan}\n",
       "fffe66aa-b9be-4ffa-94e6-a5e87a43850e                                                                                                                                                                                                                                                                                                                                                                                                                                                                                                                                                                                                                                                                                                                                                                                                                                                                                                                                                                                      [@Telekom_hilft wo darf man bei euch Bugs melden ?]  [1]                 {Festnetz}            {nan}\n",
       "ffff5a35-909b-4767-bd8f-ced210ad7653  [Sehr geehrte Damen und Herren , seit mehreren Monaten belästigt mich nun die Nummer \" +01234567890 96 \" . Die Herren an der anderen Seite der Leitung melden sich im Namen der Telekom und möchten mir einen neuen Vertrag aufdrücken . Sie haben meine Daten und auch Kentnisse über meine laufenden Verträge bei der Telekom , die sie keinenfalls von mir erhalten haben . Ich habe bereits MEHRMALS verlangt alle Daten über den Vertrag per Mail zugesendet zu bekommen . Dies ist nie geschehen . Dennoch ruft mich täglich die oben genannte Nummer an . Als ich heute das Telefonat angenommen habe , erhielt ich wie die Male zuvor dasselbe Angebot eines neuen Vertrages . Verärgert habe ich erwähnt , dass man mir das Angebot längst per Mail senden wollte . Ich konnte meinen Satz nicht beenden , schon hatte der vermeintliche Mitarbeiter der Telekom einfach den Hörer aufgelegt . Das ist alles in allem eine bodenlose Unverschämtheit . Zusammenfassend ist die Telekom der teuerste Anbieter , mit dem mies...  [1]                {Mobilfunk}            {nan}\n",
       "\n",
       "[35565 rows x 4 columns]"
      ]
     },
     "execution_count": 12,
     "metadata": {},
     "output_type": "execute_result"
    }
   ],
   "source": [
    "df"
   ]
  },
  {
   "cell_type": "code",
   "execution_count": 13,
   "metadata": {
    "ExecuteTime": {
     "end_time": "2018-01-30T03:04:00.283201Z",
     "start_time": "2018-01-30T03:04:00.188154Z"
    }
   },
   "outputs": [],
   "source": [
    "import re\n",
    "GRUBER_URLINTEXT_PAT = re.compile(r'(?i)\\b((?:https?://|www\\d{0,3}[.]|[a-z0-9.\\-]+[.][a-z]{2,4}/)(?:[^\\s()<>]|\\(([^\\s()<>]+|(\\([^\\s()<>]+\\)))*\\))+(?:\\(([^\\s()<>]+|(\\([^\\s()<>]+\\)))*\\)|[^\\s`!()\\[\\]{};:\\'\".,<>?\\xab\\xbb\\u201c\\u201d\\u2018\\u2019]))')\n",
    "NUMBER_CLEAN = re.compile(r'\\d+(:?[.,]?\\d+)*')\n",
    "TIME_CLEAN = re.compile(r'\\d+:\\d+(?:\\s?[u]hr)?')\n",
    "PUNCT_CLEAN = re.compile(r'(\\s?)[\\.\\,()\\[\\]\\{\\}\\^\\:\\'\\\"\\/;/!/?/…/€/%//“„=–><&]+(\\s?)')\n",
    "DASH_CLEAN = re.compile(r'([^et])[-]')\n",
    "TWEET_CLEAN = re.compile(r'@\\w+')\n",
    "HASH_CLEAN = re.compile(r'#(\\w+)')\n",
    "SPACE_CLEAN = re.compile(r'(\\s)\\s+')\n",
    "RT_CLEAN = re.compile(r'^rt\\b')\n",
    "\n",
    "def preprocessing(text):\n",
    "    try:\n",
    "        text = text.lower()\n",
    "        # clean-up url\n",
    "        text = GRUBER_URLINTEXT_PAT.sub('', text)\n",
    "        # remove time\n",
    "        text = TIME_CLEAN.sub('', text)\n",
    "        # clean-up numbers\n",
    "        text = NUMBER_CLEAN.sub('', text)\n",
    "        text = PUNCT_CLEAN.sub(r'\\1\\2',text)\n",
    "        text = TWEET_CLEAN.sub('', text)\n",
    "        text = HASH_CLEAN.sub(r'\\1', text)\n",
    "#         text = DASH_CLEAN.sub(r'\\1 ', text)\n",
    "        text = SPACE_CLEAN.sub(r'\\1', text)\n",
    "        text = RT_CLEAN.sub(r'', text)\n",
    "        return ' '.join([word for word in text.split(' ') if word not in stopwords]).strip()\n",
    "    except:\n",
    "        return ''\n",
    "\n",
    "with open('./stopwords-de.txt') as f:\n",
    "    stopwords = f.read().split('\\n')"
   ]
  },
  {
   "cell_type": "code",
   "execution_count": 14,
   "metadata": {
    "ExecuteTime": {
     "end_time": "2018-01-30T03:04:52.088068Z",
     "start_time": "2018-01-30T03:04:00.287283Z"
    }
   },
   "outputs": [],
   "source": [
    "documents = [] # Content\n",
    "documents_raw = []\n",
    "labels = [] # SichterName\n",
    "\n",
    "for (idx, row) in df.iterrows():\n",
    "    if not row.Content:\n",
    "        continue\n",
    "    labels.append(row.SichterName)\n",
    "    documents_raw.append(row.Content)\n",
    "    documents.append(' '.join([preprocessing(text) for text in documents_raw[-1] if text]))"
   ]
  },
  {
   "cell_type": "code",
   "execution_count": 15,
   "metadata": {
    "ExecuteTime": {
     "end_time": "2018-01-30T03:04:52.116669Z",
     "start_time": "2018-01-30T03:04:52.097698Z"
    },
    "scrolled": true
   },
   "outputs": [
    {
     "data": {
      "text/plain": [
       "['eltern-weihnachten-technik-problem',\n",
       " 'kunden methoden anf handyvertrag iphone abgeschlossen werbung sohnes gutschrift ablauf rückgaberechts zugesagt sohn werbungsprämie rechnung kamen gutschrift verrechnet schrieb mail zuständigen sachbearbeiter name email adresse mail reaktion lt sachbearbeiter mails spamordner gelandet rief zuständige sachbearbeiter zurückrief prämien erneut zugesagt gutschrift abrechnung gutschriften gutschriften zugesagt vertrag nieee stande gekommen gestern ca minuten warteschleife beschwerdehotline gesprochen sofortige bestätigung zumindest gutschrift zugesagt sofort per mail bestätigen - - methoden kunden versprechungen einhalten',\n",
       " 'geehrte gewordenen kunden service leider vertrag kündigen gehalten versprochen zudem wechseln tarifpartner',\n",
       " 'ice zuständig',\n",
       " 'aktuell störungen raum festnetztelefonie funktioniert stunden router mehrmals neu gestartet gruß jens',\n",
       " 'warten t-punkt aufmacht kpauttesiphone hilflos lasttweet',\n",
       " '- entertaintv mobil magenta kostenlos',\n",
       " 'liebe telefonanschluss aktiviert schön scheint schwierig zeitnah eigentliche kerngeschäft kümmern mitarbeiter liebe kunden geschäft mangels fachkompetenz leider telefon fax deutschland afrika tiefsten busch leben verständnis buschtrommel benutzen rauchzeichen unserem ort aufgehen freundliche grüße eva-maria gebels',\n",
       " 'england versuche eingehende anrufe umzuleiten - status ok anrufe',\n",
       " 'dsl störung plz bereich']"
      ]
     },
     "execution_count": 15,
     "metadata": {},
     "output_type": "execute_result"
    }
   ],
   "source": [
    "documents[:10]"
   ]
  },
  {
   "cell_type": "code",
   "execution_count": 16,
   "metadata": {
    "ExecuteTime": {
     "end_time": "2018-01-30T03:04:55.278092Z",
     "start_time": "2018-01-30T03:04:52.120371Z"
    }
   },
   "outputs": [],
   "source": [
    "from gensim import corpora, models\n",
    "\n",
    "dictionary = corpora.Dictionary([document.split(' ') for document in documents])"
   ]
  },
  {
   "cell_type": "code",
   "execution_count": 17,
   "metadata": {
    "ExecuteTime": {
     "end_time": "2018-01-30T03:04:56.927094Z",
     "start_time": "2018-01-30T03:04:55.282665Z"
    }
   },
   "outputs": [],
   "source": [
    "corpus = [dictionary.doc2bow(document.split(' ')) for document in documents]"
   ]
  },
  {
   "cell_type": "code",
   "execution_count": 18,
   "metadata": {
    "ExecuteTime": {
     "end_time": "2018-01-30T03:43:12.858824Z",
     "start_time": "2018-01-30T03:04:56.930282Z"
    }
   },
   "outputs": [],
   "source": [
    "ldamodel = gensim.models.ldamodel.LdaModel(corpus, num_topics=N_TOPICS, id2word=dictionary, passes=N_PASSES)"
   ]
  },
  {
   "cell_type": "code",
   "execution_count": 67,
   "metadata": {
    "ExecuteTime": {
     "end_time": "2018-01-30T06:25:58.031375Z",
     "start_time": "2018-01-30T06:25:57.905128Z"
    }
   },
   "outputs": [],
   "source": [
    "topics_list = dict(ldamodel.print_topics(num_topics=30, num_words=4))"
   ]
  },
  {
   "cell_type": "code",
   "execution_count": 68,
   "metadata": {
    "ExecuteTime": {
     "end_time": "2018-01-30T06:26:00.978131Z",
     "start_time": "2018-01-30T06:26:00.972433Z"
    }
   },
   "outputs": [
    {
     "data": {
      "text/plain": [
       "{0: '0.046*\"leitung\" + 0.034*\"mbit\" + 0.022*\"vdsl\" + 0.020*\"anschluss\"',\n",
       " 1: '0.052*\"wlan\" + 0.045*\"ice\" + 0.039*\"hotspot\" + 0.019*\"update\"',\n",
       " 2: '0.019*\"\" + 0.012*\"braucht\" + 0.009*\"wenden\" + 0.009*\"hört\"',\n",
       " 3: '0.061*\"entertain\" + 0.034*\"receiver\" + 0.029*\"tv\" + 0.012*\"bild\"',\n",
       " 4: '0.041*\"*\" + 0.011*\"angezeigt\" + 0.011*\"upload\" + 0.009*\"vorhanden\"',\n",
       " 5: '0.023*\"internet\" + 0.020*\"speedport\" + 0.019*\"router\" + 0.016*\"problem\"',\n",
       " 6: '0.068*\"magenta\" + 0.033*\"tarif\" + 0.028*\"+\" + 0.026*\"mobil\"',\n",
       " 7: '0.077*\"internet\" + 0.040*\"router\" + 0.030*\"störung\" + 0.029*\"probleme\"',\n",
       " 8: '0.015*\"„\" + 0.012*\"woran\" + 0.010*\"entertaintv\" + 0.008*\"comfort\"',\n",
       " 9: '0.014*\"freundlichen\" + 0.014*\"grüßen\" + 0.012*\"geehrte\" + 0.011*\"damen\"',\n",
       " 10: '0.028*\"techniker\" + 0.017*\"hotline\" + 0.015*\"internet\" + 0.015*\"telefon\"',\n",
       " 11: '0.027*\"is\" + 0.023*\"and\" + 0.017*\"you\" + 0.017*\"for\"',\n",
       " 12: '0.030*\"vertrag\" + 0.025*\"gb\" + 0.020*\"iphone\" + 0.017*\"monat\"',\n",
       " 13: '0.251*\"-\" + 0.008*\"helfen\" + 0.007*\"mehrmals\" + 0.006*\"hilfe\"',\n",
       " 14: '0.038*\"netz\" + 0.029*\"lte\" + 0.028*\"störungen\" + 0.018*\"mb\"',\n",
       " 15: '0.046*\"app\" + 0.016*\"sky\" + 0.016*\"eishockey\" + 0.015*\"tv\"',\n",
       " 16: '0.021*\"per\" + 0.017*\"-\" + 0.012*\"erhalten\" + 0.010*\"leider\"',\n",
       " 17: '0.049*\"dsl\" + 0.029*\"-\" + 0.023*\"internetverbindung\" + 0.020*\"erreichbar\"',\n",
       " 18: '0.033*\"handy\" + 0.014*\"nummer\" + 0.011*\"info\" + 0.010*\"daten\"',\n",
       " 19: '0.021*\"vertrag\" + 0.020*\"kunden\" + 0.015*\"kunde\" + 0.013*\"einfach\"'}"
      ]
     },
     "execution_count": 68,
     "metadata": {},
     "output_type": "execute_result"
    }
   ],
   "source": [
    "topics_list"
   ]
  },
  {
   "cell_type": "code",
   "execution_count": 19,
   "metadata": {
    "ExecuteTime": {
     "end_time": "2018-01-30T03:43:12.949083Z",
     "start_time": "2018-01-30T03:43:12.894815Z"
    }
   },
   "outputs": [],
   "source": [
    "a = ldamodel[dictionary.doc2bow(documents[10].split(' '))]"
   ]
  },
  {
   "cell_type": "code",
   "execution_count": 20,
   "metadata": {
    "ExecuteTime": {
     "end_time": "2018-01-30T03:43:12.986454Z",
     "start_time": "2018-01-30T03:43:12.958786Z"
    }
   },
   "outputs": [
    {
     "data": {
      "text/plain": [
       "'hallöchen frage sieht thema entschädigung kunden woch internet telefon mitarbeiter anschluss fit logischerweise woche grundleistung weggefallen möglichkeiten entgegen seitens'"
      ]
     },
     "execution_count": 20,
     "metadata": {},
     "output_type": "execute_result"
    }
   ],
   "source": [
    "documents[10]"
   ]
  },
  {
   "cell_type": "code",
   "execution_count": 30,
   "metadata": {
    "ExecuteTime": {
     "end_time": "2018-01-30T05:18:22.828831Z",
     "start_time": "2018-01-30T05:18:22.820263Z"
    }
   },
   "outputs": [
    {
     "data": {
      "text/plain": [
       "(10,\n",
       " (10,\n",
       "  '0.028*\"techniker\" + 0.017*\"hotline\" + 0.015*\"internet\" + 0.015*\"telefon\"'))"
      ]
     },
     "execution_count": 30,
     "metadata": {},
     "output_type": "execute_result"
    }
   ],
   "source": [
    "sorted(a, key=lambda x: x[1],reverse=True)[0][0], topics_list[10]"
   ]
  },
  {
   "cell_type": "markdown",
   "metadata": {},
   "source": [
    "# GET MORE LABELS FROM TELEKOM.DE/HILFE"
   ]
  },
  {
   "cell_type": "code",
   "execution_count": 38,
   "metadata": {
    "ExecuteTime": {
     "end_time": "2018-01-30T05:22:12.816873Z",
     "start_time": "2018-01-30T05:22:12.767868Z"
    }
   },
   "outputs": [],
   "source": [
    "from itertools import product\n",
    "import pickle\n",
    "items = pickle.load(open('./cleaned_answers_2.pickle','rb'))\n",
    "\n",
    "qa = []\n",
    "qa_labels = []\n",
    "\n",
    "for item in items:\n",
    "    KQ = [kq.decode('utf-8') for kq in item['key_questions']]\n",
    "    answer = item['answer'].decode('utf-8')\n",
    "    question = item['question'].decode('utf-8')\n",
    "    if KQ:\n",
    "        combs = list(product([question], KQ, [answer]))\n",
    "    else:\n",
    "        combs = list(product([question], [answer]))\n",
    "    qa_labels += [item['link'].split('>')] * len(combs)\n",
    "    qa += [' '.join(comb) for comb in combs]"
   ]
  },
  {
   "cell_type": "code",
   "execution_count": 39,
   "metadata": {
    "ExecuteTime": {
     "end_time": "2018-01-30T05:22:26.587626Z",
     "start_time": "2018-01-30T05:22:14.910362Z"
    }
   },
   "outputs": [],
   "source": [
    "# bag of words\n",
    "from sklearn.feature_extraction.text import CountVectorizer\n",
    "from sklearn.feature_extraction.text import TfidfTransformer\n",
    "\n",
    "BoW = CountVectorizer(documents+qa, stop_words=stopwords, strip_accents='unicode', ngram_range=(1,3), min_df=3)\n",
    "X_bag = BoW.fit_transform(documents+qa)\n",
    "tf_transformer = TfidfTransformer()\n",
    "X_bag = tf_transformer.fit_transform(X_bag)"
   ]
  },
  {
   "cell_type": "code",
   "execution_count": 40,
   "metadata": {
    "ExecuteTime": {
     "end_time": "2018-01-30T05:24:00.636586Z",
     "start_time": "2018-01-30T05:22:26.591266Z"
    }
   },
   "outputs": [],
   "source": [
    "vectors = []\n",
    "clusters = []\n",
    "for document in documents:\n",
    "    cluster = ldamodel[dictionary.doc2bow(document.split(' '))]\n",
    "    clusters.append(sorted(a, key=lambda x: x[1],reverse=True)[0][0])\n",
    "    vector = BoW.transform([document])\n",
    "    vector = tf_transformer.transform(vector)\n",
    "    vectors.append(vector)\n",
    "    \n",
    "qa_vectors = []\n",
    "for document in qa:\n",
    "    vector = BoW.transform([document])\n",
    "    vector = tf_transformer.transform(vector)\n",
    "    qa_vectors.append(vector)"
   ]
  },
  {
   "cell_type": "code",
   "execution_count": 45,
   "metadata": {
    "ExecuteTime": {
     "end_time": "2018-01-30T05:26:33.166407Z",
     "start_time": "2018-01-30T05:26:31.178562Z"
    },
    "scrolled": false
   },
   "outputs": [
    {
     "data": {
      "text/plain": [
       "(35565, 1655)"
      ]
     },
     "execution_count": 45,
     "metadata": {},
     "output_type": "execute_result"
    }
   ],
   "source": [
    "from sklearn.metrics.pairwise import linear_kernel\n",
    "from scipy.sparse import vstack\n",
    "\n",
    "vectors = vstack(vectors)\n",
    "qa_vectors = vstack(qa_vectors)\n",
    "\n",
    "sim = linear_kernel(vectors, qa_vectors)\n",
    "sim.shape"
   ]
  },
  {
   "cell_type": "code",
   "execution_count": 46,
   "metadata": {
    "ExecuteTime": {
     "end_time": "2018-01-30T05:26:39.168939Z",
     "start_time": "2018-01-30T05:26:39.161617Z"
    }
   },
   "outputs": [],
   "source": [
    "def get_new_labels(document):\n",
    "    print(document)\n",
    "    topic = topics[documents == document]\n",
    "    print(topics_list)"
   ]
  },
  {
   "cell_type": "code",
   "execution_count": 47,
   "metadata": {
    "ExecuteTime": {
     "end_time": "2018-01-30T05:26:42.338811Z",
     "start_time": "2018-01-30T05:26:42.329119Z"
    }
   },
   "outputs": [],
   "source": [
    "def get_topic(document):\n",
    "    topics = ldamodel[dictionary.doc2bow(document.split(' '))]\n",
    "    topic_ind = sorted(topics, key=lambda x: x[1],reverse=True)[0][0]\n",
    "    return topic_ind, ldamodel.print_topics(num_topics=30, num_words=10)[topic_ind]"
   ]
  },
  {
   "cell_type": "code",
   "execution_count": 48,
   "metadata": {
    "ExecuteTime": {
     "end_time": "2018-01-30T05:26:50.525333Z",
     "start_time": "2018-01-30T05:26:44.631279Z"
    }
   },
   "outputs": [
    {
     "data": {
      "text/plain": [
       "(35565, 1655)"
      ]
     },
     "execution_count": 48,
     "metadata": {},
     "output_type": "execute_result"
    }
   ],
   "source": [
    "sort_sim = sim.argsort(axis=0)\n",
    "sort_sim.shape"
   ]
  },
  {
   "cell_type": "code",
   "execution_count": 49,
   "metadata": {
    "ExecuteTime": {
     "end_time": "2018-01-30T05:26:53.266579Z",
     "start_time": "2018-01-30T05:26:53.255060Z"
    }
   },
   "outputs": [],
   "source": [
    "def get_qa(document_ind):\n",
    "    sort_sim[-1:document_ind]"
   ]
  },
  {
   "cell_type": "code",
   "execution_count": 50,
   "metadata": {
    "ExecuteTime": {
     "end_time": "2018-01-30T05:26:54.499329Z",
     "start_time": "2018-01-30T05:26:54.390936Z"
    }
   },
   "outputs": [
    {
     "data": {
      "text/plain": [
       "(8,\n",
       " (8,\n",
       "  '0.015*\"„\" + 0.012*\"woran\" + 0.010*\"entertaintv\" + 0.008*\"comfort\" + 0.007*\"bzw\" + 0.007*\"möglichkeit\" + 0.006*\"fehlermeldung\" + 0.006*\"manchmal\" + 0.006*\"online\" + 0.006*\"liegen\"'))"
      ]
     },
     "execution_count": 50,
     "metadata": {},
     "output_type": "execute_result"
    }
   ],
   "source": [
    "get_topic(documents[7135])"
   ]
  },
  {
   "cell_type": "code",
   "execution_count": 51,
   "metadata": {
    "ExecuteTime": {
     "end_time": "2018-01-30T05:39:34.610763Z",
     "start_time": "2018-01-30T05:26:58.263163Z"
    }
   },
   "outputs": [],
   "source": [
    "topics = [get_topic(document)[0] for document in documents]\n",
    "topics = np.array(topics)"
   ]
  },
  {
   "cell_type": "code",
   "execution_count": 65,
   "metadata": {
    "ExecuteTime": {
     "end_time": "2018-01-30T06:22:44.408384Z",
     "start_time": "2018-01-30T06:22:44.371097Z"
    }
   },
   "outputs": [],
   "source": [
    "from collections import defaultdict\n",
    "new_labels = defaultdict(list)\n",
    "new_topics = defaultdict(set)\n",
    "\n",
    "k = 4\n",
    "l = 2\n",
    "granularity = 2\n",
    "best_sort = sort_sim[-k:,:]\n",
    "\n",
    "for i in range(len(qa_labels)):\n",
    "    if len(np.unique(topics[best_sort[:,i]])) <= l:\n",
    "        best_topic = np.bincount(topics[best_sort[:,i]]).argmax()\n",
    "        new_topics[topics[best_topic]] |= (set(qa_labels[i][:granularity]))"
   ]
  },
  {
   "cell_type": "code",
   "execution_count": 70,
   "metadata": {
    "ExecuteTime": {
     "end_time": "2018-01-30T06:26:35.775322Z",
     "start_time": "2018-01-30T06:26:35.763445Z"
    },
    "scrolled": false
   },
   "outputs": [
    {
     "data": {
      "text/plain": [
       "(defaultdict(set,\n",
       "             {1: {'auftrag-erste-schritte',\n",
       "               'einrichtung-festnetz-internet-und-tv',\n",
       "               'entertain-tv',\n",
       "               'festnetz-internet-tv',\n",
       "               'geraete-zubehoer',\n",
       "               'handy-smartphone-tablet',\n",
       "               'heimnetzwerk-powerline-wlan',\n",
       "               'magentazuhause-surf-magentaeins-young',\n",
       "               'media-receiver',\n",
       "               'mobiles-internet-e-mail',\n",
       "               'mobilfunk-mobiles-internet',\n",
       "               'router',\n",
       "               'sicherheit',\n",
       "               'sim-karte',\n",
       "               'smart-home',\n",
       "               'tv',\n",
       "               'vertrag-meine-daten'},\n",
       "              4: {'auftrag-erste-schritte',\n",
       "               'auftrags-und-lieferstatus',\n",
       "               'bauherren-service',\n",
       "               'festnetz-internet-tv',\n",
       "               'kundencenter',\n",
       "               'kundencenter-festnetz',\n",
       "               'sicherheit',\n",
       "               'telekomsport',\n",
       "               'vertrag',\n",
       "               'vertrag-meine-daten'},\n",
       "              5: {'aktuelle-kosten-und-verbrauch',\n",
       "               'anschluss-verfuegbarkeit',\n",
       "               'ausland-roaming',\n",
       "               'einzelverbindungsnachweis',\n",
       "               'festnetz-internet-tv',\n",
       "               'geraete-service',\n",
       "               'geraete-zubehoer',\n",
       "               'handy-smartphone-tablet',\n",
       "               'kuendigung',\n",
       "               'meine-daten',\n",
       "               'mobil-telefonieren-sms-mms',\n",
       "               'mobilbox',\n",
       "               'mobiles-internet-e-mail',\n",
       "               'mobilfunk-mobiles-internet',\n",
       "               'prepaid',\n",
       "               'rechnung',\n",
       "               'sim-karte',\n",
       "               'tarife-optionen',\n",
       "               'telefonieren-einstellungen',\n",
       "               'tv',\n",
       "               'vertrag',\n",
       "               'vertrag-meine-daten'},\n",
       "              6: {'aktuelle-kosten-und-verbrauch',\n",
       "               'anschluss-verfuegbarkeit',\n",
       "               'ausland-roaming',\n",
       "               'bezahlung-und-bankeinzug',\n",
       "               'business-service-portal',\n",
       "               'carconnect',\n",
       "               'einzelverbindungsnachweis',\n",
       "               'festnetz-internet-tv',\n",
       "               'geraete-zubehoer',\n",
       "               'handy-smartphone-tablet',\n",
       "               'kundencenter',\n",
       "               'login-daten-passwoerter',\n",
       "               'magentaeins',\n",
       "               'magentazuhause-surf-magentaeins-young',\n",
       "               'meine-daten',\n",
       "               'mobiles-internet-e-mail',\n",
       "               'mobilfunk-mobiles-internet',\n",
       "               'prepaid',\n",
       "               'rechnung',\n",
       "               'rechnung-erhalten',\n",
       "               'smart-home',\n",
       "               'tarife-optionen',\n",
       "               'telekomsport',\n",
       "               'vertrag',\n",
       "               'vertrag-meine-daten',\n",
       "               'wlan-call'},\n",
       "              7: {'anschluss-verfuegbarkeit',\n",
       "               'auftrag-erste-schritte',\n",
       "               'e-mail',\n",
       "               'einrichtung-festnetz-internet-und-tv',\n",
       "               'entertain-tv',\n",
       "               'festnetz-internet-tv',\n",
       "               'geraete-zubehoer',\n",
       "               'handy-smartphone-tablet',\n",
       "               'heimnetzwerk-powerline-wlan',\n",
       "               'ip-basierter-anschluss',\n",
       "               'media-receiver',\n",
       "               'mobil-telefonieren-sms-mms',\n",
       "               'mobilbox',\n",
       "               'mobiles-internet-e-mail',\n",
       "               'mobilfunk-mobiles-internet',\n",
       "               'router',\n",
       "               'sicherheit',\n",
       "               'smart-home',\n",
       "               'telefone-und-anlagen',\n",
       "               'telefonieren-einstellungen',\n",
       "               'telekomsport',\n",
       "               'umwelt'},\n",
       "              8: {'geraete-service',\n",
       "               'geraete-zubehoer',\n",
       "               'rechnung',\n",
       "               'rechnungsinhalt'},\n",
       "              10: {'auftrag-erste-schritte',\n",
       "               'festnetz-internet-tv',\n",
       "               'geraete-zubehoer',\n",
       "               'sicherheit',\n",
       "               'smart-home',\n",
       "               'umzug',\n",
       "               'wechsel-zur-telekom'},\n",
       "              11: {'auftrag-erste-schritte',\n",
       "               'auftrags-und-lieferstatus',\n",
       "               'bezahlung-und-bankeinzug',\n",
       "               'entertain-tv',\n",
       "               'festnetz-internet-tv',\n",
       "               'mobil-telefonieren-sms-mms',\n",
       "               'mobiles-internet-e-mail',\n",
       "               'mobilfunk-mobiles-internet',\n",
       "               'rechnung',\n",
       "               'rechnung-erhalten',\n",
       "               'telefonieren-einstellungen'},\n",
       "              12: {'e-mail',\n",
       "               'festnetz-internet-tv',\n",
       "               'geraete-zubehoer',\n",
       "               'heimnetzwerk-powerline-wlan',\n",
       "               'login-daten-passwoerter',\n",
       "               'mobiles-internet-e-mail',\n",
       "               'mobilfunk-mobiles-internet',\n",
       "               'produkte',\n",
       "               'telekomsport',\n",
       "               'vertrag-meine-daten'},\n",
       "              14: {'anschluss-verfuegbarkeit',\n",
       "               'e-mail',\n",
       "               'festnetz-internet-tv',\n",
       "               'geraete-zubehoer',\n",
       "               'router',\n",
       "               'telefone-und-anlagen',\n",
       "               'telefonieren-einstellungen'},\n",
       "              16: {'anschluss-verfuegbarkeit',\n",
       "               'auftrag-erste-schritte',\n",
       "               'auftrags-und-lieferstatus',\n",
       "               'einzelverbindungsnachweis',\n",
       "               'festnetz-internet-tv',\n",
       "               'geraete-zubehoer',\n",
       "               'handy-smartphone-tablet',\n",
       "               'heimnetzwerk-powerline-wlan',\n",
       "               'hilfe-bei-stoerungen',\n",
       "               'login-daten-passwoerter',\n",
       "               'magentaeins',\n",
       "               'mobiles-internet-e-mail',\n",
       "               'mobilfunk-mobiles-internet',\n",
       "               'prepaid',\n",
       "               'probleme-mit-mobilfunk',\n",
       "               'produkte',\n",
       "               'rechnung',\n",
       "               'router',\n",
       "               'sim-karte',\n",
       "               'smart-home',\n",
       "               'tarife-optionen',\n",
       "               'telekomsport',\n",
       "               'tv',\n",
       "               'vertrag-meine-daten',\n",
       "               'wlan-call'},\n",
       "              19: {'ausland-roaming',\n",
       "               'entertain-tv',\n",
       "               'festnetz-internet-tv',\n",
       "               'geraete-zubehoer',\n",
       "               'handy-smartphone-tablet',\n",
       "               'mobil-telefonieren-sms-mms',\n",
       "               'mobiles-internet-e-mail',\n",
       "               'mobilfunk-mobiles-internet',\n",
       "               'sim-karte',\n",
       "               'smart-home',\n",
       "               'telekomsport'}}),\n",
       " {0: '0.046*\"leitung\" + 0.034*\"mbit\" + 0.022*\"vdsl\" + 0.020*\"anschluss\"',\n",
       "  1: '0.052*\"wlan\" + 0.045*\"ice\" + 0.039*\"hotspot\" + 0.019*\"update\"',\n",
       "  2: '0.019*\"\" + 0.012*\"braucht\" + 0.009*\"wenden\" + 0.009*\"hört\"',\n",
       "  3: '0.061*\"entertain\" + 0.034*\"receiver\" + 0.029*\"tv\" + 0.012*\"bild\"',\n",
       "  4: '0.041*\"*\" + 0.011*\"angezeigt\" + 0.011*\"upload\" + 0.009*\"vorhanden\"',\n",
       "  5: '0.023*\"internet\" + 0.020*\"speedport\" + 0.019*\"router\" + 0.016*\"problem\"',\n",
       "  6: '0.068*\"magenta\" + 0.033*\"tarif\" + 0.028*\"+\" + 0.026*\"mobil\"',\n",
       "  7: '0.077*\"internet\" + 0.040*\"router\" + 0.030*\"störung\" + 0.029*\"probleme\"',\n",
       "  8: '0.015*\"„\" + 0.012*\"woran\" + 0.010*\"entertaintv\" + 0.008*\"comfort\"',\n",
       "  9: '0.014*\"freundlichen\" + 0.014*\"grüßen\" + 0.012*\"geehrte\" + 0.011*\"damen\"',\n",
       "  10: '0.028*\"techniker\" + 0.017*\"hotline\" + 0.015*\"internet\" + 0.015*\"telefon\"',\n",
       "  11: '0.027*\"is\" + 0.023*\"and\" + 0.017*\"you\" + 0.017*\"for\"',\n",
       "  12: '0.030*\"vertrag\" + 0.025*\"gb\" + 0.020*\"iphone\" + 0.017*\"monat\"',\n",
       "  13: '0.251*\"-\" + 0.008*\"helfen\" + 0.007*\"mehrmals\" + 0.006*\"hilfe\"',\n",
       "  14: '0.038*\"netz\" + 0.029*\"lte\" + 0.028*\"störungen\" + 0.018*\"mb\"',\n",
       "  15: '0.046*\"app\" + 0.016*\"sky\" + 0.016*\"eishockey\" + 0.015*\"tv\"',\n",
       "  16: '0.021*\"per\" + 0.017*\"-\" + 0.012*\"erhalten\" + 0.010*\"leider\"',\n",
       "  17: '0.049*\"dsl\" + 0.029*\"-\" + 0.023*\"internetverbindung\" + 0.020*\"erreichbar\"',\n",
       "  18: '0.033*\"handy\" + 0.014*\"nummer\" + 0.011*\"info\" + 0.010*\"daten\"',\n",
       "  19: '0.021*\"vertrag\" + 0.020*\"kunden\" + 0.015*\"kunde\" + 0.013*\"einfach\"'})"
      ]
     },
     "execution_count": 70,
     "metadata": {},
     "output_type": "execute_result"
    }
   ],
   "source": [
    "new_topics, topics_list"
   ]
  },
  {
   "cell_type": "code",
   "execution_count": null,
   "metadata": {
    "ExecuteTime": {
     "end_time": "2018-01-30T03:45:20.067643Z",
     "start_time": "2018-01-30T03:02:58.786Z"
    },
    "scrolled": true
   },
   "outputs": [],
   "source": [
    "topics[[30864, 25575, 17414, 33209]]"
   ]
  },
  {
   "cell_type": "code",
   "execution_count": null,
   "metadata": {
    "ExecuteTime": {
     "end_time": "2018-01-30T03:45:20.072052Z",
     "start_time": "2018-01-30T03:02:58.798Z"
    }
   },
   "outputs": [],
   "source": [
    "len(qa_labels)"
   ]
  },
  {
   "cell_type": "code",
   "execution_count": null,
   "metadata": {
    "ExecuteTime": {
     "end_time": "2018-01-30T03:45:20.074388Z",
     "start_time": "2018-01-30T03:02:58.811Z"
    }
   },
   "outputs": [],
   "source": [
    "new_topics"
   ]
  },
  {
   "cell_type": "code",
   "execution_count": null,
   "metadata": {
    "ExecuteTime": {
     "end_time": "2018-01-30T03:45:20.077659Z",
     "start_time": "2018-01-30T03:02:58.821Z"
    }
   },
   "outputs": [],
   "source": [
    "documents[283]"
   ]
  },
  {
   "cell_type": "code",
   "execution_count": null,
   "metadata": {
    "ExecuteTime": {
     "end_time": "2018-01-30T03:45:20.083173Z",
     "start_time": "2018-01-30T03:02:58.835Z"
    }
   },
   "outputs": [],
   "source": [
    "new_labels"
   ]
  },
  {
   "cell_type": "code",
   "execution_count": null,
   "metadata": {
    "ExecuteTime": {
     "end_time": "2018-01-30T03:45:20.085647Z",
     "start_time": "2018-01-30T03:02:58.844Z"
    }
   },
   "outputs": [],
   "source": [
    "len(qa_labels)"
   ]
  },
  {
   "cell_type": "code",
   "execution_count": null,
   "metadata": {
    "ExecuteTime": {
     "end_time": "2018-01-30T03:45:20.087750Z",
     "start_time": "2018-01-30T03:02:58.854Z"
    }
   },
   "outputs": [],
   "source": [
    "len(topics)"
   ]
  },
  {
   "cell_type": "code",
   "execution_count": null,
   "metadata": {
    "ExecuteTime": {
     "end_time": "2018-01-30T03:45:20.089576Z",
     "start_time": "2018-01-30T03:02:58.863Z"
    },
    "scrolled": true
   },
   "outputs": [],
   "source": [
    "documents[7135], qa_labels[1403], qa[1403]"
   ]
  }
 ],
 "metadata": {
  "kernelspec": {
   "display_name": "Python 3",
   "language": "python",
   "name": "python3"
  },
  "language_info": {
   "codemirror_mode": {
    "name": "ipython",
    "version": 3
   },
   "file_extension": ".py",
   "mimetype": "text/x-python",
   "name": "python",
   "nbconvert_exporter": "python",
   "pygments_lexer": "ipython3",
   "version": "3.6.3"
  },
  "notify_time": "5"
 },
 "nbformat": 4,
 "nbformat_minor": 2
}
