{
 "cells": [
  {
   "cell_type": "code",
   "execution_count": 21,
   "metadata": {
    "ExecuteTime": {
     "end_time": "2018-01-29T18:10:53.929669Z",
     "start_time": "2018-01-29T18:10:53.682997Z"
    }
   },
   "outputs": [],
   "source": [
    "import numpy as np\n",
    "import pickle\n",
    "np.set_printoptions(precision=4,suppress=True)\n",
    "import matplotlib as mpl\n",
    "import matplotlib.pyplot as plt\n",
    "%matplotlib inline"
   ]
  },
  {
   "cell_type": "code",
   "execution_count": 40,
   "metadata": {
    "ExecuteTime": {
     "end_time": "2018-01-29T19:55:02.404903Z",
     "start_time": "2018-01-29T19:55:01.819678Z"
    }
   },
   "outputs": [],
   "source": [
    "documents = pickle.load(open('documents.pl','rb'))\n",
    "labels = pickle.load(open('labels.pl','rb'))\n",
    "tags = pickle.load(open('tags.pl','rb'))"
   ]
  },
  {
   "cell_type": "markdown",
   "metadata": {},
   "source": [
    "# FEATURES"
   ]
  },
  {
   "cell_type": "code",
   "execution_count": 45,
   "metadata": {
    "ExecuteTime": {
     "end_time": "2018-01-29T20:00:08.725686Z",
     "start_time": "2018-01-29T20:00:08.720384Z"
    }
   },
   "outputs": [],
   "source": [
    "with open('./stopwords-de.txt') as f:\n",
    "    stopwords = f.read().split('\\n')"
   ]
  },
  {
   "cell_type": "code",
   "execution_count": 46,
   "metadata": {
    "ExecuteTime": {
     "end_time": "2018-01-29T20:00:40.020883Z",
     "start_time": "2018-01-29T20:00:09.015614Z"
    }
   },
   "outputs": [],
   "source": [
    "# bag of words\n",
    "from sklearn.feature_extraction.text import CountVectorizer\n",
    "from sklearn.feature_extraction.text import TfidfTransformer\n",
    "\n",
    "CountVectorizer()\n",
    "BoW = CountVectorizer(documents, stop_words=stopwords, strip_accents='unicode', ngram_range=(1,3), min_df=3)\n",
    "X_bag = BoW.fit_transform(documents)\n",
    "tf_transformer = TfidfTransformer().fit(X_bag)\n",
    "X_bag = tf_transformer.fit_transform(X_bag)"
   ]
  },
  {
   "cell_type": "code",
   "execution_count": 47,
   "metadata": {
    "ExecuteTime": {
     "end_time": "2018-01-29T20:00:40.057831Z",
     "start_time": "2018-01-29T20:00:40.022835Z"
    }
   },
   "outputs": [],
   "source": [
    "Y = np.array(np.array(tags)=='Prio-Fall', dtype=int)"
   ]
  },
  {
   "cell_type": "code",
   "execution_count": 48,
   "metadata": {
    "ExecuteTime": {
     "end_time": "2018-01-29T20:00:40.079382Z",
     "start_time": "2018-01-29T20:00:40.060077Z"
    }
   },
   "outputs": [
    {
     "data": {
      "text/plain": [
       "0.1450676982591876"
      ]
     },
     "execution_count": 48,
     "metadata": {},
     "output_type": "execute_result"
    }
   ],
   "source": [
    "sum(Y)/len(Y)"
   ]
  },
  {
   "cell_type": "code",
   "execution_count": 49,
   "metadata": {
    "ExecuteTime": {
     "end_time": "2018-01-29T20:00:40.086009Z",
     "start_time": "2018-01-29T20:00:40.082489Z"
    }
   },
   "outputs": [],
   "source": [
    "from imblearn.over_sampling import RandomOverSampler\n",
    "from collections import Counter"
   ]
  },
  {
   "cell_type": "markdown",
   "metadata": {},
   "source": [
    "# CLASSIFIERS"
   ]
  },
  {
   "cell_type": "code",
   "execution_count": 50,
   "metadata": {
    "ExecuteTime": {
     "end_time": "2018-01-29T20:00:40.095598Z",
     "start_time": "2018-01-29T20:00:40.088358Z"
    }
   },
   "outputs": [],
   "source": [
    "import xgboost as xgb\n",
    "# Code for cross-validation\n",
    "from sklearn.cross_validation import train_test_split\n",
    "from sklearn.cross_validation import StratifiedKFold\n",
    "from sklearn.utils import class_weight\n",
    "from sklearn.metrics import f1_score"
   ]
  },
  {
   "cell_type": "markdown",
   "metadata": {},
   "source": [
    "## XG BOOST 1A"
   ]
  },
  {
   "cell_type": "code",
   "execution_count": null,
   "metadata": {
    "ExecuteTime": {
     "start_time": "2018-01-29T20:00:15.418Z"
    }
   },
   "outputs": [],
   "source": [
    "# Set our parameters for xgboost\n",
    "params = {}\n",
    "params['objective'] = 'binary:logistic'\n",
    "params['eval_metric'] = 'logloss'\n",
    "params['eta'] = 0.05\n",
    "params['max_depth'] = 7\n",
    "params['lambda'] = 1.3"
   ]
  },
  {
   "cell_type": "code",
   "execution_count": null,
   "metadata": {
    "ExecuteTime": {
     "start_time": "2018-01-29T20:00:16.028Z"
    },
    "scrolled": false
   },
   "outputs": [
    {
     "name": "stdout",
     "output_type": "stream",
     "text": [
      "[0]\ttrain-logloss:0.684786\tvalid-logloss:0.685085\n",
      "Multiple eval metrics have been passed: 'valid-logloss' will be used for early stopping.\n",
      "\n",
      "Will train until valid-logloss hasn't improved in 50 rounds.\n",
      "[10]\ttrain-logloss:0.631128\tvalid-logloss:0.633862\n",
      "[20]\ttrain-logloss:0.604485\tvalid-logloss:0.609447\n",
      "[30]\ttrain-logloss:0.587953\tvalid-logloss:0.59431\n",
      "[40]\ttrain-logloss:0.576828\tvalid-logloss:0.584374\n",
      "[50]\ttrain-logloss:0.568891\tvalid-logloss:0.577605\n",
      "[60]\ttrain-logloss:0.562475\tvalid-logloss:0.572332\n",
      "[70]\ttrain-logloss:0.557057\tvalid-logloss:0.567929\n",
      "[80]\ttrain-logloss:0.552206\tvalid-logloss:0.564199\n",
      "[90]\ttrain-logloss:0.548292\tvalid-logloss:0.561225\n",
      "[100]\ttrain-logloss:0.544725\tvalid-logloss:0.558601\n",
      "[110]\ttrain-logloss:0.541464\tvalid-logloss:0.556111\n",
      "[120]\ttrain-logloss:0.538231\tvalid-logloss:0.553831\n",
      "[130]\ttrain-logloss:0.535306\tvalid-logloss:0.551573\n",
      "[140]\ttrain-logloss:0.532362\tvalid-logloss:0.549521\n",
      "[150]\ttrain-logloss:0.529876\tvalid-logloss:0.547642\n",
      "[160]\ttrain-logloss:0.527297\tvalid-logloss:0.545809\n",
      "[170]\ttrain-logloss:0.52483\tvalid-logloss:0.543972\n",
      "[180]\ttrain-logloss:0.522626\tvalid-logloss:0.542521\n",
      "[190]\ttrain-logloss:0.520456\tvalid-logloss:0.540956\n",
      "[200]\ttrain-logloss:0.518396\tvalid-logloss:0.539566\n",
      "[210]\ttrain-logloss:0.516243\tvalid-logloss:0.53811\n",
      "[220]\ttrain-logloss:0.514362\tvalid-logloss:0.53679\n",
      "[230]\ttrain-logloss:0.512382\tvalid-logloss:0.535482\n",
      "[240]\ttrain-logloss:0.510559\tvalid-logloss:0.534272\n",
      "[250]\ttrain-logloss:0.508682\tvalid-logloss:0.532978\n",
      "[260]\ttrain-logloss:0.506832\tvalid-logloss:0.531705\n",
      "[270]\ttrain-logloss:0.505236\tvalid-logloss:0.53067\n",
      "[280]\ttrain-logloss:0.503493\tvalid-logloss:0.529415\n",
      "[290]\ttrain-logloss:0.501988\tvalid-logloss:0.528465\n",
      "[300]\ttrain-logloss:0.500532\tvalid-logloss:0.527385\n",
      "[310]\ttrain-logloss:0.499028\tvalid-logloss:0.526384\n",
      "[320]\ttrain-logloss:0.497622\tvalid-logloss:0.525558\n",
      "[330]\ttrain-logloss:0.496057\tvalid-logloss:0.524309\n",
      "[340]\ttrain-logloss:0.494671\tvalid-logloss:0.523415\n",
      "[350]\ttrain-logloss:0.493342\tvalid-logloss:0.522618\n",
      "[360]\ttrain-logloss:0.49176\tvalid-logloss:0.521476\n",
      "[370]\ttrain-logloss:0.490294\tvalid-logloss:0.520432\n",
      "[380]\ttrain-logloss:0.488848\tvalid-logloss:0.519485\n",
      "[390]\ttrain-logloss:0.487454\tvalid-logloss:0.518627\n",
      "[399]\ttrain-logloss:0.486287\tvalid-logloss:0.517882\n",
      "f1 score: 0.45315997015879783\n",
      "accuracy: 76.48272068933908\\%\n",
      "[0]\ttrain-logloss:0.68473\tvalid-logloss:0.684862\n",
      "Multiple eval metrics have been passed: 'valid-logloss' will be used for early stopping.\n",
      "\n",
      "Will train until valid-logloss hasn't improved in 50 rounds.\n",
      "[10]\ttrain-logloss:0.631197\tvalid-logloss:0.632035\n",
      "[20]\ttrain-logloss:0.604217\tvalid-logloss:0.60664\n",
      "[30]\ttrain-logloss:0.587778\tvalid-logloss:0.591322\n",
      "[40]\ttrain-logloss:0.576677\tvalid-logloss:0.581419\n",
      "[50]\ttrain-logloss:0.568134\tvalid-logloss:0.5741\n"
     ]
    }
   ],
   "source": [
    "# Create 2 folds\n",
    "k = 5\n",
    "kfold = StratifiedKFold(Y, k, shuffle=True, random_state=0)\n",
    "\n",
    "results = np.zeros(k)\n",
    "\n",
    "# iterate over two folds\n",
    "for i, (train_ind, test_ind) in enumerate(kfold):\n",
    "    X_train, X_val, Y_train, Y_val = X_bag[train_ind], X_bag[test_ind], Y[train_ind], Y[test_ind]\n",
    "    \n",
    "    ros = RandomOverSampler(random_state=0)\n",
    "    X_resampled, Y_resampled = ros.fit_sample(X_train, Y_train)\n",
    "    \n",
    "    D_train = xgb.DMatrix(X_resampled, label=Y_resampled)\n",
    "    D_val = xgb.DMatrix(X_val, label=Y_val)\n",
    "\n",
    "    weights = class_weight.compute_sample_weight('balanced', [0,1], Y_resampled)\n",
    "    weightss = []\n",
    "    for y in Y_train:\n",
    "        weightss.append(weights[y])\n",
    "\n",
    "    watchlist = [(D_train, 'train'), (D_val, 'valid')]\n",
    "    bst = xgb.train(params, D_train, 400, watchlist, early_stopping_rounds=50, verbose_eval=10)\n",
    "    predictions = bst.predict(data=D_val).round()\n",
    "    results[i] = f1_score(predictions, Y_val)\n",
    "    print('f1 score: {}'.format(results[i]))\n",
    "    print('accuracy: {}\\%'.format(sum(predictions==Y_val)/len(Y_val)*100))"
   ]
  },
  {
   "cell_type": "code",
   "execution_count": null,
   "metadata": {
    "ExecuteTime": {
     "start_time": "2018-01-29T20:00:17.091Z"
    }
   },
   "outputs": [],
   "source": [
    "np.mean(results), np.var(results)"
   ]
  },
  {
   "cell_type": "markdown",
   "metadata": {
    "ExecuteTime": {
     "end_time": "2018-01-29T15:57:16.804294Z",
     "start_time": "2018-01-29T15:55:02.451Z"
    }
   },
   "source": [
    "# XGBOOST 1B"
   ]
  },
  {
   "cell_type": "code",
   "execution_count": null,
   "metadata": {
    "ExecuteTime": {
     "end_time": "2018-01-29T16:29:08.382699Z",
     "start_time": "2018-01-29T16:18:37.575Z"
    }
   },
   "outputs": [],
   "source": [
    "# Set our parameters for xgboost\n",
    "params = {}\n",
    "params['objective'] = 'binary:logistic'\n",
    "params['eval_metric'] = 'logloss'\n",
    "params['eta'] = 0.02\n",
    "params['max_depth'] = 5"
   ]
  },
  {
   "cell_type": "code",
   "execution_count": null,
   "metadata": {
    "ExecuteTime": {
     "end_time": "2018-01-29T16:29:08.384437Z",
     "start_time": "2018-01-29T16:18:43.662Z"
    }
   },
   "outputs": [],
   "source": [
    "from sklearn.preprocessing import OneHotEncoder\n",
    "\n",
    "# Create 2 folds\n",
    "k = 3\n",
    "enc = OneHotEncoder()\n",
    "Y = enc.fit(labels)\n",
    "kfold = StratifiedKFold(Y, k, shuffle=True, random_state=0)\n",
    "\n",
    "results = np.zeros(k)\n",
    "\n",
    "# iterate over two folds\n",
    "for i, (train_ind, test_ind) in enumerate(kfold):\n",
    "    X_train, X_val, Y_train, Y_val = X_bag[train_ind], X_bag[test_ind], Y[train_ind], Y[test_ind]\n",
    "    \n",
    "    D_train = xgb.DMatrix(X_train, label=Y_train)\n",
    "    D_val = xgb.DMatrix(X_val, label=Y_val)\n",
    "\n",
    "    weights = class_weight.compute_sample_weight('balanced', [0,1], Y_train)\n",
    "    weightss = []\n",
    "    for y in Y_train:\n",
    "        weightss.append(weights[y])\n",
    "\n",
    "    watchlist = [(D_train, 'train'), (D_val, 'valid')]\n",
    "    bst = xgb.train(params, D_train, 400, watchlist, early_stopping_rounds=50, verbose_eval=10)\n",
    "    predictions = bst.predict(data=D_val).round()\n",
    "    results[i] = f1_score(predictions, Y_val, )\n",
    "    print('f1 score: {}'.format(results[i]))\n",
    "    print('accuracy: {}\\%'.format(sum(predictions==Y_val)/len(Y_val)*100))"
   ]
  },
  {
   "cell_type": "code",
   "execution_count": null,
   "metadata": {},
   "outputs": [],
   "source": []
  },
  {
   "cell_type": "code",
   "execution_count": null,
   "metadata": {},
   "outputs": [],
   "source": []
  }
 ],
 "metadata": {
  "kernelspec": {
   "display_name": "Python 3",
   "language": "python",
   "name": "python3"
  },
  "language_info": {
   "codemirror_mode": {
    "name": "ipython",
    "version": 3
   },
   "file_extension": ".py",
   "mimetype": "text/x-python",
   "name": "python",
   "nbconvert_exporter": "python",
   "pygments_lexer": "ipython3",
   "version": "3.6.3"
  }
 },
 "nbformat": 4,
 "nbformat_minor": 2
}
