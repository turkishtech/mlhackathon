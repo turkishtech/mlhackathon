{
 "cells": [
  {
   "cell_type": "code",
   "execution_count": 1,
   "metadata": {
    "ExecuteTime": {
     "end_time": "2018-01-29T16:15:38.671811Z",
     "start_time": "2018-01-29T16:15:38.269397Z"
    }
   },
   "outputs": [],
   "source": [
    "import numpy as np\n",
    "import pickle\n",
    "np.set_printoptions(precision=4,suppress=True)\n",
    "import matplotlib as mpl\n",
    "import matplotlib.pyplot as plt\n",
    "%matplotlib inline"
   ]
  },
  {
   "cell_type": "code",
   "execution_count": 2,
   "metadata": {
    "ExecuteTime": {
     "end_time": "2018-01-29T16:15:38.860904Z",
     "start_time": "2018-01-29T16:15:38.673970Z"
    }
   },
   "outputs": [],
   "source": [
    "documents = pickle.load(open('documents.pl','rb'))\n",
    "labels = pickle.load(open('labels.pl','rb'))\n",
    "tags = pickle.load(open('tags.pl','rb'))"
   ]
  },
  {
   "cell_type": "markdown",
   "metadata": {},
   "source": [
    "# FEATURES"
   ]
  },
  {
   "cell_type": "code",
   "execution_count": 3,
   "metadata": {
    "ExecuteTime": {
     "end_time": "2018-01-29T16:15:39.138703Z",
     "start_time": "2018-01-29T16:15:39.134121Z"
    }
   },
   "outputs": [],
   "source": [
    "with open('./stopwords-de.txt') as f:\n",
    "    stopwords = f.read().split('\\n')"
   ]
  },
  {
   "cell_type": "code",
   "execution_count": 4,
   "metadata": {
    "ExecuteTime": {
     "end_time": "2018-01-29T16:15:39.895843Z",
     "start_time": "2018-01-29T16:15:39.421556Z"
    }
   },
   "outputs": [],
   "source": [
    "# bag of words\n",
    "from sklearn.feature_extraction.text import CountVectorizer\n",
    "\n",
    "CountVectorizer()\n",
    "BoW = CountVectorizer(documents, stop_words=stopwords, strip_accents='unicode', ngram_range=(1,3), min_df=3)"
   ]
  },
  {
   "cell_type": "code",
   "execution_count": 5,
   "metadata": {
    "ExecuteTime": {
     "end_time": "2018-01-29T16:16:08.911935Z",
     "start_time": "2018-01-29T16:15:39.897923Z"
    }
   },
   "outputs": [],
   "source": [
    "X_bag = BoW.fit_transform(documents)"
   ]
  },
  {
   "cell_type": "code",
   "execution_count": 6,
   "metadata": {
    "ExecuteTime": {
     "end_time": "2018-01-29T16:16:08.937326Z",
     "start_time": "2018-01-29T16:16:08.919746Z"
    }
   },
   "outputs": [
    {
     "data": {
      "text/plain": [
       "(1, 367992)"
      ]
     },
     "execution_count": 6,
     "metadata": {},
     "output_type": "execute_result"
    }
   ],
   "source": [
    "X_bag[0].shape"
   ]
  },
  {
   "cell_type": "code",
   "execution_count": 7,
   "metadata": {
    "ExecuteTime": {
     "end_time": "2018-01-29T16:16:08.971489Z",
     "start_time": "2018-01-29T16:16:08.940913Z"
    }
   },
   "outputs": [],
   "source": [
    "Y = np.array(np.array(tags)=='Prio-Fall', dtype=int)"
   ]
  },
  {
   "cell_type": "code",
   "execution_count": 8,
   "metadata": {
    "ExecuteTime": {
     "end_time": "2018-01-29T16:16:08.992295Z",
     "start_time": "2018-01-29T16:16:08.975328Z"
    }
   },
   "outputs": [
    {
     "data": {
      "text/plain": [
       "0.14504915987966835"
      ]
     },
     "execution_count": 8,
     "metadata": {},
     "output_type": "execute_result"
    }
   ],
   "source": [
    "sum(Y)/len(Y)"
   ]
  },
  {
   "cell_type": "code",
   "execution_count": 13,
   "metadata": {
    "ExecuteTime": {
     "end_time": "2018-01-29T16:17:07.462198Z",
     "start_time": "2018-01-29T16:17:07.436809Z"
    }
   },
   "outputs": [
    {
     "name": "stdout",
     "output_type": "stream",
     "text": [
      "[(0, 93217), (1, 15815)]\n"
     ]
    }
   ],
   "source": [
    "print(sorted(Counter(Y).items()))"
   ]
  },
  {
   "cell_type": "code",
   "execution_count": 12,
   "metadata": {
    "ExecuteTime": {
     "end_time": "2018-01-29T16:16:45.684497Z",
     "start_time": "2018-01-29T16:16:45.328637Z"
    }
   },
   "outputs": [
    {
     "name": "stdout",
     "output_type": "stream",
     "text": [
      "[(0, 93217), (1, 93217)]\n"
     ]
    }
   ],
   "source": [
    "from imblearn.over_sampling import RandomOverSampler\n",
    "ros = RandomOverSampler(random_state=0)\n",
    "X_resampled, y_resampled = ros.fit_sample(X_bag, Y)\n",
    "from collections import Counter\n",
    "print(sorted(Counter(y_resampled).items()))"
   ]
  },
  {
   "cell_type": "markdown",
   "metadata": {},
   "source": [
    "# CLASSIFIERS"
   ]
  },
  {
   "cell_type": "code",
   "execution_count": 15,
   "metadata": {
    "ExecuteTime": {
     "end_time": "2018-01-29T16:17:21.080857Z",
     "start_time": "2018-01-29T16:17:20.533683Z"
    }
   },
   "outputs": [
    {
     "name": "stderr",
     "output_type": "stream",
     "text": [
      "/usr/local/lib/python3.6/site-packages/sklearn/cross_validation.py:41: DeprecationWarning: This module was deprecated in version 0.18 in favor of the model_selection module into which all the refactored classes and functions are moved. Also note that the interface of the new CV iterators are different from that of this module. This module will be removed in 0.20.\n",
      "  \"This module will be removed in 0.20.\", DeprecationWarning)\n"
     ]
    }
   ],
   "source": [
    "import xgboost as xgb\n",
    "# Code for cross-validation\n",
    "from sklearn.cross_validation import train_test_split\n",
    "from sklearn.cross_validation import StratifiedKFold\n",
    "from sklearn.utils import class_weight\n",
    "from sklearn.metrics import f1_score"
   ]
  },
  {
   "cell_type": "markdown",
   "metadata": {},
   "source": [
    "## XG BOOST 1A"
   ]
  },
  {
   "cell_type": "code",
   "execution_count": 14,
   "metadata": {
    "ExecuteTime": {
     "end_time": "2018-01-29T16:17:18.455881Z",
     "start_time": "2018-01-29T16:17:18.451243Z"
    }
   },
   "outputs": [],
   "source": [
    "# Set our parameters for xgboost\n",
    "params = {}\n",
    "params['objective'] = 'binary:logistic'\n",
    "params['eval_metric'] = 'logloss'\n",
    "params['eta'] = 0.02\n",
    "params['max_depth'] = 5"
   ]
  },
  {
   "cell_type": "code",
   "execution_count": null,
   "metadata": {
    "ExecuteTime": {
     "start_time": "2018-01-29T16:17:22.930Z"
    },
    "scrolled": false
   },
   "outputs": [
    {
     "name": "stdout",
     "output_type": "stream",
     "text": [
      "[0]\ttrain-logloss:0.682238\tvalid-logloss:0.682267\n",
      "Multiple eval metrics have been passed: 'valid-logloss' will be used for early stopping.\n",
      "\n",
      "Will train until valid-logloss hasn't improved in 50 rounds.\n",
      "[10]\ttrain-logloss:0.593489\tvalid-logloss:0.593768\n",
      "[20]\ttrain-logloss:0.531532\tvalid-logloss:0.532108\n",
      "[30]\ttrain-logloss:0.487235\tvalid-logloss:0.488025\n",
      "[40]\ttrain-logloss:0.454939\tvalid-logloss:0.455922\n",
      "[50]\ttrain-logloss:0.431154\tvalid-logloss:0.432307\n",
      "[60]\ttrain-logloss:0.413446\tvalid-logloss:0.414819\n",
      "[70]\ttrain-logloss:0.400243\tvalid-logloss:0.401775\n",
      "[80]\ttrain-logloss:0.390154\tvalid-logloss:0.391952\n",
      "[90]\ttrain-logloss:0.382498\tvalid-logloss:0.384482\n",
      "[100]\ttrain-logloss:0.376485\tvalid-logloss:0.378778\n",
      "[110]\ttrain-logloss:0.371759\tvalid-logloss:0.374354\n",
      "[120]\ttrain-logloss:0.368129\tvalid-logloss:0.370959\n",
      "[130]\ttrain-logloss:0.365171\tvalid-logloss:0.368195\n",
      "[140]\ttrain-logloss:0.362806\tvalid-logloss:0.36608\n",
      "[150]\ttrain-logloss:0.360865\tvalid-logloss:0.364339\n",
      "[160]\ttrain-logloss:0.359201\tvalid-logloss:0.362886\n",
      "[170]\ttrain-logloss:0.357706\tvalid-logloss:0.361645\n",
      "[180]\ttrain-logloss:0.356432\tvalid-logloss:0.360592\n",
      "[190]\ttrain-logloss:0.35524\tvalid-logloss:0.359565\n",
      "[200]\ttrain-logloss:0.354233\tvalid-logloss:0.358728\n",
      "[210]\ttrain-logloss:0.353191\tvalid-logloss:0.357948\n",
      "[220]\ttrain-logloss:0.352285\tvalid-logloss:0.357241\n",
      "[230]\ttrain-logloss:0.351444\tvalid-logloss:0.356576\n",
      "[240]\ttrain-logloss:0.350701\tvalid-logloss:0.355997\n",
      "[250]\ttrain-logloss:0.34989\tvalid-logloss:0.355428\n",
      "[260]\ttrain-logloss:0.34919\tvalid-logloss:0.354935\n",
      "[270]\ttrain-logloss:0.348488\tvalid-logloss:0.354445\n",
      "[280]\ttrain-logloss:0.347839\tvalid-logloss:0.353996\n",
      "[290]\ttrain-logloss:0.347156\tvalid-logloss:0.353526\n",
      "[300]\ttrain-logloss:0.346607\tvalid-logloss:0.353183\n",
      "[310]\ttrain-logloss:0.346065\tvalid-logloss:0.352846\n",
      "[320]\ttrain-logloss:0.345525\tvalid-logloss:0.35248\n",
      "[330]\ttrain-logloss:0.345046\tvalid-logloss:0.352165\n",
      "[340]\ttrain-logloss:0.344556\tvalid-logloss:0.351849\n",
      "[350]\ttrain-logloss:0.344127\tvalid-logloss:0.351597\n",
      "[360]\ttrain-logloss:0.343673\tvalid-logloss:0.351276\n",
      "[370]\ttrain-logloss:0.343282\tvalid-logloss:0.35105\n",
      "[380]\ttrain-logloss:0.342813\tvalid-logloss:0.350802\n",
      "[390]\ttrain-logloss:0.342431\tvalid-logloss:0.350556\n",
      "[399]\ttrain-logloss:0.342101\tvalid-logloss:0.350376\n",
      "f1 score: 0.12659098727210183\n",
      "accuracy: 86.02833952400604\\%\n",
      "[0]\ttrain-logloss:0.682213\tvalid-logloss:0.682279\n",
      "Multiple eval metrics have been passed: 'valid-logloss' will be used for early stopping.\n",
      "\n",
      "Will train until valid-logloss hasn't improved in 50 rounds.\n",
      "[10]\ttrain-logloss:0.593265\tvalid-logloss:0.593892\n",
      "[20]\ttrain-logloss:0.531141\tvalid-logloss:0.532198\n",
      "[30]\ttrain-logloss:0.48671\tvalid-logloss:0.488163\n",
      "[40]\ttrain-logloss:0.454308\tvalid-logloss:0.456117\n",
      "[50]\ttrain-logloss:0.430401\tvalid-logloss:0.432616\n",
      "[60]\ttrain-logloss:0.412659\tvalid-logloss:0.415287\n",
      "[70]\ttrain-logloss:0.399356\tvalid-logloss:0.402385\n",
      "[80]\ttrain-logloss:0.389249\tvalid-logloss:0.392661\n",
      "[90]\ttrain-logloss:0.381573\tvalid-logloss:0.385318\n",
      "[100]\ttrain-logloss:0.375703\tvalid-logloss:0.379711\n",
      "[110]\ttrain-logloss:0.371105\tvalid-logloss:0.37534\n",
      "[120]\ttrain-logloss:0.367499\tvalid-logloss:0.371977\n",
      "[130]\ttrain-logloss:0.364619\tvalid-logloss:0.369403\n",
      "[140]\ttrain-logloss:0.362315\tvalid-logloss:0.367373\n",
      "[150]\ttrain-logloss:0.360362\tvalid-logloss:0.365673\n",
      "[160]\ttrain-logloss:0.358648\tvalid-logloss:0.364179\n",
      "[170]\ttrain-logloss:0.357183\tvalid-logloss:0.362927\n",
      "[180]\ttrain-logloss:0.355844\tvalid-logloss:0.361823\n",
      "[190]\ttrain-logloss:0.354635\tvalid-logloss:0.360836\n",
      "[200]\ttrain-logloss:0.353595\tvalid-logloss:0.360066\n",
      "[210]\ttrain-logloss:0.352575\tvalid-logloss:0.359288\n",
      "[220]\ttrain-logloss:0.351613\tvalid-logloss:0.358582\n",
      "[230]\ttrain-logloss:0.350704\tvalid-logloss:0.357903\n",
      "[240]\ttrain-logloss:0.349954\tvalid-logloss:0.357335\n",
      "[250]\ttrain-logloss:0.349173\tvalid-logloss:0.356788\n",
      "[260]\ttrain-logloss:0.348473\tvalid-logloss:0.356308\n",
      "[270]\ttrain-logloss:0.347857\tvalid-logloss:0.355888\n",
      "[280]\ttrain-logloss:0.34724\tvalid-logloss:0.355471\n",
      "[290]\ttrain-logloss:0.346653\tvalid-logloss:0.35509\n",
      "[300]\ttrain-logloss:0.346099\tvalid-logloss:0.354691\n",
      "[310]\ttrain-logloss:0.345511\tvalid-logloss:0.354312\n",
      "[320]\ttrain-logloss:0.344977\tvalid-logloss:0.353994\n",
      "[330]\ttrain-logloss:0.344529\tvalid-logloss:0.353693\n",
      "[340]\ttrain-logloss:0.343985\tvalid-logloss:0.35334\n",
      "[350]\ttrain-logloss:0.343552\tvalid-logloss:0.353074\n",
      "[360]\ttrain-logloss:0.343159\tvalid-logloss:0.352799\n"
     ]
    }
   ],
   "source": [
    "# Create 2 folds\n",
    "k = 3\n",
    "kfold = StratifiedKFold(Y, k, shuffle=True, random_state=0)\n",
    "\n",
    "results = np.zeros(k)\n",
    "\n",
    "# iterate over two folds\n",
    "for i, (train_ind, test_ind) in enumerate(kfold):\n",
    "    X_train, X_val, Y_train, Y_val = X_bag[train_ind], X_bag[test_ind], Y[train_ind], Y[test_ind]\n",
    "    \n",
    "    D_train = xgb.DMatrix(X_train, label=Y_train)\n",
    "    D_val = xgb.DMatrix(X_val, label=Y_val)\n",
    "\n",
    "    weights = class_weight.compute_sample_weight('balanced', [0,1], Y_train)\n",
    "    weightss = []\n",
    "    for y in Y_train:\n",
    "        weightss.append(weights[y])\n",
    "\n",
    "    watchlist = [(D_train, 'train'), (D_val, 'valid')]\n",
    "    bst = xgb.train(params, D_train, 400, watchlist, early_stopping_rounds=50, verbose_eval=10)\n",
    "    predictions = bst.predict(data=D_val).round()\n",
    "    results[i] = f1_score(predictions, Y_val, )\n",
    "    print('f1 score: {}'.format(results[i]))\n",
    "    print('accuracy: {}\\%'.format(sum(predictions==Y_val)/len(Y_val)*100))"
   ]
  },
  {
   "cell_type": "code",
   "execution_count": null,
   "metadata": {
    "ExecuteTime": {
     "start_time": "2018-01-29T16:17:24.482Z"
    }
   },
   "outputs": [],
   "source": [
    "np.mean(results), np.var(results)"
   ]
  },
  {
   "cell_type": "markdown",
   "metadata": {
    "ExecuteTime": {
     "end_time": "2018-01-29T15:57:16.804294Z",
     "start_time": "2018-01-29T15:55:02.451Z"
    }
   },
   "source": [
    "# XGBOOST 1B"
   ]
  },
  {
   "cell_type": "code",
   "execution_count": null,
   "metadata": {
    "ExecuteTime": {
     "start_time": "2018-01-29T16:18:37.575Z"
    }
   },
   "outputs": [],
   "source": [
    "# Set our parameters for xgboost\n",
    "params = {}\n",
    "params['objective'] = 'binary:logistic'\n",
    "params['eval_metric'] = 'logloss'\n",
    "params['eta'] = 0.02\n",
    "params['max_depth'] = 5"
   ]
  },
  {
   "cell_type": "code",
   "execution_count": null,
   "metadata": {
    "ExecuteTime": {
     "start_time": "2018-01-29T16:18:43.662Z"
    }
   },
   "outputs": [],
   "source": [
    "from sklearn.preprocessing import OneHotEncoder\n",
    "\n",
    "# Create 2 folds\n",
    "k = 3\n",
    "enc = OneHotEncoder()\n",
    "Y = enc.fit(labels)\n",
    "kfold = StratifiedKFold(Y, k, shuffle=True, random_state=0)\n",
    "\n",
    "results = np.zeros(k)\n",
    "\n",
    "# iterate over two folds\n",
    "for i, (train_ind, test_ind) in enumerate(kfold):\n",
    "    X_train, X_val, Y_train, Y_val = X_bag[train_ind], X_bag[test_ind], Y[train_ind], Y[test_ind]\n",
    "    \n",
    "    D_train = xgb.DMatrix(X_train, label=Y_train)\n",
    "    D_val = xgb.DMatrix(X_val, label=Y_val)\n",
    "\n",
    "    weights = class_weight.compute_sample_weight('balanced', [0,1], Y_train)\n",
    "    weightss = []\n",
    "    for y in Y_train:\n",
    "        weightss.append(weights[y])\n",
    "\n",
    "    watchlist = [(D_train, 'train'), (D_val, 'valid')]\n",
    "    bst = xgb.train(params, D_train, 400, watchlist, early_stopping_rounds=50, verbose_eval=10)\n",
    "    predictions = bst.predict(data=D_val).round()\n",
    "    results[i] = f1_score(predictions, Y_val, )\n",
    "    print('f1 score: {}'.format(results[i]))\n",
    "    print('accuracy: {}\\%'.format(sum(predictions==Y_val)/len(Y_val)*100))"
   ]
  },
  {
   "cell_type": "code",
   "execution_count": null,
   "metadata": {},
   "outputs": [],
   "source": []
  }
 ],
 "metadata": {
  "kernelspec": {
   "display_name": "Python 3",
   "language": "python",
   "name": "python3"
  },
  "language_info": {
   "codemirror_mode": {
    "name": "ipython",
    "version": 3
   },
   "file_extension": ".py",
   "mimetype": "text/x-python",
   "name": "python",
   "nbconvert_exporter": "python",
   "pygments_lexer": "ipython3",
   "version": "3.6.3"
  }
 },
 "nbformat": 4,
 "nbformat_minor": 2
}
