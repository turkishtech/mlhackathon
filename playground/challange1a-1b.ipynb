{
 "cells": [
  {
   "cell_type": "code",
   "execution_count": 1,
   "metadata": {
    "ExecuteTime": {
     "end_time": "2018-01-21T16:11:25.906352Z",
     "start_time": "2018-01-21T16:11:25.279992Z"
    }
   },
   "outputs": [
    {
     "name": "stdout",
     "output_type": "stream",
     "text": [
      "height has been deprecated.\n",
      "\n"
     ]
    }
   ],
   "source": [
    "import pandas as pd\n",
    "pd.set_option(\"display.height\", 10)\n",
    "pd.set_option(\"display.max_rows\", 30)\n",
    "pd.set_option(\"display.max_columns\", 1000)\n",
    "pd.set_option(\"display.max_colwidth\", 1000)\n",
    "pd.set_option(\"display.width\", 2000)"
   ]
  },
  {
   "cell_type": "code",
   "execution_count": 2,
   "metadata": {
    "ExecuteTime": {
     "end_time": "2018-01-21T16:11:26.129910Z",
     "start_time": "2018-01-21T16:11:25.908428Z"
    }
   },
   "outputs": [],
   "source": [
    "import numpy as np\n",
    "import matplotlib as mpl\n",
    "import matplotlib.pyplot as plt\n",
    "%matplotlib inline"
   ]
  },
  {
   "cell_type": "code",
   "execution_count": 3,
   "metadata": {
    "ExecuteTime": {
     "end_time": "2018-01-21T16:11:26.141692Z",
     "start_time": "2018-01-21T16:11:26.131855Z"
    }
   },
   "outputs": [],
   "source": [
    "sample = pd.read_csv('./sample_with_header.csv')"
   ]
  },
  {
   "cell_type": "code",
   "execution_count": 77,
   "metadata": {
    "ExecuteTime": {
     "end_time": "2018-01-21T16:35:33.882498Z",
     "start_time": "2018-01-21T16:35:33.823408Z"
    }
   },
   "outputs": [
    {
     "data": {
      "text/html": [
       "<div>\n",
       "<style>\n",
       "    .dataframe thead tr:only-child th {\n",
       "        text-align: right;\n",
       "    }\n",
       "\n",
       "    .dataframe thead th {\n",
       "        text-align: left;\n",
       "    }\n",
       "\n",
       "    .dataframe tbody tr th {\n",
       "        vertical-align: top;\n",
       "    }\n",
       "</style>\n",
       "<table border=\"1\" class=\"dataframe\">\n",
       "  <thead>\n",
       "    <tr style=\"text-align: right;\">\n",
       "      <th></th>\n",
       "      <th>SichterGruppe</th>\n",
       "      <th>SichterName</th>\n",
       "      <th>Host</th>\n",
       "      <th>kind</th>\n",
       "      <th>Datetime</th>\n",
       "      <th>Content</th>\n",
       "      <th>Url</th>\n",
       "      <th>Authorid</th>\n",
       "      <th>Tag</th>\n",
       "      <th>entryid</th>\n",
       "      <th>Id</th>\n",
       "      <th>TwistId</th>\n",
       "      <th>TopicId</th>\n",
       "      <th>TopicName</th>\n",
       "      <th>IsInitialEntry</th>\n",
       "      <th>IsPrivate</th>\n",
       "    </tr>\n",
       "  </thead>\n",
       "  <tbody>\n",
       "    <tr>\n",
       "      <th>0</th>\n",
       "      <td>NaN</td>\n",
       "      <td>NaN</td>\n",
       "      <td>twitter.com</td>\n",
       "      <td>1</td>\n",
       "      <td>21.10.2016 23:18:00</td>\n",
       "      <td>HighTechno ! Ich will Claras WG mal so richtig zu #Elektro dancen sehen . https://t.co/oLKYDGHBGQ</td>\n",
       "      <td>https://twitter.com/Carina42008/status/789576493810737152#aid=1394595750</td>\n",
       "      <td>3796107.0</td>\n",
       "      <td>NaN</td>\n",
       "      <td>bc6c4c70-a00d-429d-8bde-4e7afa072a15</td>\n",
       "      <td>31796013</td>\n",
       "      <td>04b9f324-5cee-4dd3-8387-0ff934ec1472</td>\n",
       "      <td>551631</td>\n",
       "      <td>Alle</td>\n",
       "      <td>False</td>\n",
       "      <td>False</td>\n",
       "    </tr>\n",
       "    <tr>\n",
       "      <th>1</th>\n",
       "      <td>NaN</td>\n",
       "      <td>NaN</td>\n",
       "      <td>twitter.com</td>\n",
       "      <td>3</td>\n",
       "      <td>21.10.2016 23:18:00</td>\n",
       "      <td>Yeah , der WG gefällt deine Musik . Hol dir auch superschnelles Internet ! https://t.co/0dPArCUv0b https://t.co/HHRZaAQnte http://pbs.twimg.com/amplify_video_thumb/0123456789001234567890/img/QEQntlwB_ifYH3Gv.jpg</td>\n",
       "      <td>https://twitter.com/telekomerleben/status/789576496071446528#aid=20459730</td>\n",
       "      <td>1060906.0</td>\n",
       "      <td>NaN</td>\n",
       "      <td>5a676fbd-f7c7-45b1-8744-3a7fd8ebc9e9</td>\n",
       "      <td>31795989</td>\n",
       "      <td>04b9f324-5cee-4dd3-8387-0ff934ec1472</td>\n",
       "      <td>551631</td>\n",
       "      <td>Alle</td>\n",
       "      <td>True</td>\n",
       "      <td>False</td>\n",
       "    </tr>\n",
       "    <tr>\n",
       "      <th>2</th>\n",
       "      <td>Sichter FB/TW</td>\n",
       "      <td>Hotspot</td>\n",
       "      <td>www.facebook.com</td>\n",
       "      <td>1</td>\n",
       "      <td>24.09.2016 14:57:02</td>\n",
       "      <td>Muss ich mit Hotspot registrieren wlan to go auf meinem Handy zu gehen , weiß ich nicht , wie es zu tun ich bin Telekom Kunde</td>\n",
       "      <td>https://www.facebook.com/122768271103611/posts/1141448189235609#pid=122768271103611&amp;uid=122768271103611_1141448189235609&amp;aid=992943974115174&amp;vid=2&amp;wid=122768271103611</td>\n",
       "      <td>7707299.0</td>\n",
       "      <td>NaN</td>\n",
       "      <td>94e8d4f1-60c1-45e5-894a-c11a3ff7b655</td>\n",
       "      <td>30744441</td>\n",
       "      <td>0be928df-7378-421e-be6e-07269f1dac19</td>\n",
       "      <td>551631</td>\n",
       "      <td>Alle</td>\n",
       "      <td>True</td>\n",
       "      <td>False</td>\n",
       "    </tr>\n",
       "    <tr>\n",
       "      <th>3</th>\n",
       "      <td>NaN</td>\n",
       "      <td>NaN</td>\n",
       "      <td>www.facebook.com</td>\n",
       "      <td>3</td>\n",
       "      <td>24.09.2016 15:12:35</td>\n",
       "      <td>Hallo Fiona . Wenn Sie für WLAN TO GO angemeldet sind , dann können Sie unsere HotSpots nutzen in dem Sie sich mit Ihrer T-Online E-Mail-Adresse und dem dazugehörigen Passwort ( das gleiche wie für das Kundencenter ) anmelden . Viele Grüße Christian We .</td>\n",
       "      <td>https://www.facebook.com/122768271103611/posts/1141448189235609#pid=122768271103611_1141448189235609&amp;uid=1141448189235609_1141458792567882&amp;cpid=&amp;aid=122768271103611&amp;vid=2&amp;wid=122768271103611</td>\n",
       "      <td>254017.0</td>\n",
       "      <td>NaN</td>\n",
       "      <td>263da5f3-4f0c-4a3e-ac27-358eb033912f</td>\n",
       "      <td>30744872</td>\n",
       "      <td>0be928df-7378-421e-be6e-07269f1dac19</td>\n",
       "      <td>551631</td>\n",
       "      <td>Alle</td>\n",
       "      <td>False</td>\n",
       "      <td>False</td>\n",
       "    </tr>\n",
       "    <tr>\n",
       "      <th>4</th>\n",
       "      <td>NaN</td>\n",
       "      <td>NaN</td>\n",
       "      <td>www.facebook.com</td>\n",
       "      <td>4</td>\n",
       "      <td>24.09.2016 15:16:45</td>\n",
       "      <td>ich bin nicht gemeldet , es ok ich vergesse es</td>\n",
       "      <td>https://www.facebook.com/122768271103611/posts/1141448189235609#pid=122768271103611_1141448189235609&amp;uid=1141448189235609_1141461172567644&amp;cpid=1141448189235609_1141458792567882&amp;aid=992943974115174&amp;vid=2&amp;wid=122768271103611</td>\n",
       "      <td>7707299.0</td>\n",
       "      <td>NaN</td>\n",
       "      <td>51a8de05-48e4-4422-822f-50aba72fb5f5</td>\n",
       "      <td>30745002</td>\n",
       "      <td>0be928df-7378-421e-be6e-07269f1dac19</td>\n",
       "      <td>551631</td>\n",
       "      <td>Alle</td>\n",
       "      <td>False</td>\n",
       "      <td>False</td>\n",
       "    </tr>\n",
       "    <tr>\n",
       "      <th>5</th>\n",
       "      <td>Sichter FB/TW</td>\n",
       "      <td>Hotspot</td>\n",
       "      <td>www.facebook.com</td>\n",
       "      <td>4</td>\n",
       "      <td>24.09.2016 15:18:01</td>\n",
       "      <td>Jetzt muss ich mal eins fragen . Ich kann doch nicht mit Wlan to go alle Hotspots der Telekom kostenfrei nutzen , oder ? Was ich weiss nur die Hotspots der teilnehmenden Partner / Telekomkunden der Fa . Fon</td>\n",
       "      <td>https://www.facebook.com/122768271103611/posts/1141448189235609#pid=122768271103611_1141448189235609&amp;uid=1141448189235609_1141461895900905&amp;cpid=&amp;aid=1096037533756491&amp;vid=2&amp;wid=122768271103611</td>\n",
       "      <td>127469.0</td>\n",
       "      <td>NaN</td>\n",
       "      <td>a255ed96-818f-42b2-84f1-0c0c7e2581da</td>\n",
       "      <td>30745045</td>\n",
       "      <td>0be928df-7378-421e-be6e-07269f1dac19</td>\n",
       "      <td>551631</td>\n",
       "      <td>Alle</td>\n",
       "      <td>False</td>\n",
       "      <td>False</td>\n",
       "    </tr>\n",
       "    <tr>\n",
       "      <th>6</th>\n",
       "      <td>NaN</td>\n",
       "      <td>NaN</td>\n",
       "      <td>www.facebook.com</td>\n",
       "      <td>4</td>\n",
       "      <td>24.09.2016 15:18:01</td>\n",
       "      <td>Jetzt muss ich mal eins fragen . Ich kann doch nicht mit Wlan to go alle Hotspots der Telekom kostenfrei nutzen , oder ? Was ich weiss nur die Hotspots der teilnehmenden Partner / Telekomkunden der Fa . Fon</td>\n",
       "      <td>https://www.facebook.com/122768271103611/posts/1141448189235609#pid=122768271103611_1141448189235609&amp;uid=1141448189235609_1141461895900905&amp;cpid=&amp;aid=1096037533756491&amp;vid=2&amp;wid=122768271103611</td>\n",
       "      <td>127469.0</td>\n",
       "      <td>NaN</td>\n",
       "      <td>a255ed96-818f-42b2-84f1-0c0c7e2581da</td>\n",
       "      <td>30745045</td>\n",
       "      <td>0be928df-7378-421e-be6e-07269f1dac19</td>\n",
       "      <td>551631</td>\n",
       "      <td>Alle</td>\n",
       "      <td>False</td>\n",
       "      <td>False</td>\n",
       "    </tr>\n",
       "    <tr>\n",
       "      <th>7</th>\n",
       "      <td>NaN</td>\n",
       "      <td>NaN</td>\n",
       "      <td>www.facebook.com</td>\n",
       "      <td>4</td>\n",
       "      <td>24.09.2016 15:19:10</td>\n",
       "      <td>ich weis nicht wie es geht :(</td>\n",
       "      <td>https://www.facebook.com/122768271103611/posts/1141448189235609#pid=122768271103611_1141448189235609&amp;uid=1141448189235609_1141462655900829&amp;cpid=1141448189235609_1141458792567882&amp;aid=992943974115174&amp;vid=2&amp;wid=122768271103611</td>\n",
       "      <td>7707299.0</td>\n",
       "      <td>NaN</td>\n",
       "      <td>53632505-a61d-423e-bfc2-9f2047ad75b1</td>\n",
       "      <td>30745129</td>\n",
       "      <td>0be928df-7378-421e-be6e-07269f1dac19</td>\n",
       "      <td>551631</td>\n",
       "      <td>Alle</td>\n",
       "      <td>False</td>\n",
       "      <td>False</td>\n",
       "    </tr>\n",
       "    <tr>\n",
       "      <th>8</th>\n",
       "      <td>NaN</td>\n",
       "      <td>NaN</td>\n",
       "      <td>www.facebook.com</td>\n",
       "      <td>3</td>\n",
       "      <td>24.09.2016 15:28:31</td>\n",
       "      <td>Natürlich dürfen Sie alle HotSpots der Telekom nutzen . Nur zu . :) Viele Grüße Christian We .</td>\n",
       "      <td>https://www.facebook.com/122768271103611/posts/1141448189235609#pid=122768271103611_1141448189235609&amp;uid=1141448189235609_1141468849233543&amp;cpid=1141448189235609_1141461895900905&amp;aid=122768271103611&amp;vid=2&amp;wid=122768271103611</td>\n",
       "      <td>254017.0</td>\n",
       "      <td>NaN</td>\n",
       "      <td>5c21050e-f459-48c8-bd1d-d80b8b9888a3</td>\n",
       "      <td>30745333</td>\n",
       "      <td>0be928df-7378-421e-be6e-07269f1dac19</td>\n",
       "      <td>551631</td>\n",
       "      <td>Alle</td>\n",
       "      <td>False</td>\n",
       "      <td>False</td>\n",
       "    </tr>\n",
       "    <tr>\n",
       "      <th>9</th>\n",
       "      <td>NaN</td>\n",
       "      <td>NaN</td>\n",
       "      <td>www.facebook.com</td>\n",
       "      <td>4</td>\n",
       "      <td>24.09.2016 15:30:05</td>\n",
       "      <td>Na erst wenn das Vectoring hier abgeschlossen ist . Von meiner 6000er RAM Leitung wo nur 5000 anliegen geb ich nix ab 😊</td>\n",
       "      <td>https://www.facebook.com/122768271103611/posts/1141448189235609#pid=122768271103611_1141448189235609&amp;uid=1141448189235609_1141469592566802&amp;cpid=1141448189235609_1141461895900905&amp;aid=1096037533756491&amp;vid=2&amp;wid=122768271103611</td>\n",
       "      <td>127469.0</td>\n",
       "      <td>NaN</td>\n",
       "      <td>5591da8f-8679-4a9d-874d-6c5d3ad8b171</td>\n",
       "      <td>30745484</td>\n",
       "      <td>0be928df-7378-421e-be6e-07269f1dac19</td>\n",
       "      <td>551631</td>\n",
       "      <td>Alle</td>\n",
       "      <td>False</td>\n",
       "      <td>False</td>\n",
       "    </tr>\n",
       "    <tr>\n",
       "      <th>10</th>\n",
       "      <td>NaN</td>\n",
       "      <td>NaN</td>\n",
       "      <td>www.facebook.com</td>\n",
       "      <td>3</td>\n",
       "      <td>24.09.2016 15:34:09</td>\n",
       "      <td>Am besten laden Sie sich die Online Manager App http://bit.ly/18XtwyH auf Ihr Smartphone und hinterlegen dort die Login-Daten . Das macht die Nutzung der HotSpots dann ganz einfach . Hier haben wir auch noch ein Hilfe-Video zur Nutzung unserer HotSpots mit WLAN TO GO http://bit.ly/WLANtogo - Viele Grüße Christian We . https://external.xx.fbcdn.net/safe_image.php?d=AQBw-A77zLxYNaqM&amp;w=720&amp;h=720&amp;url=http%3A%2F%2Fwww.telekom.de%2Fis-bin%2FINTERSHOP.static%2FWFS%2FEKI-TELEKOM-Site%2FEKI-TELEKOM%2F-%2Fspecial%2Fonline-manager%2Fimages%2Fteaser-devices.png&amp;cfs=1</td>\n",
       "      <td>https://www.facebook.com/122768271103611/posts/1141448189235609#pid=122768271103611_1141448189235609&amp;uid=1141448189235609_1141471792566582&amp;cpid=1141448189235609_1141458792567882&amp;aid=122768271103611&amp;vid=2&amp;wid=122768271103611</td>\n",
       "      <td>254017.0</td>\n",
       "      <td>NaN</td>\n",
       "      <td>e79c95ca-e292-47ee-9c55-fdb327be4d07</td>\n",
       "      <td>30745575</td>\n",
       "      <td>0be928df-7378-421e-be6e-07269f1dac19</td>\n",
       "      <td>551631</td>\n",
       "      <td>Alle</td>\n",
       "      <td>False</td>\n",
       "      <td>False</td>\n",
       "    </tr>\n",
       "    <tr>\n",
       "      <th>11</th>\n",
       "      <td>NaN</td>\n",
       "      <td>NaN</td>\n",
       "      <td>www.facebook.com</td>\n",
       "      <td>3</td>\n",
       "      <td>24.09.2016 15:47:20</td>\n",
       "      <td>Geben Sie sich einen Ruck . ;) Ich hoffe es ist schon bald . Gruß Christian We .</td>\n",
       "      <td>https://www.facebook.com/122768271103611/posts/1141448189235609#pid=122768271103611_1141448189235609&amp;uid=1141448189235609_1141478519232576&amp;cpid=1141448189235609_1141461895900905&amp;aid=122768271103611&amp;vid=2&amp;wid=122768271103611</td>\n",
       "      <td>254017.0</td>\n",
       "      <td>NaN</td>\n",
       "      <td>5d7b8886-70d7-464d-9850-e6c7ed4be0ee</td>\n",
       "      <td>30745865</td>\n",
       "      <td>0be928df-7378-421e-be6e-07269f1dac19</td>\n",
       "      <td>551631</td>\n",
       "      <td>Alle</td>\n",
       "      <td>False</td>\n",
       "      <td>False</td>\n",
       "    </tr>\n",
       "    <tr>\n",
       "      <th>12</th>\n",
       "      <td>NaN</td>\n",
       "      <td>NaN</td>\n",
       "      <td>www.facebook.com</td>\n",
       "      <td>4</td>\n",
       "      <td>24.09.2016 15:53:49</td>\n",
       "      <td>Ist angeblich Anfang November falls alles planmässig verläuft . Vorher ist mit mir kein Geschäft zu machen</td>\n",
       "      <td>https://www.facebook.com/122768271103611/posts/1141448189235609#pid=122768271103611_1141448189235609&amp;uid=1141448189235609_1141482402565521&amp;cpid=1141448189235609_1141461895900905&amp;aid=1096037533756491&amp;vid=2&amp;wid=122768271103611</td>\n",
       "      <td>127469.0</td>\n",
       "      <td>abgelegt durch Sichter</td>\n",
       "      <td>ec1b4056-1f13-4006-a63e-8140368d8be4</td>\n",
       "      <td>30745977</td>\n",
       "      <td>0be928df-7378-421e-be6e-07269f1dac19</td>\n",
       "      <td>551631</td>\n",
       "      <td>Alle</td>\n",
       "      <td>False</td>\n",
       "      <td>False</td>\n",
       "    </tr>\n",
       "    <tr>\n",
       "      <th>13</th>\n",
       "      <td>NaN</td>\n",
       "      <td>NaN</td>\n",
       "      <td>twitter.com</td>\n",
       "      <td>1</td>\n",
       "      <td>14.10.2016 18:10:29</td>\n",
       "      <td>RT : OneERP @DeutscheTelekom supportet by Detecon : One Figure – One Truth ! https://t.co/BqSUdYKVEu #telekomwall #digitalchange https …</td>\n",
       "      <td>https://twitter.com/MilovanSmaaken/status/786962388729880576#aid=708236900830744577</td>\n",
       "      <td>8706498.0</td>\n",
       "      <td>NaN</td>\n",
       "      <td>a28e0836-2051-47d9-8425-17fd02e2b924</td>\n",
       "      <td>31460970</td>\n",
       "      <td>0e88f0df-d7bf-4dbe-885d-030d83e9ffad</td>\n",
       "      <td>1</td>\n",
       "      <td>Client 388</td>\n",
       "      <td>True</td>\n",
       "      <td>False</td>\n",
       "    </tr>\n",
       "    <tr>\n",
       "      <th>14</th>\n",
       "      <td>Sichter FB/TW</td>\n",
       "      <td>Festnetz</td>\n",
       "      <td>www.facebook.com</td>\n",
       "      <td>1</td>\n",
       "      <td>12.09.2016 20:02:22</td>\n",
       "      <td>Hallo zusammen . Gab es vor kurzem ein Update des MR400 ? Heute ist mir aufgefallen , dass einige Serienaufnahmen nicht mehr aufgenommen wurden , z . B . RTL 17:30 Unter Uns . In der Liste \" geplante Aufnahme \" war es vorhanden , jedoch mit 0 in der Klammer . Ich musste erst die Serienaufnahme löschen und neu programmieren . Gibt es inzwischen eine Lösung , wie man den Receiver dazu bringt , die Serien nur einmal aufzunehmen und nicht mit allen Wiederholungen . Ich meine die Programmierung über EPG . Den Workaround über manuelle Aufnahme kenne ich . Danke und schöne Grüße an die Kollegen !</td>\n",
       "      <td>https://www.facebook.com/122768271103611/posts/1132697233444038#pid=122768271103611&amp;uid=122768271103611_1132697233444038&amp;aid=690883714350731&amp;vid=2&amp;wid=122768271103611</td>\n",
       "      <td>2214312.0</td>\n",
       "      <td>NaN</td>\n",
       "      <td>cc8e06d8-c18f-466b-b875-b2c8ac5f0cbc</td>\n",
       "      <td>30334117</td>\n",
       "      <td>143051fa-9445-468c-b9d2-0ea2ff658536</td>\n",
       "      <td>551631</td>\n",
       "      <td>Alle</td>\n",
       "      <td>True</td>\n",
       "      <td>False</td>\n",
       "    </tr>\n",
       "    <tr>\n",
       "      <th>...</th>\n",
       "      <td>...</td>\n",
       "      <td>...</td>\n",
       "      <td>...</td>\n",
       "      <td>...</td>\n",
       "      <td>...</td>\n",
       "      <td>...</td>\n",
       "      <td>...</td>\n",
       "      <td>...</td>\n",
       "      <td>...</td>\n",
       "      <td>...</td>\n",
       "      <td>...</td>\n",
       "      <td>...</td>\n",
       "      <td>...</td>\n",
       "      <td>...</td>\n",
       "      <td>...</td>\n",
       "      <td>...</td>\n",
       "    </tr>\n",
       "    <tr>\n",
       "      <th>286</th>\n",
       "      <td>NaN</td>\n",
       "      <td>NaN</td>\n",
       "      <td>www.facebook.com</td>\n",
       "      <td>2</td>\n",
       "      <td>10.10.2016 22:26:39</td>\n",
       "      <td>Dem kann ich nur zustimmen .</td>\n",
       "      <td>https://www.facebook.com/122768271103611/posts/1154405997939828#pid=122768271103611_1154405997939828&amp;uid=1154405997939828_1154465724600522&amp;cpid=1154405997939828_1154450221268739&amp;aid=10203792170700554&amp;vid=2&amp;wid=122768271103611</td>\n",
       "      <td>3038831.0</td>\n",
       "      <td>abgelegt durch Sichter</td>\n",
       "      <td>45c9fbb7-62b9-4648-b97d-971cbe795e58</td>\n",
       "      <td>31300993</td>\n",
       "      <td>0be3df9a-22b5-4a72-8588-171f77a6a029</td>\n",
       "      <td>551631</td>\n",
       "      <td>Alle</td>\n",
       "      <td>False</td>\n",
       "      <td>False</td>\n",
       "    </tr>\n",
       "    <tr>\n",
       "      <th>287</th>\n",
       "      <td>NaN</td>\n",
       "      <td>NaN</td>\n",
       "      <td>www.facebook.com</td>\n",
       "      <td>2</td>\n",
       "      <td>11.10.2016 00:50:20</td>\n",
       "      <td>14 Tage Widerrufsrecht ab Zugang der Auftragsbestätigung mit Widerrufsbelehrung</td>\n",
       "      <td>https://www.facebook.com/122768271103611/posts/1154405997939828#pid=122768271103611_1154405997939828&amp;uid=1154405997939828_1154558684591226&amp;cpid=&amp;aid=823906927698971&amp;vid=2&amp;wid=122768271103611</td>\n",
       "      <td>1099693.0</td>\n",
       "      <td>abgelegt durch Sichter</td>\n",
       "      <td>ae6a06b8-5ea1-4c28-935d-664463114b47</td>\n",
       "      <td>31303120</td>\n",
       "      <td>0be3df9a-22b5-4a72-8588-171f77a6a029</td>\n",
       "      <td>551631</td>\n",
       "      <td>Alle</td>\n",
       "      <td>False</td>\n",
       "      <td>False</td>\n",
       "    </tr>\n",
       "    <tr>\n",
       "      <th>288</th>\n",
       "      <td>NaN</td>\n",
       "      <td>NaN</td>\n",
       "      <td>www.facebook.com</td>\n",
       "      <td>3</td>\n",
       "      <td>14.10.2016 16:21:39</td>\n",
       "      <td>Hallo Nils , ich melde mich freiwillig ! Lass mich dir helfen . ;) Dafür benötige ich die Telefonnummer deines Anschlusses per PM ( dabei bitte diesen Datenschutzhinweis beachten : http://bit.ly/DMBlogPK ) und ( falls abweichend ) eine Rückrufnummer . Viele Grüße Lea C . https://external.xx.fbcdn.net/safe_image.php?d=AQBFI5hHVfu8oE54&amp;w=720&amp;h=720&amp;url=https%3A%2F%2Ftelekomhilft.telekom.de%2Fhtml%2Fassets%2Fthc_appicon_512.png&amp;cfs=1</td>\n",
       "      <td>https://www.facebook.com/122768271103611/posts/1154405997939828#pid=122768271103611_1154405997939828&amp;uid=1154405997939828_1157811694265925&amp;cpid=&amp;aid=122768271103611&amp;vid=2&amp;wid=122768271103611</td>\n",
       "      <td>254017.0</td>\n",
       "      <td>NaN</td>\n",
       "      <td>73ce11b9-548b-4bef-8950-863fb85818a7</td>\n",
       "      <td>31455886</td>\n",
       "      <td>0be3df9a-22b5-4a72-8588-171f77a6a029</td>\n",
       "      <td>551631</td>\n",
       "      <td>Alle</td>\n",
       "      <td>False</td>\n",
       "      <td>False</td>\n",
       "    </tr>\n",
       "    <tr>\n",
       "      <th>289</th>\n",
       "      <td>NaN</td>\n",
       "      <td>NaN</td>\n",
       "      <td>twitter.com</td>\n",
       "      <td>1</td>\n",
       "      <td>01.10.2016 14:58:15</td>\n",
       "      <td>RT : @Telekom_hilft https://t.co/sLfPIRjsou http://pbs.twimg.com/media/CtrXx1XWAAA_f0Z.jpg</td>\n",
       "      <td>https://twitter.com/MiaSwan16/status/782202969819324416#aid=3418358753</td>\n",
       "      <td>9007420.0</td>\n",
       "      <td>abgelegt durch Sichter</td>\n",
       "      <td>193d1595-a801-4c56-9acf-881586c44db4</td>\n",
       "      <td>30987230</td>\n",
       "      <td>775fddf9-5546-4699-a1b6-174e4c531511</td>\n",
       "      <td>551631</td>\n",
       "      <td>Alle</td>\n",
       "      <td>True</td>\n",
       "      <td>False</td>\n",
       "    </tr>\n",
       "    <tr>\n",
       "      <th>290</th>\n",
       "      <td>Sichter FB/TW</td>\n",
       "      <td>Hotspot</td>\n",
       "      <td>www.facebook.com</td>\n",
       "      <td>1</td>\n",
       "      <td>26.09.2016 20:38:43</td>\n",
       "      <td>Hallo Telekom , wer ist denn für eure katastrophale Preisgestaltung zuständig ? Je länger ich mir eure Tarife anschaue , desto unbegreiflicher finde ich diese . Hier mal ein Beispiel : 1 . Tarif : „ Data Comfort S “ ; 1GB Datenvolumen , 24 Monate Laufzeit ( ohne Gerät ) , 14,95 € / Monat . 2 . Tarif : „ Data Start Flat L “ ; 1GB Datenvolumen ; Prepaid 1 Monat ( ohne Gerät ); 14,95 € / Monat . Wozu sollte ich mich zwischen diesen beiden Tarifen für euren Laufzeitvertrag entscheiden ? Im Vergleich dazu kostet in eurem Tarif „ MagentaMobil Start “ die Option „ Data Start L “ 1GB Datenvolumen ; Prepaid 1 Monat ; 14,00 € / Monat ! Und auch für euren billigsten Smartphone-Vertrag mit 1GB Datenvolumen ( ohne Gerät ) soll man 34,95 € / Monat bezahlen . Klar , für 34,95 € / Monat bietet ihr noch zusätzlich sämtliche Allnet-Flat's , ABER wer braucht denn bitteschön alle angebotene Flatrates ? HotSpots haben wir hier auf dem Land nicht und LTE Max . bringt mir hier auch wenig , ich bin froh ,...</td>\n",
       "      <td>https://www.facebook.com/122768271103611/posts/1143206739059754#pid=122768271103611&amp;uid=122768271103611_1143206739059754&amp;aid=808712919177878&amp;vid=2&amp;wid=122768271103611</td>\n",
       "      <td>1317471.0</td>\n",
       "      <td>NaN</td>\n",
       "      <td>fc557c0f-3145-436c-a730-3c2c54fb605f</td>\n",
       "      <td>30809205</td>\n",
       "      <td>d789089c-cca0-4b6c-b605-177bc7a4ea97</td>\n",
       "      <td>551631</td>\n",
       "      <td>Alle</td>\n",
       "      <td>True</td>\n",
       "      <td>False</td>\n",
       "    </tr>\n",
       "    <tr>\n",
       "      <th>291</th>\n",
       "      <td>Sichter-THC</td>\n",
       "      <td>Mobile</td>\n",
       "      <td>www.facebook.com</td>\n",
       "      <td>1</td>\n",
       "      <td>26.09.2016 20:38:43</td>\n",
       "      <td>Hallo Telekom , wer ist denn für eure katastrophale Preisgestaltung zuständig ? Je länger ich mir eure Tarife anschaue , desto unbegreiflicher finde ich diese . Hier mal ein Beispiel : 1 . Tarif : „ Data Comfort S “ ; 1GB Datenvolumen , 24 Monate Laufzeit ( ohne Gerät ) , 14,95 € / Monat . 2 . Tarif : „ Data Start Flat L “ ; 1GB Datenvolumen ; Prepaid 1 Monat ( ohne Gerät ); 14,95 € / Monat . Wozu sollte ich mich zwischen diesen beiden Tarifen für euren Laufzeitvertrag entscheiden ? Im Vergleich dazu kostet in eurem Tarif „ MagentaMobil Start “ die Option „ Data Start L “ 1GB Datenvolumen ; Prepaid 1 Monat ; 14,00 € / Monat ! Und auch für euren billigsten Smartphone-Vertrag mit 1GB Datenvolumen ( ohne Gerät ) soll man 34,95 € / Monat bezahlen . Klar , für 34,95 € / Monat bietet ihr noch zusätzlich sämtliche Allnet-Flat's , ABER wer braucht denn bitteschön alle angebotene Flatrates ? HotSpots haben wir hier auf dem Land nicht und LTE Max . bringt mir hier auch wenig , ich bin froh ,...</td>\n",
       "      <td>https://www.facebook.com/122768271103611/posts/1143206739059754#pid=122768271103611&amp;uid=122768271103611_1143206739059754&amp;aid=808712919177878&amp;vid=2&amp;wid=122768271103611</td>\n",
       "      <td>1317471.0</td>\n",
       "      <td>NaN</td>\n",
       "      <td>fc557c0f-3145-436c-a730-3c2c54fb605f</td>\n",
       "      <td>30809205</td>\n",
       "      <td>d789089c-cca0-4b6c-b605-177bc7a4ea97</td>\n",
       "      <td>551631</td>\n",
       "      <td>Alle</td>\n",
       "      <td>True</td>\n",
       "      <td>False</td>\n",
       "    </tr>\n",
       "    <tr>\n",
       "      <th>292</th>\n",
       "      <td>Sichter FB/TW</td>\n",
       "      <td>Mobilfunk</td>\n",
       "      <td>www.facebook.com</td>\n",
       "      <td>1</td>\n",
       "      <td>26.09.2016 20:38:43</td>\n",
       "      <td>Hallo Telekom , wer ist denn für eure katastrophale Preisgestaltung zuständig ? Je länger ich mir eure Tarife anschaue , desto unbegreiflicher finde ich diese . Hier mal ein Beispiel : 1 . Tarif : „ Data Comfort S “ ; 1GB Datenvolumen , 24 Monate Laufzeit ( ohne Gerät ) , 14,95 € / Monat . 2 . Tarif : „ Data Start Flat L “ ; 1GB Datenvolumen ; Prepaid 1 Monat ( ohne Gerät ); 14,95 € / Monat . Wozu sollte ich mich zwischen diesen beiden Tarifen für euren Laufzeitvertrag entscheiden ? Im Vergleich dazu kostet in eurem Tarif „ MagentaMobil Start “ die Option „ Data Start L “ 1GB Datenvolumen ; Prepaid 1 Monat ; 14,00 € / Monat ! Und auch für euren billigsten Smartphone-Vertrag mit 1GB Datenvolumen ( ohne Gerät ) soll man 34,95 € / Monat bezahlen . Klar , für 34,95 € / Monat bietet ihr noch zusätzlich sämtliche Allnet-Flat's , ABER wer braucht denn bitteschön alle angebotene Flatrates ? HotSpots haben wir hier auf dem Land nicht und LTE Max . bringt mir hier auch wenig , ich bin froh ,...</td>\n",
       "      <td>https://www.facebook.com/122768271103611/posts/1143206739059754#pid=122768271103611&amp;uid=122768271103611_1143206739059754&amp;aid=808712919177878&amp;vid=2&amp;wid=122768271103611</td>\n",
       "      <td>1317471.0</td>\n",
       "      <td>NaN</td>\n",
       "      <td>fc557c0f-3145-436c-a730-3c2c54fb605f</td>\n",
       "      <td>30809205</td>\n",
       "      <td>d789089c-cca0-4b6c-b605-177bc7a4ea97</td>\n",
       "      <td>551631</td>\n",
       "      <td>Alle</td>\n",
       "      <td>True</td>\n",
       "      <td>False</td>\n",
       "    </tr>\n",
       "    <tr>\n",
       "      <th>293</th>\n",
       "      <td>NaN</td>\n",
       "      <td>NaN</td>\n",
       "      <td>www.facebook.com</td>\n",
       "      <td>2</td>\n",
       "      <td>26.09.2016 21:01:02</td>\n",
       "      <td>Sind Dir die PReise zu teuer ?</td>\n",
       "      <td>https://www.facebook.com/122768271103611/posts/1143206739059754#pid=122768271103611_1143206739059754&amp;uid=1143206739059754_1143220089058419&amp;cpid=&amp;aid=1405233389806347&amp;vid=2&amp;wid=122768271103611</td>\n",
       "      <td>5659126.0</td>\n",
       "      <td>abgelegt durch Sichter</td>\n",
       "      <td>c33886ef-17d0-49a9-8f8d-5a190e4af9d9</td>\n",
       "      <td>30809957</td>\n",
       "      <td>d789089c-cca0-4b6c-b605-177bc7a4ea97</td>\n",
       "      <td>551631</td>\n",
       "      <td>Alle</td>\n",
       "      <td>False</td>\n",
       "      <td>False</td>\n",
       "    </tr>\n",
       "    <tr>\n",
       "      <th>294</th>\n",
       "      <td>NaN</td>\n",
       "      <td>NaN</td>\n",
       "      <td>www.facebook.com</td>\n",
       "      <td>2</td>\n",
       "      <td>26.09.2016 21:36:07</td>\n",
       "      <td>Die Preise sind auch eher allgemein gehalten . Du kannst nicht für jeden einzelnen einen seperaten Preis anzeigen lassen ^ ^</td>\n",
       "      <td>https://www.facebook.com/122768271103611/posts/1143206739059754#pid=122768271103611_1143206739059754&amp;uid=1143206739059754_1143236475723447&amp;cpid=&amp;aid=10203792170700554&amp;vid=2&amp;wid=122768271103611</td>\n",
       "      <td>3038831.0</td>\n",
       "      <td>abgelegt durch Sichter</td>\n",
       "      <td>00e9e073-4568-4693-b2c7-7d476c0f9645</td>\n",
       "      <td>30811290</td>\n",
       "      <td>d789089c-cca0-4b6c-b605-177bc7a4ea97</td>\n",
       "      <td>551631</td>\n",
       "      <td>Alle</td>\n",
       "      <td>False</td>\n",
       "      <td>False</td>\n",
       "    </tr>\n",
       "    <tr>\n",
       "      <th>295</th>\n",
       "      <td>NaN</td>\n",
       "      <td>NaN</td>\n",
       "      <td>www.facebook.com</td>\n",
       "      <td>3</td>\n",
       "      <td>03.10.2016 13:37:55</td>\n",
       "      <td>Hi Mario , ich bin zwar nicht für die Preisgestaltung zuständig , übernehme aber gerne die Beantwortung deiner Anfrage . Zu den oben genannten Beispielen : man muss dabei einfach für sich entscheiden , brauche ich wirklich monatlich dieses Datenvolumen oder nur ab und zu . Wenn man nur hin und wieder surft , würde ich zu der Prepaid-Variante tendieren , ansonsten ist der Vertrag inkl . Online-Rabatt besser . Ist es nicht eher sinnvoll , die ländlichen Gebiete weiterhin auszubauen , als extra Tarife zu stricken ? Es gibt durchaus Kunden , die diese Flats brauchen und auch nutzen . Es ist schrierig , alle Kundenwünsche abzudecken , also orientiert man sich an der breiten Masse . Und wenn das Netz bei dir aktuell noch nicht optimal ausgebaut ist , wäre eine Prepaid-Karte vielleicht vorerst die beste Wahl , wenn man nicht unnötig viel Geld für einen Vertrag ausgeben möchte , den man nicht richtig nutzen kann . Viele Grüße Romina D .</td>\n",
       "      <td>https://www.facebook.com/122768271103611/posts/1143206739059754#pid=122768271103611_1143206739059754&amp;uid=1143206739059754_1148487961864965&amp;cpid=&amp;aid=122768271103611&amp;vid=2&amp;wid=122768271103611</td>\n",
       "      <td>254017.0</td>\n",
       "      <td>NaN</td>\n",
       "      <td>3599081e-f7be-4eca-90c0-220860f5132d</td>\n",
       "      <td>31035348</td>\n",
       "      <td>d789089c-cca0-4b6c-b605-177bc7a4ea97</td>\n",
       "      <td>551631</td>\n",
       "      <td>Alle</td>\n",
       "      <td>False</td>\n",
       "      <td>False</td>\n",
       "    </tr>\n",
       "    <tr>\n",
       "      <th>296</th>\n",
       "      <td>NaN</td>\n",
       "      <td>NaN</td>\n",
       "      <td>twitter.com</td>\n",
       "      <td>1</td>\n",
       "      <td>24.09.2016 17:01:38</td>\n",
       "      <td>wenn der Techniker zwischen 13 und 17h kommen soll warum haben wir dann bis jetzt ( 17h ) noch nichts gehört ?</td>\n",
       "      <td>https://twitter.com/jenthebat/status/779697304852897792#aid=175754025</td>\n",
       "      <td>8954518.0</td>\n",
       "      <td>NaN</td>\n",
       "      <td>b7123d99-6a0f-4e7c-9ee4-07962d160241</td>\n",
       "      <td>30747852</td>\n",
       "      <td>2cea5ba3-6336-4ee2-800e-0eb2a983f24a</td>\n",
       "      <td>1</td>\n",
       "      <td>Client 388</td>\n",
       "      <td>True</td>\n",
       "      <td>False</td>\n",
       "    </tr>\n",
       "    <tr>\n",
       "      <th>297</th>\n",
       "      <td>NaN</td>\n",
       "      <td>NaN</td>\n",
       "      <td>twitter.com</td>\n",
       "      <td>2</td>\n",
       "      <td>24.09.2016 17:02:59</td>\n",
       "      <td>wenn Ihre Hotline-Mitarbeiter und Außendiensttechniker nicht Hand-in-Hand arbeiten wird das nichts ! !</td>\n",
       "      <td>https://twitter.com/jenthebat/status/779697644172111872#aid=175754025</td>\n",
       "      <td>8954518.0</td>\n",
       "      <td>NaN</td>\n",
       "      <td>f3bf1755-86dd-4ac6-8a50-5fd3280c7287</td>\n",
       "      <td>30747924</td>\n",
       "      <td>2cea5ba3-6336-4ee2-800e-0eb2a983f24a</td>\n",
       "      <td>1</td>\n",
       "      <td>Client 388</td>\n",
       "      <td>False</td>\n",
       "      <td>False</td>\n",
       "    </tr>\n",
       "    <tr>\n",
       "      <th>298</th>\n",
       "      <td>NaN</td>\n",
       "      <td>NaN</td>\n",
       "      <td>twitter.com</td>\n",
       "      <td>2</td>\n",
       "      <td>24.09.2016 17:05:39</td>\n",
       "      <td>15 Minuten Warteschleife bei der Hotline von ist nichts ! ! Vielleicht das beste Netz aber nicht den besten Kundenservice !</td>\n",
       "      <td>https://twitter.com/jenthebat/status/779698317248823296#aid=175754025</td>\n",
       "      <td>8954518.0</td>\n",
       "      <td>Prio-Fall</td>\n",
       "      <td>bdf0c825-d8d8-42f9-9f15-55e8d49f6471</td>\n",
       "      <td>30748009</td>\n",
       "      <td>2cea5ba3-6336-4ee2-800e-0eb2a983f24a</td>\n",
       "      <td>1</td>\n",
       "      <td>Client 388</td>\n",
       "      <td>False</td>\n",
       "      <td>False</td>\n",
       "    </tr>\n",
       "    <tr>\n",
       "      <th>299</th>\n",
       "      <td>Sichter FB/TW</td>\n",
       "      <td>Festnetz</td>\n",
       "      <td>twitter.com</td>\n",
       "      <td>2</td>\n",
       "      <td>24.09.2016 17:05:39</td>\n",
       "      <td>15 Minuten Warteschleife bei der Hotline von ist nichts ! ! Vielleicht das beste Netz aber nicht den besten Kundenservice !</td>\n",
       "      <td>https://twitter.com/jenthebat/status/779698317248823296#aid=175754025</td>\n",
       "      <td>8954518.0</td>\n",
       "      <td>Prio-Fall</td>\n",
       "      <td>bdf0c825-d8d8-42f9-9f15-55e8d49f6471</td>\n",
       "      <td>30748009</td>\n",
       "      <td>2cea5ba3-6336-4ee2-800e-0eb2a983f24a</td>\n",
       "      <td>1</td>\n",
       "      <td>Client 388</td>\n",
       "      <td>False</td>\n",
       "      <td>False</td>\n",
       "    </tr>\n",
       "    <tr>\n",
       "      <th>300</th>\n",
       "      <td>NaN</td>\n",
       "      <td>NaN</td>\n",
       "      <td>twitter.com</td>\n",
       "      <td>3</td>\n",
       "      <td>26.09.2016 20:59:48</td>\n",
       "      <td>entschuldige die späte Antwort . Wird noch Hilfe benötigt ? ^ wi</td>\n",
       "      <td>https://twitter.com/Telekom_hilft/status/780482020132683776?pid=780482020132683776&amp;uid=780482020132683776&amp;aid=123675232</td>\n",
       "      <td>2748841.0</td>\n",
       "      <td>NaN</td>\n",
       "      <td>b63ba99a-87d5-4264-a031-360e10907051</td>\n",
       "      <td>30809847</td>\n",
       "      <td>2cea5ba3-6336-4ee2-800e-0eb2a983f24a</td>\n",
       "      <td>1</td>\n",
       "      <td>Client 388</td>\n",
       "      <td>False</td>\n",
       "      <td>False</td>\n",
       "    </tr>\n",
       "  </tbody>\n",
       "</table>\n",
       "<p>301 rows × 16 columns</p>\n",
       "</div>"
      ],
      "text/plain": [
       "     SichterGruppe SichterName              Host  kind             Datetime                                                                                                                                                                                                                                                                                                                                                                                                                                                                                                                                                                                                                                                                                                                                                                                                                                                                                                                                                                                                                                  Content                                                                                                                                                                                                                                Url   Authorid                     Tag                               entryid        Id                               TwistId  TopicId   TopicName  IsInitialEntry  IsPrivate\n",
       "0              NaN         NaN       twitter.com     1  21.10.2016 23:18:00                                                                                                                                                                                                                                                                                                                                                                                                                                                                                                                                                                                                                                                                                                                                                                                                                                                                                                                                        HighTechno ! Ich will Claras WG mal so richtig zu #Elektro dancen sehen . https://t.co/oLKYDGHBGQ                                                                                                                                                           https://twitter.com/Carina42008/status/789576493810737152#aid=1394595750  3796107.0                     NaN  bc6c4c70-a00d-429d-8bde-4e7afa072a15  31796013  04b9f324-5cee-4dd3-8387-0ff934ec1472   551631        Alle           False      False\n",
       "1              NaN         NaN       twitter.com     3  21.10.2016 23:18:00                                                                                                                                                                                                                                                                                                                                                                                                                                                                                                                                                                                                                                                                                                                                                                                                                      Yeah , der WG gefällt deine Musik . Hol dir auch superschnelles Internet ! https://t.co/0dPArCUv0b https://t.co/HHRZaAQnte http://pbs.twimg.com/amplify_video_thumb/0123456789001234567890/img/QEQntlwB_ifYH3Gv.jpg                                                                                                                                                          https://twitter.com/telekomerleben/status/789576496071446528#aid=20459730  1060906.0                     NaN  5a676fbd-f7c7-45b1-8744-3a7fd8ebc9e9  31795989  04b9f324-5cee-4dd3-8387-0ff934ec1472   551631        Alle            True      False\n",
       "2    Sichter FB/TW     Hotspot  www.facebook.com     1  24.09.2016 14:57:02                                                                                                                                                                                                                                                                                                                                                                                                                                                                                                                                                                                                                                                                                                                                                                                                                                                                                                            Muss ich mit Hotspot registrieren wlan to go auf meinem Handy zu gehen , weiß ich nicht , wie es zu tun ich bin Telekom Kunde                                                             https://www.facebook.com/122768271103611/posts/1141448189235609#pid=122768271103611&uid=122768271103611_1141448189235609&aid=992943974115174&vid=2&wid=122768271103611  7707299.0                     NaN  94e8d4f1-60c1-45e5-894a-c11a3ff7b655  30744441  0be928df-7378-421e-be6e-07269f1dac19   551631        Alle            True      False\n",
       "3              NaN         NaN  www.facebook.com     3  24.09.2016 15:12:35                                                                                                                                                                                                                                                                                                                                                                                                                                                                                                                                                                                                                                                                                                                                                                           Hallo Fiona . Wenn Sie für WLAN TO GO angemeldet sind , dann können Sie unsere HotSpots nutzen in dem Sie sich mit Ihrer T-Online E-Mail-Adresse und dem dazugehörigen Passwort ( das gleiche wie für das Kundencenter ) anmelden . Viele Grüße Christian We .                                     https://www.facebook.com/122768271103611/posts/1141448189235609#pid=122768271103611_1141448189235609&uid=1141448189235609_1141458792567882&cpid=&aid=122768271103611&vid=2&wid=122768271103611   254017.0                     NaN  263da5f3-4f0c-4a3e-ac27-358eb033912f  30744872  0be928df-7378-421e-be6e-07269f1dac19   551631        Alle           False      False\n",
       "4              NaN         NaN  www.facebook.com     4  24.09.2016 15:16:45                                                                                                                                                                                                                                                                                                                                                                                                                                                                                                                                                                                                                                                                                                                                                                                                                                                                                                                                                                                           ich bin nicht gemeldet , es ok ich vergesse es    https://www.facebook.com/122768271103611/posts/1141448189235609#pid=122768271103611_1141448189235609&uid=1141448189235609_1141461172567644&cpid=1141448189235609_1141458792567882&aid=992943974115174&vid=2&wid=122768271103611  7707299.0                     NaN  51a8de05-48e4-4422-822f-50aba72fb5f5  30745002  0be928df-7378-421e-be6e-07269f1dac19   551631        Alle           False      False\n",
       "5    Sichter FB/TW     Hotspot  www.facebook.com     4  24.09.2016 15:18:01                                                                                                                                                                                                                                                                                                                                                                                                                                                                                                                                                                                                                                                                                                                                                                                                                           Jetzt muss ich mal eins fragen . Ich kann doch nicht mit Wlan to go alle Hotspots der Telekom kostenfrei nutzen , oder ? Was ich weiss nur die Hotspots der teilnehmenden Partner / Telekomkunden der Fa . Fon                                    https://www.facebook.com/122768271103611/posts/1141448189235609#pid=122768271103611_1141448189235609&uid=1141448189235609_1141461895900905&cpid=&aid=1096037533756491&vid=2&wid=122768271103611   127469.0                     NaN  a255ed96-818f-42b2-84f1-0c0c7e2581da  30745045  0be928df-7378-421e-be6e-07269f1dac19   551631        Alle           False      False\n",
       "6              NaN         NaN  www.facebook.com     4  24.09.2016 15:18:01                                                                                                                                                                                                                                                                                                                                                                                                                                                                                                                                                                                                                                                                                                                                                                                                                           Jetzt muss ich mal eins fragen . Ich kann doch nicht mit Wlan to go alle Hotspots der Telekom kostenfrei nutzen , oder ? Was ich weiss nur die Hotspots der teilnehmenden Partner / Telekomkunden der Fa . Fon                                    https://www.facebook.com/122768271103611/posts/1141448189235609#pid=122768271103611_1141448189235609&uid=1141448189235609_1141461895900905&cpid=&aid=1096037533756491&vid=2&wid=122768271103611   127469.0                     NaN  a255ed96-818f-42b2-84f1-0c0c7e2581da  30745045  0be928df-7378-421e-be6e-07269f1dac19   551631        Alle           False      False\n",
       "7              NaN         NaN  www.facebook.com     4  24.09.2016 15:19:10                                                                                                                                                                                                                                                                                                                                                                                                                                                                                                                                                                                                                                                                                                                                                                                                                                                                                                                                                                                                            ich weis nicht wie es geht :(    https://www.facebook.com/122768271103611/posts/1141448189235609#pid=122768271103611_1141448189235609&uid=1141448189235609_1141462655900829&cpid=1141448189235609_1141458792567882&aid=992943974115174&vid=2&wid=122768271103611  7707299.0                     NaN  53632505-a61d-423e-bfc2-9f2047ad75b1  30745129  0be928df-7378-421e-be6e-07269f1dac19   551631        Alle           False      False\n",
       "8              NaN         NaN  www.facebook.com     3  24.09.2016 15:28:31                                                                                                                                                                                                                                                                                                                                                                                                                                                                                                                                                                                                                                                                                                                                                                                                                                                                                                                                           Natürlich dürfen Sie alle HotSpots der Telekom nutzen . Nur zu . :) Viele Grüße Christian We .    https://www.facebook.com/122768271103611/posts/1141448189235609#pid=122768271103611_1141448189235609&uid=1141448189235609_1141468849233543&cpid=1141448189235609_1141461895900905&aid=122768271103611&vid=2&wid=122768271103611   254017.0                     NaN  5c21050e-f459-48c8-bd1d-d80b8b9888a3  30745333  0be928df-7378-421e-be6e-07269f1dac19   551631        Alle           False      False\n",
       "9              NaN         NaN  www.facebook.com     4  24.09.2016 15:30:05                                                                                                                                                                                                                                                                                                                                                                                                                                                                                                                                                                                                                                                                                                                                                                                                                                                                                                                  Na erst wenn das Vectoring hier abgeschlossen ist . Von meiner 6000er RAM Leitung wo nur 5000 anliegen geb ich nix ab 😊   https://www.facebook.com/122768271103611/posts/1141448189235609#pid=122768271103611_1141448189235609&uid=1141448189235609_1141469592566802&cpid=1141448189235609_1141461895900905&aid=1096037533756491&vid=2&wid=122768271103611   127469.0                     NaN  5591da8f-8679-4a9d-874d-6c5d3ad8b171  30745484  0be928df-7378-421e-be6e-07269f1dac19   551631        Alle           False      False\n",
       "10             NaN         NaN  www.facebook.com     3  24.09.2016 15:34:09                                                                                                                                                                                                                                                                                                                                                                                                                                                        Am besten laden Sie sich die Online Manager App http://bit.ly/18XtwyH auf Ihr Smartphone und hinterlegen dort die Login-Daten . Das macht die Nutzung der HotSpots dann ganz einfach . Hier haben wir auch noch ein Hilfe-Video zur Nutzung unserer HotSpots mit WLAN TO GO http://bit.ly/WLANtogo - Viele Grüße Christian We . https://external.xx.fbcdn.net/safe_image.php?d=AQBw-A77zLxYNaqM&w=720&h=720&url=http%3A%2F%2Fwww.telekom.de%2Fis-bin%2FINTERSHOP.static%2FWFS%2FEKI-TELEKOM-Site%2FEKI-TELEKOM%2F-%2Fspecial%2Fonline-manager%2Fimages%2Fteaser-devices.png&cfs=1    https://www.facebook.com/122768271103611/posts/1141448189235609#pid=122768271103611_1141448189235609&uid=1141448189235609_1141471792566582&cpid=1141448189235609_1141458792567882&aid=122768271103611&vid=2&wid=122768271103611   254017.0                     NaN  e79c95ca-e292-47ee-9c55-fdb327be4d07  30745575  0be928df-7378-421e-be6e-07269f1dac19   551631        Alle           False      False\n",
       "11             NaN         NaN  www.facebook.com     3  24.09.2016 15:47:20                                                                                                                                                                                                                                                                                                                                                                                                                                                                                                                                                                                                                                                                                                                                                                                                                                                                                                                                                         Geben Sie sich einen Ruck . ;) Ich hoffe es ist schon bald . Gruß Christian We .    https://www.facebook.com/122768271103611/posts/1141448189235609#pid=122768271103611_1141448189235609&uid=1141448189235609_1141478519232576&cpid=1141448189235609_1141461895900905&aid=122768271103611&vid=2&wid=122768271103611   254017.0                     NaN  5d7b8886-70d7-464d-9850-e6c7ed4be0ee  30745865  0be928df-7378-421e-be6e-07269f1dac19   551631        Alle           False      False\n",
       "12             NaN         NaN  www.facebook.com     4  24.09.2016 15:53:49                                                                                                                                                                                                                                                                                                                                                                                                                                                                                                                                                                                                                                                                                                                                                                                                                                                                                                                               Ist angeblich Anfang November falls alles planmässig verläuft . Vorher ist mit mir kein Geschäft zu machen   https://www.facebook.com/122768271103611/posts/1141448189235609#pid=122768271103611_1141448189235609&uid=1141448189235609_1141482402565521&cpid=1141448189235609_1141461895900905&aid=1096037533756491&vid=2&wid=122768271103611   127469.0  abgelegt durch Sichter  ec1b4056-1f13-4006-a63e-8140368d8be4  30745977  0be928df-7378-421e-be6e-07269f1dac19   551631        Alle           False      False\n",
       "13             NaN         NaN       twitter.com     1  14.10.2016 18:10:29                                                                                                                                                                                                                                                                                                                                                                                                                                                                                                                                                                                                                                                                                                                                                                                                                                                                                                 RT : OneERP @DeutscheTelekom supportet by Detecon : One Figure – One Truth ! https://t.co/BqSUdYKVEu #telekomwall #digitalchange https …                                                                                                                                                https://twitter.com/MilovanSmaaken/status/786962388729880576#aid=708236900830744577  8706498.0                     NaN  a28e0836-2051-47d9-8425-17fd02e2b924  31460970  0e88f0df-d7bf-4dbe-885d-030d83e9ffad        1  Client 388            True      False\n",
       "14   Sichter FB/TW    Festnetz  www.facebook.com     1  12.09.2016 20:02:22                                                                                                                                                                                                                                                                                                                                                                                                                     Hallo zusammen . Gab es vor kurzem ein Update des MR400 ? Heute ist mir aufgefallen , dass einige Serienaufnahmen nicht mehr aufgenommen wurden , z . B . RTL 17:30 Unter Uns . In der Liste \" geplante Aufnahme \" war es vorhanden , jedoch mit 0 in der Klammer . Ich musste erst die Serienaufnahme löschen und neu programmieren . Gibt es inzwischen eine Lösung , wie man den Receiver dazu bringt , die Serien nur einmal aufzunehmen und nicht mit allen Wiederholungen . Ich meine die Programmierung über EPG . Den Workaround über manuelle Aufnahme kenne ich . Danke und schöne Grüße an die Kollegen !                                                             https://www.facebook.com/122768271103611/posts/1132697233444038#pid=122768271103611&uid=122768271103611_1132697233444038&aid=690883714350731&vid=2&wid=122768271103611  2214312.0                     NaN  cc8e06d8-c18f-466b-b875-b2c8ac5f0cbc  30334117  143051fa-9445-468c-b9d2-0ea2ff658536   551631        Alle            True      False\n",
       "..             ...         ...               ...   ...                  ...                                                                                                                                                                                                                                                                                                                                                                                                                                                                                                                                                                                                                                                                                                                                                                                                                                                                                                                                                                                                                                      ...                                                                                                                                                                                                                                ...        ...                     ...                                   ...       ...                                   ...      ...         ...             ...        ...\n",
       "286            NaN         NaN  www.facebook.com     2  10.10.2016 22:26:39                                                                                                                                                                                                                                                                                                                                                                                                                                                                                                                                                                                                                                                                                                                                                                                                                                                                                                                                                                                                             Dem kann ich nur zustimmen .  https://www.facebook.com/122768271103611/posts/1154405997939828#pid=122768271103611_1154405997939828&uid=1154405997939828_1154465724600522&cpid=1154405997939828_1154450221268739&aid=10203792170700554&vid=2&wid=122768271103611  3038831.0  abgelegt durch Sichter  45c9fbb7-62b9-4648-b97d-971cbe795e58  31300993  0be3df9a-22b5-4a72-8588-171f77a6a029   551631        Alle           False      False\n",
       "287            NaN         NaN  www.facebook.com     2  11.10.2016 00:50:20                                                                                                                                                                                                                                                                                                                                                                                                                                                                                                                                                                                                                                                                                                                                                                                                                                                                                                                                                          14 Tage Widerrufsrecht ab Zugang der Auftragsbestätigung mit Widerrufsbelehrung                                     https://www.facebook.com/122768271103611/posts/1154405997939828#pid=122768271103611_1154405997939828&uid=1154405997939828_1154558684591226&cpid=&aid=823906927698971&vid=2&wid=122768271103611  1099693.0  abgelegt durch Sichter  ae6a06b8-5ea1-4c28-935d-664463114b47  31303120  0be3df9a-22b5-4a72-8588-171f77a6a029   551631        Alle           False      False\n",
       "288            NaN         NaN  www.facebook.com     3  14.10.2016 16:21:39                                                                                                                                                                                                                                                                                                                                                                                                                                                                                                                                                                                        Hallo Nils , ich melde mich freiwillig ! Lass mich dir helfen . ;) Dafür benötige ich die Telefonnummer deines Anschlusses per PM ( dabei bitte diesen Datenschutzhinweis beachten : http://bit.ly/DMBlogPK ) und ( falls abweichend ) eine Rückrufnummer . Viele Grüße Lea C . https://external.xx.fbcdn.net/safe_image.php?d=AQBFI5hHVfu8oE54&w=720&h=720&url=https%3A%2F%2Ftelekomhilft.telekom.de%2Fhtml%2Fassets%2Fthc_appicon_512.png&cfs=1                                     https://www.facebook.com/122768271103611/posts/1154405997939828#pid=122768271103611_1154405997939828&uid=1154405997939828_1157811694265925&cpid=&aid=122768271103611&vid=2&wid=122768271103611   254017.0                     NaN  73ce11b9-548b-4bef-8950-863fb85818a7  31455886  0be3df9a-22b5-4a72-8588-171f77a6a029   551631        Alle           False      False\n",
       "289            NaN         NaN       twitter.com     1  01.10.2016 14:58:15                                                                                                                                                                                                                                                                                                                                                                                                                                                                                                                                                                                                                                                                                                                                                                                                                                                                                                                                               RT : @Telekom_hilft https://t.co/sLfPIRjsou http://pbs.twimg.com/media/CtrXx1XWAAA_f0Z.jpg                                                                                                                                                             https://twitter.com/MiaSwan16/status/782202969819324416#aid=3418358753  9007420.0  abgelegt durch Sichter  193d1595-a801-4c56-9acf-881586c44db4  30987230  775fddf9-5546-4699-a1b6-174e4c531511   551631        Alle            True      False\n",
       "290  Sichter FB/TW     Hotspot  www.facebook.com     1  26.09.2016 20:38:43  Hallo Telekom , wer ist denn für eure katastrophale Preisgestaltung zuständig ? Je länger ich mir eure Tarife anschaue , desto unbegreiflicher finde ich diese . Hier mal ein Beispiel : 1 . Tarif : „ Data Comfort S “ ; 1GB Datenvolumen , 24 Monate Laufzeit ( ohne Gerät ) , 14,95 € / Monat . 2 . Tarif : „ Data Start Flat L “ ; 1GB Datenvolumen ; Prepaid 1 Monat ( ohne Gerät ); 14,95 € / Monat . Wozu sollte ich mich zwischen diesen beiden Tarifen für euren Laufzeitvertrag entscheiden ? Im Vergleich dazu kostet in eurem Tarif „ MagentaMobil Start “ die Option „ Data Start L “ 1GB Datenvolumen ; Prepaid 1 Monat ; 14,00 € / Monat ! Und auch für euren billigsten Smartphone-Vertrag mit 1GB Datenvolumen ( ohne Gerät ) soll man 34,95 € / Monat bezahlen . Klar , für 34,95 € / Monat bietet ihr noch zusätzlich sämtliche Allnet-Flat's , ABER wer braucht denn bitteschön alle angebotene Flatrates ? HotSpots haben wir hier auf dem Land nicht und LTE Max . bringt mir hier auch wenig , ich bin froh ,...                                                             https://www.facebook.com/122768271103611/posts/1143206739059754#pid=122768271103611&uid=122768271103611_1143206739059754&aid=808712919177878&vid=2&wid=122768271103611  1317471.0                     NaN  fc557c0f-3145-436c-a730-3c2c54fb605f  30809205  d789089c-cca0-4b6c-b605-177bc7a4ea97   551631        Alle            True      False\n",
       "291    Sichter-THC      Mobile  www.facebook.com     1  26.09.2016 20:38:43  Hallo Telekom , wer ist denn für eure katastrophale Preisgestaltung zuständig ? Je länger ich mir eure Tarife anschaue , desto unbegreiflicher finde ich diese . Hier mal ein Beispiel : 1 . Tarif : „ Data Comfort S “ ; 1GB Datenvolumen , 24 Monate Laufzeit ( ohne Gerät ) , 14,95 € / Monat . 2 . Tarif : „ Data Start Flat L “ ; 1GB Datenvolumen ; Prepaid 1 Monat ( ohne Gerät ); 14,95 € / Monat . Wozu sollte ich mich zwischen diesen beiden Tarifen für euren Laufzeitvertrag entscheiden ? Im Vergleich dazu kostet in eurem Tarif „ MagentaMobil Start “ die Option „ Data Start L “ 1GB Datenvolumen ; Prepaid 1 Monat ; 14,00 € / Monat ! Und auch für euren billigsten Smartphone-Vertrag mit 1GB Datenvolumen ( ohne Gerät ) soll man 34,95 € / Monat bezahlen . Klar , für 34,95 € / Monat bietet ihr noch zusätzlich sämtliche Allnet-Flat's , ABER wer braucht denn bitteschön alle angebotene Flatrates ? HotSpots haben wir hier auf dem Land nicht und LTE Max . bringt mir hier auch wenig , ich bin froh ,...                                                             https://www.facebook.com/122768271103611/posts/1143206739059754#pid=122768271103611&uid=122768271103611_1143206739059754&aid=808712919177878&vid=2&wid=122768271103611  1317471.0                     NaN  fc557c0f-3145-436c-a730-3c2c54fb605f  30809205  d789089c-cca0-4b6c-b605-177bc7a4ea97   551631        Alle            True      False\n",
       "292  Sichter FB/TW   Mobilfunk  www.facebook.com     1  26.09.2016 20:38:43  Hallo Telekom , wer ist denn für eure katastrophale Preisgestaltung zuständig ? Je länger ich mir eure Tarife anschaue , desto unbegreiflicher finde ich diese . Hier mal ein Beispiel : 1 . Tarif : „ Data Comfort S “ ; 1GB Datenvolumen , 24 Monate Laufzeit ( ohne Gerät ) , 14,95 € / Monat . 2 . Tarif : „ Data Start Flat L “ ; 1GB Datenvolumen ; Prepaid 1 Monat ( ohne Gerät ); 14,95 € / Monat . Wozu sollte ich mich zwischen diesen beiden Tarifen für euren Laufzeitvertrag entscheiden ? Im Vergleich dazu kostet in eurem Tarif „ MagentaMobil Start “ die Option „ Data Start L “ 1GB Datenvolumen ; Prepaid 1 Monat ; 14,00 € / Monat ! Und auch für euren billigsten Smartphone-Vertrag mit 1GB Datenvolumen ( ohne Gerät ) soll man 34,95 € / Monat bezahlen . Klar , für 34,95 € / Monat bietet ihr noch zusätzlich sämtliche Allnet-Flat's , ABER wer braucht denn bitteschön alle angebotene Flatrates ? HotSpots haben wir hier auf dem Land nicht und LTE Max . bringt mir hier auch wenig , ich bin froh ,...                                                             https://www.facebook.com/122768271103611/posts/1143206739059754#pid=122768271103611&uid=122768271103611_1143206739059754&aid=808712919177878&vid=2&wid=122768271103611  1317471.0                     NaN  fc557c0f-3145-436c-a730-3c2c54fb605f  30809205  d789089c-cca0-4b6c-b605-177bc7a4ea97   551631        Alle            True      False\n",
       "293            NaN         NaN  www.facebook.com     2  26.09.2016 21:01:02                                                                                                                                                                                                                                                                                                                                                                                                                                                                                                                                                                                                                                                                                                                                                                                                                                                                                                                                                                                                           Sind Dir die PReise zu teuer ?                                    https://www.facebook.com/122768271103611/posts/1143206739059754#pid=122768271103611_1143206739059754&uid=1143206739059754_1143220089058419&cpid=&aid=1405233389806347&vid=2&wid=122768271103611  5659126.0  abgelegt durch Sichter  c33886ef-17d0-49a9-8f8d-5a190e4af9d9  30809957  d789089c-cca0-4b6c-b605-177bc7a4ea97   551631        Alle           False      False\n",
       "294            NaN         NaN  www.facebook.com     2  26.09.2016 21:36:07                                                                                                                                                                                                                                                                                                                                                                                                                                                                                                                                                                                                                                                                                                                                                                                                                                                                                                             Die Preise sind auch eher allgemein gehalten . Du kannst nicht für jeden einzelnen einen seperaten Preis anzeigen lassen ^ ^                                   https://www.facebook.com/122768271103611/posts/1143206739059754#pid=122768271103611_1143206739059754&uid=1143206739059754_1143236475723447&cpid=&aid=10203792170700554&vid=2&wid=122768271103611  3038831.0  abgelegt durch Sichter  00e9e073-4568-4693-b2c7-7d476c0f9645  30811290  d789089c-cca0-4b6c-b605-177bc7a4ea97   551631        Alle           False      False\n",
       "295            NaN         NaN  www.facebook.com     3  03.10.2016 13:37:55                                                           Hi Mario , ich bin zwar nicht für die Preisgestaltung zuständig , übernehme aber gerne die Beantwortung deiner Anfrage . Zu den oben genannten Beispielen : man muss dabei einfach für sich entscheiden , brauche ich wirklich monatlich dieses Datenvolumen oder nur ab und zu . Wenn man nur hin und wieder surft , würde ich zu der Prepaid-Variante tendieren , ansonsten ist der Vertrag inkl . Online-Rabatt besser . Ist es nicht eher sinnvoll , die ländlichen Gebiete weiterhin auszubauen , als extra Tarife zu stricken ? Es gibt durchaus Kunden , die diese Flats brauchen und auch nutzen . Es ist schrierig , alle Kundenwünsche abzudecken , also orientiert man sich an der breiten Masse . Und wenn das Netz bei dir aktuell noch nicht optimal ausgebaut ist , wäre eine Prepaid-Karte vielleicht vorerst die beste Wahl , wenn man nicht unnötig viel Geld für einen Vertrag ausgeben möchte , den man nicht richtig nutzen kann . Viele Grüße Romina D .                                     https://www.facebook.com/122768271103611/posts/1143206739059754#pid=122768271103611_1143206739059754&uid=1143206739059754_1148487961864965&cpid=&aid=122768271103611&vid=2&wid=122768271103611   254017.0                     NaN  3599081e-f7be-4eca-90c0-220860f5132d  31035348  d789089c-cca0-4b6c-b605-177bc7a4ea97   551631        Alle           False      False\n",
       "296            NaN         NaN       twitter.com     1  24.09.2016 17:01:38                                                                                                                                                                                                                                                                                                                                                                                                                                                                                                                                                                                                                                                                                                                                                                                                                                                                                                                           wenn der Techniker zwischen 13 und 17h kommen soll warum haben wir dann bis jetzt ( 17h ) noch nichts gehört ?                                                                                                                                                              https://twitter.com/jenthebat/status/779697304852897792#aid=175754025  8954518.0                     NaN  b7123d99-6a0f-4e7c-9ee4-07962d160241  30747852  2cea5ba3-6336-4ee2-800e-0eb2a983f24a        1  Client 388            True      False\n",
       "297            NaN         NaN       twitter.com     2  24.09.2016 17:02:59                                                                                                                                                                                                                                                                                                                                                                                                                                                                                                                                                                                                                                                                                                                                                                                                                                                                                                                                   wenn Ihre Hotline-Mitarbeiter und Außendiensttechniker nicht Hand-in-Hand arbeiten wird das nichts ! !                                                                                                                                                              https://twitter.com/jenthebat/status/779697644172111872#aid=175754025  8954518.0                     NaN  f3bf1755-86dd-4ac6-8a50-5fd3280c7287  30747924  2cea5ba3-6336-4ee2-800e-0eb2a983f24a        1  Client 388           False      False\n",
       "298            NaN         NaN       twitter.com     2  24.09.2016 17:05:39                                                                                                                                                                                                                                                                                                                                                                                                                                                                                                                                                                                                                                                                                                                                                                                                                                                                                                              15 Minuten Warteschleife bei der Hotline von ist nichts ! ! Vielleicht das beste Netz aber nicht den besten Kundenservice !                                                                                                                                                              https://twitter.com/jenthebat/status/779698317248823296#aid=175754025  8954518.0               Prio-Fall  bdf0c825-d8d8-42f9-9f15-55e8d49f6471  30748009  2cea5ba3-6336-4ee2-800e-0eb2a983f24a        1  Client 388           False      False\n",
       "299  Sichter FB/TW    Festnetz       twitter.com     2  24.09.2016 17:05:39                                                                                                                                                                                                                                                                                                                                                                                                                                                                                                                                                                                                                                                                                                                                                                                                                                                                                                              15 Minuten Warteschleife bei der Hotline von ist nichts ! ! Vielleicht das beste Netz aber nicht den besten Kundenservice !                                                                                                                                                              https://twitter.com/jenthebat/status/779698317248823296#aid=175754025  8954518.0               Prio-Fall  bdf0c825-d8d8-42f9-9f15-55e8d49f6471  30748009  2cea5ba3-6336-4ee2-800e-0eb2a983f24a        1  Client 388           False      False\n",
       "300            NaN         NaN       twitter.com     3  26.09.2016 20:59:48                                                                                                                                                                                                                                                                                                                                                                                                                                                                                                                                                                                                                                                                                                                                                                                                                                                                                                                                                                         entschuldige die späte Antwort . Wird noch Hilfe benötigt ? ^ wi                                                                                                            https://twitter.com/Telekom_hilft/status/780482020132683776?pid=780482020132683776&uid=780482020132683776&aid=123675232  2748841.0                     NaN  b63ba99a-87d5-4264-a031-360e10907051  30809847  2cea5ba3-6336-4ee2-800e-0eb2a983f24a        1  Client 388           False      False\n",
       "\n",
       "[301 rows x 16 columns]"
      ]
     },
     "execution_count": 77,
     "metadata": {},
     "output_type": "execute_result"
    }
   ],
   "source": [
    "sample"
   ]
  },
  {
   "cell_type": "code",
   "execution_count": 4,
   "metadata": {
    "ExecuteTime": {
     "end_time": "2018-01-21T16:11:26.158619Z",
     "start_time": "2018-01-21T16:11:26.143588Z"
    },
    "scrolled": false
   },
   "outputs": [
    {
     "data": {
      "text/plain": [
       "2                                                                                                                                                                                                                                                                                                                                                                                                                                                                                                                                                                                                                                                                                                                                                                                                                                                                                                                Muss ich mit Hotspot registrieren wlan to go auf meinem Handy zu gehen , weiß ich nicht , wie es zu tun ich bin Telekom Kunde\n",
       "14                                                                                                                                                                                                                                                                                                                                                                                                                        Hallo zusammen . Gab es vor kurzem ein Update des MR400 ? Heute ist mir aufgefallen , dass einige Serienaufnahmen nicht mehr aufgenommen wurden , z . B . RTL 17:30 Unter Uns . In der Liste \" geplante Aufnahme \" war es vorhanden , jedoch mit 0 in der Klammer . Ich musste erst die Serienaufnahme löschen und neu programmieren . Gibt es inzwischen eine Lösung , wie man den Receiver dazu bringt , die Serien nur einmal aufzunehmen und nicht mit allen Wiederholungen . Ich meine die Programmierung über EPG . Den Workaround über manuelle Aufnahme kenne ich . Danke und schöne Grüße an die Kollegen !\n",
       "22                                                                                                                                                                                                                                                                                                                                                                                                                                                                                                                                                                                                                                                                             Seit gestern geht wieder einmal nichts ( Kein Internet , kein Fernsehen , kein gar nichts ) . Es wäre ausgesprochen schön , wenn beim Kundenservice auch mal Leute arbeiten würden , die versuchen zu helfen anstatt aufzulegen . Ich habe gestern und auch heute Ewigkeiten für so einen Service in der Telefonwarteschleife gehangen . Danke für nichts ! ! !\n",
       "30                                                                                                                                                                                                                                                                                                                                                                                                                                                                                                                                                                                                                                                                                                                          Könnten Sie sich bitte einen anderen Kooperationspartner für Nachnahme Pakete suchen als GLS ? Nachdem mein Handy drei Wochen nicht lieferbar war , versuche ich seit zwei Wochen an das Paket zu kommen da die Kommunikation intern bei GLS scheinbar nicht funktioniert . Eine Odyssee die ihresgleichen sucht !\n",
       "34     was die telekom mit ihr kunden abzieht ist unterste schublade . man hat dafür keine worte mehr , das alles bestätigte noch der bericht von markt im tv.unfassbar.nach 13 monaten permanten ärger mit der telekom hab ich mich entschieden , den vertrag zu kündigen . die kündigung umfasste 2 din 4 seiten . gestern rief mich ein herr louven an und fragte warum ich kündigen wollte ? ich erzählte es , war grad am reden , legt der lustige mann auf.dumm ! ! ! heute bekam ich auf postalen wege einen retourenschein für die ware . kein plan was nun sache ist.keine kündigungsbestätigung gar nix ! ! obwohl die wissen das ich bald zu meiner freundin nach düsseldorf ziehe ( und sie vodafonekunde ist ) komm ich nicht eher aus dem vertrag . stattdessen sagt man mir in der hotline , telekom zieht mit ihnen um . ich lach mich weg . ich darf nun noch bis august 17 bezahlen für nix ! ! ! an moral fehlt es vom feinsten.das die menschen in der hotline kein gewissen haben und ruhig schlafen können ist mir un...\n",
       "35     was die telekom mit ihr kunden abzieht ist unterste schublade . man hat dafür keine worte mehr , das alles bestätigte noch der bericht von markt im tv.unfassbar.nach 13 monaten permanten ärger mit der telekom hab ich mich entschieden , den vertrag zu kündigen . die kündigung umfasste 2 din 4 seiten . gestern rief mich ein herr louven an und fragte warum ich kündigen wollte ? ich erzählte es , war grad am reden , legt der lustige mann auf.dumm ! ! ! heute bekam ich auf postalen wege einen retourenschein für die ware . kein plan was nun sache ist.keine kündigungsbestätigung gar nix ! ! obwohl die wissen das ich bald zu meiner freundin nach düsseldorf ziehe ( und sie vodafonekunde ist ) komm ich nicht eher aus dem vertrag . stattdessen sagt man mir in der hotline , telekom zieht mit ihnen um . ich lach mich weg . ich darf nun noch bis august 17 bezahlen für nix ! ! ! an moral fehlt es vom feinsten.das die menschen in der hotline kein gewissen haben und ruhig schlafen können ist mir un...\n",
       "104                                                                                                                                                                                                                                                                                                                                                                                                                                                                                                                                                                                                                                                                                                                                                                                                                                                                                                                                                                                                      Wieso nicht mehr Spotify ? #Bitchmove\n",
       "106                                                                                                                                                                                                                                                                                                                                                                                                                                                                                                                                                                                                                                                                                                                                                                                                                                                                                                                        Die Techniker der @Telekom_hilft haben wohl schon das Internetlose Internet enwickelt - . - https://t.co/m5Ewukivmq\n",
       "112                                                                                                                                                                                                                                                                                                                                                                                                                                                                                                                                                                                                                                                                                                                                                                                                                                                                                              Hey @Telekom_hilft , bitte klärt eure Kunden doch in Zukunft offen darüber auf , dass die erste Rechnung direkt für 2 Monate abgebucht wird .\n",
       "130                                                                                                                                                                                                                                                                                                                                                                                                                                                                                                                                                                                                                                                                                                                                                                                                                                                                                               Hallo , @Telekom_hilft Meine Frau wurde grade in der Hotline unfreundlich und nicht lösungsorientiert beraten . Was machen wir ? #beschwerde\n",
       "140                                                                                                                                                                                                                                                                                                                                                                                                                                                                                                                                                                                                                                                                                                                                                                                                                                                                                             @Telekom_hilft Was muss ich den tun um endlich Eishockey zu kucken ? Registriert hab ich lange.Login false111.Und wenn drin startet k . stream\n",
       "144    Ich habe keine Ahnung an wem es liegt , daher schreibe ich es auf beide Seiten : Wir haben seit ungefähr 5 Jahren einen DSL-Vertrag bei o2 mit Leitungen der Telekom . Und seit 5 Jahren gibt es massive Probleme mit Internetausfällen die sich kein Stück verbessert haben . Sprich : Das Internet funktioniert manchmal ein paar Wochen , manchmal fällt es auch im 10 - Minuten-Takt aus . Manchmal geht es dann nach 5 Minuten wieder , manchmal erst am nächsten Tag , ohne irgendeine Regelmäßigkeit . In den letzten Tagen gibt es wieder stärkere Probleme , dass es im Großen und ganzen nicht und nur zwischendrin mal kurz geht , wobei es heute Mittag wunderlicherweise mal 2 Stunden funktioniert hat . Sämtliche Anrufe beim Kundenservice von o2 nutzen nichts . o2 hat 2 mal neue Router geschickt , was keinerlei Besserung gab . Dann hieß es \" Wir finden keinen Fehler , das muss an den Leitungen der Telekom liegen \" . Telekom hat daraufhin einen Techniker geschickt , der sein Gerät angeschlossen und g...\n",
       "154                                                                                                                                                                                                                                                                                                                                                                                                                                                                                                                                                                                                                              Ich habe Spotify nach einem Tarifwechsel neu verknüpft und ein Album in hoher Qualität geladen und dann schaue ich auf mein Datenvolumen und es wurde belastet ! War gestern bei 0MB . Bitte bucht das zu Unrecht belastete Datenvolumen zurück . Der Zähler steht nun bei 2,6 GB und das ärgert mich sehr , da ich den Spotify Account nach Anleitung gekoppelt habe . Ich habe also nichts falsch gemacht .\n",
       "185                                                                                                                                                                                                                                                                                                                                                                                                                                                                                                                                                                                                                                                                                                                                                                                                                                                                                                                                                 Wird es neben dem neuen kostenfreien WLAN im ICE auch noch @Telekom_hilft Hotspots geben ?\n",
       "186                                                                                                                                                                                                                                                                                                                                                                                                                                                                                                                                                                                                                                                                                                                                                                                            hallo , habe seit einer stunde kein dsl mehr hotline kann meinen anschluss nicht prüfen und auch sonst keine auskunft geben . was ist da bitte los ? wer kann helfen brauche den anschuluss geschäftlich und bin ohne internet aufgeschmissen .\n",
       "196                                                                                                                                                                                                                                                                                                                                                                                                                                                                                                                                                                                                                                                                                                                                                                                                                                                                                                                                                                              Können Geschäftskunden das neue iPhone 7 online reservieren ?\n",
       "220                                                                                                                                                                                                                                                                                                                                                                                                                                                                                                                                                                                                                                                                                                                                                                                                                                                                                            @Telekom_hilft Gibt es ein Hotspot-Problem in ICE-Zügen . Kann mich von 2 Geräten aus nicht einwählen . E-Mail vom Morgen blieb unbeantwortet .\n",
       "239                                                                                                                                                                                                                                                                                                                                                                                                                                                                                                                                                                                                                                                                                                                                                                                                                                                                                                                                                                                                                          Langsam WIFI 2/10\n",
       "240                                                                                                                                                                                                                                                                                                                                                                                                                                                                                                                                                                                                                                                                                                                                                                                                                                                                                                                                                     @Telekom_hilft bitte um antwort ab wann ist es möglich das iphone 7 zu bestellen danke\n",
       "246                                                                                                                                                                                                                                                                                                                                                                                               zum Thema Adblockerabschaltzwang bei telekom basketball : \" Ich kann seit 2 Tagen plötzlich kein Telekombasketball mehr sehen , bei allen Videos bleibt der Bildschirm schwarz . Als ob der Player nicht lädt . Ich habe in der Zeit nichts installiert ( außer den Flash-Player als unbeholfene Reaktion auf das Problem ) Chrome , Firefox und IE ausprobiert . Adobe Flash Player neu installiert . Ich habe den oben beschriebenen Ad-Blocker nicht . Leider , das wäre eine schöne Lösung gewesen . Damit bin ich mit meinem Computerlatein am Ende , das geht bei mir leider schnell . Habt Ihr vielleicht noch einen Rat für mich ? \"\n",
       "252                                                                                                                                                                                                                                                                                                                                                                                                                                                                                                                                                                                                                                                                                                                                                                                                                                                                                                                  Noch jemand aus #Unterbrunn hier , der kein schnelles Internet von der bekommt , weil \" alle Ports voll \" sind ? #Gauting\n",
       "264                                                                                                                                                                                                                                                                                                                                                                                                                                                                                                                                                                                                                                                                                                                                                                                                                                                                                                                                                                                      @Telekom_hilft Habt ihr aktuell Störungen beim WLAN ?\n",
       "281                                                                                                                                                                                                                                                                                                                                           Vertrag am 30.09 geschlossen , um Rückruf am 01.10 per Mail gebeten ... Seitdem mehrfach durch meine Seite im Service Center gemeldet . Dort wird nur gesagt man könne nichts tun und schreibt ne Nachricht an die Mitarbeiterin welche den Vertrag mit mir geschlossen hat . ( bereits 4 mal ) Es wurden mehrere Hundert € am Telefon unterschlagen . Fazit : Vertrag wurde geschlossen und es wird systematisch auf die 14 Tage gewartet , damit der Vertrag gültig ist ... Wird wohl leider nichts anderes übrig bleiben als widerrufen ... Es will einfach niemand helfen , weil es durch die Mitarbeiterin verzapft wurde welche sich nicht mehr meldet . Das ist ein trauriges Zeugnis ...\n",
       "290    Hallo Telekom , wer ist denn für eure katastrophale Preisgestaltung zuständig ? Je länger ich mir eure Tarife anschaue , desto unbegreiflicher finde ich diese . Hier mal ein Beispiel : 1 . Tarif : „ Data Comfort S “ ; 1GB Datenvolumen , 24 Monate Laufzeit ( ohne Gerät ) , 14,95 € / Monat . 2 . Tarif : „ Data Start Flat L “ ; 1GB Datenvolumen ; Prepaid 1 Monat ( ohne Gerät ); 14,95 € / Monat . Wozu sollte ich mich zwischen diesen beiden Tarifen für euren Laufzeitvertrag entscheiden ? Im Vergleich dazu kostet in eurem Tarif „ MagentaMobil Start “ die Option „ Data Start L “ 1GB Datenvolumen ; Prepaid 1 Monat ; 14,00 € / Monat ! Und auch für euren billigsten Smartphone-Vertrag mit 1GB Datenvolumen ( ohne Gerät ) soll man 34,95 € / Monat bezahlen . Klar , für 34,95 € / Monat bietet ihr noch zusätzlich sämtliche Allnet-Flat's , ABER wer braucht denn bitteschön alle angebotene Flatrates ? HotSpots haben wir hier auf dem Land nicht und LTE Max . bringt mir hier auch wenig , ich bin froh ,...\n",
       "291    Hallo Telekom , wer ist denn für eure katastrophale Preisgestaltung zuständig ? Je länger ich mir eure Tarife anschaue , desto unbegreiflicher finde ich diese . Hier mal ein Beispiel : 1 . Tarif : „ Data Comfort S “ ; 1GB Datenvolumen , 24 Monate Laufzeit ( ohne Gerät ) , 14,95 € / Monat . 2 . Tarif : „ Data Start Flat L “ ; 1GB Datenvolumen ; Prepaid 1 Monat ( ohne Gerät ); 14,95 € / Monat . Wozu sollte ich mich zwischen diesen beiden Tarifen für euren Laufzeitvertrag entscheiden ? Im Vergleich dazu kostet in eurem Tarif „ MagentaMobil Start “ die Option „ Data Start L “ 1GB Datenvolumen ; Prepaid 1 Monat ; 14,00 € / Monat ! Und auch für euren billigsten Smartphone-Vertrag mit 1GB Datenvolumen ( ohne Gerät ) soll man 34,95 € / Monat bezahlen . Klar , für 34,95 € / Monat bietet ihr noch zusätzlich sämtliche Allnet-Flat's , ABER wer braucht denn bitteschön alle angebotene Flatrates ? HotSpots haben wir hier auf dem Land nicht und LTE Max . bringt mir hier auch wenig , ich bin froh ,...\n",
       "292    Hallo Telekom , wer ist denn für eure katastrophale Preisgestaltung zuständig ? Je länger ich mir eure Tarife anschaue , desto unbegreiflicher finde ich diese . Hier mal ein Beispiel : 1 . Tarif : „ Data Comfort S “ ; 1GB Datenvolumen , 24 Monate Laufzeit ( ohne Gerät ) , 14,95 € / Monat . 2 . Tarif : „ Data Start Flat L “ ; 1GB Datenvolumen ; Prepaid 1 Monat ( ohne Gerät ); 14,95 € / Monat . Wozu sollte ich mich zwischen diesen beiden Tarifen für euren Laufzeitvertrag entscheiden ? Im Vergleich dazu kostet in eurem Tarif „ MagentaMobil Start “ die Option „ Data Start L “ 1GB Datenvolumen ; Prepaid 1 Monat ; 14,00 € / Monat ! Und auch für euren billigsten Smartphone-Vertrag mit 1GB Datenvolumen ( ohne Gerät ) soll man 34,95 € / Monat bezahlen . Klar , für 34,95 € / Monat bietet ihr noch zusätzlich sämtliche Allnet-Flat's , ABER wer braucht denn bitteschön alle angebotene Flatrates ? HotSpots haben wir hier auf dem Land nicht und LTE Max . bringt mir hier auch wenig , ich bin froh ,...\n",
       "Name: Content, dtype: object"
      ]
     },
     "execution_count": 4,
     "metadata": {},
     "output_type": "execute_result"
    }
   ],
   "source": [
    "sample.query('kind==1 and SichterName').Content"
   ]
  },
  {
   "cell_type": "code",
   "execution_count": 5,
   "metadata": {
    "ExecuteTime": {
     "end_time": "2018-01-21T16:11:26.165937Z",
     "start_time": "2018-01-21T16:11:26.160652Z"
    }
   },
   "outputs": [
    {
     "data": {
      "text/plain": [
       "array([nan, 'Hotspot', 'Festnetz', 'Mobilfunk', 'GK', 'MMS', 'A-Team',\n",
       "       'Mobile'], dtype=object)"
      ]
     },
     "execution_count": 5,
     "metadata": {},
     "output_type": "execute_result"
    }
   ],
   "source": [
    "pd.unique(sample.SichterName)"
   ]
  },
  {
   "cell_type": "code",
   "execution_count": 6,
   "metadata": {
    "ExecuteTime": {
     "end_time": "2018-01-21T16:11:26.580863Z",
     "start_time": "2018-01-21T16:11:26.167909Z"
    }
   },
   "outputs": [],
   "source": [
    "import spacy"
   ]
  },
  {
   "cell_type": "code",
   "execution_count": 7,
   "metadata": {
    "ExecuteTime": {
     "end_time": "2018-01-21T16:11:29.423311Z",
     "start_time": "2018-01-21T16:11:26.583392Z"
    }
   },
   "outputs": [],
   "source": [
    "nlp = spacy.load('de')"
   ]
  },
  {
   "cell_type": "code",
   "execution_count": 8,
   "metadata": {
    "ExecuteTime": {
     "end_time": "2018-01-21T16:11:29.441794Z",
     "start_time": "2018-01-21T16:11:29.425885Z"
    }
   },
   "outputs": [],
   "source": [
    "sent = nlp('Ich heiße Oguz.')"
   ]
  },
  {
   "cell_type": "code",
   "execution_count": 9,
   "metadata": {
    "ExecuteTime": {
     "end_time": "2018-01-21T16:11:29.448139Z",
     "start_time": "2018-01-21T16:11:29.443545Z"
    }
   },
   "outputs": [
    {
     "name": "stdout",
     "output_type": "stream",
     "text": [
      "PRON\n",
      "VERB\n",
      "PROPN\n",
      "PUNCT\n"
     ]
    }
   ],
   "source": [
    "for word in sent:\n",
    "    print(word.pos_)"
   ]
  },
  {
   "cell_type": "code",
   "execution_count": 82,
   "metadata": {
    "ExecuteTime": {
     "end_time": "2018-01-21T16:40:12.764770Z",
     "start_time": "2018-01-21T16:40:12.264499Z"
    }
   },
   "outputs": [
    {
     "name": "stdout",
     "output_type": "stream",
     "text": [
      "22\n"
     ]
    }
   ],
   "source": [
    "documents = [] # Content\n",
    "labels = [] # SichterName\n",
    "tags = [] # Tag\n",
    "\n",
    "for (idx, row) in sample.query('kind==1 and SichterName and Tag!=\"abgelegt durch Sichter\" and Tag!=\"#Apfel\"').iterrows():\n",
    "    labels.append(row.SichterName)\n",
    "    documents.append(nlp(row.Content))\n",
    "    tags.append(row.Tag)\n",
    "\n",
    "print(len(documents))"
   ]
  },
  {
   "cell_type": "code",
   "execution_count": 83,
   "metadata": {
    "ExecuteTime": {
     "end_time": "2018-01-21T16:40:12.769705Z",
     "start_time": "2018-01-21T16:40:12.766476Z"
    }
   },
   "outputs": [],
   "source": [
    "prios = np.array(tags)\n",
    "prios = np.array(prios == 'Prio-Fall', dtype=int)\n",
    "prios"
   ]
  },
  {
   "cell_type": "code",
   "execution_count": 86,
   "metadata": {
    "ExecuteTime": {
     "end_time": "2018-01-21T16:40:29.772895Z",
     "start_time": "2018-01-21T16:40:29.767974Z"
    }
   },
   "outputs": [
    {
     "data": {
      "text/plain": [
       "('Hotspot',\n",
       " Muss ich mit Hotspot registrieren wlan to go auf meinem Handy zu gehen , weiß ich nicht , wie es zu tun ich bin Telekom Kunde,\n",
       " 0)"
      ]
     },
     "execution_count": 86,
     "metadata": {},
     "output_type": "execute_result"
    }
   ],
   "source": [
    "labels[0], documents[0], prios[0]"
   ]
  },
  {
   "cell_type": "code",
   "execution_count": 16,
   "metadata": {
    "ExecuteTime": {
     "end_time": "2018-01-21T16:11:30.232357Z",
     "start_time": "2018-01-21T16:11:30.224531Z"
    }
   },
   "outputs": [],
   "source": [
    "from collections import Counter\n",
    "# create lemma lists filter punctuation and numbers\n",
    "# from spacy\n",
    "lemmas = [word.lemma_ for words in documents for word in words if word.pos_ not in ['PUNCT','NUM']]\n",
    "counts = Counter(lemmas)"
   ]
  },
  {
   "cell_type": "code",
   "execution_count": 18,
   "metadata": {
    "ExecuteTime": {
     "end_time": "2018-01-21T16:11:31.087774Z",
     "start_time": "2018-01-21T16:11:30.241312Z"
    },
    "scrolled": false
   },
   "outputs": [
    {
     "data": {
      "text/plain": [
       "<matplotlib.axes._subplots.AxesSubplot at 0x1116fb978>"
      ]
     },
     "execution_count": 18,
     "metadata": {},
     "output_type": "execute_result"
    },
    {
     "data": {
      "image/png": "[encoded data removed]",
      "text/plain": [
       "<matplotlib.figure.Figure at 0x1116fb1d0>"
      ]
     },
     "metadata": {},
     "output_type": "display_data"
    }
   ],
   "source": [
    "lemma_df = pd.DataFrame.from_dict(counts, orient='index')\n",
    "lemma_df.sort_values(by=0,ascending=False).head(50).plot(kind='bar', figsize=(20,10))"
   ]
  },
  {
   "cell_type": "code",
   "execution_count": 24,
   "metadata": {
    "ExecuteTime": {
     "end_time": "2018-01-21T16:14:55.387763Z",
     "start_time": "2018-01-21T16:14:55.379469Z"
    }
   },
   "outputs": [],
   "source": [
    "with open('./stopwords-de.txt') as f:\n",
    "    stopwords = f.read().split('\\n')"
   ]
  },
  {
   "cell_type": "code",
   "execution_count": null,
   "metadata": {},
   "outputs": [],
   "source": [
    "# TODO: use stopwords to filter lemmas\n",
    "# TODO: try different sets of stopwords (e.g. with or without kein, nicht)"
   ]
  },
  {
   "cell_type": "code",
   "execution_count": 89,
   "metadata": {
    "ExecuteTime": {
     "end_time": "2018-01-21T16:43:15.673628Z",
     "start_time": "2018-01-21T16:43:15.666034Z"
    }
   },
   "outputs": [],
   "source": [
    "X = np.array([np.mean([word.vector for word in row], axis=0) for row in documents])"
   ]
  },
  {
   "cell_type": "code",
   "execution_count": 90,
   "metadata": {
    "ExecuteTime": {
     "end_time": "2018-01-21T16:43:17.003875Z",
     "start_time": "2018-01-21T16:43:17.000384Z"
    }
   },
   "outputs": [],
   "source": [
    "Y = np.array(prioss,dtype=int)"
   ]
  },
  {
   "cell_type": "code",
   "execution_count": 91,
   "metadata": {
    "ExecuteTime": {
     "end_time": "2018-01-21T16:43:18.044948Z",
     "start_time": "2018-01-21T16:43:18.040422Z"
    }
   },
   "outputs": [],
   "source": [
    "X_train = X[:14]\n",
    "X_test = X[14:]\n",
    "Y_train = Y[:14]\n",
    "Y_test = Y[14:]"
   ]
  },
  {
   "cell_type": "code",
   "execution_count": 92,
   "metadata": {
    "ExecuteTime": {
     "end_time": "2018-01-21T16:43:18.877474Z",
     "start_time": "2018-01-21T16:43:18.872582Z"
    }
   },
   "outputs": [
    {
     "data": {
      "text/plain": [
       "array([0, 0, 1, 0, 0, 0, 0, 0, 0, 0, 0, 0, 0, 0])"
      ]
     },
     "execution_count": 92,
     "metadata": {},
     "output_type": "execute_result"
    }
   ],
   "source": [
    "Y_train"
   ]
  },
  {
   "cell_type": "code",
   "execution_count": 101,
   "metadata": {
    "ExecuteTime": {
     "end_time": "2018-01-21T16:43:50.798184Z",
     "start_time": "2018-01-21T16:43:50.786267Z"
    }
   },
   "outputs": [],
   "source": [
    "from sklearn.naive_bayes import GaussianNB\n",
    "from sklearn.utils import class_weight\n",
    "gnb = GaussianNB()\n",
    "\n",
    "weights = class_weight.compute_sample_weight('balanced', [0,1], Y_train)\n",
    "weightss = []\n",
    "for y in Y_train:\n",
    "    weightss.append(weights[y])\n",
    "\n",
    "y_pred = gnb.fit(X_train, Y_train, sample_weight=weightss).predict(X_test)"
   ]
  },
  {
   "cell_type": "code",
   "execution_count": 102,
   "metadata": {
    "ExecuteTime": {
     "end_time": "2018-01-21T16:43:51.107328Z",
     "start_time": "2018-01-21T16:43:51.102299Z"
    }
   },
   "outputs": [
    {
     "data": {
      "text/plain": [
       "[0.5384615384615384,\n",
       " 0.5384615384615384,\n",
       " 7.0,\n",
       " 0.5384615384615384,\n",
       " 0.5384615384615384,\n",
       " 0.5384615384615384,\n",
       " 0.5384615384615384,\n",
       " 0.5384615384615384,\n",
       " 0.5384615384615384,\n",
       " 0.5384615384615384,\n",
       " 0.5384615384615384,\n",
       " 0.5384615384615384,\n",
       " 0.5384615384615384,\n",
       " 0.5384615384615384]"
      ]
     },
     "execution_count": 102,
     "metadata": {},
     "output_type": "execute_result"
    }
   ],
   "source": [
    "weightss"
   ]
  },
  {
   "cell_type": "code",
   "execution_count": 103,
   "metadata": {
    "ExecuteTime": {
     "end_time": "2018-01-21T16:44:01.556152Z",
     "start_time": "2018-01-21T16:44:01.551097Z"
    }
   },
   "outputs": [
    {
     "data": {
      "text/plain": [
       "array([0, 0, 0, 0, 0, 0, 0, 0])"
      ]
     },
     "execution_count": 103,
     "metadata": {},
     "output_type": "execute_result"
    }
   ],
   "source": [
    "y_pred"
   ]
  },
  {
   "cell_type": "code",
   "execution_count": null,
   "metadata": {},
   "outputs": [],
   "source": []
  }
 ],
 "metadata": {
  "kernelspec": {
   "display_name": "Python 3",
   "language": "python",
   "name": "python3"
  },
  "language_info": {
   "codemirror_mode": {
    "name": "ipython",
    "version": 3
   },
   "file_extension": ".py",
   "mimetype": "text/x-python",
   "name": "python",
   "nbconvert_exporter": "python",
   "pygments_lexer": "ipython3",
   "version": "3.6.3"
  }
 },
 "nbformat": 4,
 "nbformat_minor": 2
}
