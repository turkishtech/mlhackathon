{
 "cells": [
  {
   "cell_type": "code",
   "execution_count": 1,
   "metadata": {
    "ExecuteTime": {
     "end_time": "2018-01-29T15:51:47.879870Z",
     "start_time": "2018-01-29T15:51:47.351132Z"
    }
   },
   "outputs": [],
   "source": [
    "import pandas as pd\n",
    "import glob\n",
    "pd.set_option(\"display.max_rows\", 30)\n",
    "pd.set_option(\"display.max_columns\", 1000)\n",
    "pd.set_option(\"display.max_colwidth\", 1000)\n",
    "pd.set_option(\"display.width\", 2000)"
   ]
  },
  {
   "cell_type": "code",
   "execution_count": 2,
   "metadata": {
    "ExecuteTime": {
     "end_time": "2018-01-29T15:51:48.086474Z",
     "start_time": "2018-01-29T15:51:47.882008Z"
    }
   },
   "outputs": [],
   "source": [
    "import numpy as np\n",
    "import pickle\n",
    "np.set_printoptions(precision=4,suppress=True)\n",
    "import matplotlib as mpl\n",
    "import matplotlib.pyplot as plt\n",
    "%matplotlib inline"
   ]
  },
  {
   "cell_type": "code",
   "execution_count": 3,
   "metadata": {
    "ExecuteTime": {
     "end_time": "2018-01-29T15:51:48.348109Z",
     "start_time": "2018-01-29T15:51:48.089619Z"
    }
   },
   "outputs": [],
   "source": [
    "documents = pickle.load(open('documents.pl','rb'))\n",
    "labels = pickle.load(open('labels.pl','rb'))\n",
    "tags = pickle.load(open('tags.pl','rb'))"
   ]
  },
  {
   "cell_type": "markdown",
   "metadata": {},
   "source": [
    "# FEATURES"
   ]
  },
  {
   "cell_type": "code",
   "execution_count": 5,
   "metadata": {
    "ExecuteTime": {
     "end_time": "2018-01-29T15:52:25.010714Z",
     "start_time": "2018-01-29T15:52:25.005379Z"
    }
   },
   "outputs": [],
   "source": [
    "with open('./stopwords-de.txt') as f:\n",
    "    stopwords = f.read().split('\\n')"
   ]
  },
  {
   "cell_type": "code",
   "execution_count": 6,
   "metadata": {
    "ExecuteTime": {
     "end_time": "2018-01-29T15:52:25.874066Z",
     "start_time": "2018-01-29T15:52:25.868482Z"
    }
   },
   "outputs": [],
   "source": [
    "# bag of words\n",
    "from sklearn.feature_extraction.text import CountVectorizer\n",
    "\n",
    "CountVectorizer()\n",
    "BoW = CountVectorizer(documents, stop_words=stopwords, strip_accents='unicode', ngram_range=(1,3), min_df=3)"
   ]
  },
  {
   "cell_type": "code",
   "execution_count": null,
   "metadata": {
    "ExecuteTime": {
     "start_time": "2018-01-29T15:52:26.472Z"
    }
   },
   "outputs": [],
   "source": [
    "X_bag = BoW.fit_transform(documents)"
   ]
  },
  {
   "cell_type": "code",
   "execution_count": null,
   "metadata": {
    "ExecuteTime": {
     "start_time": "2018-01-29T15:52:26.767Z"
    }
   },
   "outputs": [],
   "source": [
    "X_bag[0].shape"
   ]
  },
  {
   "cell_type": "code",
   "execution_count": null,
   "metadata": {
    "ExecuteTime": {
     "start_time": "2018-01-29T15:52:27.184Z"
    }
   },
   "outputs": [],
   "source": [
    "Y = np.array(np.array(tags)=='Prio-Fall', dtype=int)"
   ]
  },
  {
   "cell_type": "code",
   "execution_count": null,
   "metadata": {
    "ExecuteTime": {
     "start_time": "2018-01-29T15:52:27.337Z"
    }
   },
   "outputs": [],
   "source": [
    "sum(Y)/len(Y)"
   ]
  },
  {
   "cell_type": "markdown",
   "metadata": {},
   "source": [
    "# XG BOOST"
   ]
  },
  {
   "cell_type": "code",
   "execution_count": null,
   "metadata": {
    "ExecuteTime": {
     "start_time": "2018-01-29T15:52:27.623Z"
    }
   },
   "outputs": [],
   "source": [
    "import xgboost as xgb\n",
    "\n",
    "# Set our parameters for xgboost\n",
    "params = {}\n",
    "params['objective'] = 'binary:logistic'\n",
    "params['eval_metric'] = 'logloss'\n",
    "params['max_delta_step'] = 1\n",
    "params['eta'] = 0.02\n",
    "params['max_depth'] = 10"
   ]
  },
  {
   "cell_type": "code",
   "execution_count": null,
   "metadata": {
    "ExecuteTime": {
     "start_time": "2018-01-29T15:52:27.816Z"
    },
    "scrolled": false
   },
   "outputs": [],
   "source": [
    "# Code for cross-validation\n",
    "from sklearn.cross_validation import train_test_split\n",
    "from sklearn.cross_validation import StratifiedKFold\n",
    "from sklearn.utils import class_weight\n",
    "from sklearn.metrics import f1_score\n",
    "\n",
    "# Create 2 folds\n",
    "k = 3\n",
    "kfold = StratifiedKFold(Y, k, shuffle=True, random_state=0)\n",
    "\n",
    "results = np.zeros(k)\n",
    "\n",
    "# iterate over two folds\n",
    "for i, (train_ind, test_ind) in enumerate(kfold):\n",
    "    X_train, X_val, Y_train, Y_val = X_bag[train_ind], X_bag[test_ind], Y[train_ind], Y[test_ind]\n",
    "    \n",
    "    D_train = xgb.DMatrix(X_train, label=Y_train)\n",
    "    D_val = xgb.DMatrix(X_val, label=Y_val)\n",
    "\n",
    "    weights = class_weight.compute_sample_weight('balanced', [0,1], Y_train)\n",
    "    weightss = []\n",
    "    for y in Y_train:\n",
    "        weightss.append(weights[y])\n",
    "\n",
    "    watchlist = [(D_train, 'train'), (D_val, 'valid')]\n",
    "    bst = xgb.train(params, D_train, 400, watchlist, early_stopping_rounds=50, verbose_eval=10)\n",
    "    predictions = bst.predict(data=D_val).round()\n",
    "    results[i] = f1_score(predictions, Y_val, )\n",
    "    print('f1 score: {}'.format(results[i]))\n",
    "    print('accuracy: {}\\%'.format(sum(predictions==Y_val)/len(Y_val)*100))"
   ]
  },
  {
   "cell_type": "code",
   "execution_count": null,
   "metadata": {
    "ExecuteTime": {
     "start_time": "2018-01-29T15:52:28.024Z"
    }
   },
   "outputs": [],
   "source": [
    "np.mean(results), np.var(results)"
   ]
  },
  {
   "cell_type": "code",
   "execution_count": null,
   "metadata": {},
   "outputs": [],
   "source": []
  }
 ],
 "metadata": {
  "kernelspec": {
   "display_name": "Python 3",
   "language": "python",
   "name": "python3"
  },
  "language_info": {
   "codemirror_mode": {
    "name": "ipython",
    "version": 3
   },
   "file_extension": ".py",
   "mimetype": "text/x-python",
   "name": "python",
   "nbconvert_exporter": "python",
   "pygments_lexer": "ipython3",
   "version": "3.6.3"
  }
 },
 "nbformat": 4,
 "nbformat_minor": 2
}
